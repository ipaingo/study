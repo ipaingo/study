{
 "cells": [
  {
   "cell_type": "markdown",
   "metadata": {
    "id": "spFNMvVqg2Me"
   },
   "source": [
    "# Функциональное программирование"
   ]
  },
  {
   "cell_type": "markdown",
   "metadata": {
    "id": "l1RmCR8p38vJ"
   },
   "source": [
    "## lambda-функция\n",
    "О lambda функции приведен материал ранее в блокнотах. Пример применения:"
   ]
  },
  {
   "cell_type": "code",
   "execution_count": null,
   "metadata": {
    "colab": {
     "base_uri": "https://localhost:8080/"
    },
    "executionInfo": {
     "elapsed": 276,
     "status": "ok",
     "timestamp": 1649231865737,
     "user": {
      "displayName": "Николай Смирнов",
      "userId": "05792503510966078252"
     },
     "user_tz": -180
    },
    "id": "IBB-P8qH3mkQ",
    "outputId": "adbc6606-5b47-4a36-aa43-d29ee21e54da"
   },
   "outputs": [],
   "source": [
    "# Код без lambda-функции\n",
    "def f(x):\n",
    "    return x*2\n",
    "print(f'многострочный код возвращает: {f(2)}')\n",
    "\n",
    "# Код с lambda-функцией\n",
    "f = lambda x: x * 2\n",
    "print(f'lambda-функция возвращает: {f(2)}')\n"
   ]
  },
  {
   "cell_type": "markdown",
   "metadata": {
    "id": "wtxj1Eo6g2Mi"
   },
   "source": [
    "## filter(function, sequence)\n",
    "Метод возвращает последовательность из элементов последовательности *sequence*, для которых *function()* возвращает **True** (или эквивалентное истине значение). <br>\n",
    "Функция применяется для каждого элемента последовательности. \n",
    "\n",
    "**Пример.** Функция проверки является ли число просым может иметь вид:"
   ]
  },
  {
   "cell_type": "code",
   "execution_count": null,
   "metadata": {
    "id": "YMdMa5fVg2Mj"
   },
   "outputs": [],
   "source": [
    "def f(x):  # Функция нахождения простых чисел\n",
    "    for y in range(2, int(x/2 + 1)):  # Цикл от 1 до x/2 (происходит округление до целого)\n",
    "        if x%y == 0: return 0  # Если х делится нацело на у, то число не простое\n",
    "    return 1"
   ]
  },
  {
   "cell_type": "markdown",
   "metadata": {
    "id": "yk_Omf60A9uc"
   },
   "source": [
    "С помощью `filter()` применим функцию `f()` к каждому элементы последовательности чисел 2, 3, ..., 50:"
   ]
  },
  {
   "cell_type": "code",
   "execution_count": null,
   "metadata": {
    "colab": {
     "base_uri": "https://localhost:8080/"
    },
    "executionInfo": {
     "elapsed": 38,
     "status": "ok",
     "timestamp": 1643057157075,
     "user": {
      "displayName": "Николай Смирнов",
      "photoUrl": "https://lh3.googleusercontent.com/a/default-user=s64",
      "userId": "05792503510966078252"
     },
     "user_tz": -180
    },
    "id": "RRjHAN83g2Mk",
    "outputId": "110c7404-df1f-4546-92ca-6e63cf0b66b6"
   },
   "outputs": [],
   "source": [
    "a = filter(f, range(2, 50))  # Объект filter\n",
    "print(list(a))  # Представление объекта в виде списка\n",
    "print(type(a))  # <class 'filter'>"
   ]
  },
  {
   "cell_type": "markdown",
   "metadata": {
    "id": "MHUDmHgGg2Ml"
   },
   "source": [
    "В **python 3** `filter(), map(), zip()` возвращают генераторы, поэтому для перевода значений в список используется функция **list()**."
   ]
  },
  {
   "cell_type": "markdown",
   "metadata": {
    "id": "qeObtLl7g2Mm"
   },
   "source": [
    "### Задача\n",
    "Напишите **функцию**, которая принимает на вход число, затем проверяет его кратность трем. <br>\n",
    "Если число кратно трем, возвращается 1 (или **True**). <br>\n",
    "Если число не кратно трем, возвращается 0 (или **False**).<br>\n",
    "С помощью функции **filter** найдите и выведите на экран числа от 0 до 30, кратные 3-м."
   ]
  },
  {
   "cell_type": "code",
   "execution_count": null,
   "metadata": {
    "id": "C7qfS4mWg2Mn"
   },
   "outputs": [],
   "source": [
    "# Напишите свой код в этой ячейке"
   ]
  },
  {
   "cell_type": "markdown",
   "metadata": {
    "id": "kmEGVkX7g2Mo"
   },
   "source": [
    "[Посмотреть ответ на задачу](#exercise_1)"
   ]
  },
  {
   "cell_type": "markdown",
   "metadata": {
    "id": "79ip3zgRg2Mp"
   },
   "source": [
    "## map(function, sequence)\n",
    "Метод генерирует значения, полученные в результате применения функции **function** к элементам одной или нескольких последовательностей."
   ]
  },
  {
   "cell_type": "code",
   "execution_count": null,
   "metadata": {
    "id": "zJj1NvPhg2Mq"
   },
   "outputs": [],
   "source": [
    "def cube(x):  # Функция возведения числа в куб\n",
    "    return x * x * x"
   ]
  },
  {
   "cell_type": "code",
   "execution_count": null,
   "metadata": {
    "colab": {
     "base_uri": "https://localhost:8080/"
    },
    "executionInfo": {
     "elapsed": 3,
     "status": "ok",
     "timestamp": 1643614096389,
     "user": {
      "displayName": "Николай Смирнов",
      "photoUrl": "https://lh3.googleusercontent.com/a/default-user=s64",
      "userId": "05792503510966078252"
     },
     "user_tz": -180
    },
    "id": "cNjALKT9g2Ms",
    "outputId": "cb90bcf9-445a-43ee-e260-fc12be6346bd"
   },
   "outputs": [],
   "source": [
    "list(map(cube, range(11)))  # Возвращает кубы чисел от 0 до 10"
   ]
  },
  {
   "cell_type": "markdown",
   "metadata": {
    "id": "A-UeSprJg2Ms"
   },
   "source": [
    "Можно одновременно перебирать элементы нескольких последовательностей одной длины:"
   ]
  },
  {
   "cell_type": "code",
   "execution_count": null,
   "metadata": {
    "colab": {
     "base_uri": "https://localhost:8080/"
    },
    "executionInfo": {
     "elapsed": 13,
     "status": "ok",
     "timestamp": 1643614099730,
     "user": {
      "displayName": "Николай Смирнов",
      "photoUrl": "https://lh3.googleusercontent.com/a/default-user=s64",
      "userId": "05792503510966078252"
     },
     "user_tz": -180
    },
    "id": "1481BYHYg2Mt",
    "outputId": "eef22ad2-67c7-431e-d37e-011f5c6f8dcf"
   },
   "outputs": [],
   "source": [
    "list(map(lambda x,y: (x,y), [1,2,3], [4,5,6]))  # Формирует пары чисел из элементов двух списков"
   ]
  },
  {
   "cell_type": "markdown",
   "metadata": {
    "id": "jIYO9UTtg2Mt"
   },
   "source": [
    "**Lambda-функции** подходят для использования в этом случае, так как зачастую требуется простая однострочная функция, которую необходимо применить к списку."
   ]
  },
  {
   "cell_type": "markdown",
   "metadata": {
    "id": "9aBD4hymg2Mu"
   },
   "source": [
    "Также необязательно писать свои функции, можно использовать другие встроеные функции если они подходят для решения задачи:"
   ]
  },
  {
   "cell_type": "code",
   "execution_count": null,
   "metadata": {
    "colab": {
     "base_uri": "https://localhost:8080/"
    },
    "executionInfo": {
     "elapsed": 9,
     "status": "ok",
     "timestamp": 1643614218123,
     "user": {
      "displayName": "Николай Смирнов",
      "photoUrl": "https://lh3.googleusercontent.com/a/default-user=s64",
      "userId": "05792503510966078252"
     },
     "user_tz": -180
    },
    "id": "_nfHec90g2Mv",
    "outputId": "c2d6f719-c6c0-44c2-be52-f8852a2956e7"
   },
   "outputs": [],
   "source": [
    "a = \"a44\"\n",
    "print('ord - возвращает код символа в кодировке Unicode')\n",
    "list(map(ord, a))  # Вернет коды трех символов"
   ]
  },
  {
   "cell_type": "markdown",
   "metadata": {
    "id": "3mr_wDL8g2Mv"
   },
   "source": [
    "### Задача\n",
    "Напишите **функцию**, которая принимает на вход число, а затем проверяет его кратность трем. <br>\n",
    "Если число кратно трем, функция возвращает 1 (или **True**). <br>\n",
    "Если число не кратно трем, функция возвращает 0 (или **False**).<br>\n",
    "С помощью функции **map** выведите на экран результат выполнения функций с аргументами от 0 до 30."
   ]
  },
  {
   "cell_type": "code",
   "execution_count": null,
   "metadata": {
    "id": "__mrBO-0g2Mw"
   },
   "outputs": [],
   "source": [
    "# Напишите свой код в этой ячейке"
   ]
  },
  {
   "cell_type": "markdown",
   "metadata": {
    "id": "bNlhxa4rg2Mw"
   },
   "source": [
    "[Посмотреть ответ на задачу](#exercise_2)"
   ]
  },
  {
   "cell_type": "markdown",
   "metadata": {
    "id": "ajX7jVG2g2Mx"
   },
   "source": [
    "## zip(sequence)\n",
    "Метод **zip** из нескольких последовательностей объектов (списков, например) создает список кортежей, при этом в каждом кортеже будут элементы соответсвующего индекса из списков. <br>Рассмотрим пример:"
   ]
  },
  {
   "cell_type": "code",
   "execution_count": null,
   "metadata": {
    "colab": {
     "base_uri": "https://localhost:8080/"
    },
    "executionInfo": {
     "elapsed": 23,
     "status": "ok",
     "timestamp": 1643057157080,
     "user": {
      "displayName": "Николай Смирнов",
      "photoUrl": "https://lh3.googleusercontent.com/a/default-user=s64",
      "userId": "05792503510966078252"
     },
     "user_tz": -180
    },
    "id": "Fx3peZNcg2Mx",
    "outputId": "f877abfe-b042-44e9-eadd-c75b1da00d7e"
   },
   "outputs": [],
   "source": [
    "list(zip([1, 2, 3],\n",
    "         ['a', 'b', 'c'],\n",
    "         [7, 8, 9]))"
   ]
  },
  {
   "cell_type": "markdown",
   "metadata": {
    "id": "GmbiZDUEg2My"
   },
   "source": [
    "С помощью **zip** можно [транспонировать](https://matworld.ru/matrix/transpose-matrix.php) (поменять *строки* и *столбцы* местами) матрицу:"
   ]
  },
  {
   "cell_type": "code",
   "execution_count": null,
   "metadata": {
    "id": "5ec935zbg2My"
   },
   "outputs": [],
   "source": [
    "a = [[1,2,3],\n",
    "     [4,5,6],\n",
    "     [7,8,9]]"
   ]
  },
  {
   "cell_type": "code",
   "execution_count": null,
   "metadata": {
    "colab": {
     "base_uri": "https://localhost:8080/"
    },
    "executionInfo": {
     "elapsed": 19,
     "status": "ok",
     "timestamp": 1643057157081,
     "user": {
      "displayName": "Николай Смирнов",
      "photoUrl": "https://lh3.googleusercontent.com/a/default-user=s64",
      "userId": "05792503510966078252"
     },
     "user_tz": -180
    },
    "id": "bPVPku3Hg2My",
    "outputId": "2f5e594a-ff59-4920-9d0a-5f9855302b94"
   },
   "outputs": [],
   "source": [
    "list(zip(*a))"
   ]
  },
  {
   "cell_type": "markdown",
   "metadata": {
    "id": "2k3ioHszg2My"
   },
   "source": [
    "Это довольно хитрый способ, так как здесь используется `*`.\n",
    "\n",
    "`*`, стоящий перед переменной (`*a`), - это оператор для раскрытия списков."
   ]
  },
  {
   "cell_type": "code",
   "execution_count": null,
   "metadata": {
    "colab": {
     "base_uri": "https://localhost:8080/"
    },
    "executionInfo": {
     "elapsed": 18,
     "status": "ok",
     "timestamp": 1643057157082,
     "user": {
      "displayName": "Николай Смирнов",
      "photoUrl": "https://lh3.googleusercontent.com/a/default-user=s64",
      "userId": "05792503510966078252"
     },
     "user_tz": -180
    },
    "id": "MbM9C7bbg2Mz",
    "outputId": "3425e76c-ae3f-44bc-8ff0-8ca55c203e82"
   },
   "outputs": [],
   "source": [
    "print('Без *:', a, sep='___')  # Без раскрытия выводится список целиком\n",
    "print('С *:', *a, sep='___')  # С * список раскрывается поэлементно"
   ]
  },
  {
   "cell_type": "markdown",
   "metadata": {
    "id": "rgHhh6scg2Mz"
   },
   "source": [
    "У `*` множество применений.\n",
    "\n",
    "Если вспомнить предыдущие ноутбуки и описание функций, то можно заметить, что для отправки произвольного количества аргументов в функцию использовался `*args`."
   ]
  },
  {
   "cell_type": "markdown",
   "metadata": {
    "id": "TfnMX_i5g2Mz"
   },
   "source": [
    "### Задача\n",
    "Создайте **список** *a*, состоящий из **списков** с 3 элементами. <br>\n",
    "Транспонируйте список *a* с помощью метода **zip**. <br>\n",
    "Затем с помощью преобразования типов данных превратите полученный результат опять в **список списков**."
   ]
  },
  {
   "cell_type": "code",
   "execution_count": null,
   "metadata": {
    "id": "eHK6Xbv0g2M0"
   },
   "outputs": [],
   "source": [
    "# Напишите свой код в этой ячейке"
   ]
  },
  {
   "cell_type": "markdown",
   "metadata": {
    "id": "QRJeXzNqg2M0"
   },
   "source": [
    "[Посмотреть ответ на задачу](#exercise_3)"
   ]
  },
  {
   "cell_type": "markdown",
   "metadata": {
    "id": "19SPr7njg2M0"
   },
   "source": [
    "## reduce(function, sequence)\n",
    "**reduce()** возвращает значение, полученное путем последовательного применения бинарной функции **function()** сначала к первым двум элементам последовательности *sequence*, затем к полученному результату и следующему элементу и т. д.<br>\n",
    "*Бинарная функция* - функция, которая принимает 2 аргумента."
   ]
  },
  {
   "cell_type": "markdown",
   "metadata": {
    "id": "9hjo8Cd_g2M1"
   },
   "source": [
    "**Пример.** Вычислим сумму арифметической последовательности элементов 1, 2, ..., 10 (1 + 2 + 3 + ... + 10) <br>\n",
    "Сначала импортируем необходимый модуль:"
   ]
  },
  {
   "cell_type": "code",
   "execution_count": null,
   "metadata": {
    "id": "UB92oblYg2M1"
   },
   "outputs": [],
   "source": [
    "import functools"
   ]
  },
  {
   "cell_type": "markdown",
   "metadata": {
    "id": "_xHbGuiqkx7g"
   },
   "source": []
  },
  {
   "cell_type": "code",
   "execution_count": null,
   "metadata": {
    "id": "6HRBCN_8g2M2"
   },
   "outputs": [],
   "source": [
    "def add(x, y):\n",
    "    return x+y"
   ]
  },
  {
   "cell_type": "code",
   "execution_count": null,
   "metadata": {
    "colab": {
     "base_uri": "https://localhost:8080/"
    },
    "executionInfo": {
     "elapsed": 286,
     "status": "ok",
     "timestamp": 1643614377404,
     "user": {
      "displayName": "Николай Смирнов",
      "photoUrl": "https://lh3.googleusercontent.com/a/default-user=s64",
      "userId": "05792503510966078252"
     },
     "user_tz": -180
    },
    "id": "SR_Q6Avmg2M3",
    "outputId": "4e1174d2-d5cd-4f27-f390-87411b2084a9"
   },
   "outputs": [],
   "source": [
    "functools.reduce(add, range(11))"
   ]
  },
  {
   "cell_type": "markdown",
   "metadata": {
    "id": "hkQlugDBg2M3"
   },
   "source": [
    "### Задача\n",
    "Реализуйте нахождение факториала числа с помощью функции **reduce**. <br>\n",
    "Выведите на экран факториал числа 10."
   ]
  },
  {
   "cell_type": "code",
   "execution_count": null,
   "metadata": {
    "id": "VbBuP_bfg2M4"
   },
   "outputs": [],
   "source": [
    "# Напишите свой код в этой ячейке"
   ]
  },
  {
   "cell_type": "markdown",
   "metadata": {
    "id": "C7X7yGIfg2M4"
   },
   "source": [
    "[Посмотреть ответ на задачу](#exercise_4)"
   ]
  },
  {
   "cell_type": "markdown",
   "metadata": {
    "id": "T7Irhs_Wg2NR"
   },
   "source": [
    "##Ответы на задачи:"
   ]
  },
  {
   "cell_type": "markdown",
   "metadata": {
    "id": "0PDE1nhig2NS"
   },
   "source": [
    "<a name=\"exercise_1\"></a>\n",
    "## Задача о числах, кратных трем (**filter**)"
   ]
  },
  {
   "cell_type": "code",
   "execution_count": null,
   "metadata": {
    "colab": {
     "base_uri": "https://localhost:8080/"
    },
    "executionInfo": {
     "elapsed": 14,
     "status": "ok",
     "timestamp": 1643614034816,
     "user": {
      "displayName": "Николай Смирнов",
      "photoUrl": "https://lh3.googleusercontent.com/a/default-user=s64",
      "userId": "05792503510966078252"
     },
     "user_tz": -180
    },
    "id": "iv9bGNuog2NS",
    "outputId": "6f2af494-d20e-43b9-dd48-10321a8b2d6f"
   },
   "outputs": [],
   "source": [
    "def multiples_of_three(x):\n",
    "    if (x%3 == 0):\n",
    "        return 1\n",
    "    else:\n",
    "        return 0\n",
    "print(list(filter(multiples_of_three, range(31))))"
   ]
  },
  {
   "cell_type": "markdown",
   "metadata": {
    "id": "D4rs8k1eg2NS"
   },
   "source": [
    "<a name=\"exercise_2\"></a>\n",
    "## Задача о числах, кратных трем (map)"
   ]
  },
  {
   "cell_type": "code",
   "execution_count": null,
   "metadata": {
    "colab": {
     "base_uri": "https://localhost:8080/"
    },
    "executionInfo": {
     "elapsed": 265,
     "status": "ok",
     "timestamp": 1643614240517,
     "user": {
      "displayName": "Николай Смирнов",
      "photoUrl": "https://lh3.googleusercontent.com/a/default-user=s64",
      "userId": "05792503510966078252"
     },
     "user_tz": -180
    },
    "id": "P7cYfHQkg2NS",
    "outputId": "2bc6edf8-7155-40ac-b0f1-13bc616733ae"
   },
   "outputs": [],
   "source": [
    "def multiples_of_three(x):\n",
    "    if (x%3 == 0):\n",
    "        return 1\n",
    "    else:\n",
    "        return 0\n",
    "print(list(map(multiples_of_three, range(31))))"
   ]
  },
  {
   "cell_type": "markdown",
   "metadata": {
    "id": "M_fHJBIKg2NS"
   },
   "source": [
    "<a name=\"exercise_3\"></a>\n",
    "## Задача о транспонировании списка (zip)"
   ]
  },
  {
   "cell_type": "code",
   "execution_count": null,
   "metadata": {
    "id": "vm4YBGagg2NT",
    "outputId": "c434cccf-69ce-4419-dbc4-b0840327eea9"
   },
   "outputs": [],
   "source": [
    "a = [[1,2,3],[4,5,6],[7,8,9]]\n",
    "a = zip(*a)\n",
    "b = []\n",
    "for i in a:\n",
    "    b.append(list(i))\n",
    "print(b)"
   ]
  },
  {
   "cell_type": "markdown",
   "metadata": {
    "id": "Z1pN-jCHg2Na"
   },
   "source": [
    "<a name=\"exercise_4\"></a>\n",
    "## Задача о вычислении факториала (reduce)"
   ]
  },
  {
   "cell_type": "code",
   "execution_count": null,
   "metadata": {
    "colab": {
     "base_uri": "https://localhost:8080/"
    },
    "executionInfo": {
     "elapsed": 277,
     "status": "ok",
     "timestamp": 1643614454081,
     "user": {
      "displayName": "Николай Смирнов",
      "photoUrl": "https://lh3.googleusercontent.com/a/default-user=s64",
      "userId": "05792503510966078252"
     },
     "user_tz": -180
    },
    "id": "P36tWwn-g2Nb",
    "outputId": "ba247ebf-1e58-40cc-aa43-588c6611dde2"
   },
   "outputs": [],
   "source": [
    "import functools\n",
    "\n",
    "def fact(x,y):\n",
    "    return x*y\n",
    "\n",
    "print(functools.reduce(fact, range(1,5)))"
   ]
  }
 ],
 "metadata": {
  "colab": {
   "collapsed_sections": [
    "l1RmCR8p38vJ",
    "wtxj1Eo6g2Mi",
    "qeObtLl7g2Mm",
    "79ip3zgRg2Mp",
    "ajX7jVG2g2Mx",
    "19SPr7njg2M0",
    "0PDE1nhig2NS",
    "D4rs8k1eg2NS",
    "M_fHJBIKg2NS",
    "Z1pN-jCHg2Na"
   ],
   "name": "16_Функциональное программирование_filter, zip, map, reduce.ipynb",
   "provenance": []
  },
  "kernelspec": {
   "display_name": "Python 3",
   "language": "python",
   "name": "python3"
  },
  "language_info": {
   "codemirror_mode": {
    "name": "ipython",
    "version": 3
   },
   "file_extension": ".py",
   "mimetype": "text/x-python",
   "name": "python",
   "nbconvert_exporter": "python",
   "pygments_lexer": "ipython3",
   "version": "3.8.8"
  }
 },
 "nbformat": 4,
 "nbformat_minor": 4
}
