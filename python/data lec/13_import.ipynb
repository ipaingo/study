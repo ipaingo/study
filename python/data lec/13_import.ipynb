{
 "cells": [
  {
   "cell_type": "markdown",
   "metadata": {
    "id": "WG_ljXgfg2M4"
   },
   "source": [
    "# import"
   ]
  },
  {
   "cell_type": "markdown",
   "metadata": {
    "id": "6h19Q_3vg2M5"
   },
   "source": [
    "Помимо встроенных функций, существует огромное количество других функций, сборники которых реализованы в виде *модулей*. <br>\n",
    "*Импорт* - это механизм подключения функций, которые реализованы во внешних *модулях*. <br>\n",
    "**Импорт модуля** целиком:"
   ]
  },
  {
   "cell_type": "code",
   "execution_count": null,
   "metadata": {
    "id": "pDK9uov3g2M5"
   },
   "outputs": [],
   "source": [
    "import math"
   ]
  },
  {
   "cell_type": "markdown",
   "metadata": {
    "id": "4DlyTllkDyMM"
   },
   "source": [
    "Функции, которые находятся внутри модуля доступны через **название_модуля.название_функции**"
   ]
  },
  {
   "cell_type": "code",
   "execution_count": null,
   "metadata": {
    "colab": {
     "base_uri": "https://localhost:8080/"
    },
    "executionInfo": {
     "elapsed": 319,
     "status": "ok",
     "timestamp": 1643614584737,
     "user": {
      "displayName": "Николай Смирнов",
      "photoUrl": "https://lh3.googleusercontent.com/a/default-user=s64",
      "userId": "05792503510966078252"
     },
     "user_tz": -180
    },
    "id": "BM5oHvOQDyWI",
    "outputId": "6b9bd08f-7265-45e5-cb6e-f6027f430136"
   },
   "outputs": [],
   "source": [
    "math.sqrt(4)  "
   ]
  },
  {
   "cell_type": "markdown",
   "metadata": {
    "id": "-o5w0DKdg2M6"
   },
   "source": [
    "Можно импортировать отдельную функцию (или другой элемент):"
   ]
  },
  {
   "cell_type": "code",
   "execution_count": null,
   "metadata": {
    "colab": {
     "base_uri": "https://localhost:8080/"
    },
    "executionInfo": {
     "elapsed": 308,
     "status": "ok",
     "timestamp": 1643614588251,
     "user": {
      "displayName": "Николай Смирнов",
      "photoUrl": "https://lh3.googleusercontent.com/a/default-user=s64",
      "userId": "05792503510966078252"
     },
     "user_tz": -180
    },
    "id": "cOe5hvG9g2M6",
    "outputId": "49a1132a-7999-4570-db34-15251eed4e33"
   },
   "outputs": [],
   "source": [
    "from math import sqrt\n",
    "sqrt(4)"
   ]
  },
  {
   "cell_type": "markdown",
   "metadata": {
    "id": "9zz9CTILShCH"
   },
   "source": [
    "## Задача\n",
    "Импортируйте метод factorial из библиотеки math . <br>\n",
    "Выведите на экран факториал числа 100."
   ]
  },
  {
   "cell_type": "code",
   "execution_count": null,
   "metadata": {
    "id": "8nUnRZx2S-el"
   },
   "outputs": [],
   "source": [
    "# Введите свой код в эту ячейку"
   ]
  },
  {
   "cell_type": "markdown",
   "metadata": {
    "id": "ezTsETpTTCKj"
   },
   "source": [
    "[Посмотреть ответ на задачу](#exercise_1)"
   ]
  },
  {
   "cell_type": "markdown",
   "metadata": {
    "id": "puPIL5CQg2M6"
   },
   "source": [
    "## Импорт нескольких функций"
   ]
  },
  {
   "cell_type": "code",
   "execution_count": null,
   "metadata": {
    "id": "AyyDSToOg2M8"
   },
   "outputs": [],
   "source": [
    "from math import sqrt, pow"
   ]
  },
  {
   "cell_type": "markdown",
   "metadata": {
    "id": "9tsQEaABg2M9"
   },
   "source": [
    "Можно импортировать функцию и назначить ей *псевдоним*. Обычно псевдоним назначают, если название модуля слишком длинное или будет очень часто использоваться."
   ]
  },
  {
   "cell_type": "code",
   "execution_count": null,
   "metadata": {
    "colab": {
     "base_uri": "https://localhost:8080/"
    },
    "executionInfo": {
     "elapsed": 299,
     "status": "ok",
     "timestamp": 1643614625076,
     "user": {
      "displayName": "Николай Смирнов",
      "photoUrl": "https://lh3.googleusercontent.com/a/default-user=s64",
      "userId": "05792503510966078252"
     },
     "user_tz": -180
    },
    "id": "QJS67bcog2M9",
    "outputId": "923b7a6a-0643-4305-dd7b-044eeb196f76"
   },
   "outputs": [],
   "source": [
    "from math import sqrt as s  # s - псевдоним функции sqrt\n",
    "s(4)"
   ]
  },
  {
   "cell_type": "markdown",
   "metadata": {
    "id": "NULrHuV6g2M9"
   },
   "source": [
    "## Импорт всех функций из модуля"
   ]
  },
  {
   "cell_type": "markdown",
   "metadata": {
    "id": "OppfoQdWg2M-"
   },
   "source": [
    "Можно импортировать все инструкции из модуля. Делать так не рекомендуется, так как это засоряет ваше пространство имен.<br>\n",
    "Данное явление, в свою очередь, усложняет понимание кода. В частности, если **функция** используется сама по себе (без названия модуля или его псевдонима), то читающему код непонятно: является **функция** встроенной или принадлежит какому-то модулю. <br>\n",
    "Кроме того, разные модули могут содержать одинаковые названия **функций**, что приведет затруднению понимания кода. <br>\n",
    "\n",
    "Для испорта всех инструкций модуля:"
   ]
  },
  {
   "cell_type": "code",
   "execution_count": null,
   "metadata": {
    "id": "3OPAd-Ucg2M-"
   },
   "outputs": [],
   "source": [
    "from math import *"
   ]
  },
  {
   "cell_type": "markdown",
   "metadata": {
    "id": "w8XlaAkPg2M-"
   },
   "source": [
    "Внутри **модуля** можно указать какие функции будут импортироваться с помощью `import *`:<br>\n",
    "```\n",
    "python\n",
    "__all__ = ['foo', 'bar']\n",
    "```\n",
    "[\\_\\_all__](https://ru.stackoverflow.com/questions/27983/%D0%A7%D1%82%D0%BE-%D1%82%D0%B0%D0%BA%D0%BE%D0%B5-all-%D0%B2-python)  - это список публичных объектов данного модуля."
   ]
  },
  {
   "cell_type": "markdown",
   "metadata": {
    "id": "r6E-JgiIg2M_"
   },
   "source": [
    "*Глобальное пространство имен* для функции – это имена из модуля, в котором она была объявлена, а не пространство имен, в которое эта функция была импортирована и откуда была вызвана. <br>\n",
    "Рассмотрим пример:"
   ]
  },
  {
   "cell_type": "markdown",
   "metadata": {
    "id": "uylOGFDgg2M_"
   },
   "source": [
    "```python\n",
    "# Модуль spam.py, который содержит вложенные функции\n",
    "def bar():\n",
    "\tdef foo():\n",
    "\t\t...\n",
    "```\n",
    "\n",
    "```python\n",
    "# Основной модуль программы main.py\n",
    "from spam import bar  # Пусть в bar уже содержится foo()\n",
    "def foo():\n",
    "\ta = 37\n",
    "\tprint(\"Другая функция foo, a =\", a)\n",
    "bar()  # Когда функция bar() вызовет функцию foo(), то будет вызвана spam.foo(), а не функция foo(), объявленная выше.\n",
    "```\n",
    "\n",
    "```python\n",
    "# Другой пример:\n",
    "from spam import a, foo  # Импортирует переменную и функцию\n",
    "a = 42  # Изменит значение переменной \n",
    "foo()  # Выведет “Другая функция foo(), a = 37”\n",
    "print(a)  # Выведет “42”\n",
    "```"
   ]
  },
  {
   "cell_type": "markdown",
   "metadata": {
    "id": "BT0XLyQtg2M_"
   },
   "source": [
    "При поиске модуля (например, *foo*) интерпретатор просматривает каждый каталог, упомянутый в списке **sys.path**, в поисках следующих файлов (перечисленных в том порядке, в каком ведется поиск):\n",
    "1. Каталог *foo*, объявленный как пакет.\n",
    "2. *foo.pyd*, *foo.so*, *foomodule.so* или *foomodule.dll* (скомпилированные рассширения).\n",
    "3. *foo.pyo* (если при компиляции был использован ключ -O или -OO).\n",
    "4. *foo.pyc*.\n",
    "5. *foo.py* (в Windows интерпретатор также проверяет наличие файлов с расширением .pyw)."
   ]
  },
  {
   "cell_type": "code",
   "execution_count": null,
   "metadata": {
    "id": "aIZSibOtg2M_"
   },
   "outputs": [],
   "source": [
    "import sys  # Модуль, обеспечивающий доступ к некоторым переменным и функциям, взаимодействующим с интерпретатором python."
   ]
  },
  {
   "cell_type": "code",
   "execution_count": null,
   "metadata": {
    "colab": {
     "base_uri": "https://localhost:8080/"
    },
    "executionInfo": {
     "elapsed": 13,
     "status": "ok",
     "timestamp": 1643615324887,
     "user": {
      "displayName": "Николай Смирнов",
      "photoUrl": "https://lh3.googleusercontent.com/a/default-user=s64",
      "userId": "05792503510966078252"
     },
     "user_tz": -180
    },
    "id": "L1-GAe2wg2M_",
    "outputId": "7f4d4bda-9e00-4ff9-91ec-ed5e289a2d9f"
   },
   "outputs": [],
   "source": [
    "sys.path"
   ]
  },
  {
   "cell_type": "markdown",
   "metadata": {
    "id": "LSHCbKyfg2NA"
   },
   "source": [
    "В языке **Python** отсутствует полноценная поддержка возможности повторной загрузки или выгрузки модулей, импортированных ранее.\n",
    "Даже если удалить модуль из словаря **sys.modules**, в общем случае это не приведет к выгрузке модуля из памяти."
   ]
  },
  {
   "cell_type": "markdown",
   "metadata": {
    "id": "KDQiONqbg2NA"
   },
   "source": [
    "## Импорт модуля из другого каталога"
   ]
  },
  {
   "cell_type": "markdown",
   "metadata": {
    "id": "mM8z_F-Cg2NA"
   },
   "source": [
    "Допустим, выполняемый файл расположен в каталоге `C:\\PycharmProjects\\untitled2`. Можно добавлять новый каталог в `sys.path`."
   ]
  },
  {
   "cell_type": "markdown",
   "metadata": {
    "id": "OW13Gvt7HJ00"
   },
   "source": [
    "```python\n",
    "directory = r\"C:\\PycharmProjects\\untitled2\"\n",
    "sys.path.append(directory)\n",
    "```"
   ]
  },
  {
   "cell_type": "markdown",
   "metadata": {
    "id": "7Rt01HWyg2NB"
   },
   "source": [
    "*r* – берет «сырую строку» и позволяет избежать проблем с кодировками.<br>\n",
    "Например, это позволяет игнорировать escape-последовательности, такие как *\\n* (перенос строки).<br>\n",
    "Подробнее об этом можно прочитать по [ссылке](https://stackoverflow.com/questions/2081640/what-exactly-do-u-and-r-string-flags-do-and-what-are-raw-string-literals)."
   ]
  },
  {
   "cell_type": "code",
   "execution_count": null,
   "metadata": {
    "colab": {
     "base_uri": "https://localhost:8080/"
    },
    "executionInfo": {
     "elapsed": 327,
     "status": "ok",
     "timestamp": 1643615469088,
     "user": {
      "displayName": "Николай Смирнов",
      "photoUrl": "https://lh3.googleusercontent.com/a/default-user=s64",
      "userId": "05792503510966078252"
     },
     "user_tz": -180
    },
    "id": "sWqxqv4qg2NC",
    "outputId": "5c33db57-2037-4651-9b19-2bd685469c5e"
   },
   "outputs": [],
   "source": [
    "# Пример с обычной строкой\n",
    "print(\"Hello \\n world!\")"
   ]
  },
  {
   "cell_type": "code",
   "execution_count": null,
   "metadata": {
    "colab": {
     "base_uri": "https://localhost:8080/"
    },
    "executionInfo": {
     "elapsed": 311,
     "status": "ok",
     "timestamp": 1643615471666,
     "user": {
      "displayName": "Николай Смирнов",
      "photoUrl": "https://lh3.googleusercontent.com/a/default-user=s64",
      "userId": "05792503510966078252"
     },
     "user_tz": -180
    },
    "id": "wz82Y8f6g2NC",
    "outputId": "27c91fb6-83ca-422a-e664-266188b13db9"
   },
   "outputs": [],
   "source": [
    "# Пример с \"сырой\" строкой\n",
    "print(r'Hello \\n world!')"
   ]
  },
  {
   "cell_type": "markdown",
   "metadata": {
    "id": "QAY56guwg2ND"
   },
   "source": [
    "`__name__` — это переменная, которая инициализируется, как `'__main__'`, если файл с исходным кодом был непосредственно запущен, а не импортирован. При импорте, переменная `__name__` будет содержать имя модуля, из которого произошел импорт.\n"
   ]
  },
  {
   "cell_type": "markdown",
   "metadata": {
    "id": "7M_ZBwL_g2ND"
   },
   "source": [
    "```python\n",
    "if __name__ == '__main__':\n",
    "```\n",
    "\n",
    "Используется, чтобы понять, был ли файл запущен *сам по себе* или *импортирован* другим модулем. Это необходимо для того, чтобы различать эти два действия и по-разному на них реагировать.<br> \n",
    "Например, выводить приветсвие при запуске из консоли или ничего не делать если модуль был импортирован."
   ]
  },
  {
   "cell_type": "markdown",
   "metadata": {
    "id": "mIch7ukFg2ND"
   },
   "source": [
    "Допустим у нас есть два файла `first.py` и `second.py`:"
   ]
  },
  {
   "cell_type": "markdown",
   "metadata": {
    "id": "pk103RLOg2ND"
   },
   "source": [
    "```python\n",
    "# second.py :\n",
    "def foo():\n",
    "    print('Привет из func.py')\n",
    "if __name__ == '__main__':\n",
    "    print('Привет из console')\n",
    "print('Часть не из main')\n",
    "\n",
    "\n",
    "# first.py :\n",
    "from second import foo\n",
    "foo()\n",
    "\n",
    "# Out после запуска first.py:\n",
    "Часть не из main  # Эта строка вывелась, т.к. second.py был прочтен (выполнен) при импорте в first.py.\n",
    "Привет из func.py  # Эта строка вывелась, т.к. выполнилась foo() из first.py.\n",
    "```"
   ]
  },
  {
   "cell_type": "markdown",
   "metadata": {
    "id": "0PDE1nhig2NS"
   },
   "source": [
    "<a name=\"exercise_1\"></a>\n",
    "## Задача о факториале"
   ]
  },
  {
   "cell_type": "code",
   "execution_count": null,
   "metadata": {
    "colab": {
     "base_uri": "https://localhost:8080/"
    },
    "executionInfo": {
     "elapsed": 10,
     "status": "ok",
     "timestamp": 1643451722751,
     "user": {
      "displayName": "Григорий Рего",
      "photoUrl": "https://lh3.googleusercontent.com/a/default-user=s64",
      "userId": "17666688826286004808"
     },
     "user_tz": -180
    },
    "id": "iv9bGNuog2NS",
    "outputId": "d74c8461-04a7-486a-8822-6274f9954d08"
   },
   "outputs": [],
   "source": [
    "from math import factorial\n",
    "print(factorial(100))"
   ]
  }
 ],
 "metadata": {
  "colab": {
   "collapsed_sections": [],
   "name": "13_import.ipynb",
   "provenance": []
  },
  "kernelspec": {
   "display_name": "Python 3",
   "language": "python",
   "name": "python3"
  },
  "language_info": {
   "codemirror_mode": {
    "name": "ipython",
    "version": 3
   },
   "file_extension": ".py",
   "mimetype": "text/x-python",
   "name": "python",
   "nbconvert_exporter": "python",
   "pygments_lexer": "ipython3",
   "version": "3.8.8"
  }
 },
 "nbformat": 4,
 "nbformat_minor": 4
}
