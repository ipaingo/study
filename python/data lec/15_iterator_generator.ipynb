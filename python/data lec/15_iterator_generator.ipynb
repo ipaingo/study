{
 "cells": [
  {
   "cell_type": "markdown",
   "metadata": {
    "id": "wmxXYZRaPQB2"
   },
   "source": [
    "## Генераторы\n",
    "\n",
    "- **Итерация** - процесс перебора элементов объекта (например списка) в цикле \n",
    "- **Итерируемый объект** - объект, имеющий методы \\_\\_iter\\_\\_ или \\_\\_getitem\\_\\_\n",
    "- **Итератор** - объект, который имеет метод *next* (в устаревшей версии Python 2) или *\\_\\_next\\_\\_* (в Python 3)\n",
    "- **Генераторы** – это аналог итераторов, по которым можно итерировать только один раз. Генератор, в отличие от итераторв, не хранит все значения указанного набора данных в памяти, а генерируют элементы \"на лету\". В большинстве случаев **генераторы** создаются как функции, тем не менее, они возвращают значение не как функции (return), а с помощью ключевого слова **yield**.\n",
    "Основное отличие **yield** от **return** заключается в том, что **return** завершает выполнение функции или цикла, а **yield** только прерывает выполнение. То есть если мы вызовем какую-то функцию после **return**, то её выполнение начнется с самого начала, в то время как после **yield**, новый вызов запускает продолжение работы функции с того  места, где произошло прерывание."
   ]
  },
  {
   "cell_type": "markdown",
   "metadata": {
    "id": "YSJvjLyfPQB5"
   },
   "source": [
    "## Создание генератора:"
   ]
  },
  {
   "cell_type": "code",
   "execution_count": null,
   "metadata": {
    "colab": {
     "base_uri": "https://localhost:8080/"
    },
    "executionInfo": {
     "elapsed": 13,
     "status": "ok",
     "timestamp": 1643227985691,
     "user": {
      "displayName": "Григорий Рего",
      "photoUrl": "https://lh3.googleusercontent.com/a/default-user=s64",
      "userId": "17666688826286004808"
     },
     "user_tz": -180
    },
    "id": "-sbbJCG8PQB7",
    "outputId": "7eb955d5-6384-4c6a-ac7e-4fc39c00cb73"
   },
   "outputs": [],
   "source": [
    "def generator_function(): # Объявление функции без аргументов\n",
    "    for i in range(5): # Цикл из 5-и итераций\n",
    "        yield i # Функция возвращает текущий i в выполнение\n",
    "\n",
    "print(generator_function)"
   ]
  },
  {
   "cell_type": "markdown",
   "metadata": {
    "id": "ObfoCf47PQB9"
   },
   "source": [
    "Чтобы понять, что такое **генераторы**, давайте посмотрим как они работают.<br>\n",
    "Вызовем **генератор** и посмотрим, что он вернет."
   ]
  },
  {
   "cell_type": "code",
   "execution_count": null,
   "metadata": {
    "colab": {
     "base_uri": "https://localhost:8080/"
    },
    "executionInfo": {
     "elapsed": 11,
     "status": "ok",
     "timestamp": 1643227985692,
     "user": {
      "displayName": "Григорий Рего",
      "photoUrl": "https://lh3.googleusercontent.com/a/default-user=s64",
      "userId": "17666688826286004808"
     },
     "user_tz": -180
    },
    "id": "cV1wIh33PQB9",
    "outputId": "e14c078f-a041-4ec8-8c51-330a68ff18f3"
   },
   "outputs": [],
   "source": [
    "a = generator_function() # Инициализируем наш генератор\n",
    "print(type(a)) # Убеждаемся, что созданный объект относится к классу генераторов \n",
    "for i in a:\n",
    "    print(i) # Выводим полученные значения"
   ]
  },
  {
   "cell_type": "markdown",
   "metadata": {
    "id": "7dGxbSXTPQB-"
   },
   "source": [
    "## Разница между return и yield\n",
    "Давайте зафиксируем в сознании разницу между **return** и **yield**:"
   ]
  },
  {
   "cell_type": "code",
   "execution_count": null,
   "metadata": {
    "colab": {
     "base_uri": "https://localhost:8080/"
    },
    "executionInfo": {
     "elapsed": 9,
     "status": "ok",
     "timestamp": 1643227985692,
     "user": {
      "displayName": "Григорий Рего",
      "photoUrl": "https://lh3.googleusercontent.com/a/default-user=s64",
      "userId": "17666688826286004808"
     },
     "user_tz": -180
    },
    "id": "vS9Yq8PUPQB_",
    "outputId": "1852d656-2f77-47f7-9d60-97c8b44a326f"
   },
   "outputs": [],
   "source": [
    "# Простая функция, которая возвращает значение:\n",
    "def my_func():\n",
    "    for i in range(5):\n",
    "        return i\n",
    "\n",
    "a = generator_function()  # Еще раз определили генератор\n",
    "\n",
    "# Вызовем 5 раз функцию\n",
    "print(\"Работа return:\")\n",
    "print(my_func())\n",
    "print(my_func())\n",
    "print(my_func())\n",
    "print(my_func())\n",
    "print(my_func())\n",
    "\n",
    "# Вызовем 5 раз генератор\n",
    "print(\"Работа yield:\")\n",
    "print(str(next(a))) # Метод next будет объяснен ниже\n",
    "print(str(next(a))) \n",
    "print(str(next(a))) \n",
    "print(str(next(a))) \n",
    "print(str(next(a))) "
   ]
  },
  {
   "cell_type": "markdown",
   "metadata": {
    "id": "XWOy73eRPQCA"
   },
   "source": [
    "Видно, что **return** всегда возвращает 0, так как работа функции завершается, а при новом вызове она начинается с начала. <br>\n",
    "В то же время **yield** не прекращает работу функции, а лишь прерывает, поэтому каждый раз генерируются новые значения."
   ]
  },
  {
   "cell_type": "markdown",
   "metadata": {
    "id": "XfJR8CPS9eRO"
   },
   "source": [
    "<br>\n",
    "\n",
    "**Задача 1**. В качестве упражнения создайте генератор, который будет возвращать только четные числа от 0 до 20. <br>\n",
    "Выведите полученные числа на экран."
   ]
  },
  {
   "cell_type": "code",
   "execution_count": null,
   "metadata": {
    "id": "bsQrLUQVPQCB"
   },
   "outputs": [],
   "source": [
    "# Напишите свой код в данной ячейке\n"
   ]
  },
  {
   "cell_type": "markdown",
   "metadata": {
    "id": "L0WZoJm59fFE"
   },
   "source": [
    "[Посмотреть ответ на задачу 1](#exercise_1)"
   ]
  },
  {
   "cell_type": "markdown",
   "metadata": {
    "id": "qNK-424rPQCC"
   },
   "source": [
    "## Назначение генераторов\n",
    "Генераторы подходят для расчетов на больших наборах данных, при которых не хотелось бы выделять память для хранения всех результатов одновременно.\n"
   ]
  },
  {
   "cell_type": "markdown",
   "metadata": {
    "id": "vvb3QNHKCByS"
   },
   "source": [
    "Рассмотрим пример **генератора для вычисления чисел Фибоначи**."
   ]
  },
  {
   "cell_type": "markdown",
   "metadata": {
    "id": "HIVAQz9nPQCD"
   },
   "source": [
    "В случае использования **генератора**, новые значения будут вычисляться по мере необходимости, в начале выполнения очередного шага по циклу for."
   ]
  },
  {
   "cell_type": "code",
   "execution_count": null,
   "metadata": {
    "id": "HK9kSN1XPQCE"
   },
   "outputs": [],
   "source": [
    "# generator version\n",
    "def fibon(n):\n",
    "    a = b = 1  # Да, в Python можно присваивать значения переменным транзитивно\n",
    "    for i in range(n):\n",
    "        print(f'a before = {a}') \n",
    "        yield a\n",
    "        a, b = b, a + b  # Это сокращенная запись для : a = b, b = b + a    \n",
    "        print(f'a after = {a}')"
   ]
  },
  {
   "cell_type": "code",
   "execution_count": null,
   "metadata": {
    "colab": {
     "base_uri": "https://localhost:8080/"
    },
    "executionInfo": {
     "elapsed": 8,
     "status": "ok",
     "timestamp": 1643227985693,
     "user": {
      "displayName": "Григорий Рего",
      "photoUrl": "https://lh3.googleusercontent.com/a/default-user=s64",
      "userId": "17666688826286004808"
     },
     "user_tz": -180
    },
    "id": "KHCXORskPQCG",
    "outputId": "f1a6aeb3-a70f-4404-ae89-66d6f4fad0b6"
   },
   "outputs": [],
   "source": [
    "%%time\n",
    "#%%time возвращает общее количество времени выполнения программы на компьютере\n",
    "for x in fibon(5):\n",
    "    print(f'x = {x}')"
   ]
  },
  {
   "cell_type": "markdown",
   "metadata": {
    "id": "HVElCnRYwDwu"
   },
   "source": [
    "Тот же код без использования генератора:"
   ]
  },
  {
   "cell_type": "code",
   "execution_count": null,
   "metadata": {
    "id": "JH3js3twPQCG"
   },
   "outputs": [],
   "source": [
    "def fibon2(n): # Инициализируем функцию. Аргументом является количество первых чисел последовательности, которые будут найдены\n",
    "    a = b = 1\n",
    "    result = [] # Создаем список, куда будем помещать полученные числа последовательности\n",
    "    for i in range(n):\n",
    "        result.append(a) # Добавляем найденное число в список\n",
    "        a, b = b, a + b\n",
    "    return result  # result -- это список, который передается целиком, а не поэлементно"
   ]
  },
  {
   "cell_type": "code",
   "execution_count": null,
   "metadata": {
    "colab": {
     "base_uri": "https://localhost:8080/"
    },
    "executionInfo": {
     "elapsed": 24,
     "status": "ok",
     "timestamp": 1643227986546,
     "user": {
      "displayName": "Григорий Рего",
      "photoUrl": "https://lh3.googleusercontent.com/a/default-user=s64",
      "userId": "17666688826286004808"
     },
     "user_tz": -180
    },
    "id": "cJKmrscgPQCH",
    "outputId": "3a72892a-8aae-4531-bece-cea8c3c26cfd",
    "scrolled": true
   },
   "outputs": [],
   "source": [
    "%%time\n",
    "# %%time возвращает общее количество времени выполнения программы на компьютере\n",
    "for x in fibon2(5): # Найдем первые 5 чисел из последовательности Фибоначчи\n",
    "    print(x)"
   ]
  },
  {
   "cell_type": "markdown",
   "metadata": {
    "id": "Dwjdli5IPQCK"
   },
   "source": [
    "## next() и iter():"
   ]
  },
  {
   "cell_type": "markdown",
   "metadata": {
    "id": "Q9OphBsTPQCL"
   },
   "source": [
    "Метод `next()` достает следующее значение из итератора."
   ]
  },
  {
   "cell_type": "markdown",
   "metadata": {
    "id": "BsCq5UUVPQCM"
   },
   "source": [
    "После прохождения по всем значениям `next()` вызывает исключение `StopIteration`. Эта ошибка информирует нас: все значения коллекции пройдены. \n",
    "\n",
    "Почему же мы не получаем ошибку при использовании цикла `for` ?\n",
    "\n",
    "Ответ довольно прост:\n",
    "Цикл `for` автоматически перехватывает данное исключение и перестает вызывать `next`."
   ]
  },
  {
   "cell_type": "code",
   "execution_count": null,
   "metadata": {
    "colab": {
     "base_uri": "https://localhost:8080/",
     "height": 287
    },
    "executionInfo": {
     "elapsed": 34,
     "status": "error",
     "timestamp": 1643227986558,
     "user": {
      "displayName": "Григорий Рего",
      "photoUrl": "https://lh3.googleusercontent.com/a/default-user=s64",
      "userId": "17666688826286004808"
     },
     "user_tz": -180
    },
    "id": "aZnPyFcQPQCM",
    "outputId": "9cfe6824-3a62-4472-e1de-b2a4919851f1"
   },
   "outputs": [],
   "source": [
    "def generator_function():\n",
    "    for i in range(3):\n",
    "        yield i\n",
    "\n",
    "gen = generator_function()\n",
    "print(next(gen))\n",
    "# Вывод: 0\n",
    "print(next(gen))\n",
    "# Вывод: 1\n",
    "print(next(gen))\n",
    "# Вывод: 2\n",
    "print(next(gen))\n",
    "# Вывод: Traceback (most recent call last):\n",
    "#          ...\n",
    "#        print(next(gen))\n",
    "#        StopIteration\n"
   ]
  },
  {
   "cell_type": "markdown",
   "metadata": {
    "id": "-C37irJgPQCN"
   },
   "source": [
    "Несмотря на то, что строка поддерживает итерирование, она не является итератором, а потому, попытка применить `next` к строке вызвет `TypeError` ошибку."
   ]
  },
  {
   "cell_type": "code",
   "execution_count": null,
   "metadata": {
    "id": "o9_9VqASPQCO",
    "outputId": "22ab1b1f-17d9-4b0a-9f8f-861af1f366ce"
   },
   "outputs": [],
   "source": [
    "my_string = \"Yasoob\"\n",
    "next(my_string)\n",
    "# Вывод: Traceback (most recent call last):…\n",
    "#        TypeError: str object is not an iterator"
   ]
  },
  {
   "cell_type": "markdown",
   "metadata": {
    "id": "WvGLJ_vuPQCO"
   },
   "source": [
    "Решение: Встроенная функция – `iter` возвращает итератор из итерируемого объекта."
   ]
  },
  {
   "cell_type": "code",
   "execution_count": null,
   "metadata": {
    "id": "5h6O_zjdPQCO",
    "outputId": "d243f0f6-f41e-4b5a-f270-27086ee43b78"
   },
   "outputs": [],
   "source": [
    "my_string = \"Yasoob\"\n",
    "my_iter = iter(my_string)\n",
    "print(next(my_iter)) #Y\n",
    "print(next(my_iter)) #a\n",
    "print(next(my_iter)) #s\n",
    "print(next(my_iter)) #o\n",
    "print(next(my_iter)) #o\n",
    "print(next(my_iter)) #b"
   ]
  },
  {
   "cell_type": "markdown",
   "metadata": {
    "id": "TU8gNsMFPQCP"
   },
   "source": [
    "Нужно заметить, что функция `iter` может создать итератор только из объектов которые поддерживают итерирование (строки, списки и т.д.). Попытка создать итератор из объекта, не поддерживающего итерирование (например, переменной), приведет к ошибке."
   ]
  },
  {
   "cell_type": "code",
   "execution_count": null,
   "metadata": {
    "id": "xI7dNOqqPQCQ",
    "outputId": "8d70d526-90de-4abb-8ef2-e456ba160af3",
    "scrolled": true
   },
   "outputs": [],
   "source": [
    "int_var = 1779\n",
    "iter(int_var)\n",
    "# Вывод: Traceback (most recent call last):\n",
    "#          File \"<stdin>\", line 1, in <module>\n",
    "#        TypeError: 'int' object is not iterable"
   ]
  },
  {
   "cell_type": "markdown",
   "metadata": {
    "id": "VZZDWgMMPQCQ"
   },
   "source": [
    "## Генераторы списков"
   ]
  },
  {
   "cell_type": "markdown",
   "metadata": {
    "id": "K_OGe6cmPQCQ"
   },
   "source": [
    "Задача: создать список, заполненный натуральными числами до определенного числа. "
   ]
  },
  {
   "cell_type": "markdown",
   "metadata": {
    "id": "YRofT-a1PQCR"
   },
   "source": [
    "\"Классический\" способ будет выглядеть примерно так:"
   ]
  },
  {
   "cell_type": "code",
   "execution_count": null,
   "metadata": {
    "id": "J83UyxrQPQCS",
    "outputId": "10e4c0d5-2634-48b6-f2d9-a473b4ee0fb6"
   },
   "outputs": [],
   "source": [
    "a = [] #Создаем пустой список\n",
    "for i in range(1,10):\n",
    "    a.append(i) #Добавляем i-й элемент в список\n",
    "print(a)"
   ]
  },
  {
   "cell_type": "markdown",
   "metadata": {
    "id": "9nb_tSlGPQCT"
   },
   "source": [
    "Генератор списков потребует одну строчку кода:"
   ]
  },
  {
   "cell_type": "code",
   "execution_count": null,
   "metadata": {
    "id": "uZ0RTMWMPQCT",
    "outputId": "729d1b25-6680-40b8-ffe2-02609b869908"
   },
   "outputs": [],
   "source": [
    "a = [i for i in range(1,10)]\n",
    "print(a)"
   ]
  },
  {
   "cell_type": "markdown",
   "metadata": {
    "id": "XlHLZ_40PQCT"
   },
   "source": [
    "Другие возможные задачи:"
   ]
  },
  {
   "cell_type": "markdown",
   "metadata": {
    "id": "9uX4O4xyPQCT"
   },
   "source": [
    "Возвести все элементы списка в квадрат:"
   ]
  },
  {
   "cell_type": "code",
   "execution_count": null,
   "metadata": {
    "id": "b105J5V7PQCT",
    "outputId": "55c408a9-3683-439a-feb9-eb5e56b04c73"
   },
   "outputs": [],
   "source": [
    "a = [2, -2, 4, -4, 7, 5]\n",
    "b = [i ** 2 for i in a]\n",
    "print(b)  # [4, 4, 16, 16, 49, 25]"
   ]
  },
  {
   "cell_type": "markdown",
   "metadata": {
    "id": "6hYO6y9MPQCT"
   },
   "source": [
    "Умножить ключ словаря на значение:"
   ]
  },
  {
   "cell_type": "code",
   "execution_count": null,
   "metadata": {
    "id": "Sm78Dm3ZPQCV",
    "outputId": "bfe78e9e-ee26-44db-8bf9-97800bbe623f"
   },
   "outputs": [],
   "source": [
    "a = {1:10, 2:20, 3:30}\n",
    "b = [i * a[i] for i in a]\n",
    "print(b)  # [10, 40, 90]"
   ]
  },
  {
   "cell_type": "markdown",
   "metadata": {
    "id": "6J7g2alN-k9o"
   },
   "source": [
    "**Задача 2**. В качестве упражнения создайте словарь с ключами в виде слов и преобразуйте его в двумерный список.<br>\n",
    "Получившийся список выведите на экран."
   ]
  },
  {
   "cell_type": "code",
   "execution_count": null,
   "metadata": {
    "id": "cY7kv3jy3Ir5"
   },
   "outputs": [],
   "source": [
    "# Напишите свой код в данной ячейке"
   ]
  },
  {
   "cell_type": "markdown",
   "metadata": {
    "id": "X-gBVNrM-ykc"
   },
   "source": [
    "[Посмотреть ответ на задачу 2](#exercise_2)"
   ]
  },
  {
   "cell_type": "markdown",
   "metadata": {
    "id": "ybQuoTqMPQCV"
   },
   "source": [
    "Рассмотрим задачу: трансформировать словарь в двумерный массив"
   ]
  },
  {
   "cell_type": "code",
   "execution_count": null,
   "metadata": {
    "id": "oiLcxOzzPQCV",
    "outputId": "1c4923cf-3ec8-43d1-ad55-27bd350202ab"
   },
   "outputs": [],
   "source": [
    "a = {1:10, 2:20, 3:30}  # Словарь\n",
    "b = [[i, a[i]] for i in a]  # Преобразуем словарь в двумерный список \"ключ, значение\"\n",
    "print(b)  # [[1, 10], [2, 20], [3, 30]] "
   ]
  },
  {
   "cell_type": "markdown",
   "metadata": {
    "id": "1SbZqpeVPQCW"
   },
   "source": [
    "Если в генераторе опустить квадратные скобки в `[i, a[i]]`, то произойдет ошибка."
   ]
  },
  {
   "cell_type": "markdown",
   "metadata": {
    "id": "sGE8IbafPQCW"
   },
   "source": [
    "Если необходимо получить одномерный список из ключей и значений словаря, то нужно взять каждый вложенный в `b` список и из него взять каждый элемент:\n",
    "\n",
    "\n"
   ]
  },
  {
   "cell_type": "code",
   "execution_count": null,
   "metadata": {
    "id": "lvAtJIOlPQCW",
    "outputId": "64b155fd-e026-41a0-d652-cd6a569b1631"
   },
   "outputs": [],
   "source": [
    "print('Список b:', b) \n",
    "c = [j for item_in_list in b for j in item_in_list]   # Хитрый способ получить одномерный массив из словаря\n",
    "print('Результат работы:', c)  #  [1, 10, 2, 20, 3, 30]"
   ]
  },
  {
   "cell_type": "markdown",
   "metadata": {
    "id": "bigo1LMWPQCW"
   },
   "source": [
    "Метод получения одномерного списка без использования генератора:"
   ]
  },
  {
   "cell_type": "code",
   "execution_count": null,
   "metadata": {
    "id": "m0c7CSwfPQCX",
    "outputId": "cd881725-0463-49e8-cf9d-7e90d22cd0c1"
   },
   "outputs": [],
   "source": [
    "# Двойной цикл (цикл внутри цикла)\n",
    "for i in b:\n",
    "    for j in i:\n",
    "        print(j)"
   ]
  },
  {
   "cell_type": "markdown",
   "metadata": {
    "id": "NYEMs7OmPQCX"
   },
   "source": [
    "В конец генератора можно добавлять конструкцию `if`, чтобы отфильтровать значения. <br>\n",
    "Например, если необходимо из строки извлечь все цифры:"
   ]
  },
  {
   "cell_type": "code",
   "execution_count": null,
   "metadata": {
    "id": "og4M4lVAPQCZ",
    "outputId": "ce0af8fb-f210-4808-9528-e2c0602fd767"
   },
   "outputs": [],
   "source": [
    "a = \"lsj94ksd231 9\"\n",
    "b = [int(i) for i in a if '0' <= i <= '9']\n",
    "print(b) # [9, 4, 2, 3, 1, 9]"
   ]
  },
  {
   "cell_type": "markdown",
   "metadata": {
    "id": "zTpF1b1g-7Qg"
   },
   "source": [
    "<br>\n",
    "\n",
    "**Задача 3**. Создайте генератор, который отбирает из строки <br> *sfg34jkhf36h6k9gs9sfdg89gsfd7x5m5* <br>\n",
    "цифры от 1 до 3 и от 5 до 7. <br>\n",
    "Выведите полученный результат на экран.\n"
   ]
  },
  {
   "cell_type": "code",
   "execution_count": null,
   "metadata": {
    "id": "ni9BVH4YPQCZ"
   },
   "outputs": [],
   "source": [
    "#Напишите свой код в этой ячейке"
   ]
  },
  {
   "cell_type": "markdown",
   "metadata": {
    "id": "n5-TQQnV_M5y"
   },
   "source": [
    "[Посмотреть ответ на задачу 3](#exercise_3)"
   ]
  },
  {
   "cell_type": "markdown",
   "metadata": {
    "id": "Va8E6Wn-PQCZ"
   },
   "source": [
    "##`yield from` \n",
    "позволяет создать генератор, возвращающий значения из уже существующего генератора."
   ]
  },
  {
   "cell_type": "code",
   "execution_count": null,
   "metadata": {
    "id": "cSLLd0zbPQCZ"
   },
   "outputs": [],
   "source": [
    "def genfrom():\n",
    "    yield from range(5)\n",
    "    \n",
    "for i in genfrom():\n",
    "    print(i)"
   ]
  },
  {
   "cell_type": "markdown",
   "metadata": {
    "id": "87rV0fn1PQCf"
   },
   "source": [
    "Существует возможность передать значение в уже объявленный генератор при помощи метода \n",
    "## `send()`."
   ]
  },
  {
   "cell_type": "code",
   "execution_count": null,
   "metadata": {
    "id": "0fXDplbcPQCf"
   },
   "outputs": [],
   "source": [
    "# Опишем генератор:\n",
    "def gen():\n",
    "    i = 0\n",
    "    m = 10\n",
    "    while i < m:\n",
    "        val = yield i  # val - это передаваемое значение\n",
    "        print(f'val after = {val}')\n",
    "        if val is not None:  # Если val не типа None\n",
    "            i = val\n",
    "            print(f'i_1={i}')\n",
    "        else:\n",
    "            i += 1\n",
    "            print(f'i_2={i}')\n",
    "        "
   ]
  },
  {
   "cell_type": "code",
   "execution_count": null,
   "metadata": {
    "id": "k7XwMOUQPQCg"
   },
   "outputs": [],
   "source": [
    "a = gen()  \n",
    "print('1-й шаг ' + '-'*50)\n",
    "print('next', next(a), '\\n')  # Из генератора вернется значение из строки val = yield i, т.е. 0\n",
    "\n",
    "print('2-й шаг ' + '-'*50)\n",
    "print('next', next(a), '\\n')  # Из генератора вернется значение из строки val = yield i, т.е. 1\n",
    "\n",
    "print('3-й шаг ' + '-'*50)\n",
    "print('None', a.send(None), '\\n')  # None будет передан в качестве значения val в строке val = yield i\n",
    "\n",
    "print('4-й шаг ' + '-'*50)\n",
    "print('send', a.send(7), '\\n')  # 7 будет передано в качестве значения val в строке val = yield i\n",
    "\n",
    "print('5-й шаг ' + '-'*50)\n",
    "print('next', next(a), '\\n')"
   ]
  },
  {
   "cell_type": "markdown",
   "metadata": {
    "id": "qpottSelPQCg"
   },
   "source": [
    "Пример создания генератора удваивания значения, и использования генератора в цикле, с применением `send`.\n"
   ]
  },
  {
   "cell_type": "code",
   "execution_count": null,
   "metadata": {
    "id": "31DaNQxcPQCg"
   },
   "outputs": [],
   "source": [
    "def a():\n",
    "    val = yield\n",
    "    print('Запустил выполнение функции а() при val =', val)\n",
    "    while True:\n",
    "         val = yield val + val  # Удвоение значения"
   ]
  },
  {
   "cell_type": "markdown",
   "metadata": {
    "id": "V6tcen4pTo-e"
   },
   "source": []
  },
  {
   "cell_type": "code",
   "execution_count": null,
   "metadata": {
    "id": "4ZVbOAUQPQCh"
   },
   "outputs": [],
   "source": [
    "q = a()\n",
    "next(q)\n",
    "x = 2\n",
    "while x < 100:\n",
    "    print('-'*20)\n",
    "    x = q.send(x)\n",
    "    print(x)"
   ]
  },
  {
   "cell_type": "markdown",
   "metadata": {
    "id": "xckuFKYlPQCh"
   },
   "source": [
    "Более подробно с назначением функции send можно ознакомиться по [ссылке](https://stackoverflow.com/questions/19302530/python-generator-send-function-purpose)"
   ]
  },
  {
   "cell_type": "markdown",
   "metadata": {
    "id": "yXSPMYsSFWs3"
   },
   "source": [
    "##Ответы на задачи:"
   ]
  },
  {
   "cell_type": "markdown",
   "metadata": {
    "id": "K7vk2mb26tab"
   },
   "source": [
    "<a name=\"exercise_1\"></a>\n",
    "## Ответ на задачу 1 (про четные числа)"
   ]
  },
  {
   "cell_type": "code",
   "execution_count": null,
   "metadata": {
    "id": "VhSECjZfPQCh"
   },
   "outputs": [],
   "source": [
    "def gen_even_numbers():\n",
    "    for i in range(0,21,2):\n",
    "        yield i\n",
    "\n",
    "for i in gen_even_numbers():\n",
    "    print(i)"
   ]
  },
  {
   "cell_type": "markdown",
   "metadata": {
    "id": "oeFnmGy08tYA"
   },
   "source": [
    "<a name=\"exercise_2\"></a>\n",
    "## Ответ на задачу 2 (про словари и списки)"
   ]
  },
  {
   "cell_type": "code",
   "execution_count": null,
   "metadata": {
    "colab": {
     "base_uri": "https://localhost:8080/"
    },
    "executionInfo": {
     "elapsed": 267,
     "status": "ok",
     "timestamp": 1642084555340,
     "user": {
      "displayName": "Николай Смирнов",
      "photoUrl": "https://lh3.googleusercontent.com/a/default-user=s64",
      "userId": "05792503510966078252"
     },
     "user_tz": -180
    },
    "id": "WXKMQsyHPQCi",
    "outputId": "55742d8e-9633-4dff-e638-9f9101fbba4a"
   },
   "outputs": [],
   "source": [
    "my_dict = {\"first\":\"soup\", \"second\":\"meat\", \"third\":\"tea\"}\n",
    "my_list = [[i, my_dict[i]] for i in my_dict]\n",
    "print(my_list) "
   ]
  },
  {
   "cell_type": "markdown",
   "metadata": {
    "id": "NlOKBmaC8__3"
   },
   "source": [
    "<a name=\"exercise_3\"></a>\n",
    "## Ответ на задачу 3 (о нахождении цифр в строке в определенном диапазоне)\n",
    "\n",
    "\n"
   ]
  },
  {
   "cell_type": "code",
   "execution_count": null,
   "metadata": {
    "id": "Kyo02ih7PQCj"
   },
   "outputs": [],
   "source": [
    "initial_string = \"sfg34jkhf36h6k9gs9sfdg89gsfd7x5m5\"\n",
    "result_numbers = [int(i) for i in initial_string if ('1' <= i <= '3') or('5' <= i <= '7')]\n",
    "print(result_numbers) #[3, 3, 6, 6, 7, 5, 5]"
   ]
  }
 ],
 "metadata": {
  "colab": {
   "collapsed_sections": [
    "YSJvjLyfPQB5",
    "7dGxbSXTPQB-",
    "qNK-424rPQCC",
    "Dwjdli5IPQCK",
    "VZZDWgMMPQCQ",
    "Va8E6Wn-PQCZ",
    "87rV0fn1PQCf",
    "K7vk2mb26tab",
    "oeFnmGy08tYA",
    "NlOKBmaC8__3"
   ],
   "name": "15_итераторы_и_генераторы.ipynb",
   "provenance": []
  },
  "kernelspec": {
   "display_name": "Python 3",
   "language": "python",
   "name": "python3"
  },
  "language_info": {
   "codemirror_mode": {
    "name": "ipython",
    "version": 3
   },
   "file_extension": ".py",
   "mimetype": "text/x-python",
   "name": "python",
   "nbconvert_exporter": "python",
   "pygments_lexer": "ipython3",
   "version": "3.8.8"
  }
 },
 "nbformat": 4,
 "nbformat_minor": 4
}
