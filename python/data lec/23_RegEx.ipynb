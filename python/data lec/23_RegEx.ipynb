{
 "cells": [
  {
   "cell_type": "markdown",
   "metadata": {
    "id": "buKYsxvSXGjM"
   },
   "source": [
    "# Регулярные выражения (РВ) RegEx"
   ]
  },
  {
   "cell_type": "markdown",
   "metadata": {
    "id": "d0MAv0ADXGjS"
   },
   "source": [
    "# Основные понятия"
   ]
  },
  {
   "cell_type": "markdown",
   "metadata": {
    "id": "_HiPovORXGjT"
   },
   "source": [
    "Модуль регулярных выражений в ***python***. Использует синтаксис регулярных выражений похожий на **perl**.\n",
    "\n",
    "Документация: https://docs.python.org/3/library/re.html\n",
    "\n",
    "Основные задачи:\n",
    "- поиск в строке\n",
    "- разбиение строки на подстроки\n",
    "- замена части строки\n",
    "\n",
    "Импорт модуля регулярных выражений:"
   ]
  },
  {
   "cell_type": "code",
   "execution_count": null,
   "metadata": {
    "id": "1xmeCKNI6xXL"
   },
   "outputs": [],
   "source": [
    "import re  "
   ]
  },
  {
   "cell_type": "markdown",
   "metadata": {
    "id": "PQRwBdyoXGjU"
   },
   "source": [
    "**Escape-последовательности** (управляющие символы) - это последовательности вида: *`\"\\n\"`*, *`\"\\t\"`* и т. п.\n",
    "\n",
    "Обратите внимание: **r** перед началом строки означает, что строка является сырой. **Escape-последовательности** в таких строках воспринимаются как обычные символы, поэтому *`\"\\n\"`*, *`\"\\t\"`* и т. п. не заменяются на *перенос строки* и *табуляцию* соответственно."
   ]
  },
  {
   "cell_type": "code",
   "execution_count": null,
   "metadata": {
    "colab": {
     "base_uri": "https://localhost:8080/"
    },
    "executionInfo": {
     "elapsed": 5,
     "status": "ok",
     "timestamp": 1643696909632,
     "user": {
      "displayName": "Николай Смирнов",
      "photoUrl": "https://lh3.googleusercontent.com/a/default-user=s64",
      "userId": "05792503510966078252"
     },
     "user_tz": -180
    },
    "id": "Ullu7ZXvXGjV",
    "outputId": "d4ea615d-a1f7-4068-b5f2-4358977fcf01"
   },
   "outputs": [],
   "source": [
    "print('1.Hello\\nworld!')  # Управляющие символы заменяются на соответствующие им действия\n",
    "print(r'2.Hello\\nworld')  # Управляющие символы не распознаются как таковые"
   ]
  },
  {
   "cell_type": "markdown",
   "metadata": {
    "id": "X2Wp5inyXGjX"
   },
   "source": [
    "Приведем пример применеения регулярного выражения. Механизм работы будет объяснен ниже, сейчас необходимо просто увидеть эффект от применения регулярных выражений. <br>\n",
    "Имеется строка \"fdkfghl jh 968 sdfg s98679s 976 sdfg 689\". Необходимо из нее вычленить все цифры. Сделать это можно с помощью регулярных выражений."
   ]
  },
  {
   "cell_type": "code",
   "execution_count": null,
   "metadata": {
    "colab": {
     "base_uri": "https://localhost:8080/"
    },
    "executionInfo": {
     "elapsed": 10,
     "status": "ok",
     "timestamp": 1643893021530,
     "user": {
      "displayName": "Николай Смирнов",
      "photoUrl": "https://lh3.googleusercontent.com/a/default-user=s64",
      "userId": "05792503510966078252"
     },
     "user_tz": -180
    },
    "id": "JprUl2TgXGjY",
    "outputId": "456773bc-8e27-4307-aacd-dba6781bb7e2"
   },
   "outputs": [],
   "source": [
    "a = \"fdkfghl jh 968 sdfg s98679s 976 sdfg 689\"  # Исходная строка\n",
    "result = re.findall(r'\\d', a)  # Функция поиска в строке\n",
    "print(result)"
   ]
  },
  {
   "cell_type": "markdown",
   "metadata": {
    "id": "fO0bBK3FXGjZ"
   },
   "source": [
    "Ниже приведена [Таблица управляющих символов](https://ru.wikipedia.org/wiki/%D0%9F%D0%B5%D1%80%D0%B5%D0%BD%D0%BE%D1%81%D0%B8%D0%BC%D1%8B%D0%B9_%D0%BD%D0%B0%D0%B1%D0%BE%D1%80_%D1%81%D0%B8%D0%BC%D0%B2%D0%BE%D0%BB%D0%BE%D0%B2), из которой наиболее часто используемыми символами являются `\\n`, `\\t`:\n",
    "\n",
    "|Экранировананя последовательность|Назначение|\n",
    "| --- | --- |\n",
    "| `\\\\` | `\\` |\n",
    "| `\\n` | Перевод строки |\n",
    "| `\\a` | Звонок, alert |\n",
    "| `\\b` | Забой, backspace |\n",
    "| `\\f` | Перевод страницы |\n",
    "| `\\r` | Возврат каретки |\n",
    "| `\\t` | Горизонтальная табуляция |\n",
    "| `\\v` | Вертикальная табуляция |\n",
    "| `\\N{id}` | Идентификатор ID базы данных Юникода |\n",
    "| `\\uhhhh...` | 16-битовый символ Юникода в 16-ричном представлении |\n",
    "| `\\Uhhhh...` | 32-битовый символ Юникода в 32-ричном представлении |\n",
    "| `\\xhh` | 16-ричное значение символа |\n",
    "| `\\ooo` | 8-ричное значение символа |\n",
    "| `\\0` | Символ Null (не является признаком конца строки) |"
   ]
  },
  {
   "cell_type": "markdown",
   "metadata": {
    "id": "BdNz7kU5XGja"
   },
   "source": [
    "Обратите внимание на необходимость экранировать `\\`, если этот символ стоит последним в строке. Если этого не сделать, то произойдет попытка экранировать кавычку (или двойные кавычки, в зависимости от того, что именно вы будете использовать в своем коде) и возникнет ошибка отсутствия конца строки."
   ]
  },
  {
   "cell_type": "markdown",
   "metadata": {
    "id": "3KbpSkfUXGjb"
   },
   "source": [
    "Такая ошибка может возникнуть если вы работаете с путями в ОС Windows, так там используются обратные слеши в качестве разделителей директорий."
   ]
  },
  {
   "cell_type": "code",
   "execution_count": null,
   "metadata": {
    "colab": {
     "base_uri": "https://localhost:8080/",
     "height": 136
    },
    "executionInfo": {
     "elapsed": 432,
     "status": "error",
     "timestamp": 1643697094706,
     "user": {
      "displayName": "Николай Смирнов",
      "photoUrl": "https://lh3.googleusercontent.com/a/default-user=s64",
      "userId": "05792503510966078252"
     },
     "user_tz": -180
    },
    "id": "OzNpYBdlXGjb",
    "outputId": "3f2b9530-6b35-40b9-aa6b-6bf30b42a480",
    "scrolled": true
   },
   "outputs": [],
   "source": [
    "# Пример ошибки из-за экранирования кавычки\n",
    "a = r'\\'"
   ]
  },
  {
   "cell_type": "code",
   "execution_count": null,
   "metadata": {
    "colab": {
     "base_uri": "https://localhost:8080/",
     "height": 136
    },
    "executionInfo": {
     "elapsed": 306,
     "status": "error",
     "timestamp": 1643697101730,
     "user": {
      "displayName": "Николай Смирнов",
      "photoUrl": "https://lh3.googleusercontent.com/a/default-user=s64",
      "userId": "05792503510966078252"
     },
     "user_tz": -180
    },
    "id": "I2IfyGhUXGjb",
    "outputId": "55143abb-415a-421d-c8b8-a23274a407e5"
   },
   "outputs": [],
   "source": [
    "# Еще один пример ошибки из-за экранирования кавычки\n",
    "a = r'C:\\folder\\'   "
   ]
  },
  {
   "cell_type": "markdown",
   "metadata": {
    "id": "a1F-EGd8-8Cl"
   },
   "source": [
    "В таких случайях необходимо экранировать обратный слеш."
   ]
  },
  {
   "cell_type": "code",
   "execution_count": null,
   "metadata": {
    "id": "VKcMcVEzXGjc"
   },
   "outputs": [],
   "source": [
    "a = r'\\\\'  # Данный код отработает корректно из-за того, что обратный слеш экранирован\n",
    "a = r'C:\\\\folder\\\\'  # Данный код также отработает корректно по той же причине"
   ]
  },
  {
   "cell_type": "markdown",
   "metadata": {
    "id": "mf7ITRr8XGjc"
   },
   "source": [
    "Шаблоны для использования в регулярных выражениях строятся с помощью **операторов**.\n",
    "\n",
    "| Оператор | Описание |\n",
    "| --- | --- |\n",
    "| `[...]` | Один из символов в скобках |\n",
    "| `[0-9]` | Любая цифра|\n",
    "| `[A-Z]` | Любая заглавная буква латинского алфавита |\n",
    "| `[a-z]` | Любая строчная буква латинского алфавита |\n",
    "| `[А-Я]` и `[а-я]` | Аналогично для букв кириллицы (кроме букв Ё и ё) |\n",
    "| `[А-ЯЁ]` и `[а-яё]` | Аналогично для букв кириллицы (с буквами Ё и ё) |\n",
    "| `[А-ЯЁа-яё]` | Все буквы кириллицы |\n",
    "| `[^..]` | Любой символ, кроме тех, что в скобках |\n",
    "| `\\w` | Любая цифра или буква или _ (эквивалент `[a-zA-Zа-яёА-ЯЁ0-9_]`) |\n",
    "| `\\W` | Все, кроме буквы, цифры, _  (эквивалент `[^a-zA-Zа-яёА-ЯЁ0-9_]`) |\n",
    "| `\\d` | Любая цифра (эквивалент `[0-9]`) |\n",
    "| `\\D` | Все, кроме цифры (эквивалент `[^0-9]`) |\n",
    "| `\\s` | Любой пробельный символ (эквивалент `[ \\t\\n\\r\\f\\v]`) |\n",
    "| `\\S` | Любой непробельный символ (эквивалент `[^ \\t\\n\\r\\f\\v]`) |\n",
    "| `\\b` | Граница \"слова\". Начало или конец слова (слева пусто или не-буква, справа буква и наоборот). Соответствует позиции, а не символу|\n",
    "| `\\B` | Не граница слова: либо и слева и справа буквы, либо и слева и справа НЕ буквы.|\n",
    "| `.`  | Один любой символ, кроме новой строки \\n. |\n",
    "| `?`  | 0 или 1 вхождение шаблона слева |\n",
    "| `+`  | 1 и более вхождений шаблона слева |\n",
    "| `*`  | 0 и более вхождений шаблона слева |\n",
    "| `\\`  | Экранирование специальных символов (`\\.` означает точку или `\\+` — знак \"плюс\") |\n",
    "| `^`  | Начало строки |\n",
    "| `$` | Конец строки |\n",
    "| `{n}` | Ровно n вхождений (повторений). |\n",
    "| `{n,m}` | От n до m вхождений (повторений). |\n",
    "|`{n,}`| Не менее n вхождений (повторений). |\n",
    "|`{,m}`| Не более m вхождений (повторений). |\n",
    "| `()` | Группирует выражение и возвращает найденный текст |\n",
    "| `\\t` | Символ табуляции |\n",
    "| `\\n` | Символ  новой строки |\n",
    "| `\\r` | Символ возврата каретки |\n",
    "| `[abc-]`, `[-1]`| Минус нужно указывать последним или первым |\n",
    "| `[*[(+\\\\\\]\\t]` | внутри скобок нужно экранировать только символы `]` и `\\` |\n",
    "| Ленивые квантификаторы   |По умолчанию квантификаторы \"жадные\" и захватывают максимально возможное количество символов. Добавление ? делает их \"ленивыми\", в результате они захватывают минимально возможное число символов.|\n",
    "|`*?`    |0 и более вхождений шаблона слева.  Находит подстроки минимальной длинный, которые удовлетворяют шаблону.\n",
    "|`+?`    |1 и более вхождений шаблона слева. Находит подстроки минимальной длинный, которые удовлетворяют шаблону.|\n",
    "|`??`    |0 или 1 вхождение шаблона слева. Находит подстроки минимальной длинный, которые удовлетворяют шаблону.|\n",
    "|`{n,m}?`|От n до m вхождений (повторений). Находит подстроки  минимальной длинный, которые удовлетворяют шаблону.|\n",
    "|`{,m}?` |Не более m вхождений (повторений). Находит подстроки  минимальной длинный, которые удовлетворяют шаблону.|\n",
    "|`{n,}?` |Не менее n вхождений (повторений). Находит подстроки  минимальной длинный, которые удовлетворяют шаблону.|"
   ]
  },
  {
   "cell_type": "markdown",
   "metadata": {
    "id": "7v4REybE7QUb"
   },
   "source": [
    "`a | b`  Соответствует a или b "
   ]
  },
  {
   "cell_type": "markdown",
   "metadata": {
    "id": "BIztsjFoXGjd"
   },
   "source": [
    "Для разбора дальнейших символов в регулярных выражениях, создадим небольшой набор слов (не очень осмысленный, но удобный):\n",
    "\n",
    "     хах, хех, хаааа, xaxa\n",
    "     \n",
    "* Знак `.` соответствует одному любому символу в строке. Так, регулярное выражение `x.x` \"поймает\" слова *хах* и *хех*.\n",
    "* Знак `+` соответствует одному или более вхождению символа(ов), который стоит слева от `+`. Выражение `xa+` \"поймает\" слова *xa* и *хаааа*.\n",
    "* Знак `*` соответствует нулю или более вхождениям символа, который стоит слева от `*`.  Выражение `xaх*`  \"поймает\" слова *xa* и *хах*.\n",
    "* Знак `?` соответствует нулю или одному вхождению символа, который стоит слева от `?`.  Выражение `xa?`  \"поймает\" все последовательности *xa* и буквы *x*.     "
   ]
  },
  {
   "cell_type": "markdown",
   "metadata": {
    "id": "yYUWMhc2oXyT"
   },
   "source": [
    "## Жадные и ленивые квантификаторы\n",
    "Предположим, что у нас есть текст, в котором присутствуют html-теги. <br>\n",
    "Мы хотим вынести список тегов в отдельный объект.<br>\n",
    "Давайте попробуем это сделать обычным способом:"
   ]
  },
  {
   "cell_type": "code",
   "execution_count": null,
   "metadata": {
    "colab": {
     "base_uri": "https://localhost:8080/"
    },
    "executionInfo": {
     "elapsed": 306,
     "status": "ok",
     "timestamp": 1643893278321,
     "user": {
      "displayName": "Николай Смирнов",
      "photoUrl": "https://lh3.googleusercontent.com/a/default-user=s64",
      "userId": "05792503510966078252"
     },
     "user_tz": -180
    },
    "id": "Imei-UxHowMJ",
    "outputId": "4239bd07-d347-403c-b586-77a50e58c80e"
   },
   "outputs": [],
   "source": [
    "text = \"<html><head></head><body><a>Ссылка 1</a><a>Ссылка 2</a>\"  # Текст, в котором будем искать ссылки\n",
    "reg_exp = r'<a>.+</a>'  # Регулярное выражение для поиска ссылок. Шаблон: <a>*здесь какой-то текст</a>\n",
    "result = re.findall(reg_exp, text)  # Функция для нахождения всех шаблонов в тексте\n",
    "print(result) \n",
    "print(len(result[0]))  # Нашелся один объект! А ссылок 2!"
   ]
  },
  {
   "cell_type": "markdown",
   "metadata": {
    "id": "fYSF-SBSp0wI"
   },
   "source": [
    "Конфуз произошел из-за того, что по умолчанию в шаблон включается как можно больше символов (квантификаторы по умолчанию являются *жадными*). В частности, когда поиск обнаружил левую часть \\<a>, он начал включать все последующие символы в результат до тех пор, пока это было возможно. То есть до последнего вхождения в строку правой части шаблона \\</a>.<br>\n",
    "Чтобы избежать этого и найти все ссылки, нам необходимо использовать *ленивые* квантификаторы, то есть такие, которые будут добавлять найденный шаблон и переходить к поиску следующего сразу, как только это возможно.<br>\n",
    "Для этого добавим символ *?* в наше регулярное выражение."
   ]
  },
  {
   "cell_type": "code",
   "execution_count": null,
   "metadata": {
    "colab": {
     "base_uri": "https://localhost:8080/"
    },
    "executionInfo": {
     "elapsed": 278,
     "status": "ok",
     "timestamp": 1643708709650,
     "user": {
      "displayName": "Григорий Рего",
      "photoUrl": "https://lh3.googleusercontent.com/a/default-user=s64",
      "userId": "17666688826286004808"
     },
     "user_tz": -180
    },
    "id": "2qcyJSRvq9mC",
    "outputId": "6b41a20d-c800-4d2f-b7b8-ecdc7c29b732"
   },
   "outputs": [],
   "source": [
    "text = \"<html><head></head><body><a>Ссылка 1</a><a>Ссылка 2</a>\"  # Текст, в котором будем искать ссылки\n",
    "reg_exp = r'<a>.+?</a>'  # Регулярное выражение для поиска ссылок. Шаблон: <a>*здесь какой-то текст</a>\n",
    "result = re.findall(reg_exp, text)  # Функция для нахождения всех шаблонов в тексте\n",
    "print(result) \n",
    "print(len(result))  # Нашлись обе ссылки!"
   ]
  },
  {
   "cell_type": "markdown",
   "metadata": {
    "id": "Zj_vQ5J8_PiK"
   },
   "source": [
    "В примере также ниже приведены результаты применения жадных и лекнивых квантифкаторов:"
   ]
  },
  {
   "cell_type": "code",
   "execution_count": null,
   "metadata": {
    "colab": {
     "base_uri": "https://localhost:8080/"
    },
    "executionInfo": {
     "elapsed": 304,
     "status": "ok",
     "timestamp": 1643898791784,
     "user": {
      "displayName": "Николай Смирнов",
      "photoUrl": "https://lh3.googleusercontent.com/a/default-user=s64",
      "userId": "05792503510966078252"
     },
     "user_tz": -180
    },
    "id": "J7jjoVYO_ZPM",
    "outputId": "15d68760-633b-40ec-e041-6d5e330bdec6"
   },
   "outputs": [],
   "source": [
    "print('Жадный квантификатор:', re.findall('\\d{2,5}', '123456789'))\n",
    "print('Ленивый квантификатор:', re.findall('\\d{2,5}?', '123456789'))"
   ]
  },
  {
   "cell_type": "markdown",
   "metadata": {
    "id": "rNHW8lbvXGjd"
   },
   "source": [
    "## Группировка операторов (?:...)"
   ]
  },
  {
   "cell_type": "markdown",
   "metadata": {
    "id": "xFbYHWCeXGje"
   },
   "source": [
    "Шаблон может состоять из нескольких повторяющихся групп. Например, [MAC-адрес](https://ru.wikipedia.org/wiki/MAC-%D0%B0%D0%B4%D1%80%D0%B5%D1%81) устройства записывается как шесть групп из двух шестнадцатиричных цифр, разделённых символами `-` или `:`. Например, 01:23:45:67:89:ab. Каждый отдельный символ можно задать как [0-9a-fA-F], а весь шаблон записать как:\n",
    "\n",
    "`[0-9a-fA-F]{2}[:-][0-9a-fA-F]{2}[:-][0-9a-fA-F]{2}[:-][0-9a-fA-F]{2}[:-][0-9a-fA-F]{2}[:-][0-9a-fA-F]{2}`\n",
    "\n",
    "\n",
    "Что делать, если количество групп заранее неизвестно?<br>\n",
    "Решением является группировка **(?:...)**. Можно писать круглые скобки и без значков **?:**, однако от этого у группировки значительно меняется смысл, регулярное выражение начинает работать гораздо медленнее. Итак, если **REGEXP** — шаблон, то (**?:REGEXP**) — эквивалентный ему шаблон. Разница только в том, что к (**?:REGEXP**) можно применять квантификаторы, указывая, сколько именно раз должна повториться группа. Например, шаблон для поиска MAC-адреса, можно записать так:[0-9a-fA-F]{2}(?:[:-][0-9a-fA-F]{2}){5}"
   ]
  },
  {
   "cell_type": "markdown",
   "metadata": {
    "id": "ttZMWeTb_8lH"
   },
   "source": [
    "Реализуем на практике поиск MAC-адреса в строке по шаблону `r'[0-9a-fA-F]{2}(?:[:-][0-9a-fA-F]{2}){5}'`. Функция `findall()` будет объяснена немного позже."
   ]
  },
  {
   "cell_type": "code",
   "execution_count": null,
   "metadata": {
    "colab": {
     "base_uri": "https://localhost:8080/"
    },
    "executionInfo": {
     "elapsed": 305,
     "status": "ok",
     "timestamp": 1643893512313,
     "user": {
      "displayName": "Николай Смирнов",
      "photoUrl": "https://lh3.googleusercontent.com/a/default-user=s64",
      "userId": "05792503510966078252"
     },
     "user_tz": -180
    },
    "id": "zEe9CsULXGje",
    "outputId": "02dd4ab6-7913-47a6-8f40-c07c39560f73"
   },
   "outputs": [],
   "source": [
    "MAC_address_and_trash = \"xghdgfbdfgbsfgngn01:23:45:67:89:abvbsdfvdfvsdfvsfv\"\n",
    "print(re.findall(r'[0-9a-fA-F]{2}(?:[:-][0-9a-fA-F]{2}){5}', MAC_address_and_trash))"
   ]
  },
  {
   "cell_type": "markdown",
   "metadata": {
    "id": "hUf0ios7XGje"
   },
   "source": [
    "Cкобки (?:...) позволяют локализовать часть шаблона, внутри которого происходит перечисление. <br> Например, шаблон (?:он|тот) (?:шёл|плыл) соответствует каждой из строк «он шёл», «он плыл», «тот шёл», «тот плыл», и является синонимом он шёл|он плыл|тот шёл|тот плыл."
   ]
  },
  {
   "cell_type": "markdown",
   "metadata": {
    "id": "psw2cYGyXGjf"
   },
   "source": [
    "|Шаблон|Применяем к тексту|\n",
    "| --- | --- |\n",
    "| `(?:\\w\\w\\d\\d)+` | Есть м`иг29`а, `ту15`4б. Некоторые делают даже м`иг29ту15`4`ил86`. |\n",
    "| `(?:\\w+\\d+)+` |Есть `миг29`а, `ту154`б. Некоторые делают даже `миг29ту154ил86`. |\n",
    "| `(?:[Хх][аоеи]+)+` |Му`ха` — `хахахехо`, ну `хааахооохе`, да `хахахехохииии`! `Ха`м трамвайный. |\n",
    "| `\\b(?:[Хх][аоеи]+)+\\b` | Муха — `хахахехо`, ну `хааахооохе`, да `хахахехохииии`! Хам трамвайный. |\n"
   ]
  },
  {
   "cell_type": "markdown",
   "metadata": {
    "id": "minsAfDXAWSm"
   },
   "source": [
    "Импортируем модуль регулярных выражений в Python:"
   ]
  },
  {
   "cell_type": "code",
   "execution_count": null,
   "metadata": {
    "id": "VBIS4F6gXGjf"
   },
   "outputs": [],
   "source": [
    "import re  "
   ]
  },
  {
   "cell_type": "markdown",
   "metadata": {
    "id": "oZFQlLTM7seL"
   },
   "source": [
    "###Задача 1\n",
    "В качестве упражнения реализуйте группировку операторов таким образом, чтобы можно было распознать любое из следующих словосочетаний: \"спортсмен бежит\", \"человек бежит\", \"медведь бежит\", \"спортсмен проснулся\", \"человек проснулся\", \"медведь проснулся\".  <br>\n",
    "Для поиска воспользуйтесь функцией findall (инфорамция о которой далее в блокноте):<br>\n",
    "re.findall(r'*ваше регурное выражение*', **example_string (строка в которой производим поиск)**)<br>\n",
    "В качестве example_string инициализируйте следующий текст: \"*Когда наступила весна, медведь проснулся, вылез из берлоги и увидел, как спортсмен бежит*\".<br>\n",
    "Результат поиска выведите на экран."
   ]
  },
  {
   "cell_type": "code",
   "execution_count": null,
   "metadata": {
    "id": "bsQrLUQVPQCB"
   },
   "outputs": [],
   "source": [
    "# Напишите свой код в данной ячейке\n"
   ]
  },
  {
   "cell_type": "markdown",
   "metadata": {
    "id": "L0WZoJm59fFE"
   },
   "source": [
    "[Посмотреть ответ на задачу](#exercise_1)"
   ]
  },
  {
   "cell_type": "markdown",
   "metadata": {
    "id": "3WM3hRlJ9g-S"
   },
   "source": [
    "# Методы модуля re:"
   ]
  },
  {
   "cell_type": "markdown",
   "metadata": {
    "id": "GwX-LOV_XGjf"
   },
   "source": [
    "## re.match(pattern, string)\n",
    "Метод `match()` ищет заданный шаблон в **начале** строки. \n",
    "Если применить метод `match()` на строке *AV Analytics AV* с шаблоном *AV*, то он завершится успешно, т. е. искомая подстрока найдена."
   ]
  },
  {
   "cell_type": "code",
   "execution_count": null,
   "metadata": {
    "colab": {
     "base_uri": "https://localhost:8080/"
    },
    "executionInfo": {
     "elapsed": 8,
     "status": "ok",
     "timestamp": 1643893817052,
     "user": {
      "displayName": "Николай Смирнов",
      "photoUrl": "https://lh3.googleusercontent.com/a/default-user=s64",
      "userId": "05792503510966078252"
     },
     "user_tz": -180
    },
    "id": "8rcWhLbIXGjf",
    "outputId": "f0c1974e-86fd-4986-e157-090750b63dcb"
   },
   "outputs": [],
   "source": [
    "result = re.match(r'AV', 'AV Analytics Vidha AV')\n",
    "print('Результат работы: ', result)\n",
    "print('Найденая подстрока: ', result.group())  # group возвращает ту часть строки, где было совпадение с шаблоном\n",
    "print('Номер первого найденного символа: ', result.start())\n",
    "print('Длина строки', result.end())"
   ]
  },
  {
   "cell_type": "markdown",
   "metadata": {
    "id": "VW7DNOisA1dr"
   },
   "source": [
    "`re.match` ищет только **с начала** строки"
   ]
  },
  {
   "cell_type": "code",
   "execution_count": null,
   "metadata": {
    "colab": {
     "base_uri": "https://localhost:8080/"
    },
    "executionInfo": {
     "elapsed": 362,
     "status": "ok",
     "timestamp": 1643893880454,
     "user": {
      "displayName": "Николай Смирнов",
      "photoUrl": "https://lh3.googleusercontent.com/a/default-user=s64",
      "userId": "05792503510966078252"
     },
     "user_tz": -180
    },
    "id": "25ZvD4cVXGjg",
    "outputId": "07df6f36-b684-461d-ad7f-9f355c821b11"
   },
   "outputs": [],
   "source": [
    "print(re.match(r'Analytics', 'AV Analytics Vidha AV'))"
   ]
  },
  {
   "cell_type": "markdown",
   "metadata": {
    "id": "4swPWwz1XGjg"
   },
   "source": [
    "Так происходит потому, что match сравнивает шаблон и строку **посимвольно**, начиная с первого символа, и при первом несовпадении возвращает None."
   ]
  },
  {
   "cell_type": "markdown",
   "metadata": {
    "id": "TQddZmcNXGjg"
   },
   "source": [
    "## re.search(pattern, string)\n",
    "Метод search ищет шаблон во **всей** строке, но возвращает только **первое** совпадение."
   ]
  },
  {
   "cell_type": "code",
   "execution_count": null,
   "metadata": {
    "colab": {
     "base_uri": "https://localhost:8080/"
    },
    "executionInfo": {
     "elapsed": 651,
     "status": "ok",
     "timestamp": 1643893907677,
     "user": {
      "displayName": "Николай Смирнов",
      "photoUrl": "https://lh3.googleusercontent.com/a/default-user=s64",
      "userId": "05792503510966078252"
     },
     "user_tz": -180
    },
    "id": "9vvzdbvVXGjg",
    "outputId": "53e395e1-6a5c-41a3-d9e4-80477b4ebbbd"
   },
   "outputs": [],
   "source": [
    "result = re.search(r'Analytics', 'AV Analytics Vidha AV')  # Ищет шаблон во всей строке\n",
    "print(result.group())"
   ]
  },
  {
   "cell_type": "markdown",
   "metadata": {
    "id": "ek3yI_OaXGjg"
   },
   "source": [
    "## .group() - Использование групп"
   ]
  },
  {
   "cell_type": "code",
   "execution_count": null,
   "metadata": {
    "colab": {
     "base_uri": "https://localhost:8080/"
    },
    "executionInfo": {
     "elapsed": 313,
     "status": "ok",
     "timestamp": 1643893991362,
     "user": {
      "displayName": "Николай Смирнов",
      "photoUrl": "https://lh3.googleusercontent.com/a/default-user=s64",
      "userId": "05792503510966078252"
     },
     "user_tz": -180
    },
    "id": "e_Ly3fCLXGjh",
    "outputId": "74566294-78f6-4d64-959b-68aa8e997517"
   },
   "outputs": [],
   "source": [
    "print(re.search(r'(a).(b)','a&b').group(0))  # a&b\n",
    "print(re.search(r'(a).(b)','a&b').group(1))  # a\n",
    "print(re.search(r'(a).(b)','a&b').group(2))  # b\n",
    "print(re.search(r'(a).(b)','a&b').groups())  # ('a', 'b')"
   ]
  },
  {
   "cell_type": "markdown",
   "metadata": {
    "id": "CszBGpGEXGjh"
   },
   "source": [
    "**group(0)** возвращает совпадение по всему шаблону. <br>\n",
    "**group(1)** возвращает совпадение по первому элементу шаблона (в скобках). <br>\n",
    "**group(2)** возвращает совпадение по элементу шаблона (в скобках). <br>\n",
    "**groups()** возвращает все совпадения по всем элементам шаблона, начиная с единицы."
   ]
  },
  {
   "cell_type": "markdown",
   "metadata": {
    "id": "AoJZdSt7BXeb"
   },
   "source": [
    "**Пример:**"
   ]
  },
  {
   "cell_type": "code",
   "execution_count": null,
   "metadata": {
    "colab": {
     "base_uri": "https://localhost:8080/"
    },
    "executionInfo": {
     "elapsed": 321,
     "status": "ok",
     "timestamp": 1643894047597,
     "user": {
      "displayName": "Николай Смирнов",
      "photoUrl": "https://lh3.googleusercontent.com/a/default-user=s64",
      "userId": "05792503510966078252"
     },
     "user_tz": -180
    },
    "id": "6E0H6DQOXGjh",
    "outputId": "b6c1cdd1-a974-4284-b87f-f2637994d8e6"
   },
   "outputs": [],
   "source": [
    "# Инициализируем пример шапки письма по email\n",
    "a = '''\n",
    "From: s3nd3r@example.com\n",
    "To: me@example.com\n",
    "Text: Hello, my dear friend!\n",
    "'''\n",
    "\n",
    "# Сохраняем результат поиска по шаблону в b\n",
    "b = re.search('From: (\\w+\\@\\w+.\\w+)\\nTo: (\\w+\\@\\w+.\\w+)\\nText: ([\\w\\s,.!?]+)', a)\n",
    "\n",
    "# Если найден какой-то результат, на экран выведутся совпадения по шаблонам\n",
    "# Иначе выведется надпись о том, что ничего не найдено\n",
    "print(b.groups()) if b is not None else print('Nothing found')"
   ]
  },
  {
   "cell_type": "markdown",
   "metadata": {
    "id": "thb9wP9GhM25"
   },
   "source": [
    "###Задача 2\n",
    "В качестве упражнения реализуйте поиск (с помощью `search()`) в строке формата **Фамилия имя человека - номер телефона**.<br>\n",
    "Шаблон РВ должен быть таким:\"(*какое-то выражение*)-(*какое-то выражение*)\". <br>\n",
    "Например: \"Добрый день! Высылаю контакты писателя: Пушкин Александр - 89210000000\".<br>\n",
    "Выведите результат на экран с помощью `group()` в формате:<br> **Фамилия имя человека:номер телефона**"
   ]
  },
  {
   "cell_type": "code",
   "execution_count": null,
   "metadata": {
    "id": "a1QX2RGahM25"
   },
   "outputs": [],
   "source": [
    "# Напишите свой код в данной ячейке\n"
   ]
  },
  {
   "cell_type": "markdown",
   "metadata": {
    "id": "zjeXa5Y0hM26"
   },
   "source": [
    "[Посмотреть ответ на задачу](#exercise_2)"
   ]
  },
  {
   "cell_type": "markdown",
   "metadata": {
    "id": "ZC5pTP7HXGji"
   },
   "source": [
    "## re.findall(pattern, string)\n",
    "Возвращает список **всех** найденных совпадений.\n",
    "\n",
    "В отличие от предыдущих функций, метод возвращает список с найденными подстроками.\n",
    "\n",
    "**Пример.** Ищем все вхождения подстроки 'AV' в нашей строке:"
   ]
  },
  {
   "cell_type": "code",
   "execution_count": null,
   "metadata": {
    "colab": {
     "base_uri": "https://localhost:8080/"
    },
    "executionInfo": {
     "elapsed": 314,
     "status": "ok",
     "timestamp": 1643894103862,
     "user": {
      "displayName": "Николай Смирнов",
      "photoUrl": "https://lh3.googleusercontent.com/a/default-user=s64",
      "userId": "05792503510966078252"
     },
     "user_tz": -180
    },
    "id": "UFaUDzUIXGji",
    "outputId": "10f396ff-ac4c-403e-b752-37ea25beeb21"
   },
   "outputs": [],
   "source": [
    "result = re.findall(r'AV', 'AV Analytics Vidha AV')  \n",
    "print(result)"
   ]
  },
  {
   "cell_type": "markdown",
   "metadata": {
    "id": "1Ow2NTf8CNEN"
   },
   "source": [
    "**Пример.** Буква A или V, за которой следует любой символ:"
   ]
  },
  {
   "cell_type": "code",
   "execution_count": null,
   "metadata": {
    "id": "HnrjKCxaXGji",
    "outputId": "77d6b4e2-dea0-47b8-9e94-483c1afe04dd"
   },
   "outputs": [],
   "source": [
    "result = re.findall(r'[AV].', 'AV Analytics Vidha AV')\n",
    "print(result)"
   ]
  },
  {
   "cell_type": "markdown",
   "metadata": {
    "id": "is68fLnVXGji"
   },
   "source": [
    "Создадим текст с разными датами:"
   ]
  },
  {
   "cell_type": "code",
   "execution_count": null,
   "metadata": {
    "colab": {
     "base_uri": "https://localhost:8080/",
     "height": 54
    },
    "executionInfo": {
     "elapsed": 498,
     "status": "ok",
     "timestamp": 1643894182538,
     "user": {
      "displayName": "Николай Смирнов",
      "photoUrl": "https://lh3.googleusercontent.com/a/default-user=s64",
      "userId": "05792503510966078252"
     },
     "user_tz": -180
    },
    "id": "xy9AwyIpXGji",
    "outputId": "7bbf8cd0-7442-41ec-bdfa-1ee637b6d080"
   },
   "outputs": [],
   "source": [
    "text = \"11 ноября 2010 года произошло удивительное событие. А 12 ноября 2012 - еще удивительнее. Является секретом, что произошло 12 декабря 2011 года и 24 декабря 2012 года.\"\n",
    "text"
   ]
  },
  {
   "cell_type": "markdown",
   "metadata": {
    "id": "Z5ZxyMmnXGjj"
   },
   "source": [
    "Напишем РВ (регулярное выражение), которое будет соответствовать всем цифрам (не числам) в тексте, и найдем их все в text с помощью функции findall()."
   ]
  },
  {
   "cell_type": "code",
   "execution_count": null,
   "metadata": {
    "colab": {
     "base_uri": "https://localhost:8080/"
    },
    "executionInfo": {
     "elapsed": 318,
     "status": "ok",
     "timestamp": 1643894203762,
     "user": {
      "displayName": "Николай Смирнов",
      "photoUrl": "https://lh3.googleusercontent.com/a/default-user=s64",
      "userId": "05792503510966078252"
     },
     "user_tz": -180
    },
    "id": "Pylcve1PXGjj",
    "outputId": "06cb0897-d51d-4c0b-b191-71d5e0e48704"
   },
   "outputs": [],
   "source": [
    "re.findall(\"\\d\", text)  # Поиск цифр в строке"
   ]
  },
  {
   "cell_type": "markdown",
   "metadata": {
    "id": "kYehvb25XGjj"
   },
   "source": [
    "Вместо \\d можно использовать [0-9]"
   ]
  },
  {
   "cell_type": "code",
   "execution_count": null,
   "metadata": {
    "colab": {
     "base_uri": "https://localhost:8080/"
    },
    "executionInfo": {
     "elapsed": 6,
     "status": "ok",
     "timestamp": 1643894217903,
     "user": {
      "displayName": "Николай Смирнов",
      "photoUrl": "https://lh3.googleusercontent.com/a/default-user=s64",
      "userId": "05792503510966078252"
     },
     "user_tz": -180
    },
    "id": "3htpKrcSXGjj",
    "outputId": "a138bf72-7fa6-4c8d-9d69-5213809ce073"
   },
   "outputs": [],
   "source": [
    "re.findall(\"[0-9]\", text)"
   ]
  },
  {
   "cell_type": "markdown",
   "metadata": {
    "id": "D4A4ysoTXGjj"
   },
   "source": [
    "Если нужны числа, то можно использовать символ +."
   ]
  },
  {
   "cell_type": "code",
   "execution_count": null,
   "metadata": {
    "colab": {
     "base_uri": "https://localhost:8080/"
    },
    "executionInfo": {
     "elapsed": 343,
     "status": "ok",
     "timestamp": 1643894228468,
     "user": {
      "displayName": "Николай Смирнов",
      "photoUrl": "https://lh3.googleusercontent.com/a/default-user=s64",
      "userId": "05792503510966078252"
     },
     "user_tz": -180
    },
    "id": "194G-WT8XGjj",
    "outputId": "feb8e768-6130-4388-ac27-899b9533f1ba"
   },
   "outputs": [],
   "source": [
    "re.findall(\"\\d+\", text)  # Поиск чисел в строке (а не отдельных цифр)"
   ]
  },
  {
   "cell_type": "markdown",
   "metadata": {
    "id": "oR_8F4p1XGjk"
   },
   "source": [
    "Для поиска сочетаний по 1-2 цифры нужно использовать символ `.`, который означает \"любой символ\"."
   ]
  },
  {
   "cell_type": "code",
   "execution_count": null,
   "metadata": {
    "colab": {
     "base_uri": "https://localhost:8080/"
    },
    "executionInfo": {
     "elapsed": 295,
     "status": "ok",
     "timestamp": 1643698044682,
     "user": {
      "displayName": "Николай Смирнов",
      "photoUrl": "https://lh3.googleusercontent.com/a/default-user=s64",
      "userId": "05792503510966078252"
     },
     "user_tz": -180
    },
    "id": "FBHwWy9AXGjk",
    "outputId": "1fb15f68-9871-432a-e482-4ec75c15941c"
   },
   "outputs": [],
   "source": [
    "re.findall(\"\\d.\", text)  # Числа из 1-2 цифр"
   ]
  },
  {
   "cell_type": "markdown",
   "metadata": {
    "id": "iZns_XNUXGjk"
   },
   "source": [
    "Использование `?` обеспечит выполнение условия: в подстроке либо есть ровно одна цифра, либо цифр нет. В результате получим:"
   ]
  },
  {
   "cell_type": "code",
   "execution_count": null,
   "metadata": {
    "id": "IK7YeE7cXGjk"
   },
   "outputs": [],
   "source": [
    "re.findall(\"\\d?\", text)  # По 1 символу"
   ]
  },
  {
   "cell_type": "markdown",
   "metadata": {
    "id": "zD2c51HCXGjk"
   },
   "source": [
    "#### Пример. Получить все годы в тексте:"
   ]
  },
  {
   "cell_type": "code",
   "execution_count": null,
   "metadata": {
    "colab": {
     "base_uri": "https://localhost:8080/"
    },
    "executionInfo": {
     "elapsed": 562,
     "status": "ok",
     "timestamp": 1643894301866,
     "user": {
      "displayName": "Николай Смирнов",
      "photoUrl": "https://lh3.googleusercontent.com/a/default-user=s64",
      "userId": "05792503510966078252"
     },
     "user_tz": -180
    },
    "id": "RZzY7Er4XGjk",
    "outputId": "a2e26657-ae28-450a-a2ef-965bec0d5455"
   },
   "outputs": [],
   "source": [
    "re.findall(\"\\d{4}\", text)  # Поиск четырех цифр подряд"
   ]
  },
  {
   "cell_type": "markdown",
   "metadata": {
    "id": "UOroBSNnXGjl"
   },
   "source": [
    "#### Пример. Создать РВ для получения дат целиком (с годами). \n",
    "\n",
    "Как выглядят даты в тексте? Сначала одна или две цифры, затем пробел и буквенное название месяца, далее пробел и четыре цифры (год)."
   ]
  },
  {
   "cell_type": "code",
   "execution_count": null,
   "metadata": {
    "colab": {
     "base_uri": "https://localhost:8080/"
    },
    "executionInfo": {
     "elapsed": 332,
     "status": "ok",
     "timestamp": 1643894366347,
     "user": {
      "displayName": "Николай Смирнов",
      "photoUrl": "https://lh3.googleusercontent.com/a/default-user=s64",
      "userId": "05792503510966078252"
     },
     "user_tz": -180
    },
    "id": "MKrcCbeTXGjl",
    "outputId": "220d30a6-7318-406f-b9dc-eed35c6d91d7"
   },
   "outputs": [],
   "source": [
    "re.findall(\"\\d+\\s[а-я]+\\s\\d{4}\", text)  # Попробуйте прочитать выражение. Ниже представлен разбор"
   ]
  },
  {
   "cell_type": "markdown",
   "metadata": {
    "id": "EMRbO9nBXGjl"
   },
   "source": [
    "\\d+ - одна или несколько цифр,<br>\n",
    "\\s - пробел,<br>\n",
    "**[а-я]+** - один или несколько буквенных символов,<br>\n",
    "\\s - пробел,<br>\n",
    "\\d{4} - четыре цифры."
   ]
  },
  {
   "cell_type": "markdown",
   "metadata": {
    "id": "1lJb1KaGXGjl"
   },
   "source": [
    "#### Пример. Из списка твитов отобрать те, что начинаются с `#я не могу`."
   ]
  },
  {
   "cell_type": "code",
   "execution_count": null,
   "metadata": {
    "id": "Vp586gMaXGjl"
   },
   "outputs": [],
   "source": [
    "twits = [\"#я не могу молчать\", \"#я не могу кричать\", \"#я не могу\", \"#я справлюсь\", \"я не могу молчать\",\n",
    "        \"#я не могу бездельничать\", \"#я все могу\", \"#с кем не бывает\"]"
   ]
  },
  {
   "cell_type": "code",
   "execution_count": null,
   "metadata": {
    "colab": {
     "base_uri": "https://localhost:8080/"
    },
    "executionInfo": {
     "elapsed": 4,
     "status": "ok",
     "timestamp": 1643894409039,
     "user": {
      "displayName": "Николай Смирнов",
      "photoUrl": "https://lh3.googleusercontent.com/a/default-user=s64",
      "userId": "05792503510966078252"
     },
     "user_tz": -180
    },
    "id": "OpCfYj2OXGjl",
    "outputId": "6e920752-28ec-4fcd-eba9-e136e9883488"
   },
   "outputs": [],
   "source": [
    "chosen = []  # Список для отобранных твитов\n",
    "\n",
    "for t in twits:\n",
    "    res = re.findall(\"#я не могу\", t)\n",
    "    if len(res) != 0:\n",
    "        chosen.append(t)  # Добавляем именно t, а не res, т. к. добавляем твит полностью\n",
    "print(chosen)"
   ]
  },
  {
   "cell_type": "markdown",
   "metadata": {
    "id": "B8mQkYuLXGjl"
   },
   "source": [
    "Рассмотрим задачу, где необходимо применить экранирование. Дана строка с данными:"
   ]
  },
  {
   "cell_type": "code",
   "execution_count": null,
   "metadata": {
    "id": "J-sfYetkXGjm"
   },
   "outputs": [],
   "source": [
    "data = '20.05.1963, 55, 12.12.2000, 17, 15/15/1111'"
   ]
  },
  {
   "cell_type": "markdown",
   "metadata": {
    "id": "Qhh1BlS0XGjm"
   },
   "source": [
    "Нужно выбрать из нее даты, записанные через точку. Для этого напишем РВ, но перед этим вспомним, что точку нужно экранировать. Для этого необходимо ставить перед ней `\\`, чтобы Python понимал, что мы ищем не один любой символ `(.)`, а именно точку как знак препинания."
   ]
  },
  {
   "cell_type": "code",
   "execution_count": null,
   "metadata": {
    "colab": {
     "base_uri": "https://localhost:8080/"
    },
    "executionInfo": {
     "elapsed": 303,
     "status": "ok",
     "timestamp": 1643894443175,
     "user": {
      "displayName": "Николай Смирнов",
      "photoUrl": "https://lh3.googleusercontent.com/a/default-user=s64",
      "userId": "05792503510966078252"
     },
     "user_tz": -180
    },
    "id": "7zVyz4VYXGjm",
    "outputId": "6ed706a4-ef80-4d6a-b461-0b6d7c9fc0f9"
   },
   "outputs": [],
   "source": [
    "re.findall(\"\\d+\\.\\d+\\.\\d{4}\", data)  # РВ для поиска дат, записанных через точку"
   ]
  },
  {
   "cell_type": "markdown",
   "metadata": {
    "id": "v5iQ5EPeXGjm"
   },
   "source": [
    "\\d+ - одна или несколько цифр, <br>\n",
    "\\. - точка, <br>\n",
    "\\d+ - одна или несколько цифр, <br>\n",
    "\\. - точка, <br>\n",
    "\\d{4} - 4 цифры."
   ]
  },
  {
   "cell_type": "markdown",
   "metadata": {
    "id": "8lwvKn4m2A5o"
   },
   "source": [
    "####Задача 3\n",
    "В качестве упражнения реализуйте поиск всех фамилий, имен и номеров телефона (с помощью метода **findall**) в строке.<br>\n",
    "Формат записи: **Фамилия имя - номер_телефона**<br>\n",
    "Например: \"Добрый день! Высылаю контакты писателей: Пушкин Александр - 89210000000, Лермонтов Михаил - 89210000001, Есенин Сергей 89210000002\".<br>\n",
    "Выведите результат на экран произвольным образом."
   ]
  },
  {
   "cell_type": "code",
   "execution_count": null,
   "metadata": {
    "id": "49a3T-qQ2A5q"
   },
   "outputs": [],
   "source": [
    "# Напишите свой код в данной ячейке\n"
   ]
  },
  {
   "cell_type": "markdown",
   "metadata": {
    "id": "KfbVWAFc2A5r"
   },
   "source": [
    "[Посмотреть ответ на задачу](#exercise_3)"
   ]
  },
  {
   "cell_type": "markdown",
   "metadata": {
    "id": "_ECR8t9yXGjm"
   },
   "source": [
    "## re.finditer(patter, string)\n",
    "\n",
    "Создает генератор, возвращающий совпадения:\n"
   ]
  },
  {
   "cell_type": "code",
   "execution_count": null,
   "metadata": {
    "colab": {
     "base_uri": "https://localhost:8080/"
    },
    "executionInfo": {
     "elapsed": 758,
     "status": "ok",
     "timestamp": 1643894500883,
     "user": {
      "displayName": "Николай Смирнов",
      "photoUrl": "https://lh3.googleusercontent.com/a/default-user=s64",
      "userId": "05792503510966078252"
     },
     "user_tz": -180
    },
    "id": "fAvZ5_zVXGjm",
    "outputId": "5054dad5-b4e1-4075-d925-a34498c1024b"
   },
   "outputs": [],
   "source": [
    "result = re.finditer(r'[AV].', 'AV Analytics Vidha AV')\n",
    "for i in result:\n",
    "    print(i)  # i в данном случае - это AV\n",
    "    print(f\"Подстрока {i.group()} занимает символы в диапазоне c {i.span()[0]} по {i.span()[1]-1}\")"
   ]
  },
  {
   "cell_type": "markdown",
   "metadata": {
    "id": "UPXHirLqXGjn"
   },
   "source": [
    "Метод **span** возвращает начальную и конечную позицию вхождения шаблона в строку в виде *кортежа*, поэтому обращение к отдельным элементам происходит через индексы (Например, **span**()[0]). "
   ]
  },
  {
   "cell_type": "markdown",
   "metadata": {
    "id": "xFYVtBEKXGjn"
   },
   "source": [
    "## re.split(pattern, string, [maxsplit=0])\n",
    "Этот метод разделяет строку по заданному шаблону.\n"
   ]
  },
  {
   "cell_type": "code",
   "execution_count": null,
   "metadata": {
    "colab": {
     "base_uri": "https://localhost:8080/"
    },
    "executionInfo": {
     "elapsed": 308,
     "status": "ok",
     "timestamp": 1643894694540,
     "user": {
      "displayName": "Николай Смирнов",
      "photoUrl": "https://lh3.googleusercontent.com/a/default-user=s64",
      "userId": "05792503510966078252"
     },
     "user_tz": -180
    },
    "id": "0LdN6mahXGjn",
    "outputId": "eedd681e-e56c-476e-dea6-facc8d40d939"
   },
   "outputs": [],
   "source": [
    "result = re.split(r't', 'Analytics')  # Деление строки на символе t\n",
    "print(result)"
   ]
  },
  {
   "cell_type": "code",
   "execution_count": null,
   "metadata": {
    "colab": {
     "base_uri": "https://localhost:8080/"
    },
    "executionInfo": {
     "elapsed": 296,
     "status": "ok",
     "timestamp": 1643698335149,
     "user": {
      "displayName": "Николай Смирнов",
      "photoUrl": "https://lh3.googleusercontent.com/a/default-user=s64",
      "userId": "05792503510966078252"
     },
     "user_tz": -180
    },
    "id": "fnqoV9O7XGjn",
    "outputId": "c78dbece-73a0-486f-ff34-df7598271ea7"
   },
   "outputs": [],
   "source": [
    "a = '''\n",
    "From: s3nd3r@example.com\n",
    "To: me@example.com\n",
    "Text: Hello, my dear friend!\n",
    "'''\n",
    "result = re.split(r'\\w+:\\s+', a)  # Деление по шаблону \"буквы: \" (в конце один или несколько пробелов)\n",
    "print(result)"
   ]
  },
  {
   "cell_type": "markdown",
   "metadata": {
    "id": "6Uuz_RHvXGjn"
   },
   "source": [
    "\\w+ - один или несколько символов латиницы <br>\n",
    ": - символ двоеточия <br>\n",
    "\\s+ - один или несколько пробелов <br>"
   ]
  },
  {
   "cell_type": "markdown",
   "metadata": {
    "id": "4lTdVRIVXGjn"
   },
   "source": [
    "Метод **split**() также принимает аргумент **maxsplit** со значением по умолчанию, равным `0`. Если **maxsplit** принимает значение 0, то он разделит строку столько раз, сколько возможно. Если задать значение этого аргумента != 0, то разделение произойдет не более указанного числа раз. "
   ]
  },
  {
   "cell_type": "code",
   "execution_count": null,
   "metadata": {
    "colab": {
     "base_uri": "https://localhost:8080/"
    },
    "executionInfo": {
     "elapsed": 369,
     "status": "ok",
     "timestamp": 1643894809363,
     "user": {
      "displayName": "Николай Смирнов",
      "photoUrl": "https://lh3.googleusercontent.com/a/default-user=s64",
      "userId": "05792503510966078252"
     },
     "user_tz": -180
    },
    "id": "eDcflAvxXGjn",
    "outputId": "7426a336-4bdb-4ea6-de29-334ab6fa32be"
   },
   "outputs": [],
   "source": [
    "result = re.split(r'i', 'Analytics Vidha')  # Обычный split (количество делений не ограничено)\n",
    "print(result)\n",
    "result = re.split(r'i', 'Analytics Vidha', maxsplit=1)  # split с ограничением на деление в 1 раз\n",
    "print(result)"
   ]
  },
  {
   "cell_type": "markdown",
   "metadata": {
    "id": "-wxsI43KXGjo"
   },
   "source": [
    "## re.sub(pattern, repl, string)\n",
    "`sub()` ищет шаблон `pattern` в строке `string` и заменяет его на указанную подстроку `repl`. Если шаблон не найден, строка остается неизменной."
   ]
  },
  {
   "cell_type": "code",
   "execution_count": null,
   "metadata": {
    "colab": {
     "base_uri": "https://localhost:8080/"
    },
    "executionInfo": {
     "elapsed": 414,
     "status": "ok",
     "timestamp": 1643894885261,
     "user": {
      "displayName": "Николай Смирнов",
      "photoUrl": "https://lh3.googleusercontent.com/a/default-user=s64",
      "userId": "05792503510966078252"
     },
     "user_tz": -180
    },
    "id": "KZ9LJTZvXGjo",
    "outputId": "8ee54802-3983-46d8-aad6-b8691eaac7be"
   },
   "outputs": [],
   "source": [
    "# Заменим \"India\" на \"the World\" \n",
    "result = re.sub(r'India', 'the World', 'AV is largest Analytics сommunity of India')\n",
    "print(result)"
   ]
  },
  {
   "cell_type": "markdown",
   "metadata": {
    "id": "n7OJS5DsXGjo"
   },
   "source": [
    "Можно указывать не конкретную подстроку поиска, а шаблон."
   ]
  },
  {
   "cell_type": "code",
   "execution_count": null,
   "metadata": {
    "colab": {
     "base_uri": "https://localhost:8080/"
    },
    "executionInfo": {
     "elapsed": 348,
     "status": "ok",
     "timestamp": 1643894924627,
     "user": {
      "displayName": "Николай Смирнов",
      "photoUrl": "https://lh3.googleusercontent.com/a/default-user=s64",
      "userId": "05792503510966078252"
     },
     "user_tz": -180
    },
    "id": "N9u-JEfwXGjo",
    "outputId": "bc04d9d8-9f0e-48cd-c604-2c9c00ce4afc"
   },
   "outputs": [],
   "source": [
    "a = '''\n",
    "From: s3nd3r@example.com\n",
    "To: me@example.com\n",
    "Text: Hello, my dear friend!\n",
    "'''\n",
    "result = re.sub(r'\\w+\\@\\w+\\.\\w+', '<stripped mail>', a)  # Заменяем email на '<stripped mail>'\n",
    "print(result)"
   ]
  },
  {
   "cell_type": "markdown",
   "metadata": {
    "id": "demvsQftXGjo"
   },
   "source": [
    "где: <br>\n",
    "\\w+ - один или несколько буквенных символов, <br>\n",
    "\\@ - коммерческое at (@) <br>\n",
    "\\w+ - один или несколько буквенных символов, <br>\n",
    "\\. - точка, <br>\n",
    "\\w+ - один или несколько буквенных символов."
   ]
  },
  {
   "cell_type": "markdown",
   "metadata": {
    "id": "zDhVfwsJXGjo"
   },
   "source": [
    "## re.compile(pattern, repl, string)\n",
    "Мы можем передать *регулярное выражение* в отдельный объект, который может быть использован для поиска."
   ]
  },
  {
   "cell_type": "code",
   "execution_count": null,
   "metadata": {
    "colab": {
     "base_uri": "https://localhost:8080/"
    },
    "executionInfo": {
     "elapsed": 375,
     "status": "ok",
     "timestamp": 1643894971680,
     "user": {
      "displayName": "Николай Смирнов",
      "photoUrl": "https://lh3.googleusercontent.com/a/default-user=s64",
      "userId": "05792503510966078252"
     },
     "user_tz": -180
    },
    "id": "jll_U3cSXGjo",
    "outputId": "bc15a761-e647-4d73-b8d7-827f737bde97"
   },
   "outputs": [],
   "source": [
    "pattern = re.compile(r'AV')\n",
    "result = pattern.findall('AV Analytics Vidha AV')  # Метод применяется к РВ pattern \n",
    "print(result)"
   ]
  },
  {
   "cell_type": "code",
   "execution_count": null,
   "metadata": {
    "colab": {
     "base_uri": "https://localhost:8080/"
    },
    "executionInfo": {
     "elapsed": 311,
     "status": "ok",
     "timestamp": 1643894999603,
     "user": {
      "displayName": "Николай Смирнов",
      "photoUrl": "https://lh3.googleusercontent.com/a/default-user=s64",
      "userId": "05792503510966078252"
     },
     "user_tz": -180
    },
    "id": "tWSyVcrHXGjp",
    "outputId": "1d5edd89-127b-416e-c020-9a3f6866417c"
   },
   "outputs": [],
   "source": [
    "a = '''\n",
    "From: s3nd3r@example.com\n",
    "To: me@example.com\n",
    "Text: Hello, my dear pal!\n",
    "'''\n",
    "pattern = re.compile(r'To: \\w+\\@\\w+\\.\\w+')\n",
    "result = pattern.sub('To: <stripped mail>', a)\n",
    "print(result)"
   ]
  },
  {
   "cell_type": "markdown",
   "metadata": {
    "id": "eTvmuhtOXGjp"
   },
   "source": [
    "# Примеры"
   ]
  },
  {
   "cell_type": "code",
   "execution_count": null,
   "metadata": {
    "colab": {
     "base_uri": "https://localhost:8080/"
    },
    "executionInfo": {
     "elapsed": 346,
     "status": "ok",
     "timestamp": 1643895027476,
     "user": {
      "displayName": "Николай Смирнов",
      "photoUrl": "https://lh3.googleusercontent.com/a/default-user=s64",
      "userId": "05792503510966078252"
     },
     "user_tz": -180
    },
    "id": "6Q8x8yneXGjp",
    "outputId": "50e55516-34d2-4723-fe1f-fbc4bcc276a8"
   },
   "outputs": [],
   "source": [
    "# Получить все буквы из строки:\n",
    "result = re.findall(r'\\w', 'AV is largest Analytics community of India')\n",
    "print(result)"
   ]
  },
  {
   "cell_type": "code",
   "execution_count": null,
   "metadata": {
    "colab": {
     "base_uri": "https://localhost:8080/"
    },
    "executionInfo": {
     "elapsed": 301,
     "status": "ok",
     "timestamp": 1643895041474,
     "user": {
      "displayName": "Николай Смирнов",
      "photoUrl": "https://lh3.googleusercontent.com/a/default-user=s64",
      "userId": "05792503510966078252"
     },
     "user_tz": -180
    },
    "id": "IoZCa1K_XGjp",
    "outputId": "5f8bea7d-b1fc-4bd4-fa4e-33687c256e09"
   },
   "outputs": [],
   "source": [
    "# Получить каждое слово (используя * или +)\n",
    "result = re.findall(r'\\w+', 'AV is largest Analytics community of India')\n",
    "print(result)"
   ]
  },
  {
   "cell_type": "code",
   "execution_count": null,
   "metadata": {
    "colab": {
     "base_uri": "https://localhost:8080/"
    },
    "executionInfo": {
     "elapsed": 391,
     "status": "ok",
     "timestamp": 1643895062910,
     "user": {
      "displayName": "Николай Смирнов",
      "photoUrl": "https://lh3.googleusercontent.com/a/default-user=s64",
      "userId": "05792503510966078252"
     },
     "user_tz": -180
    },
    "id": "XlkBZ8AXXGjp",
    "outputId": "c1144141-9668-4905-9fe5-eb59ef54821e"
   },
   "outputs": [],
   "source": [
    "# Получить первое слово, используя ^ (ищет шаблон в начале строки)\n",
    "result = re.findall(r'^\\w+', 'AV is largest Analytics community of India')\n",
    "print(result)"
   ]
  },
  {
   "cell_type": "code",
   "execution_count": null,
   "metadata": {
    "colab": {
     "base_uri": "https://localhost:8080/"
    },
    "executionInfo": {
     "elapsed": 264,
     "status": "ok",
     "timestamp": 1643698591276,
     "user": {
      "displayName": "Николай Смирнов",
      "photoUrl": "https://lh3.googleusercontent.com/a/default-user=s64",
      "userId": "05792503510966078252"
     },
     "user_tz": -180
    },
    "id": "_bAPUJT5XGjq",
    "outputId": "015d41c8-5bde-497e-cf2b-de804133b5eb"
   },
   "outputs": [],
   "source": [
    "# Найти первые 2 буквы каждого слова\n",
    "# \\b - разделитель слов, любой символ кроме букв, цифр и _\n",
    "print(re.findall(r'\\b\\w.', 'AV is largest Analytics community of India'))"
   ]
  },
  {
   "cell_type": "code",
   "execution_count": null,
   "metadata": {
    "colab": {
     "base_uri": "https://localhost:8080/"
    },
    "executionInfo": {
     "elapsed": 261,
     "status": "ok",
     "timestamp": 1643698598839,
     "user": {
      "displayName": "Николай Смирнов",
      "photoUrl": "https://lh3.googleusercontent.com/a/default-user=s64",
      "userId": "05792503510966078252"
     },
     "user_tz": -180
    },
    "id": "pG3ShjpvXGjq",
    "outputId": "b16bf78b-bb90-4c84-9007-ac75bd6f0c37"
   },
   "outputs": [],
   "source": [
    "# Вывести слово до конца. Слово заканчивается тогда, когда встречается небуквенный и нецифровой символ\n",
    "print(re.findall(r'\\w+\\b', 'asd  a1sd2 as# a$sds! qwe) zxc+'))"
   ]
  },
  {
   "cell_type": "code",
   "execution_count": null,
   "metadata": {
    "colab": {
     "base_uri": "https://localhost:8080/"
    },
    "executionInfo": {
     "elapsed": 276,
     "status": "ok",
     "timestamp": 1643698605443,
     "user": {
      "displayName": "Николай Смирнов",
      "photoUrl": "https://lh3.googleusercontent.com/a/default-user=s64",
      "userId": "05792503510966078252"
     },
     "user_tz": -180
    },
    "id": "ltjjUeG6XGjq",
    "outputId": "fb2626a5-010f-4c42-e97a-f5b784bd7cc5",
    "scrolled": true
   },
   "outputs": [],
   "source": [
    "# Вывести все числа. Число заканчивается тогда, когда встречается нецифровой символ.\n",
    "print(re.findall(r'\\d+\\b', '123 1s2й7!1я 45+ 23& 2 ф3,'))"
   ]
  },
  {
   "cell_type": "markdown",
   "metadata": {
    "id": "LXCooI4xXGjq"
   },
   "source": [
    "Вернуть список доменов из списка адресов электронной почты. Для этого сначала вернем все символы после «@»:\n"
   ]
  },
  {
   "cell_type": "code",
   "execution_count": null,
   "metadata": {
    "colab": {
     "base_uri": "https://localhost:8080/"
    },
    "executionInfo": {
     "elapsed": 277,
     "status": "ok",
     "timestamp": 1643698625340,
     "user": {
      "displayName": "Николай Смирнов",
      "photoUrl": "https://lh3.googleusercontent.com/a/default-user=s64",
      "userId": "05792503510966078252"
     },
     "user_tz": -180
    },
    "id": "sYXGM9FPXGjq",
    "outputId": "18a1292c-bdbd-4371-a8e4-70bae0e40b63"
   },
   "outputs": [],
   "source": [
    "result = re.findall(r'@\\w+', 'abc.test@gmail.com, xyz@test.in, test.first@analyticsvidha.com, first.test@rest.biz')\n",
    "print(result)"
   ]
  },
  {
   "cell_type": "markdown",
   "metadata": {
    "id": "qfB5NBPKXGjq"
   },
   "source": [
    "@ - коммерческое at (@) <br>\n",
    "\\w+ - один или несколько буквенных символов."
   ]
  },
  {
   "cell_type": "markdown",
   "metadata": {
    "id": "LHjLYaYtXGjr"
   },
   "source": [
    "Как видим, части «.com», «.in» и т. д. не попали в результат. Изменим код:"
   ]
  },
  {
   "cell_type": "code",
   "execution_count": null,
   "metadata": {
    "colab": {
     "base_uri": "https://localhost:8080/"
    },
    "executionInfo": {
     "elapsed": 273,
     "status": "ok",
     "timestamp": 1643698671798,
     "user": {
      "displayName": "Николай Смирнов",
      "photoUrl": "https://lh3.googleusercontent.com/a/default-user=s64",
      "userId": "05792503510966078252"
     },
     "user_tz": -180
    },
    "id": "RWlfVTUbXGjr",
    "outputId": "2594b4ee-65c3-47fa-976e-d4a3c0cc2dae"
   },
   "outputs": [],
   "source": [
    "# Возвращаем полные названия почтовых серверов\n",
    "result = re.findall(r'@\\w+.\\w+', 'abc.test@gmail.com, xyz@test.in, test.first@analyticsvidha.com, first.test@rest.biz')\n",
    "print(result)"
   ]
  },
  {
   "cell_type": "markdown",
   "metadata": {
    "id": "zgiNBrF1XGjr"
   },
   "source": [
    "Вытащить только домен, используя группировку — ( ):"
   ]
  },
  {
   "cell_type": "code",
   "execution_count": null,
   "metadata": {
    "colab": {
     "base_uri": "https://localhost:8080/"
    },
    "executionInfo": {
     "elapsed": 271,
     "status": "ok",
     "timestamp": 1643698673300,
     "user": {
      "displayName": "Николай Смирнов",
      "photoUrl": "https://lh3.googleusercontent.com/a/default-user=s64",
      "userId": "05792503510966078252"
     },
     "user_tz": -180
    },
    "id": "D5HosN4cXGjr",
    "outputId": "75bff701-0a44-425f-e296-6aa7abc4931f"
   },
   "outputs": [],
   "source": [
    "result = re.findall(r'@\\w+.(\\w+)', 'abc.test@gmail.com, xyz@test.in, test.first@analyticsvidha.com, first.test@rest.biz')\n",
    "print(result)"
   ]
  },
  {
   "cell_type": "markdown",
   "metadata": {
    "id": "ytL5IN9-XGjr"
   },
   "source": [
    "Извлечь все слова, начинающиеся на гласную"
   ]
  },
  {
   "cell_type": "code",
   "execution_count": null,
   "metadata": {
    "colab": {
     "base_uri": "https://localhost:8080/"
    },
    "executionInfo": {
     "elapsed": 13,
     "status": "ok",
     "timestamp": 1643698684070,
     "user": {
      "displayName": "Николай Смирнов",
      "photoUrl": "https://lh3.googleusercontent.com/a/default-user=s64",
      "userId": "05792503510966078252"
     },
     "user_tz": -180
    },
    "id": "NhxANEiSXGjr",
    "outputId": "c63ea471-fc76-430d-d29a-74bc031e2d47"
   },
   "outputs": [],
   "source": [
    "# [aeiouAEIOU] - перечисление гласных символов\n",
    "result = re.findall(r'[aeiouAEIOU]\\w+', 'AV is largest Analytics community of India')\n",
    "print(result)"
   ]
  },
  {
   "cell_type": "markdown",
   "metadata": {
    "id": "e48VLR5rXGjr"
   },
   "source": [
    "Извлечь дату из строки. Формат 2_цифры-2_цифры-4_цифры"
   ]
  },
  {
   "cell_type": "code",
   "execution_count": null,
   "metadata": {
    "colab": {
     "base_uri": "https://localhost:8080/"
    },
    "executionInfo": {
     "elapsed": 287,
     "status": "ok",
     "timestamp": 1643698688479,
     "user": {
      "displayName": "Николай Смирнов",
      "photoUrl": "https://lh3.googleusercontent.com/a/default-user=s64",
      "userId": "05792503510966078252"
     },
     "user_tz": -180
    },
    "id": "VliWEXONXGjs",
    "outputId": "fbefabc7-8982-441d-bb05-8fe5eb3e7004"
   },
   "outputs": [],
   "source": [
    "result = re.findall(r'\\d{2}-\\d{2}-\\d{4}', 'Amit 34-3456 12-05-2007, XYZ 56-4532 11-11-2011, ABC 67-8945 12-01-2009')\n",
    "print(result)"
   ]
  },
  {
   "cell_type": "markdown",
   "metadata": {
    "id": "NFTPGrA6XGjs"
   },
   "source": [
    "Для извлечения только года нам опять помогут скобки, т. е. применение группировки (\\d{4}) для извлечения года:"
   ]
  },
  {
   "cell_type": "code",
   "execution_count": null,
   "metadata": {
    "colab": {
     "base_uri": "https://localhost:8080/"
    },
    "executionInfo": {
     "elapsed": 308,
     "status": "ok",
     "timestamp": 1643698766605,
     "user": {
      "displayName": "Николай Смирнов",
      "photoUrl": "https://lh3.googleusercontent.com/a/default-user=s64",
      "userId": "05792503510966078252"
     },
     "user_tz": -180
    },
    "id": "-ujFpTkvXGjs",
    "outputId": "0967571a-aa9d-44e4-804e-c77d17d0dda5"
   },
   "outputs": [],
   "source": [
    "result = re.findall(r'\\d{2}-\\d{2}-(\\d{4})', 'Amit 34-3456 12-05-2007, XYZ 56-4532 11-11-2011, ABC 67-8945 12-01-2009')\n",
    "print(result)"
   ]
  },
  {
   "cell_type": "markdown",
   "metadata": {
    "id": "zRVTx0QbvxHU"
   },
   "source": [
    "Задача: удалить часть найденного шабона. \n",
    "\n",
    "В примере ниже слудет обратить внимание на взаимосвязь `()` в шаблоне `regex`, цифр в `subst = r\"\\\"` и выводимым результатом:"
   ]
  },
  {
   "cell_type": "code",
   "execution_count": null,
   "metadata": {
    "colab": {
     "base_uri": "https://localhost:8080/"
    },
    "executionInfo": {
     "elapsed": 457,
     "status": "ok",
     "timestamp": 1646143493943,
     "user": {
      "displayName": "Николай Смирнов",
      "photoUrl": "https://lh3.googleusercontent.com/a/default-user=s64",
      "userId": "05792503510966078252"
     },
     "user_tz": -180
    },
    "id": "xvSybsvXvwQr",
    "outputId": "81f05bb2-ba87-418b-ce00-11430dc8cb03"
   },
   "outputs": [],
   "source": [
    "my_sting = '3.2 килограмма картофеля'\n",
    "regex = r\"^([\\d\\.]+) (.+) (.+)\"\n",
    "\n",
    "subst = r\"\\1\"\n",
    "a1 = re.sub(regex, subst, my_sting)\n",
    "print(r'Результат применения шаблона subst = r\"\\1\":', a1)\n",
    "\n",
    "subst = r\"\\2\"\n",
    "a2 = re.sub(regex, subst, my_sting)\n",
    "print(r'Результат применения шаблона subst = r\"\\2\":', a2)\n",
    "\n",
    "subst = r\"\\3\"\n",
    "a3 = re.sub(regex, subst, my_sting)\n",
    "print(r'Результат применения шаблона subst = r\"\\3\":', a3)\n"
   ]
  },
  {
   "cell_type": "markdown",
   "metadata": {
    "id": "pYeWms0HXGjs"
   },
   "source": [
    "Получить значения переменных, удовлетворяющих шаблону"
   ]
  },
  {
   "cell_type": "code",
   "execution_count": null,
   "metadata": {
    "colab": {
     "base_uri": "https://localhost:8080/"
    },
    "executionInfo": {
     "elapsed": 6,
     "status": "ok",
     "timestamp": 1643698767710,
     "user": {
      "displayName": "Николай Смирнов",
      "photoUrl": "https://lh3.googleusercontent.com/a/default-user=s64",
      "userId": "05792503510966078252"
     },
     "user_tz": -180
    },
    "id": "spNdKGoVXGjs",
    "outputId": "80d68dca-dff3-4470-ed1e-571cb382dcea"
   },
   "outputs": [],
   "source": [
    "string = 'В 2016 году собрали 34 кг малины.'\n",
    "template =  r'.*(?P<year>\\d{4}) году.*кг (?P<fruit>\\D{1,15})\\.'\n",
    "res = re.match(template, string)\n",
    "print(res.group(\"year\"))  # 2016\n",
    "print(res.group(\"fruit\"))  # малины"
   ]
  },
  {
   "cell_type": "markdown",
   "metadata": {
    "id": "idmR0RTEXGjs"
   },
   "source": [
    "`.\\*` - произвольное количество символов (не менее одного), <br>\n",
    "`<year>` в РВ `(?P<year>\\d{4})` - символическое имя группы для последовательности из четырех цифр, <br>\n",
    "`\\*` - произвольное количество символов, <br>\n",
    "`<fruit>` в РВ `(?P<fruit>\\D{1,15})\\.` - символическое имя группы для последовательности любых символов (кроме цифр) длиной 1-15."
   ]
  },
  {
   "cell_type": "markdown",
   "metadata": {
    "id": "Lls1AWQnXGjs"
   },
   "source": [
    "# Флаги компиляции и примеры"
   ]
  },
  {
   "cell_type": "markdown",
   "metadata": {
    "id": "YSGv5o3190bD"
   },
   "source": [
    "https://python-scripts.com/import-re-regular-expression\n",
    "\n",
    "В Python 3 существует различные флаги компиляции, которые могут изменить поведение заданного шаблона. \n",
    "\n",
    "Флаг **re.I / re.IGNORECASE** позволяет выполнить сравнение без учета регистра.\n",
    "\n",
    "Флаг **re.M / re.MULTILINE** - для многострочных строк (с переводом строки)\n",
    "говорит Python о том, что в начале каждой строки (линии) есть символ ^, а в конце каждой строки (линии) символ `$`. \n",
    "\n",
    "Флаг **re.X / re.VERBOSE** позволяет визуально разделять логические секции ваших регулярных выражений, и даже добавлять комментарии. Пустое пространство внутри паттерна будет игнорироваться, кроме того случая, если классу символа или пробелу предшествует обратная косая черта.\n",
    "\n",
    "Флаг **re.A / re.ASCII** указывает на сопоставление шаблона против ASCII, вместо использования полного Юникода для сопоставления. Флаг **re.U / re.UNICODE** используется в целях обратной совместимости. Эти флаги являются излишеством, так как Python выполняет сопоставления в Юникоде в автоматическом режиме.\n",
    "\n",
    "Флаг **re.DEBUG** показывает информацию о дебаге вашего скомпилированного выражения.\n",
    "\n",
    "Флаг **re.L / re.LOCALE** делает коды: w, W, b, B, d, D, s и S зависимыми от локали. В документации говорится, что вы не должны зависеть от данного флага, так как механизм локали сам по себе очень ненадежный. Вместо этого, лучше используйте сопоставление Юникода. Далее в документации говорится, что данный флаг имеет смысл использовать только в битовых паттернах.\n",
    "\n",
    "Флаг **re.S / re.DOTALL** указывает метасимволу «.» (период) сопоставить любой символ. Без этого флага, данный метасимвол будет сопоставлять все, что угодно, но не новую строку."
   ]
  },
  {
   "cell_type": "markdown",
   "metadata": {
    "id": "B62K2zulXGjt"
   },
   "source": [
    "Дополнительные параметры:"
   ]
  },
  {
   "cell_type": "markdown",
   "metadata": {
    "id": "pJce8KZaXGjt"
   },
   "source": [
    "`re.IGNORECASE`, `re.I` - игнорировать регистр"
   ]
  },
  {
   "cell_type": "code",
   "execution_count": null,
   "metadata": {
    "colab": {
     "base_uri": "https://localhost:8080/"
    },
    "executionInfo": {
     "elapsed": 650,
     "status": "ok",
     "timestamp": 1643699384037,
     "user": {
      "displayName": "Николай Смирнов",
      "photoUrl": "https://lh3.googleusercontent.com/a/default-user=s64",
      "userId": "05792503510966078252"
     },
     "user_tz": -180
    },
    "id": "opHWSJQ9XGjt",
    "outputId": "e19468fc-0b85-4a24-9237-adfb7b6e57b5"
   },
   "outputs": [],
   "source": [
    "result = re.search(r'hello world', 'HelLo WorLd', re.IGNORECASE)  # Шаблон отыщется, т.к. игнорируется регистр\n",
    "print(result.group())"
   ]
  },
  {
   "cell_type": "markdown",
   "metadata": {
    "id": "wf3wiVy1XGjt"
   },
   "source": [
    "`re.MULTILINE`, `re.M` - игнорировать перевод строки\n",
    "\n",
    "`^` отмечает начало строки (сразу после символа перевода строки), `$` - отмечает конец строки (символ перевода строки)"
   ]
  },
  {
   "cell_type": "code",
   "execution_count": null,
   "metadata": {
    "colab": {
     "base_uri": "https://localhost:8080/"
    },
    "executionInfo": {
     "elapsed": 4,
     "status": "ok",
     "timestamp": 1643699391068,
     "user": {
      "displayName": "Николай Смирнов",
      "photoUrl": "https://lh3.googleusercontent.com/a/default-user=s64",
      "userId": "05792503510966078252"
     },
     "user_tz": -180
    },
    "id": "MWm_zng8XGjt",
    "outputId": "7a500615-2063-451a-ca46-83e2bc97fccc"
   },
   "outputs": [],
   "source": [
    "a='''\n",
    "Hello 1\n",
    "Hea 1 Heg 2\n",
    "World 2\n",
    "'''\n",
    "result = re.findall(r'^(\\w+)\\s(\\d)$', a)  # Каждая строка воспринимается как отдельная\n",
    "print('Результат без re.MULTILINE:', result)\n",
    "\n",
    "result = re.findall(r'^(\\w+)\\s(\\d)$', a, re.MULTILINE)  # Перенос строки игнорируется\n",
    "print('Результат  с  re.MULTILINE:', result)\n",
    "\n"
   ]
  },
  {
   "cell_type": "markdown",
   "metadata": {
    "id": "E1-PJbVzXGju"
   },
   "source": [
    "`re.VERBOSE`, `re.X` - позволяет писать более наглядные регулярные выражения. Разрешает комментарии, все неэкранированные пробельные символы и переводы строк игнорирутся."
   ]
  },
  {
   "cell_type": "code",
   "execution_count": null,
   "metadata": {
    "colab": {
     "base_uri": "https://localhost:8080/"
    },
    "executionInfo": {
     "elapsed": 322,
     "status": "ok",
     "timestamp": 1643699437663,
     "user": {
      "displayName": "Николай Смирнов",
      "photoUrl": "https://lh3.googleusercontent.com/a/default-user=s64",
      "userId": "05792503510966078252"
     },
     "user_tz": -180
    },
    "id": "67tDHUKNXGju",
    "outputId": "eac4d870-435e-4787-e8db-9048e1c87c17"
   },
   "outputs": [],
   "source": [
    "pat = re.compile(r'''(\\d{1,2})  # День\n",
    "                     -          # Разделитель\n",
    "                     (\\d{1,2})  # Месяц\n",
    "                     -          # Разделитель\n",
    "                     (\\d{1,4})  # Год\n",
    "                 ''', re.VERBOSE)  # Применяем VERBOSE, чтобы разрешить комментирование и записать РВ более наглядно \n",
    "\n",
    "result = pat.findall('Этот дом был построен 4-12-1809 и отреставрирован 23-05-2006')\n",
    "print(result)"
   ]
  },
  {
   "cell_type": "markdown",
   "metadata": {
    "id": "ls6nTOvbXGju"
   },
   "source": [
    "Если группы были именованы, то можно собрать из них словарь:"
   ]
  },
  {
   "cell_type": "code",
   "execution_count": null,
   "metadata": {
    "colab": {
     "base_uri": "https://localhost:8080/"
    },
    "executionInfo": {
     "elapsed": 304,
     "status": "ok",
     "timestamp": 1643699441854,
     "user": {
      "displayName": "Николай Смирнов",
      "photoUrl": "https://lh3.googleusercontent.com/a/default-user=s64",
      "userId": "05792503510966078252"
     },
     "user_tz": -180
    },
    "id": "sO_E-gMzXGju",
    "outputId": "589037e8-daae-4fca-a307-b9329f97d0f4"
   },
   "outputs": [],
   "source": [
    "pat = re.compile(r'''(?P<day>\\d{1,2})    # День\n",
    "                     -                   # Разделитель\n",
    "                     (?P<month>\\d{1,2})  # Месяц\n",
    "                     -                   # Разделитель\n",
    "                     (?P<year>\\d{1,4})   # Год\n",
    "                 ''', re.VERBOSE)\n",
    "\n",
    "result = pat.finditer('Этот дом был построен 4-12-1809 и отреставрирован 23-05-2006')  # Создаем итератор, возвращающий дату\n",
    "for i in result:  # Генерируем даты из строки\n",
    "    print(i.groupdict())  # Выводим дату в формате \"ключ: значение\""
   ]
  },
  {
   "cell_type": "markdown",
   "metadata": {
    "id": "hBGTFj9qXGju"
   },
   "source": [
    "Существуют группы, не захватываемые регулярным выражением (*non-capturing*), но используемые при поиске.\n",
    "\n",
    "Регулярное выражение `r'(?<=-)\\d+` находит числа перед которыми стоит минус, но захватывает их без минуса."
   ]
  },
  {
   "cell_type": "code",
   "execution_count": null,
   "metadata": {
    "colab": {
     "base_uri": "https://localhost:8080/"
    },
    "executionInfo": {
     "elapsed": 292,
     "status": "ok",
     "timestamp": 1643699460343,
     "user": {
      "displayName": "Николай Смирнов",
      "photoUrl": "https://lh3.googleusercontent.com/a/default-user=s64",
      "userId": "05792503510966078252"
     },
     "user_tz": -180
    },
    "id": "toZADsXzXGju",
    "outputId": "3c361d2f-914f-4942-832d-7d4853d2b1e4"
   },
   "outputs": [],
   "source": [
    "text = '1, 3, -4, 5, -23, 5, -6'\n",
    "result = re.findall(r'(?<=-)\\d+', text)  # Возвращает отрицательные числа без знака -\n",
    "print(result)"
   ]
  },
  {
   "cell_type": "markdown",
   "metadata": {
    "id": "TBL8dtWEXGjv"
   },
   "source": [
    "Другой пример.\n",
    "\n",
    "Есть строка `text`, в которой записан вывод программы *mystem* с разбором слов предложения. Допустим, мы хотим оставить разбор только для одного слова `word`.\n",
    "\n",
    "`r'(?<!%s){.*?}' % word`:\n",
    "- `(?<!...)` - совпадает, если текущая строка не предворяется `...`\n",
    "- `{.*?}` - [ленивый поиск](https://qastack.ru/programming/2301285/what-do-lazy-and-greedy-mean-in-the-context-of-regular-expressions) от `{` до `}`"
   ]
  },
  {
   "cell_type": "markdown",
   "metadata": {
    "id": "8FxQVvvS8FRt"
   },
   "source": [
    "Задача: удалить вместе с содрежимым все {}, перед которыми нет слова раскопки.<br>\n",
    "Решение:"
   ]
  },
  {
   "cell_type": "code",
   "execution_count": null,
   "metadata": {
    "colab": {
     "base_uri": "https://localhost:8080/"
    },
    "executionInfo": {
     "elapsed": 319,
     "status": "ok",
     "timestamp": 1643699565463,
     "user": {
      "displayName": "Николай Смирнов",
      "photoUrl": "https://lh3.googleusercontent.com/a/default-user=s64",
      "userId": "05792503510966078252"
     },
     "user_tz": -180
    },
    "id": "Js52L-6IXGjv",
    "outputId": "6cf4c228-af4a-4d10-eb5d-ae4f4e6c6b6b"
   },
   "outputs": [],
   "source": [
    "text = '''Биографические{биографический=A=(вин,мн,полн,неод|им,мн,полн)} журналистские{журналистский=A=(вин,мн,полн,неод|им,мн,полн)} раскопки{раскопка=S,жен,неод=(вин,мн|род,ед|им,мн)} и{и=CONJ=} скандальные{скандальный=A=(вин,мн,полн,неод|им,мн,полн)} «признания{признание=S,сред,неод=(вин,мн|род,ед|им,мн)}» начались{начинаться=V,нп=прош,мн,изъяв,сов} уже{уже=ADV=} года{год=S,муж,неод=(вин,мн|род,ед|им,мн)} через{через=PR=} два{два=NUM=(вин,муж,неод|им,муж|вин,сред|им,сред)} или{или=CONJ=} три{три=NUM=(им|вин,неод)} после{после=PR=} выхода{выход=S,муж,неод=род,ед} книги{книга=S,жен,неод=(вин,мн|род,ед|им,мн)}.'''\n",
    "word = 'раскопки'\n",
    "result = re.sub(r'(?<!%s){.*?}' % word, '', text)\n",
    "print(result)"
   ]
  },
  {
   "cell_type": "markdown",
   "metadata": {
    "id": "mf5F7hR5XGjv"
   },
   "source": [
    "### Заключение\n",
    "Дополнительную информацию о модуле `re` можно найти в официальной [документации](https://docs.python.org/3/library/re.html) и в [статье](https://habr.com/ru/post/349860/). Также есть ресурс [regex101.com](https://regex101.com), который позволяет скопировать нужный текст и в интерактивном режиме следить, какие совпадения находятся при изменении регулярного выражения, введенного в отдельном окне (не забудьте поставить галочку Python в разделе FLAVOR слева)."
   ]
  },
  {
   "cell_type": "markdown",
   "metadata": {
    "id": "19giBg4V9yWZ"
   },
   "source": []
  },
  {
   "cell_type": "markdown",
   "metadata": {
    "id": "fG9db8KyPQCh"
   },
   "source": [
    "# Ответы на задания:"
   ]
  },
  {
   "cell_type": "markdown",
   "metadata": {
    "id": "K7vk2mb26tab"
   },
   "source": [
    "<a name=\"exercise_1\"></a>\n",
    "# Ответ на задачу 1"
   ]
  },
  {
   "cell_type": "code",
   "execution_count": null,
   "metadata": {
    "colab": {
     "base_uri": "https://localhost:8080/"
    },
    "executionInfo": {
     "elapsed": 541,
     "status": "ok",
     "timestamp": 1643538048797,
     "user": {
      "displayName": "Григорий Рего",
      "photoUrl": "https://lh3.googleusercontent.com/a/default-user=s64",
      "userId": "17666688826286004808"
     },
     "user_tz": -180
    },
    "id": "VhSECjZfPQCh",
    "outputId": "119b660e-1c6c-4b97-a1e0-6502850eb3ac"
   },
   "outputs": [],
   "source": [
    "import re\n",
    "example_string = \"Когда наступила весна, медведь проснулся, вылез из берлоги и увидел, как спортсмен бежит\"\n",
    "print(re.findall(r'(?:спортсмен|медведь|человек) (?:проснулся|бежит)', example_string))  # Не забывайте про пробел между словами\n"
   ]
  },
  {
   "cell_type": "markdown",
   "metadata": {
    "id": "oeFnmGy08tYA"
   },
   "source": [
    "<a name=\"exercise_2\"></a>\n",
    "# Ответ на задачу 2"
   ]
  },
  {
   "cell_type": "code",
   "execution_count": null,
   "metadata": {
    "colab": {
     "base_uri": "https://localhost:8080/"
    },
    "executionInfo": {
     "elapsed": 313,
     "status": "ok",
     "timestamp": 1643559892181,
     "user": {
      "displayName": "Григорий Рего",
      "photoUrl": "https://lh3.googleusercontent.com/a/default-user=s64",
      "userId": "17666688826286004808"
     },
     "user_tz": -180
    },
    "id": "WXKMQsyHPQCi",
    "outputId": "177594a4-7f25-4916-b061-8e0a56e0a9a1"
   },
   "outputs": [],
   "source": [
    "import re\n",
    "name_phone_number = \" Добрый день! Высылаю контакты писателя: Пушкин Александр - 89210000000\"\n",
    "result = re.search(r'([А-ЯЁа-яё]+ [А-ЯЁа-яё]+) - (\\d+)', name_phone_number)\n",
    "print(result.group(1)+\":\"+result.group(2))\n"
   ]
  },
  {
   "cell_type": "markdown",
   "metadata": {
    "id": "NlOKBmaC8__3"
   },
   "source": [
    "<a name=\"exercise_3\"></a>\n",
    "# Ответ на задачу 3\n",
    "\n",
    "\n"
   ]
  },
  {
   "cell_type": "code",
   "execution_count": null,
   "metadata": {
    "colab": {
     "base_uri": "https://localhost:8080/"
    },
    "executionInfo": {
     "elapsed": 293,
     "status": "ok",
     "timestamp": 1643572944245,
     "user": {
      "displayName": "Григорий Рего",
      "photoUrl": "https://lh3.googleusercontent.com/a/default-user=s64",
      "userId": "17666688826286004808"
     },
     "user_tz": -180
    },
    "id": "Kyo02ih7PQCj",
    "outputId": "ddad6662-5cf7-4d92-a59c-8b5821359d44"
   },
   "outputs": [],
   "source": [
    "import re\n",
    "name_phone_number = \"Добрый день! Высылаю контакты писателей: Пушкин Александр - 89210000000, Лермонтов Михаил - 89210000001, Есенин Сергей - 89210000002\"\n",
    "result = re.findall(r\"[А-ЯЁа-яё]+ [А-ЯЁа-яё]+ - \\d+\", name_phone_number)\n",
    "print(*result)"
   ]
  }
 ],
 "metadata": {
  "colab": {
   "collapsed_sections": [
    "d0MAv0ADXGjS",
    "3WM3hRlJ9g-S",
    "GwX-LOV_XGjf",
    "zD2c51HCXGjk",
    "UOroBSNnXGjl",
    "1lJb1KaGXGjl",
    "eTvmuhtOXGjp",
    "Lls1AWQnXGjs",
    "mf5F7hR5XGjv",
    "K7vk2mb26tab",
    "oeFnmGy08tYA",
    "NlOKBmaC8__3"
   ],
   "name": "23_RegEx.ipynb",
   "provenance": []
  },
  "kernelspec": {
   "display_name": "Python 3",
   "language": "python",
   "name": "python3"
  },
  "language_info": {
   "codemirror_mode": {
    "name": "ipython",
    "version": 3
   },
   "file_extension": ".py",
   "mimetype": "text/x-python",
   "name": "python",
   "nbconvert_exporter": "python",
   "pygments_lexer": "ipython3",
   "version": "3.8.8"
  }
 },
 "nbformat": 4,
 "nbformat_minor": 4
}
