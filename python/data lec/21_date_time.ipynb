{
 "cells": [
  {
   "cell_type": "markdown",
   "metadata": {
    "id": "65v4LaAjvpUQ"
   },
   "source": [
    "# Модуль Datetime\n",
    "*Datetime* - стандартный модуль **Python** для работы с датой и временем."
   ]
  },
  {
   "cell_type": "markdown",
   "metadata": {
    "id": "qCFfRtu1vpUV"
   },
   "source": [
    "## datetime.date"
   ]
  },
  {
   "cell_type": "markdown",
   "metadata": {
    "id": "PyTqWIH2SpYs"
   },
   "source": [
    "**datetime.date** используется для дат и содержит атрибуты *year*, *month* и *day*.\n",
    "\n",
    "**datetime.date(year, month, day)**\n",
    "\n",
    "Необходимо импортировать модуль:"
   ]
  },
  {
   "cell_type": "code",
   "execution_count": null,
   "metadata": {
    "id": "ghBosrlMvpUW"
   },
   "outputs": [],
   "source": [
    "import datetime  "
   ]
  },
  {
   "cell_type": "markdown",
   "metadata": {
    "id": "xFFSN9F6S0eu"
   },
   "source": [
    "Получим и запишем в переменную `a` текущую дату:"
   ]
  },
  {
   "cell_type": "code",
   "execution_count": null,
   "metadata": {
    "id": "Z_VXNzrUS1Pp"
   },
   "outputs": [],
   "source": [
    "a = datetime.date.today()  # Сегодняшний день"
   ]
  },
  {
   "cell_type": "markdown",
   "metadata": {
    "id": "bEFExs-9S1aq"
   },
   "source": [
    "Выведем сохраненное в `a` занчение ие го тип:"
   ]
  },
  {
   "cell_type": "code",
   "execution_count": null,
   "metadata": {
    "colab": {
     "base_uri": "https://localhost:8080/"
    },
    "executionInfo": {
     "elapsed": 465,
     "status": "ok",
     "timestamp": 1643635307588,
     "user": {
      "displayName": "Николай Смирнов",
      "photoUrl": "https://lh3.googleusercontent.com/a/default-user=s64",
      "userId": "05792503510966078252"
     },
     "user_tz": -180
    },
    "id": "AdqpuQb1vpUY",
    "outputId": "6dd50225-4c7b-40d9-f590-3bed8f248130"
   },
   "outputs": [],
   "source": [
    "print(a)  \n",
    "print(type(a))"
   ]
  },
  {
   "cell_type": "markdown",
   "metadata": {
    "id": "mNYJZr-DTMWO"
   },
   "source": [
    "Можно получить объект с заданной датой: "
   ]
  },
  {
   "cell_type": "code",
   "execution_count": null,
   "metadata": {
    "colab": {
     "base_uri": "https://localhost:8080/"
    },
    "executionInfo": {
     "elapsed": 296,
     "status": "ok",
     "timestamp": 1643635125945,
     "user": {
      "displayName": "Николай Смирнов",
      "photoUrl": "https://lh3.googleusercontent.com/a/default-user=s64",
      "userId": "05792503510966078252"
     },
     "user_tz": -180
    },
    "id": "tXpZTx3cvpUY",
    "outputId": "9a7c8a5c-dc9f-4a35-f9b4-9b4a672f769b"
   },
   "outputs": [],
   "source": [
    "print(datetime.date(2018, 12, 11))  "
   ]
  },
  {
   "cell_type": "markdown",
   "metadata": {
    "id": "cJiutajtTbCP"
   },
   "source": [
    "У объекта даты есть атрибуты `year`, `month`, `day`:"
   ]
  },
  {
   "cell_type": "code",
   "execution_count": null,
   "metadata": {
    "colab": {
     "base_uri": "https://localhost:8080/"
    },
    "executionInfo": {
     "elapsed": 254,
     "status": "ok",
     "timestamp": 1643635493559,
     "user": {
      "displayName": "Николай Смирнов",
      "photoUrl": "https://lh3.googleusercontent.com/a/default-user=s64",
      "userId": "05792503510966078252"
     },
     "user_tz": -180
    },
    "id": "qUHQ9D3wvpUZ",
    "outputId": "6e62da30-580f-4274-ef22-76f171637252"
   },
   "outputs": [],
   "source": [
    "today = datetime.date.today()\n",
    "print(f'Year: {today.year}, Month: {today.month}, Day: {today.day}')  "
   ]
  },
  {
   "cell_type": "markdown",
   "metadata": {
    "id": "56JkzaSivpUZ"
   },
   "source": [
    "### Задача 1\n",
    "Выведите на экран сегодняшнюю дату в формате MM-DD-YYYY (здесь и далее Y - год, M - месяц, D - день)."
   ]
  },
  {
   "cell_type": "code",
   "execution_count": null,
   "metadata": {
    "id": "XcW7lZETvpUa"
   },
   "outputs": [],
   "source": [
    "#Введите ваш код в эту ячейку"
   ]
  },
  {
   "cell_type": "markdown",
   "metadata": {
    "id": "x0DDXi78vpUb"
   },
   "source": [
    "[Посмотреть ответ на задачу](#exercise_1)"
   ]
  },
  {
   "cell_type": "markdown",
   "metadata": {
    "id": "GC20S6KDvpUc"
   },
   "source": [
    "### Вывод даты в формате YYYY-MM-DD:"
   ]
  },
  {
   "cell_type": "code",
   "execution_count": null,
   "metadata": {
    "colab": {
     "base_uri": "https://localhost:8080/"
    },
    "executionInfo": {
     "elapsed": 259,
     "status": "ok",
     "timestamp": 1643635496131,
     "user": {
      "displayName": "Николай Смирнов",
      "photoUrl": "https://lh3.googleusercontent.com/a/default-user=s64",
      "userId": "05792503510966078252"
     },
     "user_tz": -180
    },
    "id": "b3Qn_xxhvpUc",
    "outputId": "f9eeb4e5-6bf1-4ba2-d5e8-f4ac35dc967c"
   },
   "outputs": [],
   "source": [
    "print(today.isoformat())  "
   ]
  },
  {
   "cell_type": "markdown",
   "metadata": {
    "id": "7PPDFijxvpUd"
   },
   "source": [
    "### Установление номера дня недели, соответствующего дате"
   ]
  },
  {
   "cell_type": "code",
   "execution_count": null,
   "metadata": {
    "colab": {
     "base_uri": "https://localhost:8080/"
    },
    "executionInfo": {
     "elapsed": 245,
     "status": "ok",
     "timestamp": 1643635513120,
     "user": {
      "displayName": "Николай Смирнов",
      "photoUrl": "https://lh3.googleusercontent.com/a/default-user=s64",
      "userId": "05792503510966078252"
     },
     "user_tz": -180
    },
    "id": "0553J9QUvpUd",
    "outputId": "231be6af-6d57-4fa3-aff6-b8a7292925f0"
   },
   "outputs": [],
   "source": [
    "print(today.isoweekday())  # Выводит номер дня недели от 1 до 7"
   ]
  },
  {
   "cell_type": "markdown",
   "metadata": {
    "id": "l8ZjN2nivpUe"
   },
   "source": [
    "Метод *replace* - заменяет один или более атрибутов. При использование создается новый элемент, а не происходит замена в старом, поэтому необходимо сохранить в переменную результат."
   ]
  },
  {
   "cell_type": "code",
   "execution_count": null,
   "metadata": {
    "colab": {
     "base_uri": "https://localhost:8080/"
    },
    "executionInfo": {
     "elapsed": 277,
     "status": "ok",
     "timestamp": 1643635561423,
     "user": {
      "displayName": "Николай Смирнов",
      "photoUrl": "https://lh3.googleusercontent.com/a/default-user=s64",
      "userId": "05792503510966078252"
     },
     "user_tz": -180
    },
    "id": "zLhSCT_CvpUe",
    "outputId": "e1bf8629-7d3a-4c3b-aeef-2470077b9756"
   },
   "outputs": [],
   "source": [
    "today = datetime.date.today()\n",
    "print('Old:', today)\n",
    "today = today.replace(year=2000, day=3)  # Производим замену года и дня\n",
    "print('New:', today)"
   ]
  },
  {
   "cell_type": "markdown",
   "metadata": {
    "id": "nwlaZb3bvpUf"
   },
   "source": [
    "## datetime.time\n",
    "\n",
    "**datetime.time** - используется для времени и содержит аттрибуты *hour, minute, second...*\n",
    "\n",
    "**datetime.time(hour [, minute [, second [, microsecond [, tzinfo]]]])**"
   ]
  },
  {
   "cell_type": "code",
   "execution_count": null,
   "metadata": {
    "colab": {
     "base_uri": "https://localhost:8080/"
    },
    "executionInfo": {
     "elapsed": 249,
     "status": "ok",
     "timestamp": 1643635575334,
     "user": {
      "displayName": "Николай Смирнов",
      "photoUrl": "https://lh3.googleusercontent.com/a/default-user=s64",
      "userId": "05792503510966078252"
     },
     "user_tz": -180
    },
    "id": "UG2ObQYwvpUf",
    "outputId": "ef3bbfec-520b-4210-e1e4-d9c4f547100d"
   },
   "outputs": [],
   "source": [
    "t = datetime.time(11, 30, 41)\n",
    "print(t)"
   ]
  },
  {
   "cell_type": "code",
   "execution_count": null,
   "metadata": {
    "colab": {
     "base_uri": "https://localhost:8080/"
    },
    "executionInfo": {
     "elapsed": 4,
     "status": "ok",
     "timestamp": 1643635577289,
     "user": {
      "displayName": "Николай Смирнов",
      "photoUrl": "https://lh3.googleusercontent.com/a/default-user=s64",
      "userId": "05792503510966078252"
     },
     "user_tz": -180
    },
    "id": "cadq4PJSvpUg",
    "outputId": "7e077466-44f2-4248-8382-084f0d8d1ca8"
   },
   "outputs": [],
   "source": [
    "print(f'Hour: {t.hour}, Minute: {t.minute}, Second: {t.second}')  # Атрибуты\n",
    "\n",
    "print(t.isoformat())  # t в формате HH:MM:SS\n"
   ]
  },
  {
   "cell_type": "markdown",
   "metadata": {
    "id": "tAaO1XLAvpUg"
   },
   "source": [
    "Точно так же работает и `replace`."
   ]
  },
  {
   "cell_type": "code",
   "execution_count": null,
   "metadata": {
    "colab": {
     "base_uri": "https://localhost:8080/"
    },
    "executionInfo": {
     "elapsed": 226,
     "status": "ok",
     "timestamp": 1643635579680,
     "user": {
      "displayName": "Николай Смирнов",
      "photoUrl": "https://lh3.googleusercontent.com/a/default-user=s64",
      "userId": "05792503510966078252"
     },
     "user_tz": -180
    },
    "id": "OMnFq1-uvpUg",
    "outputId": "a9642ac0-8eb8-4c89-ba53-2c94069fd827"
   },
   "outputs": [],
   "source": [
    "t = datetime.time(11, 30, 41)\n",
    "print('Old:', t)\n",
    "t = t.replace(hour=5)\n",
    "print('New:', t)"
   ]
  },
  {
   "cell_type": "markdown",
   "metadata": {
    "id": "80CWjtsnvpUh"
   },
   "source": [
    "## datetime.datetime"
   ]
  },
  {
   "cell_type": "markdown",
   "metadata": {
    "id": "oIIc2LJ9vpUh"
   },
   "source": [
    "**datetime.datetime** - используется для указания полной даты: год, месяц, день, час, минута, секунда.\n",
    "\n",
    "**datetime.datetime(year, month, day[, hour[, minute[, second[, microsecond[, tzinfo]]]]])**\n",
    "\n",
    "**tzinfo** - информация о часовом поясе"
   ]
  },
  {
   "cell_type": "code",
   "execution_count": null,
   "metadata": {
    "colab": {
     "base_uri": "https://localhost:8080/"
    },
    "executionInfo": {
     "elapsed": 227,
     "status": "ok",
     "timestamp": 1643635585530,
     "user": {
      "displayName": "Николай Смирнов",
      "photoUrl": "https://lh3.googleusercontent.com/a/default-user=s64",
      "userId": "05792503510966078252"
     },
     "user_tz": -180
    },
    "id": "cx-Bi7C1vpUh",
    "outputId": "7f55a929-02f7-42e8-d24d-e67c33aba1d6"
   },
   "outputs": [],
   "source": [
    "datetime.datetime.now() # Текущее время"
   ]
  },
  {
   "cell_type": "code",
   "execution_count": null,
   "metadata": {
    "colab": {
     "base_uri": "https://localhost:8080/"
    },
    "executionInfo": {
     "elapsed": 266,
     "status": "ok",
     "timestamp": 1643635649101,
     "user": {
      "displayName": "Николай Смирнов",
      "photoUrl": "https://lh3.googleusercontent.com/a/default-user=s64",
      "userId": "05792503510966078252"
     },
     "user_tz": -180
    },
    "id": "v2eDCchwvpUi",
    "outputId": "f078dc96-9ac9-4a88-d64c-f6c0b1aa1829"
   },
   "outputs": [],
   "source": [
    "d = datetime.datetime.now()\n",
    "print(d)\n",
    "print(d.ctime())"
   ]
  },
  {
   "cell_type": "markdown",
   "metadata": {
    "id": "3Q0l0B4bvpUi"
   },
   "source": [
    "Метод *replace* работает также как и в *date* и *time*"
   ]
  },
  {
   "cell_type": "code",
   "execution_count": null,
   "metadata": {
    "colab": {
     "base_uri": "https://localhost:8080/"
    },
    "executionInfo": {
     "elapsed": 256,
     "status": "ok",
     "timestamp": 1643635650470,
     "user": {
      "displayName": "Николай Смирнов",
      "photoUrl": "https://lh3.googleusercontent.com/a/default-user=s64",
      "userId": "05792503510966078252"
     },
     "user_tz": -180
    },
    "id": "uc3wZJ-4vpUi",
    "outputId": "61c58306-3173-43c4-df6f-d3cb0a1d4b69"
   },
   "outputs": [],
   "source": [
    "d = datetime.datetime.now()\n",
    "print('Old:', d)\n",
    "d = d.replace(year=404)\n",
    "print('New:', d)"
   ]
  },
  {
   "cell_type": "markdown",
   "metadata": {
    "id": "-pb1E8oPvpUj"
   },
   "source": [
    "Используя метод **strptime** можно задать время из строки, описание можно посмотреть в [документации](https://docs.python.org/3/library/datetime.html#strftime-and-strptime-behavior).\n",
    "*   %Y - год,\n",
    "*   %m - номер месяца (1-12),\n",
    "*   %d - номер дня в месяце,\n",
    "*   %H - час,\n",
    "*   %M - минута,\n",
    "*   %S - секунда."
   ]
  },
  {
   "cell_type": "code",
   "execution_count": null,
   "metadata": {
    "colab": {
     "base_uri": "https://localhost:8080/"
    },
    "executionInfo": {
     "elapsed": 276,
     "status": "ok",
     "timestamp": 1643635655423,
     "user": {
      "displayName": "Николай Смирнов",
      "photoUrl": "https://lh3.googleusercontent.com/a/default-user=s64",
      "userId": "05792503510966078252"
     },
     "user_tz": -180
    },
    "id": "tW0OePXqvpUj",
    "outputId": "0974b6dd-4b17-4b97-d44c-89d504a45c5b"
   },
   "outputs": [],
   "source": [
    "timeinstr = \"2016/12/05 20:43:44\"\n",
    "d = datetime.datetime.strptime(timeinstr, \"%Y/%m/%d %H:%M:%S\")\n",
    "print(d.ctime())  # Дата и время в формате, указанном во второй строке"
   ]
  },
  {
   "cell_type": "markdown",
   "metadata": {
    "id": "Sr6pnH_2vpUj"
   },
   "source": [
    "Метод **strftime** - задает формат вывода даты:"
   ]
  },
  {
   "cell_type": "code",
   "execution_count": null,
   "metadata": {
    "colab": {
     "base_uri": "https://localhost:8080/",
     "height": 36
    },
    "executionInfo": {
     "elapsed": 262,
     "status": "ok",
     "timestamp": 1643635662074,
     "user": {
      "displayName": "Николай Смирнов",
      "photoUrl": "https://lh3.googleusercontent.com/a/default-user=s64",
      "userId": "05792503510966078252"
     },
     "user_tz": -180
    },
    "id": "9V8gRKjGvpUj",
    "outputId": "6f23c3e7-0c9f-41e5-854e-88a4d6cc9532",
    "scrolled": true
   },
   "outputs": [],
   "source": [
    "d.strftime('%A %I:%M:%S %p')"
   ]
  },
  {
   "cell_type": "markdown",
   "metadata": {
    "id": "nVuQtltLvpUk"
   },
   "source": [
    "Метод **timestamp** - возвращает UNIX-time"
   ]
  },
  {
   "cell_type": "code",
   "execution_count": null,
   "metadata": {
    "colab": {
     "base_uri": "https://localhost:8080/"
    },
    "executionInfo": {
     "elapsed": 234,
     "status": "ok",
     "timestamp": 1643635666014,
     "user": {
      "displayName": "Николай Смирнов",
      "photoUrl": "https://lh3.googleusercontent.com/a/default-user=s64",
      "userId": "05792503510966078252"
     },
     "user_tz": -180
    },
    "id": "RTrWlL2evpUk",
    "outputId": "e128235d-e358-4b4a-b0c1-c744d11614f1",
    "scrolled": true
   },
   "outputs": [],
   "source": [
    "d.timestamp()"
   ]
  },
  {
   "cell_type": "markdown",
   "metadata": {
    "id": "04uxkLLovpUk"
   },
   "source": [
    "## Объекты класса **timedelta** (разность между двумя датами)"
   ]
  },
  {
   "cell_type": "markdown",
   "metadata": {
    "id": "3lZr5DOeUw8i"
   },
   "source": [
    "**datetime.timedelta([days[, seconds[, microseconds[, milliseconds[, minutes[, hours[, weeks]]]]]]])**\n",
    "\n",
    "Создает объект **timedelta**, представляющий собой разницу между двумя датами и значениями времени. Значимыми являются только аргументы *days, seconds и microseconds.* То есть любые переданные значения трансформируются в указанные выше три параметра."
   ]
  },
  {
   "cell_type": "code",
   "execution_count": null,
   "metadata": {
    "colab": {
     "base_uri": "https://localhost:8080/"
    },
    "executionInfo": {
     "elapsed": 263,
     "status": "ok",
     "timestamp": 1642105691358,
     "user": {
      "displayName": "Николай Смирнов",
      "photoUrl": "https://lh3.googleusercontent.com/a/default-user=s64",
      "userId": "06049497090287159504"
     },
     "user_tz": -180
    },
    "id": "fKqaToy3vpUk",
    "outputId": "c5c42494-6ae4-4b9e-ebfe-924272523cab"
   },
   "outputs": [],
   "source": [
    "datetime.timedelta(0,23,122,0,33,13,0)"
   ]
  },
  {
   "cell_type": "code",
   "execution_count": null,
   "metadata": {
    "colab": {
     "base_uri": "https://localhost:8080/"
    },
    "executionInfo": {
     "elapsed": 243,
     "status": "ok",
     "timestamp": 1643635904749,
     "user": {
      "displayName": "Николай Смирнов",
      "photoUrl": "https://lh3.googleusercontent.com/a/default-user=s64",
      "userId": "05792503510966078252"
     },
     "user_tz": -180
    },
    "id": "HnmRraT-vpUl",
    "outputId": "0c8e555a-56a8-42c3-8c41-405fc0ea2e41"
   },
   "outputs": [],
   "source": [
    "d = datetime.datetime(2020, 12, 5, 20, 43, 44)\n",
    "datetime.datetime.now() - d  # Можно воспользоваться операцией вычитания\n"
   ]
  },
  {
   "cell_type": "markdown",
   "metadata": {
    "id": "GvLCkOXlvpUl"
   },
   "source": [
    "## Математические операции над датами\n"
   ]
  },
  {
   "cell_type": "markdown",
   "metadata": {
    "id": "PGcMlY-_UsMr"
   },
   "source": [
    "\n",
    "Классы **date** и **datetime** поддерживают операции:\n",
    "\n",
    "| Операция | Описание |\n",
    "| --- | --- |\n",
    "| `td = date1 - date2` | Возвращает объект timedelta |\n",
    "| `date2 = date1 + td` | Добавляет разность timedelta к объекту date |\n",
    "| `date2 = date1 - td` | Вычитает разность timedelta от объекта date |\n",
    "| `date1 < date2` | Сравнение дат |\n",
    "| `date1 <= date2` |  |\n",
    "| `date1 > date2` |  |\n",
    "| `date1 >= date2` |  |\n",
    "| `date1 != date2` | != - означает \"не равно\" |\n",
    "| `date1 == date2` |  |\n",
    "\n",
    "Операции `+` и `-` не применимы к объектам `datetime.time`"
   ]
  },
  {
   "cell_type": "markdown",
   "metadata": {
    "id": "KSKhgQnevpUl"
   },
   "source": [
    "### timedelta\n",
    "\n",
    "| Операции | Описание |\n",
    "| --- | --- |\n",
    "| `td3 = td2 + td1` | Складывает две разности |\n",
    "| `td3 = td2 - td1` | Вычитает одну разность из другой |\n",
    "| `td3 = td1 * i` | Умножает на целое число |\n",
    "| `td3 = i * td1` |  |\n",
    "| `td3 = td1 // i` | Целочисленное деление на i с округлением вниз |\n",
    "    | `td3 = -td1` | Унарные плюс и минус |\n",
    "| `td3 = +td1` |  |\n",
    "| `abs(td1)` | Абсолютное значение |\n",
    "| `td1 < td2` | Сравнение |\n",
    "| `td1 <= td2` |  |\n",
    "| `td1 > td2` |  |\n",
    "| `td1 >= td2` |  |\n",
    "| `td1 == td2` |  |\n",
    "| `td1 != td2` |  |\n",
    "\n",
    "Если объект `datetime.datetime` содержит информацию о часовом поясе, то его можно сравнивать с другим объектом `datetime.datetime`, только если он содержит информацию о часовом поясе; в противном случае будет возбуждено исключение TypeError."
   ]
  },
  {
   "cell_type": "code",
   "execution_count": null,
   "metadata": {
    "colab": {
     "base_uri": "https://localhost:8080/"
    },
    "executionInfo": {
     "elapsed": 385,
     "status": "ok",
     "timestamp": 1643635989033,
     "user": {
      "displayName": "Николай Смирнов",
      "photoUrl": "https://lh3.googleusercontent.com/a/default-user=s64",
      "userId": "05792503510966078252"
     },
     "user_tz": -180
    },
    "id": "zB0DiQKUvpUm",
    "outputId": "0fd1eda4-40b8-485e-d372-909beda0eec8"
   },
   "outputs": [],
   "source": [
    "d = datetime.datetime.now()\n",
    "oneday = datetime.timedelta(days=1)  # Запишем в переменную разницу в один день\n",
    "print(d)\n",
    "print(d+oneday)  # Добавим к сегодняшнему дню еще один"
   ]
  },
  {
   "cell_type": "markdown",
   "metadata": {
    "id": "s1CmV34evpUm"
   },
   "source": [
    "### Задача 2\n",
    "Определите произвольную дату (можно из прошлого, можно из будушего) и найдите количество времени между определенной датой и сегодняшней. Выведите на экран количество лет, прошедших между датами."
   ]
  },
  {
   "cell_type": "code",
   "execution_count": null,
   "metadata": {
    "id": "FKOsz7XtvpUm"
   },
   "outputs": [],
   "source": [
    "#Введите ваш код в эту ячейку"
   ]
  },
  {
   "cell_type": "markdown",
   "metadata": {
    "id": "oEAk7AzXvpUm"
   },
   "source": [
    "[Посмотреть ответ на задачу](#exercise_2)"
   ]
  },
  {
   "cell_type": "markdown",
   "metadata": {
    "id": "xIdUpNe1vpUm"
   },
   "source": [
    "## Смена часового пояса"
   ]
  },
  {
   "cell_type": "markdown",
   "metadata": {
    "id": "lJ4gQLwhvpUn"
   },
   "source": [
    "Модуль *pytz* позволяет определять часовые пояса."
   ]
  },
  {
   "cell_type": "code",
   "execution_count": null,
   "metadata": {
    "id": "2aE3-AQhvpUn"
   },
   "outputs": [],
   "source": [
    "import pytz"
   ]
  },
  {
   "cell_type": "code",
   "execution_count": null,
   "metadata": {
    "colab": {
     "base_uri": "https://localhost:8080/"
    },
    "executionInfo": {
     "elapsed": 281,
     "status": "ok",
     "timestamp": 1642100800405,
     "user": {
      "displayName": "Николай Смирнов",
      "photoUrl": "https://lh3.googleusercontent.com/a/default-user=s64",
      "userId": "06049497090287159504"
     },
     "user_tz": -180
    },
    "id": "rhk_BFLivpUn",
    "outputId": "52f0829e-2851-4b65-efbd-617bb98c8ae5"
   },
   "outputs": [],
   "source": [
    "# Определим текущую дату и время\n",
    "d = datetime.datetime.now()\n",
    "\n",
    "# Переведем текущую дату и время в часовой пояс Москвы\n",
    "moscow_tz = pytz.timezone('Europe/Moscow')\n",
    "moscow_dt = moscow_tz.localize(d)\n",
    "print('moscow_dt =', moscow_dt)  # Время часовом поясе Москвы\n",
    "\n",
    "# Переведем текущую дату и время в часовой пояс Чикаго\n",
    "chicago_tz = pytz.timezone('America/Chicago')\n",
    "chicago_dt = chicago_tz.normalize(moscow_dt)\n",
    "print('chicago_dt =', chicago_dt)  # Время часовом поясе Чикаго\n",
    "\n",
    "# Переведем московское время в часовой пояс Чикаго\n",
    "print('moscow_dt.astimezone(chicago_tz)=', moscow_dt.astimezone(chicago_tz))"
   ]
  },
  {
   "cell_type": "markdown",
   "metadata": {
    "id": "YbSy8YFtvpUn"
   },
   "source": [
    "*Метод* ***timezone*** - создает объект с определенным часовым поясом.\n",
    "\n",
    "Метод ***localize*** - устанавливает часовой пояс для даты. Время в *datetime* без часового пояса считается текущим.\n",
    "\n",
    "Метод ***normalize*** - осуществляет переход между часовыми поясами. <br>\n",
    "\n",
    "Метод ***astimezone*** - конвертирует дату в нужный часовой пояс. <br>\n",
    "\n",
    "***Normalize*** и ***astimezone*** дополняют друг друга.<br>\n",
    "Подробнее о том, почему нужны оба метода можно прочитать по [ссылке](https://stackoverflow.com/questions/1422880/pytz-why-is-normalize-needed-when-converting-between-timezones)"
   ]
  },
  {
   "cell_type": "markdown",
   "metadata": {
    "id": "P-OCCaKhvpUn"
   },
   "source": [
    "## Пример парсинга даты из строки и преобразования часового пояса"
   ]
  },
  {
   "cell_type": "code",
   "execution_count": null,
   "metadata": {
    "id": "4FZFs88WvpUo"
   },
   "outputs": [],
   "source": [
    "import dateutil.parser\n",
    "from  dateutil.tz  import  tzoffset,  tzlocal"
   ]
  },
  {
   "cell_type": "markdown",
   "metadata": {
    "id": "76LI6sdovpUo"
   },
   "source": [
    "***Parser*** - модуль, который предлагает универсальный синтаксический анализатор строк даты/времени. Он может анализировать большинство известных форматов для представления даты и/или времени.<br>\n",
    "***Tz*** - модуль, содержащий реализации часового пояса, являющиеся подклассами абстрактного типа ***datetime.tzinfo***.<br>\n",
    "***Tzoffset*** - класс для представления фиксированного смещения от UTC. <br>\n",
    "***Tzlocal*** - модуль, возвращающий объект ***tzinfo*** (с ***pytz_deprecation_shim*** для совместимости с ***pytz***) с информацией о местном часовом поясе.\n"
   ]
  },
  {
   "cell_type": "code",
   "execution_count": null,
   "metadata": {
    "id": "dK0Xt7QGvpUo"
   },
   "outputs": [],
   "source": [
    "print(dateutil.parser.parse('Thu, 26 Jun 2014 05:07:27 +0400'))\n",
    "print(dateutil.parser.parse('Thu, 26 Jun 2014 05:07:27 +0400').astimezone(tzoffset(None, 3*3600)))\n"
   ]
  },
  {
   "cell_type": "markdown",
   "metadata": {
    "id": "OdEKa1huvpUx"
   },
   "source": [
    "##Ответы на задачи:"
   ]
  },
  {
   "cell_type": "markdown",
   "metadata": {
    "id": "s0EvvmsCvpUx"
   },
   "source": [
    "<a name=\"exercise_1\"></a>\n",
    "## Ответ на задачу 1 (вывод даты в формате MM-DD-YYYY)"
   ]
  },
  {
   "cell_type": "code",
   "execution_count": null,
   "metadata": {
    "id": "c0dA4CWjvpUx"
   },
   "outputs": [],
   "source": [
    "today = datetime.date.today()\n",
    "print(f'{today.month}-{today.day}-{today.year}')"
   ]
  },
  {
   "cell_type": "markdown",
   "metadata": {
    "id": "iyycZGxmvpUx"
   },
   "source": [
    "<a name=\"exercise_2\"></a>\n",
    "## Ответ на задачу 2 (о разнице между датами)"
   ]
  },
  {
   "cell_type": "code",
   "execution_count": null,
   "metadata": {
    "id": "rgSJllT0vpUx"
   },
   "outputs": [],
   "source": [
    "import datetime\n",
    "random_date = datetime.date(2025, 12, 11)\n",
    "today = datetime.date.today()\n",
    "difference = today - random_date\n",
    "print(abs(difference.days//365))  # // дает целую часть от деления двух чисел"
   ]
  }
 ],
 "metadata": {
  "colab": {
   "collapsed_sections": [
    "qCFfRtu1vpUV",
    "7PPDFijxvpUd",
    "nwlaZb3bvpUf",
    "80CWjtsnvpUh",
    "04uxkLLovpUk",
    "GvLCkOXlvpUl",
    "KSKhgQnevpUl",
    "s1CmV34evpUm",
    "xIdUpNe1vpUm",
    "P-OCCaKhvpUn",
    "OdEKa1huvpUx",
    "s0EvvmsCvpUx",
    "iyycZGxmvpUx"
   ],
   "name": "21_date_time.ipynb",
   "provenance": []
  },
  "kernelspec": {
   "display_name": "Python 3",
   "language": "python",
   "name": "python3"
  },
  "language_info": {
   "codemirror_mode": {
    "name": "ipython",
    "version": 3
   },
   "file_extension": ".py",
   "mimetype": "text/x-python",
   "name": "python",
   "nbconvert_exporter": "python",
   "pygments_lexer": "ipython3",
   "version": "3.8.8"
  }
 },
 "nbformat": 4,
 "nbformat_minor": 4
}
