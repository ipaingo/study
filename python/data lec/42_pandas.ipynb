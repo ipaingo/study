{
 "cells": [
  {
   "cell_type": "markdown",
   "metadata": {
    "id": "Knw9VPXBA4gJ"
   },
   "source": [
    "# Pandas\n",
    "**Pandas** (*python data analysis*) — модуль для работы с табличными данными, основанный на **NumPy**. Основные особенности:\n",
    "* удобная и эффективная работа с различными типами данных в разных столбцах таблицы\n",
    "* набор статистических операций для обработки данных и моделирования\n",
    "* встроенная обработка отсутствующих/пропущенных данных\n",
    "* поддержка сложных методов индексации (как в **NumPy**)\n",
    "* высокооптимизированный код на **C**\n",
    "* поддержка работы с большими объемами данных"
   ]
  },
  {
   "cell_type": "code",
   "metadata": {
    "executionInfo": {
     "elapsed": 329,
     "status": "ok",
     "timestamp": 1649245044752,
     "user": {
      "displayName": "Николай Смирнов",
      "userId": "05792503510966078252"
     },
     "user_tz": -180
    },
    "id": "s2Y4_slyA4gP",
    "ExecuteTime": {
     "end_time": "2024-11-27T23:27:08.812851Z",
     "start_time": "2024-11-27T23:27:06.067472Z"
    }
   },
   "source": [
    "%matplotlib inline\n",
    "import pandas as pd\n",
    "import numpy as np"
   ],
   "outputs": [],
   "execution_count": 6
  },
  {
   "cell_type": "markdown",
   "metadata": {
    "id": "pfKDhmloA4gS"
   },
   "source": [
    "Наибольшее количество выводимых строк задается параметром *pd.options.display.max_rows*. Можно изменить его значение:"
   ]
  },
  {
   "cell_type": "code",
   "metadata": {
    "executionInfo": {
     "elapsed": 492,
     "status": "ok",
     "timestamp": 1649245045241,
     "user": {
      "displayName": "Николай Смирнов",
      "userId": "05792503510966078252"
     },
     "user_tz": -180
    },
    "id": "Z0XsO7yKA4gT",
    "ExecuteTime": {
     "end_time": "2024-11-27T23:27:08.825312Z",
     "start_time": "2024-11-27T23:27:08.821964Z"
    }
   },
   "source": [
    "pd.options.display.max_rows = 10  # Будет выводиться не более 10 строк"
   ],
   "outputs": [],
   "execution_count": 7
  },
  {
   "cell_type": "markdown",
   "metadata": {
    "id": "m0uzouFeA4gX"
   },
   "source": [
    "## Два основных типа объектов: pd.Series и pd.DataFrame "
   ]
  },
  {
   "cell_type": "markdown",
   "metadata": {
    "id": "UhJ-wLBvA4gZ"
   },
   "source": [
    "## Series (серия)\n"
   ]
  },
  {
   "cell_type": "markdown",
   "metadata": {
    "id": "xsQoITTXmysQ"
   },
   "source": [
    "Серия - тип данных, в основе которого **одномерный массив элементов одного типа**, как и в **NumPy**.\n",
    "\n",
    "В блоке ниже создается серия элементов 10, 11, ..., 14. При выводе на экран этой серии получаем два столбца: в первом столбце автоматически сгенерированные *индексы* элементов, во втором сами *элементы*."
   ]
  },
  {
   "cell_type": "code",
   "metadata": {
    "colab": {
     "base_uri": "https://localhost:8080/"
    },
    "executionInfo": {
     "elapsed": 15,
     "status": "ok",
     "timestamp": 1649245045241,
     "user": {
      "displayName": "Николай Смирнов",
      "userId": "05792503510966078252"
     },
     "user_tz": -180
    },
    "id": "ZL-9BYKKA4gb",
    "outputId": "2ae4d5f2-2abe-48df-b83e-58b3dd416fa9",
    "ExecuteTime": {
     "end_time": "2024-11-27T23:27:08.923523Z",
     "start_time": "2024-11-27T23:27:08.914771Z"
    }
   },
   "source": [
    "s = pd.Series(range(10,15))\n",
    "print('Серия:\\n', s)"
   ],
   "outputs": [
    {
     "name": "stdout",
     "output_type": "stream",
     "text": [
      "Серия:\n",
      " 0    10\n",
      "1    11\n",
      "2    12\n",
      "3    13\n",
      "4    14\n",
      "dtype: int64\n"
     ]
    }
   ],
   "execution_count": 8
  },
  {
   "cell_type": "markdown",
   "metadata": {
    "id": "3YTidiVFUx7c"
   },
   "source": [
    "Можно обратиться к элементу серии по *индексу*: вывести его на экран, изменить его значение, ... :"
   ]
  },
  {
   "cell_type": "code",
   "metadata": {
    "colab": {
     "base_uri": "https://localhost:8080/"
    },
    "executionInfo": {
     "elapsed": 13,
     "status": "ok",
     "timestamp": 1649245045241,
     "user": {
      "displayName": "Николай Смирнов",
      "userId": "05792503510966078252"
     },
     "user_tz": -180
    },
    "id": "9ql7rGDST4LT",
    "outputId": "2f05fb82-ef7e-435c-a6be-5563b494fe8e",
    "ExecuteTime": {
     "end_time": "2024-11-27T23:27:08.967858Z",
     "start_time": "2024-11-27T23:27:08.964531Z"
    }
   },
   "source": [
    "print(\n",
    "    f'Индексация:',\n",
    "    f's[2]: {s[2]}\\n'\n",
    ")\n",
    "\n",
    "s[2] = 0\n",
    "print('Модификация (s[2] = 0):', s)"
   ],
   "outputs": [
    {
     "name": "stdout",
     "output_type": "stream",
     "text": [
      "Индексация: s[2]: 12\n",
      "\n",
      "Модификация (s[2] = 0): 0    10\n",
      "1    11\n",
      "2     0\n",
      "3    13\n",
      "4    14\n",
      "dtype: int64\n"
     ]
    }
   ],
   "execution_count": 9
  },
  {
   "cell_type": "markdown",
   "metadata": {
    "id": "BKpwrlxiA4gd"
   },
   "source": [
    "Серии могут работать как **словарь (dict)**.\n",
    "\n",
    "В предыдущем примере *индексы* элементов были выставлены по умолчанию (0,1,2,...), но их можно задавать самостоятельно:"
   ]
  },
  {
   "cell_type": "code",
   "metadata": {
    "colab": {
     "base_uri": "https://localhost:8080/"
    },
    "executionInfo": {
     "elapsed": 14,
     "status": "ok",
     "timestamp": 1649245045244,
     "user": {
      "displayName": "Николай Смирнов",
      "userId": "05792503510966078252"
     },
     "user_tz": -180
    },
    "id": "Xofrcwa4A4ge",
    "outputId": "a2763e35-43d7-45af-e087-bc1e63127fc2",
    "ExecuteTime": {
     "end_time": "2024-11-27T23:27:09.053418Z",
     "start_time": "2024-11-27T23:27:09.044077Z"
    }
   },
   "source": [
    "s = pd.Series(range(10,15), index=['e', 'd', 'c', 'b', 'a'])\n",
    "print('Серия:', s)"
   ],
   "outputs": [
    {
     "name": "stdout",
     "output_type": "stream",
     "text": [
      "Серия: e    10\n",
      "d    11\n",
      "c    12\n",
      "b    13\n",
      "a    14\n",
      "dtype: int64\n"
     ]
    }
   ],
   "execution_count": 10
  },
  {
   "cell_type": "code",
   "metadata": {
    "colab": {
     "base_uri": "https://localhost:8080/"
    },
    "executionInfo": {
     "elapsed": 14,
     "status": "ok",
     "timestamp": 1649245045245,
     "user": {
      "displayName": "Николай Смирнов",
      "userId": "05792503510966078252"
     },
     "user_tz": -180
    },
    "id": "sPUP9syzVoBb",
    "outputId": "8df8c6c2-3d98-4017-b4c4-5e6789259846",
    "ExecuteTime": {
     "end_time": "2024-11-27T23:27:09.252367Z",
     "start_time": "2024-11-27T23:27:09.249901Z"
    }
   },
   "source": [
    "print(\n",
    "    'Обращение по индексу:',\n",
    "    f\"s['c'] = {s['c']}\\n\"\n",
    ")"
   ],
   "outputs": [
    {
     "name": "stdout",
     "output_type": "stream",
     "text": [
      "Обращение по индексу: s['c'] = 12\n",
      "\n"
     ]
    }
   ],
   "execution_count": 11
  },
  {
   "cell_type": "markdown",
   "metadata": {
    "id": "s_XGlqRzaZys"
   },
   "source": [
    "Обращение по ключу, которого нет в серии вызывает `KeyError`:"
   ]
  },
  {
   "cell_type": "code",
   "metadata": {
    "colab": {
     "base_uri": "https://localhost:8080/",
     "height": 536
    },
    "executionInfo": {
     "elapsed": 855,
     "status": "error",
     "timestamp": 1649245046087,
     "user": {
      "displayName": "Николай Смирнов",
      "userId": "05792503510966078252"
     },
     "user_tz": -180
    },
    "id": "qpD48mfAaoHG",
    "outputId": "23345c7f-994a-4ea6-b9c1-9073e97a5145",
    "ExecuteTime": {
     "end_time": "2024-11-27T23:27:09.540716Z",
     "start_time": "2024-11-27T23:27:09.293833Z"
    }
   },
   "source": [
    "s['f']"
   ],
   "outputs": [
    {
     "ename": "KeyError",
     "evalue": "'f'",
     "output_type": "error",
     "traceback": [
      "\u001B[0;31m---------------------------------------------------------------------------\u001B[0m",
      "\u001B[0;31mKeyError\u001B[0m                                  Traceback (most recent call last)",
      "File \u001B[0;32m~/git/study/python/.venv/lib/python3.12/site-packages/pandas/core/indexes/base.py:3805\u001B[0m, in \u001B[0;36mIndex.get_loc\u001B[0;34m(self, key)\u001B[0m\n\u001B[1;32m   3804\u001B[0m \u001B[38;5;28;01mtry\u001B[39;00m:\n\u001B[0;32m-> 3805\u001B[0m     \u001B[38;5;28;01mreturn\u001B[39;00m \u001B[38;5;28;43mself\u001B[39;49m\u001B[38;5;241;43m.\u001B[39;49m\u001B[43m_engine\u001B[49m\u001B[38;5;241;43m.\u001B[39;49m\u001B[43mget_loc\u001B[49m\u001B[43m(\u001B[49m\u001B[43mcasted_key\u001B[49m\u001B[43m)\u001B[49m\n\u001B[1;32m   3806\u001B[0m \u001B[38;5;28;01mexcept\u001B[39;00m \u001B[38;5;167;01mKeyError\u001B[39;00m \u001B[38;5;28;01mas\u001B[39;00m err:\n",
      "File \u001B[0;32mindex.pyx:167\u001B[0m, in \u001B[0;36mpandas._libs.index.IndexEngine.get_loc\u001B[0;34m()\u001B[0m\n",
      "File \u001B[0;32mindex.pyx:196\u001B[0m, in \u001B[0;36mpandas._libs.index.IndexEngine.get_loc\u001B[0;34m()\u001B[0m\n",
      "File \u001B[0;32mpandas/_libs/hashtable_class_helper.pxi:7081\u001B[0m, in \u001B[0;36mpandas._libs.hashtable.PyObjectHashTable.get_item\u001B[0;34m()\u001B[0m\n",
      "File \u001B[0;32mpandas/_libs/hashtable_class_helper.pxi:7089\u001B[0m, in \u001B[0;36mpandas._libs.hashtable.PyObjectHashTable.get_item\u001B[0;34m()\u001B[0m\n",
      "\u001B[0;31mKeyError\u001B[0m: 'f'",
      "\nThe above exception was the direct cause of the following exception:\n",
      "\u001B[0;31mKeyError\u001B[0m                                  Traceback (most recent call last)",
      "Cell \u001B[0;32mIn[12], line 1\u001B[0m\n\u001B[0;32m----> 1\u001B[0m \u001B[43ms\u001B[49m\u001B[43m[\u001B[49m\u001B[38;5;124;43m'\u001B[39;49m\u001B[38;5;124;43mf\u001B[39;49m\u001B[38;5;124;43m'\u001B[39;49m\u001B[43m]\u001B[49m\n",
      "File \u001B[0;32m~/git/study/python/.venv/lib/python3.12/site-packages/pandas/core/series.py:1121\u001B[0m, in \u001B[0;36mSeries.__getitem__\u001B[0;34m(self, key)\u001B[0m\n\u001B[1;32m   1118\u001B[0m     \u001B[38;5;28;01mreturn\u001B[39;00m \u001B[38;5;28mself\u001B[39m\u001B[38;5;241m.\u001B[39m_values[key]\n\u001B[1;32m   1120\u001B[0m \u001B[38;5;28;01melif\u001B[39;00m key_is_scalar:\n\u001B[0;32m-> 1121\u001B[0m     \u001B[38;5;28;01mreturn\u001B[39;00m \u001B[38;5;28;43mself\u001B[39;49m\u001B[38;5;241;43m.\u001B[39;49m\u001B[43m_get_value\u001B[49m\u001B[43m(\u001B[49m\u001B[43mkey\u001B[49m\u001B[43m)\u001B[49m\n\u001B[1;32m   1123\u001B[0m \u001B[38;5;66;03m# Convert generator to list before going through hashable part\u001B[39;00m\n\u001B[1;32m   1124\u001B[0m \u001B[38;5;66;03m# (We will iterate through the generator there to check for slices)\u001B[39;00m\n\u001B[1;32m   1125\u001B[0m \u001B[38;5;28;01mif\u001B[39;00m is_iterator(key):\n",
      "File \u001B[0;32m~/git/study/python/.venv/lib/python3.12/site-packages/pandas/core/series.py:1237\u001B[0m, in \u001B[0;36mSeries._get_value\u001B[0;34m(self, label, takeable)\u001B[0m\n\u001B[1;32m   1234\u001B[0m     \u001B[38;5;28;01mreturn\u001B[39;00m \u001B[38;5;28mself\u001B[39m\u001B[38;5;241m.\u001B[39m_values[label]\n\u001B[1;32m   1236\u001B[0m \u001B[38;5;66;03m# Similar to Index.get_value, but we do not fall back to positional\u001B[39;00m\n\u001B[0;32m-> 1237\u001B[0m loc \u001B[38;5;241m=\u001B[39m \u001B[38;5;28;43mself\u001B[39;49m\u001B[38;5;241;43m.\u001B[39;49m\u001B[43mindex\u001B[49m\u001B[38;5;241;43m.\u001B[39;49m\u001B[43mget_loc\u001B[49m\u001B[43m(\u001B[49m\u001B[43mlabel\u001B[49m\u001B[43m)\u001B[49m\n\u001B[1;32m   1239\u001B[0m \u001B[38;5;28;01mif\u001B[39;00m is_integer(loc):\n\u001B[1;32m   1240\u001B[0m     \u001B[38;5;28;01mreturn\u001B[39;00m \u001B[38;5;28mself\u001B[39m\u001B[38;5;241m.\u001B[39m_values[loc]\n",
      "File \u001B[0;32m~/git/study/python/.venv/lib/python3.12/site-packages/pandas/core/indexes/base.py:3812\u001B[0m, in \u001B[0;36mIndex.get_loc\u001B[0;34m(self, key)\u001B[0m\n\u001B[1;32m   3807\u001B[0m     \u001B[38;5;28;01mif\u001B[39;00m \u001B[38;5;28misinstance\u001B[39m(casted_key, \u001B[38;5;28mslice\u001B[39m) \u001B[38;5;129;01mor\u001B[39;00m (\n\u001B[1;32m   3808\u001B[0m         \u001B[38;5;28misinstance\u001B[39m(casted_key, abc\u001B[38;5;241m.\u001B[39mIterable)\n\u001B[1;32m   3809\u001B[0m         \u001B[38;5;129;01mand\u001B[39;00m \u001B[38;5;28many\u001B[39m(\u001B[38;5;28misinstance\u001B[39m(x, \u001B[38;5;28mslice\u001B[39m) \u001B[38;5;28;01mfor\u001B[39;00m x \u001B[38;5;129;01min\u001B[39;00m casted_key)\n\u001B[1;32m   3810\u001B[0m     ):\n\u001B[1;32m   3811\u001B[0m         \u001B[38;5;28;01mraise\u001B[39;00m InvalidIndexError(key)\n\u001B[0;32m-> 3812\u001B[0m     \u001B[38;5;28;01mraise\u001B[39;00m \u001B[38;5;167;01mKeyError\u001B[39;00m(key) \u001B[38;5;28;01mfrom\u001B[39;00m \u001B[38;5;21;01merr\u001B[39;00m\n\u001B[1;32m   3813\u001B[0m \u001B[38;5;28;01mexcept\u001B[39;00m \u001B[38;5;167;01mTypeError\u001B[39;00m:\n\u001B[1;32m   3814\u001B[0m     \u001B[38;5;66;03m# If we have a listlike key, _check_indexing_error will raise\u001B[39;00m\n\u001B[1;32m   3815\u001B[0m     \u001B[38;5;66;03m#  InvalidIndexError. Otherwise we fall through and re-raise\u001B[39;00m\n\u001B[1;32m   3816\u001B[0m     \u001B[38;5;66;03m#  the TypeError.\u001B[39;00m\n\u001B[1;32m   3817\u001B[0m     \u001B[38;5;28mself\u001B[39m\u001B[38;5;241m.\u001B[39m_check_indexing_error(key)\n",
      "\u001B[0;31mKeyError\u001B[0m: 'f'"
     ]
    }
   ],
   "execution_count": 12
  },
  {
   "cell_type": "markdown",
   "metadata": {
    "id": "gvUCgrivVmQm"
   },
   "source": [
    "Чтобы не допускать ошибку KeyError, вместо прямого обращения по индексу, можно использовать метод `get(a,b)`, который будет искать в серии *ключ*, переданный в качестве первого аргумента функции `a`. Если *ключ* не найден, то будет выведено значение, переданное в качестве второго аргумента функции `b`, или `None`, если `b` не задан. "
   ]
  },
  {
   "cell_type": "code",
   "metadata": {
    "colab": {
     "base_uri": "https://localhost:8080/"
    },
    "executionInfo": {
     "elapsed": 293,
     "status": "ok",
     "timestamp": 1649245056789,
     "user": {
      "displayName": "Николай Смирнов",
      "userId": "05792503510966078252"
     },
     "user_tz": -180
    },
    "id": "cSQL7JPtVcnz",
    "outputId": "c4493130-4306-48d8-ae82-2fe4636fc624",
    "ExecuteTime": {
     "end_time": "2024-11-27T23:27:32.434297Z",
     "start_time": "2024-11-27T23:27:32.431282Z"
    }
   },
   "source": [
    "print(\n",
    "    'Получение доступа к несуществующему ключу:', '\\n',\n",
    "    s.get('f', 'Нет такого ключа!'), '\\n',\n",
    "    s.get('q')\n",
    ")"
   ],
   "outputs": [
    {
     "name": "stdout",
     "output_type": "stream",
     "text": [
      "Получение доступа к несуществующему ключу: \n",
      " Нет такого ключа! \n",
      " None\n"
     ]
    }
   ],
   "execution_count": 13
  },
  {
   "cell_type": "markdown",
   "metadata": {
    "id": "A4fXOzN2A4gg"
   },
   "source": [
    "Обратите внимание, что значения в серии остаются упорядочеными, т.е. серия ведет себя как упорядоченный **словарь** (`collections.OrderedDict`).\n",
    "Начиная с **Python 3.6**, серии можно создавать из обычных словарей, так как в **Python 3.6** обычные словари стали сохранять порядок.\n",
    "\n",
    "Серии поддерживают типичные операции `np.array` (маски, индексирование, расширяющие функции...):"
   ]
  },
  {
   "cell_type": "code",
   "metadata": {
    "colab": {
     "base_uri": "https://localhost:8080/"
    },
    "executionInfo": {
     "elapsed": 297,
     "status": "ok",
     "timestamp": 1649245059102,
     "user": {
      "displayName": "Николай Смирнов",
      "userId": "05792503510966078252"
     },
     "user_tz": -180
    },
    "id": "Us5qQB_EA4gh",
    "outputId": "1a5e1036-c13e-4e45-d3fe-ffa96aeb781e",
    "ExecuteTime": {
     "end_time": "2024-11-27T23:27:35.227454Z",
     "start_time": "2024-11-27T23:27:35.224471Z"
    }
   },
   "source": [
    "s = pd.Series(range(10,15), index=['e', 'd', 'c', 'b', 'a'])\n",
    "print('Серия:', s)"
   ],
   "outputs": [
    {
     "name": "stdout",
     "output_type": "stream",
     "text": [
      "Серия: e    10\n",
      "d    11\n",
      "c    12\n",
      "b    13\n",
      "a    14\n",
      "dtype: int64\n"
     ]
    }
   ],
   "execution_count": 14
  },
  {
   "cell_type": "markdown",
   "metadata": {
    "id": "QZfzmHnmcAXA"
   },
   "source": [
    "**Маска** — массив булевых значний (True, False). Для примера получим **маску**, четные элементы которой будут иметь значение *True*, а нечетные — *False*:"
   ]
  },
  {
   "cell_type": "code",
   "metadata": {
    "colab": {
     "base_uri": "https://localhost:8080/"
    },
    "executionInfo": {
     "elapsed": 381,
     "status": "ok",
     "timestamp": 1649245061570,
     "user": {
      "displayName": "Николай Смирнов",
      "userId": "05792503510966078252"
     },
     "user_tz": -180
    },
    "id": "L3SBBFYIA4gh",
    "outputId": "6aaacd8c-5130-4a80-ded3-3a531e093d51",
    "ExecuteTime": {
     "end_time": "2024-11-27T23:27:37.027023Z",
     "start_time": "2024-11-27T23:27:37.023583Z"
    }
   },
   "source": [
    "mask = s%2 == 0\n",
    "print('Маска четных элементов:\\n', mask)"
   ],
   "outputs": [
    {
     "name": "stdout",
     "output_type": "stream",
     "text": [
      "Маска четных элементов:\n",
      " e     True\n",
      "d    False\n",
      "c     True\n",
      "b    False\n",
      "a     True\n",
      "dtype: bool\n"
     ]
    }
   ],
   "execution_count": 15
  },
  {
   "cell_type": "markdown",
   "metadata": {
    "id": "ZOGEGwPhdO5r"
   },
   "source": [
    "Маску можно использовать для отделения интересующих элементов:"
   ]
  },
  {
   "cell_type": "code",
   "metadata": {
    "colab": {
     "base_uri": "https://localhost:8080/"
    },
    "executionInfo": {
     "elapsed": 293,
     "status": "ok",
     "timestamp": 1649245063650,
     "user": {
      "displayName": "Николай Смирнов",
      "userId": "05792503510966078252"
     },
     "user_tz": -180
    },
    "id": "e5YuHmARdD5L",
    "outputId": "b23e1c44-8e79-4285-929b-8074e9a2b173",
    "ExecuteTime": {
     "end_time": "2024-11-27T23:27:38.749208Z",
     "start_time": "2024-11-27T23:27:38.746374Z"
    }
   },
   "source": [
    "print(\n",
    "    'Выбор элементов серии по маске:\\n', s[mask],\n",
    ")"
   ],
   "outputs": [
    {
     "name": "stdout",
     "output_type": "stream",
     "text": [
      "Выбор элементов серии по маске:\n",
      " e    10\n",
      "c    12\n",
      "a    14\n",
      "dtype: int64\n"
     ]
    }
   ],
   "execution_count": 16
  },
  {
   "cell_type": "code",
   "metadata": {
    "colab": {
     "base_uri": "https://localhost:8080/"
    },
    "executionInfo": {
     "elapsed": 298,
     "status": "ok",
     "timestamp": 1649245065805,
     "user": {
      "displayName": "Николай Смирнов",
      "userId": "05792503510966078252"
     },
     "user_tz": -180
    },
    "id": "6KKKeSb-A4gi",
    "outputId": "c6cf74c1-5b9f-4e36-fc22-6ce08b025b68",
    "ExecuteTime": {
     "end_time": "2024-11-27T23:27:40.340737Z",
     "start_time": "2024-11-27T23:27:40.337133Z"
    }
   },
   "source": [
    "print(\n",
    "    'Индексация по массиву индексов:\\n', s[['a','e','b']],\n",
    ")"
   ],
   "outputs": [
    {
     "name": "stdout",
     "output_type": "stream",
     "text": [
      "Индексация по массиву индексов:\n",
      " a    14\n",
      "e    10\n",
      "b    13\n",
      "dtype: int64\n"
     ]
    }
   ],
   "execution_count": 17
  },
  {
   "cell_type": "code",
   "metadata": {
    "colab": {
     "base_uri": "https://localhost:8080/"
    },
    "executionInfo": {
     "elapsed": 2,
     "status": "ok",
     "timestamp": 1649245067066,
     "user": {
      "displayName": "Николай Смирнов",
      "userId": "05792503510966078252"
     },
     "user_tz": -180
    },
    "id": "mZ8DAOkYA4gj",
    "outputId": "bc45e38c-4d3b-4821-830e-6c41dd1ef8b4",
    "ExecuteTime": {
     "end_time": "2024-11-27T23:27:41.830986Z",
     "start_time": "2024-11-27T23:27:41.827616Z"
    }
   },
   "source": [
    "print(\n",
    "    'Применение функций из NumPy:\\n', np.square(s),\n",
    ")"
   ],
   "outputs": [
    {
     "name": "stdout",
     "output_type": "stream",
     "text": [
      "Применение функций из NumPy:\n",
      " e    100\n",
      "d    121\n",
      "c    144\n",
      "b    169\n",
      "a    196\n",
      "dtype: int64\n"
     ]
    }
   ],
   "execution_count": 18
  },
  {
   "cell_type": "code",
   "metadata": {
    "colab": {
     "base_uri": "https://localhost:8080/"
    },
    "executionInfo": {
     "elapsed": 5,
     "status": "ok",
     "timestamp": 1649245068373,
     "user": {
      "displayName": "Николай Смирнов",
      "userId": "05792503510966078252"
     },
     "user_tz": -180
    },
    "id": "QOxVI5VLA4gj",
    "outputId": "58995422-9f8c-414b-c310-af50d397093d",
    "ExecuteTime": {
     "end_time": "2024-11-27T23:27:45.123067Z",
     "start_time": "2024-11-27T23:27:45.120478Z"
    }
   },
   "source": [
    "print(\n",
    "    'Расширяющиеся операции (как в NumPy):\\n', s - 5,\n",
    ")"
   ],
   "outputs": [
    {
     "name": "stdout",
     "output_type": "stream",
     "text": [
      "Расширяющиеся операции (как в NumPy):\n",
      " e    5\n",
      "d    6\n",
      "c    7\n",
      "b    8\n",
      "a    9\n",
      "dtype: int64\n"
     ]
    }
   ],
   "execution_count": 19
  },
  {
   "cell_type": "markdown",
   "metadata": {
    "id": "H7oO-GB5hU5l"
   },
   "source": [
    "Увеличиваем на 1 значения элементов, которые больше чем среднее по серии:"
   ]
  },
  {
   "cell_type": "code",
   "metadata": {
    "colab": {
     "base_uri": "https://localhost:8080/"
    },
    "executionInfo": {
     "elapsed": 277,
     "status": "ok",
     "timestamp": 1649245071286,
     "user": {
      "displayName": "Николай Смирнов",
      "userId": "05792503510966078252"
     },
     "user_tz": -180
    },
    "id": "JUT-qQd_A4gk",
    "outputId": "0eaeec33-249d-4c4b-e911-473f61c20d83",
    "ExecuteTime": {
     "end_time": "2024-11-27T23:27:46.965662Z",
     "start_time": "2024-11-27T23:27:46.961339Z"
    }
   },
   "source": [
    "s[s > s.mean()] += 1 \n",
    "print('Присвоение набору элементов:\\n', s)"
   ],
   "outputs": [
    {
     "name": "stdout",
     "output_type": "stream",
     "text": [
      "Присвоение набору элементов:\n",
      " e    10\n",
      "d    11\n",
      "c    12\n",
      "b    14\n",
      "a    15\n",
      "dtype: int64\n"
     ]
    }
   ],
   "execution_count": 20
  },
  {
   "cell_type": "markdown",
   "metadata": {
    "id": "Tst4kAgnA4gl"
   },
   "source": [
    "Индексы серии могут быть изменены \"на лету\": "
   ]
  },
  {
   "cell_type": "code",
   "metadata": {
    "colab": {
     "base_uri": "https://localhost:8080/"
    },
    "executionInfo": {
     "elapsed": 347,
     "status": "ok",
     "timestamp": 1649245073608,
     "user": {
      "displayName": "Николай Смирнов",
      "userId": "05792503510966078252"
     },
     "user_tz": -180
    },
    "id": "huDIaSkSA4gm",
    "outputId": "2283d2c9-b5ba-4184-bc83-da3d5ec16c11",
    "ExecuteTime": {
     "end_time": "2024-11-27T23:27:48.852775Z",
     "start_time": "2024-11-27T23:27:48.849495Z"
    }
   },
   "source": [
    "print('s с текущей индексацией:\\n', s)\n",
    "s.index = list('AbCdE')\n",
    "print('s с новой индексацией:\\n', s)"
   ],
   "outputs": [
    {
     "name": "stdout",
     "output_type": "stream",
     "text": [
      "s с текущей индексацией:\n",
      " e    10\n",
      "d    11\n",
      "c    12\n",
      "b    14\n",
      "a    15\n",
      "dtype: int64\n",
      "s с новой индексацией:\n",
      " A    10\n",
      "b    11\n",
      "C    12\n",
      "d    14\n",
      "E    15\n",
      "dtype: int64\n"
     ]
    }
   ],
   "execution_count": 21
  },
  {
   "cell_type": "markdown",
   "metadata": {
    "id": "66Wq924QA4gn"
   },
   "source": [
    "Можно задать имя серии и индексу: "
   ]
  },
  {
   "cell_type": "code",
   "metadata": {
    "colab": {
     "base_uri": "https://localhost:8080/"
    },
    "executionInfo": {
     "elapsed": 331,
     "status": "ok",
     "timestamp": 1649245076066,
     "user": {
      "displayName": "Николай Смирнов",
      "userId": "05792503510966078252"
     },
     "user_tz": -180
    },
    "id": "CAQ455EKA4gn",
    "outputId": "426e3252-6112-432d-fb8d-5bead017001a",
    "ExecuteTime": {
     "end_time": "2024-11-27T23:27:51.789054Z",
     "start_time": "2024-11-27T23:27:51.785813Z"
    }
   },
   "source": [
    "s.name = 'Series Name'\n",
    "s.index.name = 'Index Name'\n",
    "print('Именованная серия:\\n', s)"
   ],
   "outputs": [
    {
     "name": "stdout",
     "output_type": "stream",
     "text": [
      "Именованная серия:\n",
      " Index Name\n",
      "A    10\n",
      "b    11\n",
      "C    12\n",
      "d    14\n",
      "E    15\n",
      "Name: Series Name, dtype: int64\n"
     ]
    }
   ],
   "execution_count": 22
  },
  {
   "cell_type": "markdown",
   "metadata": {
    "id": "-iofFWMsA4gn"
   },
   "source": [
    "Получение индексов и элементов серии:"
   ]
  },
  {
   "cell_type": "code",
   "metadata": {
    "colab": {
     "base_uri": "https://localhost:8080/"
    },
    "executionInfo": {
     "elapsed": 4,
     "status": "ok",
     "timestamp": 1649245078816,
     "user": {
      "displayName": "Николай Смирнов",
      "userId": "05792503510966078252"
     },
     "user_tz": -180
    },
    "id": "oSq4-0xSA4go",
    "outputId": "e1e9af20-a63f-47f2-cad7-13a6ec23ab17",
    "ExecuteTime": {
     "end_time": "2024-11-27T23:27:53.924280Z",
     "start_time": "2024-11-27T23:27:53.921603Z"
    }
   },
   "source": [
    "print('Индекс:', s.index) \n",
    "print('Значения:', s.values)"
   ],
   "outputs": [
    {
     "name": "stdout",
     "output_type": "stream",
     "text": [
      "Индекс: Index(['A', 'b', 'C', 'd', 'E'], dtype='object', name='Index Name')\n",
      "Значения: [10 11 12 14 15]\n"
     ]
    }
   ],
   "execution_count": 23
  },
  {
   "cell_type": "markdown",
   "metadata": {
    "id": "IoDWX58hedPX"
   },
   "source": [
    "## Задача Series_1. \n",
    "\n",
    "\n"
   ]
  },
  {
   "cell_type": "markdown",
   "metadata": {
    "id": "ASdWJiJ-m3sO"
   },
   "source": [
    "1. Создайте серию `pd.Series`, которая будет содрежать инфомацию о целочисленных оценках на экзамене по алгебре учеников: Александр, Борис, Владимир, Дмитрий, Григорий, Евгений, Игорь, Клим, Леонид, Максим. Созданную серию сохраните в переменную one_mark. Этой серии задайте имя \"Оценка по алгебре\". Выведите полученную серию на экран.\n",
    "2. Увеличьте оценку Максима на 1 балл и сохраните ее в серии. Выведите на экран из серию только оценку Максима.\n",
    "3. Задав маску, получить и вывести информацию о тем учениках, у которых оценка не меньше 4."
   ]
  },
  {
   "cell_type": "code",
   "execution_count": null,
   "metadata": {
    "executionInfo": {
     "elapsed": 33,
     "status": "aborted",
     "timestamp": 1649245045647,
     "user": {
      "displayName": "Николай Смирнов",
      "userId": "05792503510966078252"
     },
     "user_tz": -180
    },
    "id": "tz-5xgIUecma"
   },
   "outputs": [],
   "source": [
    "# Напишите свой код в данной ячейке"
   ]
  },
  {
   "cell_type": "markdown",
   "metadata": {
    "id": "-MDoaHc_egZG"
   },
   "source": [
    "[Посмотреть ответ на задачу](#Series_1)"
   ]
  },
  {
   "cell_type": "markdown",
   "metadata": {
    "id": "qbtyHtdBA4go"
   },
   "source": [
    "## DataFrame\n"
   ]
  },
  {
   "cell_type": "markdown",
   "metadata": {
    "id": "7U0mKFPXkfaO"
   },
   "source": [
    "**DataFrame** — набор серий. В **DataFrame** каждая серия — отдельный столбец, совокупность столбов образует *таблицу*. \n"
   ]
  },
  {
   "cell_type": "markdown",
   "metadata": {
    "id": "TZXz-_LMk3eo"
   },
   "source": [
    "### Способы создать `DataFrame`"
   ]
  },
  {
   "cell_type": "code",
   "metadata": {
    "colab": {
     "base_uri": "https://localhost:8080/",
     "height": 143
    },
    "executionInfo": {
     "elapsed": 294,
     "status": "ok",
     "timestamp": 1649245083016,
     "user": {
      "displayName": "Николай Смирнов",
      "userId": "05792503510966078252"
     },
     "user_tz": -180
    },
    "id": "jluyws-WA4gp",
    "outputId": "78a17c57-066d-418b-8882-0c038f7a90a2",
    "ExecuteTime": {
     "end_time": "2024-11-27T23:27:58.263523Z",
     "start_time": "2024-11-27T23:27:58.257822Z"
    }
   },
   "source": [
    "# Способ 1:\n",
    "df = pd.DataFrame([[10, 11], [20, 21], [30, 31]],\n",
    "                  columns=['A', 'B'])\n",
    "df"
   ],
   "outputs": [
    {
     "data": {
      "text/plain": [
       "    A   B\n",
       "0  10  11\n",
       "1  20  21\n",
       "2  30  31"
      ],
      "text/html": [
       "<div>\n",
       "<style scoped>\n",
       "    .dataframe tbody tr th:only-of-type {\n",
       "        vertical-align: middle;\n",
       "    }\n",
       "\n",
       "    .dataframe tbody tr th {\n",
       "        vertical-align: top;\n",
       "    }\n",
       "\n",
       "    .dataframe thead th {\n",
       "        text-align: right;\n",
       "    }\n",
       "</style>\n",
       "<table border=\"1\" class=\"dataframe\">\n",
       "  <thead>\n",
       "    <tr style=\"text-align: right;\">\n",
       "      <th></th>\n",
       "      <th>A</th>\n",
       "      <th>B</th>\n",
       "    </tr>\n",
       "  </thead>\n",
       "  <tbody>\n",
       "    <tr>\n",
       "      <th>0</th>\n",
       "      <td>10</td>\n",
       "      <td>11</td>\n",
       "    </tr>\n",
       "    <tr>\n",
       "      <th>1</th>\n",
       "      <td>20</td>\n",
       "      <td>21</td>\n",
       "    </tr>\n",
       "    <tr>\n",
       "      <th>2</th>\n",
       "      <td>30</td>\n",
       "      <td>31</td>\n",
       "    </tr>\n",
       "  </tbody>\n",
       "</table>\n",
       "</div>"
      ]
     },
     "execution_count": 24,
     "metadata": {},
     "output_type": "execute_result"
    }
   ],
   "execution_count": 24
  },
  {
   "cell_type": "code",
   "metadata": {
    "colab": {
     "base_uri": "https://localhost:8080/",
     "height": 112
    },
    "executionInfo": {
     "elapsed": 484,
     "status": "ok",
     "timestamp": 1649245083969,
     "user": {
      "displayName": "Николай Смирнов",
      "userId": "05792503510966078252"
     },
     "user_tz": -180
    },
    "id": "IRMBQk8OA4gp",
    "outputId": "52fc2b9c-0aab-46a9-de06-9d8fc1fc8c83",
    "ExecuteTime": {
     "end_time": "2024-11-27T23:28:01.256535Z",
     "start_time": "2024-11-27T23:28:01.252353Z"
    }
   },
   "source": [
    "# Способ 2: создание DataFrame из двух pd.Series\n",
    "series_1 = pd.Series([10, 20, 30])\n",
    "series_2 = pd.Series([-3, -4, -5])\n",
    "df = pd.DataFrame([series_1, series_2])\n",
    "df\n"
   ],
   "outputs": [
    {
     "data": {
      "text/plain": [
       "    0   1   2\n",
       "0  10  20  30\n",
       "1  -3  -4  -5"
      ],
      "text/html": [
       "<div>\n",
       "<style scoped>\n",
       "    .dataframe tbody tr th:only-of-type {\n",
       "        vertical-align: middle;\n",
       "    }\n",
       "\n",
       "    .dataframe tbody tr th {\n",
       "        vertical-align: top;\n",
       "    }\n",
       "\n",
       "    .dataframe thead th {\n",
       "        text-align: right;\n",
       "    }\n",
       "</style>\n",
       "<table border=\"1\" class=\"dataframe\">\n",
       "  <thead>\n",
       "    <tr style=\"text-align: right;\">\n",
       "      <th></th>\n",
       "      <th>0</th>\n",
       "      <th>1</th>\n",
       "      <th>2</th>\n",
       "    </tr>\n",
       "  </thead>\n",
       "  <tbody>\n",
       "    <tr>\n",
       "      <th>0</th>\n",
       "      <td>10</td>\n",
       "      <td>20</td>\n",
       "      <td>30</td>\n",
       "    </tr>\n",
       "    <tr>\n",
       "      <th>1</th>\n",
       "      <td>-3</td>\n",
       "      <td>-4</td>\n",
       "      <td>-5</td>\n",
       "    </tr>\n",
       "  </tbody>\n",
       "</table>\n",
       "</div>"
      ]
     },
     "execution_count": 25,
     "metadata": {},
     "output_type": "execute_result"
    }
   ],
   "execution_count": 25
  },
  {
   "cell_type": "code",
   "metadata": {
    "colab": {
     "base_uri": "https://localhost:8080/",
     "height": 112
    },
    "executionInfo": {
     "elapsed": 53,
     "status": "ok",
     "timestamp": 1649245083969,
     "user": {
      "displayName": "Николай Смирнов",
      "userId": "05792503510966078252"
     },
     "user_tz": -180
    },
    "id": "k4_l-hxfA4gr",
    "outputId": "be87615e-9e5b-4510-ae9f-147bd2b4e765",
    "ExecuteTime": {
     "end_time": "2024-11-27T23:28:03.487575Z",
     "start_time": "2024-11-27T23:28:03.483729Z"
    }
   },
   "source": [
    "# Способ 3: создание DataFrame с помощью словаря\n",
    "list_1 = [70, 71]\n",
    "list_2 = [90, 91]\n",
    "temperatures = {'col_1': list_1,\n",
    "                'col_2': list_2}\n",
    "pd.DataFrame(temperatures)"
   ],
   "outputs": [
    {
     "data": {
      "text/plain": [
       "   col_1  col_2\n",
       "0     70     90\n",
       "1     71     91"
      ],
      "text/html": [
       "<div>\n",
       "<style scoped>\n",
       "    .dataframe tbody tr th:only-of-type {\n",
       "        vertical-align: middle;\n",
       "    }\n",
       "\n",
       "    .dataframe tbody tr th {\n",
       "        vertical-align: top;\n",
       "    }\n",
       "\n",
       "    .dataframe thead th {\n",
       "        text-align: right;\n",
       "    }\n",
       "</style>\n",
       "<table border=\"1\" class=\"dataframe\">\n",
       "  <thead>\n",
       "    <tr style=\"text-align: right;\">\n",
       "      <th></th>\n",
       "      <th>col_1</th>\n",
       "      <th>col_2</th>\n",
       "    </tr>\n",
       "  </thead>\n",
       "  <tbody>\n",
       "    <tr>\n",
       "      <th>0</th>\n",
       "      <td>70</td>\n",
       "      <td>90</td>\n",
       "    </tr>\n",
       "    <tr>\n",
       "      <th>1</th>\n",
       "      <td>71</td>\n",
       "      <td>91</td>\n",
       "    </tr>\n",
       "  </tbody>\n",
       "</table>\n",
       "</div>"
      ]
     },
     "execution_count": 26,
     "metadata": {},
     "output_type": "execute_result"
    }
   ],
   "execution_count": 26
  },
  {
   "cell_type": "code",
   "metadata": {
    "colab": {
     "base_uri": "https://localhost:8080/",
     "height": 112
    },
    "executionInfo": {
     "elapsed": 52,
     "status": "ok",
     "timestamp": 1649245083970,
     "user": {
      "displayName": "Николай Смирнов",
      "userId": "05792503510966078252"
     },
     "user_tz": -180
    },
    "id": "7YkxTD_0A4gr",
    "outputId": "94e05306-39b8-4e31-feb7-d02f615ef34b",
    "ExecuteTime": {
     "end_time": "2024-11-27T23:28:25.525593Z",
     "start_time": "2024-11-27T23:28:25.522046Z"
    }
   },
   "source": [
    "# Способ 4: создание DataFrame с помощью словаря, значениями которого являются Series\n",
    "series_1 = pd.Series([70, 71])\n",
    "series_2 = pd.Series([90, 91])\n",
    "\n",
    "df = pd.DataFrame({'col_1': series_1,\n",
    "                   'col_2': series_2})\n",
    "df"
   ],
   "outputs": [
    {
     "data": {
      "text/plain": [
       "   col_1  col_2\n",
       "0     70     90\n",
       "1     71     91"
      ],
      "text/html": [
       "<div>\n",
       "<style scoped>\n",
       "    .dataframe tbody tr th:only-of-type {\n",
       "        vertical-align: middle;\n",
       "    }\n",
       "\n",
       "    .dataframe tbody tr th {\n",
       "        vertical-align: top;\n",
       "    }\n",
       "\n",
       "    .dataframe thead th {\n",
       "        text-align: right;\n",
       "    }\n",
       "</style>\n",
       "<table border=\"1\" class=\"dataframe\">\n",
       "  <thead>\n",
       "    <tr style=\"text-align: right;\">\n",
       "      <th></th>\n",
       "      <th>col_1</th>\n",
       "      <th>col_2</th>\n",
       "    </tr>\n",
       "  </thead>\n",
       "  <tbody>\n",
       "    <tr>\n",
       "      <th>0</th>\n",
       "      <td>70</td>\n",
       "      <td>90</td>\n",
       "    </tr>\n",
       "    <tr>\n",
       "      <th>1</th>\n",
       "      <td>71</td>\n",
       "      <td>91</td>\n",
       "    </tr>\n",
       "  </tbody>\n",
       "</table>\n",
       "</div>"
      ]
     },
     "execution_count": 27,
     "metadata": {},
     "output_type": "execute_result"
    }
   ],
   "execution_count": 27
  },
  {
   "cell_type": "code",
   "metadata": {
    "colab": {
     "base_uri": "https://localhost:8080/",
     "height": 193
    },
    "executionInfo": {
     "elapsed": 50,
     "status": "ok",
     "timestamp": 1649245083970,
     "user": {
      "displayName": "Николай Смирнов",
      "userId": "05792503510966078252"
     },
     "user_tz": -180
    },
    "id": "Me7Nz-3wA4gr",
    "outputId": "9fff0142-9146-4e42-c98c-9b4b863c8847",
    "ExecuteTime": {
     "end_time": "2024-11-27T23:28:35.954155Z",
     "start_time": "2024-11-27T23:28:35.949230Z"
    }
   },
   "source": [
    "# Способ 5:\n",
    "names = ['Bob','Jessica','Mary','John']\n",
    "births = [968, 155, 77, 578]\n",
    "\n",
    "data = list(zip(names,births))\n",
    "print('Данные:', data)\n",
    "\n",
    "df = pd.DataFrame(data, columns=['Names', 'Births'], index=['A','B','C','D'])\n",
    "df"
   ],
   "outputs": [
    {
     "name": "stdout",
     "output_type": "stream",
     "text": [
      "Данные: [('Bob', 968), ('Jessica', 155), ('Mary', 77), ('John', 578)]\n"
     ]
    },
    {
     "data": {
      "text/plain": [
       "     Names  Births\n",
       "A      Bob     968\n",
       "B  Jessica     155\n",
       "C     Mary      77\n",
       "D     John     578"
      ],
      "text/html": [
       "<div>\n",
       "<style scoped>\n",
       "    .dataframe tbody tr th:only-of-type {\n",
       "        vertical-align: middle;\n",
       "    }\n",
       "\n",
       "    .dataframe tbody tr th {\n",
       "        vertical-align: top;\n",
       "    }\n",
       "\n",
       "    .dataframe thead th {\n",
       "        text-align: right;\n",
       "    }\n",
       "</style>\n",
       "<table border=\"1\" class=\"dataframe\">\n",
       "  <thead>\n",
       "    <tr style=\"text-align: right;\">\n",
       "      <th></th>\n",
       "      <th>Names</th>\n",
       "      <th>Births</th>\n",
       "    </tr>\n",
       "  </thead>\n",
       "  <tbody>\n",
       "    <tr>\n",
       "      <th>A</th>\n",
       "      <td>Bob</td>\n",
       "      <td>968</td>\n",
       "    </tr>\n",
       "    <tr>\n",
       "      <th>B</th>\n",
       "      <td>Jessica</td>\n",
       "      <td>155</td>\n",
       "    </tr>\n",
       "    <tr>\n",
       "      <th>C</th>\n",
       "      <td>Mary</td>\n",
       "      <td>77</td>\n",
       "    </tr>\n",
       "    <tr>\n",
       "      <th>D</th>\n",
       "      <td>John</td>\n",
       "      <td>578</td>\n",
       "    </tr>\n",
       "  </tbody>\n",
       "</table>\n",
       "</div>"
      ]
     },
     "execution_count": 28,
     "metadata": {},
     "output_type": "execute_result"
    }
   ],
   "execution_count": 28
  },
  {
   "cell_type": "markdown",
   "metadata": {
    "id": "MPgVgDUTnXqw"
   },
   "source": [
    "### Задача DataFrame_1. \n",
    "\n",
    "\n"
   ]
  },
  {
   "cell_type": "markdown",
   "metadata": {
    "id": "mTythu13nXqx"
   },
   "source": [
    "Создайте `pd.DataFrame`, которая будет содержать инфомацию о целочисленных оценках на экзаменах по алгебре, геометрии и физике учеников: Александр, Борис, Владимир, Дмитрий, Григорий, Евгений, Игорь, Клим, Леонид, Максим. Созданный `DataFrame` сохраните в переменную marks. Этому `DataFrame` задайте имя \"*Экзаменационные оценки*\" и выведите его на экран.\n"
   ]
  },
  {
   "cell_type": "code",
   "execution_count": null,
   "metadata": {
    "executionInfo": {
     "elapsed": 47,
     "status": "ok",
     "timestamp": 1649245083971,
     "user": {
      "displayName": "Николай Смирнов",
      "userId": "05792503510966078252"
     },
     "user_tz": -180
    },
    "id": "fRs0MMT2nXqy"
   },
   "outputs": [],
   "source": [
    "# Напишите свой код в данной ячейке\n"
   ]
  },
  {
   "cell_type": "markdown",
   "metadata": {
    "id": "n67cr-qpnXq0"
   },
   "source": [
    "[Посмотреть ответ на задачу](#DataFrame_1)"
   ]
  },
  {
   "cell_type": "markdown",
   "metadata": {
    "id": "yzt5JDHk46Fz"
   },
   "source": [
    "### Получение элементов `DataFrame`.\n"
   ]
  },
  {
   "cell_type": "markdown",
   "metadata": {
    "id": "RJwQozczA4gr"
   },
   "source": [
    "DataFrame поддерживает индексацию различными методами. \n",
    "\n",
    "* Обычная индексация (`df[col]`) позволяет обращаться к столбцам по названию\n",
    "* Свойство `.iloc[row, column]` позволяет обращаться к строкам и столбцам по номеру, слайсу или маске.\n",
    "* Свойство `.loc[row, column]` позволяет обращаться к строкам и столбцам по названию, слайсу или маске.\n",
    "* Свойства, совподающие по имени с названиями столбцов. В данном случае - `df.Births` и `df.Names`"
   ]
  },
  {
   "cell_type": "markdown",
   "metadata": {
    "id": "y4Rae3kkmVck"
   },
   "source": [
    "Получим содержимое столбца `'Names'` из `df`:"
   ]
  },
  {
   "cell_type": "code",
   "metadata": {
    "colab": {
     "base_uri": "https://localhost:8080/"
    },
    "executionInfo": {
     "elapsed": 46,
     "status": "ok",
     "timestamp": 1649245083972,
     "user": {
      "displayName": "Николай Смирнов",
      "userId": "05792503510966078252"
     },
     "user_tz": -180
    },
    "id": "2c_s-rTrA4gt",
    "outputId": "cc963daf-f51d-484c-f1e6-2532a0340bee",
    "ExecuteTime": {
     "end_time": "2024-11-27T23:28:41.921249Z",
     "start_time": "2024-11-27T23:28:41.918259Z"
    }
   },
   "source": [
    "print(\n",
    "    'Столбец \"Names\":\\n', df['Names']\n",
    ")"
   ],
   "outputs": [
    {
     "name": "stdout",
     "output_type": "stream",
     "text": [
      "Столбец \"Names\":\n",
      " A        Bob\n",
      "B    Jessica\n",
      "C       Mary\n",
      "D       John\n",
      "Name: Names, dtype: object\n"
     ]
    }
   ],
   "execution_count": 29
  },
  {
   "cell_type": "markdown",
   "metadata": {
    "id": "DDB4kAuu5IkD"
   },
   "source": [
    "Получим столбцы `Births`, `Names` из `df`:"
   ]
  },
  {
   "cell_type": "code",
   "metadata": {
    "colab": {
     "base_uri": "https://localhost:8080/"
    },
    "executionInfo": {
     "elapsed": 44,
     "status": "ok",
     "timestamp": 1649245083972,
     "user": {
      "displayName": "Николай Смирнов",
      "userId": "05792503510966078252"
     },
     "user_tz": -180
    },
    "id": "AIDRguMOA4gt",
    "outputId": "144984ce-0cf6-4b4c-89c8-4e6b433a872f",
    "ExecuteTime": {
     "end_time": "2024-11-27T23:28:49.274592Z",
     "start_time": "2024-11-27T23:28:49.271271Z"
    }
   },
   "source": [
    "print(\n",
    "    'Столбцы \"Births\", \"Names\":\\n', df[['Births', 'Names']]\n",
    ")"
   ],
   "outputs": [
    {
     "name": "stdout",
     "output_type": "stream",
     "text": [
      "Столбцы \"Births\", \"Names\":\n",
      "    Births    Names\n",
      "A     968      Bob\n",
      "B     155  Jessica\n",
      "C      77     Mary\n",
      "D     578     John\n"
     ]
    }
   ],
   "execution_count": 30
  },
  {
   "cell_type": "markdown",
   "metadata": {
    "id": "LVNOWNL05Wv-"
   },
   "source": [
    "Используем `.iloc[:, 1]` для получения всех (`:`) элементов столбца с номером `1`:"
   ]
  },
  {
   "cell_type": "code",
   "metadata": {
    "colab": {
     "base_uri": "https://localhost:8080/"
    },
    "executionInfo": {
     "elapsed": 43,
     "status": "ok",
     "timestamp": 1649245083972,
     "user": {
      "displayName": "Николай Смирнов",
      "userId": "05792503510966078252"
     },
     "user_tz": -180
    },
    "id": "T_jrfv76A4gu",
    "outputId": "2f24c48c-38bb-4b33-8b5e-663641d06e9d",
    "ExecuteTime": {
     "end_time": "2024-11-27T23:28:51.278171Z",
     "start_time": "2024-11-27T23:28:51.275930Z"
    }
   },
   "source": [
    "print(\n",
    "    'Столбец №1:\\n', df.iloc[:, 1]\n",
    ")"
   ],
   "outputs": [
    {
     "name": "stdout",
     "output_type": "stream",
     "text": [
      "Столбец №1:\n",
      " A    968\n",
      "B    155\n",
      "C     77\n",
      "D    578\n",
      "Name: Births, dtype: int64\n"
     ]
    }
   ],
   "execution_count": 31
  },
  {
   "cell_type": "markdown",
   "metadata": {
    "id": "ixy1cgR35oN-"
   },
   "source": [
    "Используем `.loc[]` для получения строки А. Следут обратить внимание, что номер столбца при этом не был указан, что обеспечило вывод всех элементов строки: "
   ]
  },
  {
   "cell_type": "code",
   "metadata": {
    "colab": {
     "base_uri": "https://localhost:8080/"
    },
    "executionInfo": {
     "elapsed": 44,
     "status": "ok",
     "timestamp": 1649245083973,
     "user": {
      "displayName": "Николай Смирнов",
      "userId": "05792503510966078252"
     },
     "user_tz": -180
    },
    "id": "6zm0gAweA4gu",
    "outputId": "61c09f6b-61f8-4f15-92d9-d8c604479d66",
    "ExecuteTime": {
     "end_time": "2024-11-27T23:28:56.014345Z",
     "start_time": "2024-11-27T23:28:56.010654Z"
    }
   },
   "source": [
    "print(\n",
    "    'Строка A:', df.loc['A'],\n",
    ")"
   ],
   "outputs": [
    {
     "name": "stdout",
     "output_type": "stream",
     "text": [
      "Строка A: Names     Bob\n",
      "Births    968\n",
      "Name: A, dtype: object\n"
     ]
    }
   ],
   "execution_count": 32
  },
  {
   "cell_type": "code",
   "metadata": {
    "colab": {
     "base_uri": "https://localhost:8080/"
    },
    "executionInfo": {
     "elapsed": 45,
     "status": "ok",
     "timestamp": 1649245083975,
     "user": {
      "displayName": "Николай Смирнов",
      "userId": "05792503510966078252"
     },
     "user_tz": -180
    },
    "id": "IZ2H0D7JA4gu",
    "outputId": "b340b736-45f5-4e69-825e-9ea25fd914c8",
    "ExecuteTime": {
     "end_time": "2024-11-27T23:28:58.087316Z",
     "start_time": "2024-11-27T23:28:58.084423Z"
    }
   },
   "source": [
    "print(\n",
    "    'Строка 3:\\n', df.iloc[3],\n",
    ")"
   ],
   "outputs": [
    {
     "name": "stdout",
     "output_type": "stream",
     "text": [
      "Строка 3:\n",
      " Names     John\n",
      "Births     578\n",
      "Name: D, dtype: object\n"
     ]
    }
   ],
   "execution_count": 33
  },
  {
   "cell_type": "markdown",
   "metadata": {
    "id": "BJX057Ia6JJj"
   },
   "source": [
    "Используя `.loc[]`, получим все строки c индексами из диапазона от A до С (`'A':'C'`), которые находятся в столбце Names:"
   ]
  },
  {
   "cell_type": "code",
   "metadata": {
    "colab": {
     "base_uri": "https://localhost:8080/"
    },
    "executionInfo": {
     "elapsed": 45,
     "status": "ok",
     "timestamp": 1649245083976,
     "user": {
      "displayName": "Николай Смирнов",
      "userId": "05792503510966078252"
     },
     "user_tz": -180
    },
    "id": "wRGNfUEyA4gv",
    "outputId": "a907f6cb-d52b-406a-9af1-b2f609957370",
    "ExecuteTime": {
     "end_time": "2024-11-27T23:29:00.394331Z",
     "start_time": "2024-11-27T23:29:00.390894Z"
    }
   },
   "source": [
    "print(\n",
    "    'Имена из строк A, B, C:', df.loc['A':'C', 'Names'],\n",
    ")"
   ],
   "outputs": [
    {
     "name": "stdout",
     "output_type": "stream",
     "text": [
      "Имена из строк A, B, C: A        Bob\n",
      "B    Jessica\n",
      "C       Mary\n",
      "Name: Names, dtype: object\n"
     ]
    }
   ],
   "execution_count": 34
  },
  {
   "cell_type": "markdown",
   "metadata": {
    "id": "1GvKkhgI7CYb"
   },
   "source": [
    "Используя `.iloc[1:4, 1]`, получим элементы находящиеся на пересечении 1, 2, 3 строк и первого столбца:"
   ]
  },
  {
   "cell_type": "code",
   "metadata": {
    "colab": {
     "base_uri": "https://localhost:8080/"
    },
    "executionInfo": {
     "elapsed": 44,
     "status": "ok",
     "timestamp": 1649245083976,
     "user": {
      "displayName": "Николай Смирнов",
      "userId": "05792503510966078252"
     },
     "user_tz": -180
    },
    "id": "mOybFPCPA4gw",
    "outputId": "deeaebd0-e9a1-484d-b8b5-703625c1bbfd",
    "ExecuteTime": {
     "end_time": "2024-11-27T23:29:02.429204Z",
     "start_time": "2024-11-27T23:29:02.426052Z"
    }
   },
   "source": [
    "print(\n",
    "    'Количества рождений из строк 1, 2, 3:', df.iloc[1:4, 1]\n",
    ")"
   ],
   "outputs": [
    {
     "name": "stdout",
     "output_type": "stream",
     "text": [
      "Количества рождений из строк 1, 2, 3: B    155\n",
      "C     77\n",
      "D    578\n",
      "Name: Births, dtype: int64\n"
     ]
    }
   ],
   "execution_count": 35
  },
  {
   "cell_type": "markdown",
   "metadata": {
    "id": "syH12d0a-EUG"
   },
   "source": [
    "Создадим маску, выведем маску и элементы `df`, соответсвующие этой маске: "
   ]
  },
  {
   "cell_type": "code",
   "metadata": {
    "colab": {
     "base_uri": "https://localhost:8080/"
    },
    "executionInfo": {
     "elapsed": 45,
     "status": "ok",
     "timestamp": 1649245083978,
     "user": {
      "displayName": "Николай Смирнов",
      "userId": "05792503510966078252"
     },
     "user_tz": -180
    },
    "id": "17o0zNd7A4gw",
    "outputId": "86e494b8-2f22-4b61-f100-a2d1ddc805c2",
    "ExecuteTime": {
     "end_time": "2024-11-27T23:29:04.580918Z",
     "start_time": "2024-11-27T23:29:04.577536Z"
    }
   },
   "source": [
    "row_mask = df['Births'] < 500\n",
    "\n",
    "print(\n",
    "    'Маска:\\n', row_mask,\n",
    "    '\\n', '\\n',\n",
    "    'Строки:\\n', df.loc[row_mask]\n",
    ")"
   ],
   "outputs": [
    {
     "name": "stdout",
     "output_type": "stream",
     "text": [
      "Маска:\n",
      " A    False\n",
      "B     True\n",
      "C     True\n",
      "D    False\n",
      "Name: Births, dtype: bool \n",
      " \n",
      " Строки:\n",
      "      Names  Births\n",
      "B  Jessica     155\n",
      "C     Mary      77\n"
     ]
    }
   ],
   "execution_count": 36
  },
  {
   "cell_type": "markdown",
   "metadata": {
    "id": "57xqlq-yDPdI"
   },
   "source": [
    "Получить элементы столбца Names можно еще таким образом:"
   ]
  },
  {
   "cell_type": "code",
   "metadata": {
    "colab": {
     "base_uri": "https://localhost:8080/"
    },
    "executionInfo": {
     "elapsed": 43,
     "status": "ok",
     "timestamp": 1649245083978,
     "user": {
      "displayName": "Николай Смирнов",
      "userId": "05792503510966078252"
     },
     "user_tz": -180
    },
    "id": "cV_NPiQYA4gx",
    "outputId": "732396e7-54aa-4935-8b0b-a34b7e059973",
    "ExecuteTime": {
     "end_time": "2024-11-27T23:29:24.480814Z",
     "start_time": "2024-11-27T23:29:24.477217Z"
    }
   },
   "source": [
    "df.Names"
   ],
   "outputs": [
    {
     "data": {
      "text/plain": [
       "A        Bob\n",
       "B    Jessica\n",
       "C       Mary\n",
       "D       John\n",
       "Name: Names, dtype: object"
      ]
     },
     "execution_count": 38,
     "metadata": {},
     "output_type": "execute_result"
    }
   ],
   "execution_count": 38
  },
  {
   "cell_type": "markdown",
   "metadata": {
    "id": "O4wsbRrOA4gx"
   },
   "source": [
    "С помощью head и tail можно ограничить количество элементов в отображаемой выборке:"
   ]
  },
  {
   "cell_type": "code",
   "metadata": {
    "colab": {
     "base_uri": "https://localhost:8080/"
    },
    "executionInfo": {
     "elapsed": 43,
     "status": "ok",
     "timestamp": 1649245083979,
     "user": {
      "displayName": "Николай Смирнов",
      "userId": "05792503510966078252"
     },
     "user_tz": -180
    },
    "id": "k36_bG1yA4gy",
    "outputId": "be2735e1-6be5-4c13-b3d9-fc9685ceb583",
    "ExecuteTime": {
     "end_time": "2024-11-27T23:29:26.904148Z",
     "start_time": "2024-11-27T23:29:26.900587Z"
    }
   },
   "source": [
    "print(\n",
    "    '1 строка:', df.head(1), '\\n', \n",
    "    '2 последние строки:', df.tail(2),\n",
    ")"
   ],
   "outputs": [
    {
     "name": "stdout",
     "output_type": "stream",
     "text": [
      "1 строка:   Names  Births\n",
      "A   Bob     968 \n",
      " 2 последние строки:   Names  Births\n",
      "C  Mary      77\n",
      "D  John     578\n"
     ]
    }
   ],
   "execution_count": 39
  },
  {
   "cell_type": "markdown",
   "metadata": {
    "id": "OPnXVeJ3A4gy"
   },
   "source": [
    "`max(), min(), mean()` для поиска максимума, минимума, среднего значения в столбце."
   ]
  },
  {
   "cell_type": "code",
   "metadata": {
    "colab": {
     "base_uri": "https://localhost:8080/"
    },
    "executionInfo": {
     "elapsed": 43,
     "status": "ok",
     "timestamp": 1649245083980,
     "user": {
      "displayName": "Николай Смирнов",
      "userId": "05792503510966078252"
     },
     "user_tz": -180
    },
    "id": "cfHOobciEdnO",
    "outputId": "dd4cba2d-f39f-4343-e340-a19a2014bf9c",
    "ExecuteTime": {
     "end_time": "2024-11-27T23:29:54.488453Z",
     "start_time": "2024-11-27T23:29:54.485042Z"
    }
   },
   "source": [
    "print(\n",
    "    'Максимум:', df['Births'].max(), '\\n',\n",
    "    'Минимум:', df['Births'].min(), '\\n',\n",
    "    'Среднее:', df['Births'].mean(), '\\n' \n",
    ")"
   ],
   "outputs": [
    {
     "name": "stdout",
     "output_type": "stream",
     "text": [
      "Максимум: 968 \n",
      " Минимум: 77 \n",
      " Среднее: 444.5 \n",
      "\n"
     ]
    }
   ],
   "execution_count": 40
  },
  {
   "cell_type": "markdown",
   "metadata": {
    "id": "Pd6UPgq3A4gz"
   },
   "source": [
    "### Cортировка "
   ]
  },
  {
   "cell_type": "markdown",
   "metadata": {
    "id": "YlYrnBdbFKGB"
   },
   "source": [
    "Сортировка всего DataFrame'а по возрастанию значений в столбце *Births*:\n"
   ]
  },
  {
   "cell_type": "code",
   "metadata": {
    "colab": {
     "base_uri": "https://localhost:8080/",
     "height": 175
    },
    "executionInfo": {
     "elapsed": 42,
     "status": "ok",
     "timestamp": 1649245083980,
     "user": {
      "displayName": "Николай Смирнов",
      "userId": "05792503510966078252"
     },
     "user_tz": -180
    },
    "id": "r5cbvJwsA4g0",
    "outputId": "3fb76937-54cc-41f1-c671-75cdc61a8218",
    "ExecuteTime": {
     "end_time": "2024-11-27T23:29:57.817692Z",
     "start_time": "2024-11-27T23:29:57.812022Z"
    }
   },
   "source": [
    "df.sort_values('Births')"
   ],
   "outputs": [
    {
     "data": {
      "text/plain": [
       "     Names  Births\n",
       "C     Mary      77\n",
       "B  Jessica     155\n",
       "D     John     578\n",
       "A      Bob     968"
      ],
      "text/html": [
       "<div>\n",
       "<style scoped>\n",
       "    .dataframe tbody tr th:only-of-type {\n",
       "        vertical-align: middle;\n",
       "    }\n",
       "\n",
       "    .dataframe tbody tr th {\n",
       "        vertical-align: top;\n",
       "    }\n",
       "\n",
       "    .dataframe thead th {\n",
       "        text-align: right;\n",
       "    }\n",
       "</style>\n",
       "<table border=\"1\" class=\"dataframe\">\n",
       "  <thead>\n",
       "    <tr style=\"text-align: right;\">\n",
       "      <th></th>\n",
       "      <th>Names</th>\n",
       "      <th>Births</th>\n",
       "    </tr>\n",
       "  </thead>\n",
       "  <tbody>\n",
       "    <tr>\n",
       "      <th>C</th>\n",
       "      <td>Mary</td>\n",
       "      <td>77</td>\n",
       "    </tr>\n",
       "    <tr>\n",
       "      <th>B</th>\n",
       "      <td>Jessica</td>\n",
       "      <td>155</td>\n",
       "    </tr>\n",
       "    <tr>\n",
       "      <th>D</th>\n",
       "      <td>John</td>\n",
       "      <td>578</td>\n",
       "    </tr>\n",
       "    <tr>\n",
       "      <th>A</th>\n",
       "      <td>Bob</td>\n",
       "      <td>968</td>\n",
       "    </tr>\n",
       "  </tbody>\n",
       "</table>\n",
       "</div>"
      ]
     },
     "execution_count": 41,
     "metadata": {},
     "output_type": "execute_result"
    }
   ],
   "execution_count": 41
  },
  {
   "cell_type": "markdown",
   "metadata": {
    "id": "dhgh7aWcDJi8"
   },
   "source": [
    "Передав значение параметра `ascending=False` в `sort_values()`, получим сортировку по убыванию:"
   ]
  },
  {
   "cell_type": "code",
   "metadata": {
    "colab": {
     "base_uri": "https://localhost:8080/",
     "height": 175
    },
    "executionInfo": {
     "elapsed": 40,
     "status": "ok",
     "timestamp": 1649245083980,
     "user": {
      "displayName": "Николай Смирнов",
      "userId": "05792503510966078252"
     },
     "user_tz": -180
    },
    "id": "MN3TR1r_A4g0",
    "outputId": "b429a86c-061a-4361-8ef9-4c05311dd092",
    "ExecuteTime": {
     "end_time": "2024-11-27T23:30:01.462118Z",
     "start_time": "2024-11-27T23:30:01.457207Z"
    }
   },
   "source": [
    "df.sort_values('Births', ascending=False)"
   ],
   "outputs": [
    {
     "data": {
      "text/plain": [
       "     Names  Births\n",
       "A      Bob     968\n",
       "D     John     578\n",
       "B  Jessica     155\n",
       "C     Mary      77"
      ],
      "text/html": [
       "<div>\n",
       "<style scoped>\n",
       "    .dataframe tbody tr th:only-of-type {\n",
       "        vertical-align: middle;\n",
       "    }\n",
       "\n",
       "    .dataframe tbody tr th {\n",
       "        vertical-align: top;\n",
       "    }\n",
       "\n",
       "    .dataframe thead th {\n",
       "        text-align: right;\n",
       "    }\n",
       "</style>\n",
       "<table border=\"1\" class=\"dataframe\">\n",
       "  <thead>\n",
       "    <tr style=\"text-align: right;\">\n",
       "      <th></th>\n",
       "      <th>Names</th>\n",
       "      <th>Births</th>\n",
       "    </tr>\n",
       "  </thead>\n",
       "  <tbody>\n",
       "    <tr>\n",
       "      <th>A</th>\n",
       "      <td>Bob</td>\n",
       "      <td>968</td>\n",
       "    </tr>\n",
       "    <tr>\n",
       "      <th>D</th>\n",
       "      <td>John</td>\n",
       "      <td>578</td>\n",
       "    </tr>\n",
       "    <tr>\n",
       "      <th>B</th>\n",
       "      <td>Jessica</td>\n",
       "      <td>155</td>\n",
       "    </tr>\n",
       "    <tr>\n",
       "      <th>C</th>\n",
       "      <td>Mary</td>\n",
       "      <td>77</td>\n",
       "    </tr>\n",
       "  </tbody>\n",
       "</table>\n",
       "</div>"
      ]
     },
     "execution_count": 42,
     "metadata": {},
     "output_type": "execute_result"
    }
   ],
   "execution_count": 42
  },
  {
   "cell_type": "markdown",
   "metadata": {
    "id": "KbkEPDssFfyr"
   },
   "source": [
    "### Внесение изменений в DataFrame\n"
   ]
  },
  {
   "cell_type": "markdown",
   "metadata": {
    "id": "4mqtT7xXGKJS"
   },
   "source": [
    "В предыдущих ячейках блокнота результаты сортировки были выведены на экран, но не были сохранены куда-либо (`df` остался без изменений). Такое поведение характерно для большинства операций производимых с `DataFrame`. \n",
    "\n"
   ]
  },
  {
   "cell_type": "code",
   "metadata": {
    "colab": {
     "base_uri": "https://localhost:8080/",
     "height": 175
    },
    "executionInfo": {
     "elapsed": 682,
     "status": "ok",
     "timestamp": 1649245084625,
     "user": {
      "displayName": "Николай Смирнов",
      "userId": "05792503510966078252"
     },
     "user_tz": -180
    },
    "id": "kpbVrQplGG5g",
    "outputId": "b3a025d8-66b0-4c0f-86d7-273e64b04ccb",
    "ExecuteTime": {
     "end_time": "2024-11-27T23:30:06.230466Z",
     "start_time": "2024-11-27T23:30:06.225857Z"
    }
   },
   "source": [
    "df"
   ],
   "outputs": [
    {
     "data": {
      "text/plain": [
       "     Names  Births\n",
       "A      Bob     968\n",
       "B  Jessica     155\n",
       "C     Mary      77\n",
       "D     John     578"
      ],
      "text/html": [
       "<div>\n",
       "<style scoped>\n",
       "    .dataframe tbody tr th:only-of-type {\n",
       "        vertical-align: middle;\n",
       "    }\n",
       "\n",
       "    .dataframe tbody tr th {\n",
       "        vertical-align: top;\n",
       "    }\n",
       "\n",
       "    .dataframe thead th {\n",
       "        text-align: right;\n",
       "    }\n",
       "</style>\n",
       "<table border=\"1\" class=\"dataframe\">\n",
       "  <thead>\n",
       "    <tr style=\"text-align: right;\">\n",
       "      <th></th>\n",
       "      <th>Names</th>\n",
       "      <th>Births</th>\n",
       "    </tr>\n",
       "  </thead>\n",
       "  <tbody>\n",
       "    <tr>\n",
       "      <th>A</th>\n",
       "      <td>Bob</td>\n",
       "      <td>968</td>\n",
       "    </tr>\n",
       "    <tr>\n",
       "      <th>B</th>\n",
       "      <td>Jessica</td>\n",
       "      <td>155</td>\n",
       "    </tr>\n",
       "    <tr>\n",
       "      <th>C</th>\n",
       "      <td>Mary</td>\n",
       "      <td>77</td>\n",
       "    </tr>\n",
       "    <tr>\n",
       "      <th>D</th>\n",
       "      <td>John</td>\n",
       "      <td>578</td>\n",
       "    </tr>\n",
       "  </tbody>\n",
       "</table>\n",
       "</div>"
      ]
     },
     "execution_count": 43,
     "metadata": {},
     "output_type": "execute_result"
    }
   ],
   "execution_count": 43
  },
  {
   "cell_type": "markdown",
   "metadata": {
    "id": "lov-TASlGdBg"
   },
   "source": [
    "Для сохранения результатов произведенной операции их необходимо явно сохранить куда-либо:"
   ]
  },
  {
   "cell_type": "code",
   "metadata": {
    "colab": {
     "base_uri": "https://localhost:8080/",
     "height": 175
    },
    "executionInfo": {
     "elapsed": 20,
     "status": "ok",
     "timestamp": 1649245084626,
     "user": {
      "displayName": "Николай Смирнов",
      "userId": "05792503510966078252"
     },
     "user_tz": -180
    },
    "id": "Q_nKkgctGdTe",
    "outputId": "cf1ad84a-a368-49d6-8e1a-bffcae3b4cd0",
    "ExecuteTime": {
     "end_time": "2024-11-27T23:30:34.397274Z",
     "start_time": "2024-11-27T23:30:34.392503Z"
    }
   },
   "source": [
    "df_sorted = df.sort_values('Births', ascending=False)\n",
    "df_sorted"
   ],
   "outputs": [
    {
     "data": {
      "text/plain": [
       "     Names  Births\n",
       "A      Bob     968\n",
       "D     John     578\n",
       "B  Jessica     155\n",
       "C     Mary      77"
      ],
      "text/html": [
       "<div>\n",
       "<style scoped>\n",
       "    .dataframe tbody tr th:only-of-type {\n",
       "        vertical-align: middle;\n",
       "    }\n",
       "\n",
       "    .dataframe tbody tr th {\n",
       "        vertical-align: top;\n",
       "    }\n",
       "\n",
       "    .dataframe thead th {\n",
       "        text-align: right;\n",
       "    }\n",
       "</style>\n",
       "<table border=\"1\" class=\"dataframe\">\n",
       "  <thead>\n",
       "    <tr style=\"text-align: right;\">\n",
       "      <th></th>\n",
       "      <th>Names</th>\n",
       "      <th>Births</th>\n",
       "    </tr>\n",
       "  </thead>\n",
       "  <tbody>\n",
       "    <tr>\n",
       "      <th>A</th>\n",
       "      <td>Bob</td>\n",
       "      <td>968</td>\n",
       "    </tr>\n",
       "    <tr>\n",
       "      <th>D</th>\n",
       "      <td>John</td>\n",
       "      <td>578</td>\n",
       "    </tr>\n",
       "    <tr>\n",
       "      <th>B</th>\n",
       "      <td>Jessica</td>\n",
       "      <td>155</td>\n",
       "    </tr>\n",
       "    <tr>\n",
       "      <th>C</th>\n",
       "      <td>Mary</td>\n",
       "      <td>77</td>\n",
       "    </tr>\n",
       "  </tbody>\n",
       "</table>\n",
       "</div>"
      ]
     },
     "execution_count": 45,
     "metadata": {},
     "output_type": "execute_result"
    }
   ],
   "execution_count": 45
  },
  {
   "cell_type": "markdown",
   "metadata": {
    "id": "3m6tFVafqu8e"
   },
   "source": [
    "### Задача DataFrame_2. \n",
    "\n",
    "\n"
   ]
  },
  {
   "cell_type": "markdown",
   "metadata": {
    "id": "WiRSRFSrqu8g"
   },
   "source": [
    "Полученный в DataFrame_1 `marks` изменить следующим образом (все изменения должны быть сохранены в `marks`):\n",
    "  1.  Оценки всех учеников по геометрии уменьшите на 1 балл.\n",
    "  2.  Увеличьте все оценки Максима на 1 балл.\n",
    "  3.  Измените оценку по алгебре у Бориса на 5.\n",
    "  4.  Измените все оценки в столбце №2 на 4. <br>\n",
    "Выведите `marks` на экран.\n"
   ]
  },
  {
   "cell_type": "code",
   "execution_count": null,
   "metadata": {
    "executionInfo": {
     "elapsed": 18,
     "status": "ok",
     "timestamp": 1649245084626,
     "user": {
      "displayName": "Николай Смирнов",
      "userId": "05792503510966078252"
     },
     "user_tz": -180
    },
    "id": "zlpEdjGvqu8h"
   },
   "outputs": [],
   "source": [
    "# Напишите свой код в данной ячейке\n"
   ]
  },
  {
   "cell_type": "markdown",
   "metadata": {
    "id": "bDP-92AWqu8j"
   },
   "source": [
    "[Посмотреть ответ на задачу](#DataFrame_2)"
   ]
  },
  {
   "cell_type": "markdown",
   "metadata": {
    "id": "OSXw3h03A4g0"
   },
   "source": [
    "### .apply()\n",
    "для применения действия к набору элементов из `df`"
   ]
  },
  {
   "cell_type": "markdown",
   "metadata": {
    "id": "MaAMgLL2FX-5"
   },
   "source": [
    "Создадим новый столбец с инициалами имен, для этого с помощью `apply()`  применим `lambda`-функцию к каждому элементу колонки Names (аналог `map`)"
   ]
  },
  {
   "cell_type": "code",
   "metadata": {
    "colab": {
     "base_uri": "https://localhost:8080/",
     "height": 175
    },
    "executionInfo": {
     "elapsed": 17,
     "status": "ok",
     "timestamp": 1649245084627,
     "user": {
      "displayName": "Николай Смирнов",
      "userId": "05792503510966078252"
     },
     "user_tz": -180
    },
    "id": "TYn_4GQmA4g2",
    "outputId": "2d170d2b-6acd-4c89-a91c-5a504a6bc908",
    "ExecuteTime": {
     "end_time": "2024-11-27T23:30:44.961782Z",
     "start_time": "2024-11-27T23:30:44.955711Z"
    }
   },
   "source": [
    "df['Initial'] = df['Names'].apply(lambda x: x[0])\n",
    "df"
   ],
   "outputs": [
    {
     "data": {
      "text/plain": [
       "     Names  Births Initial\n",
       "A      Bob     968       B\n",
       "B  Jessica     155       J\n",
       "C     Mary      77       M\n",
       "D     John     578       J"
      ],
      "text/html": [
       "<div>\n",
       "<style scoped>\n",
       "    .dataframe tbody tr th:only-of-type {\n",
       "        vertical-align: middle;\n",
       "    }\n",
       "\n",
       "    .dataframe tbody tr th {\n",
       "        vertical-align: top;\n",
       "    }\n",
       "\n",
       "    .dataframe thead th {\n",
       "        text-align: right;\n",
       "    }\n",
       "</style>\n",
       "<table border=\"1\" class=\"dataframe\">\n",
       "  <thead>\n",
       "    <tr style=\"text-align: right;\">\n",
       "      <th></th>\n",
       "      <th>Names</th>\n",
       "      <th>Births</th>\n",
       "      <th>Initial</th>\n",
       "    </tr>\n",
       "  </thead>\n",
       "  <tbody>\n",
       "    <tr>\n",
       "      <th>A</th>\n",
       "      <td>Bob</td>\n",
       "      <td>968</td>\n",
       "      <td>B</td>\n",
       "    </tr>\n",
       "    <tr>\n",
       "      <th>B</th>\n",
       "      <td>Jessica</td>\n",
       "      <td>155</td>\n",
       "      <td>J</td>\n",
       "    </tr>\n",
       "    <tr>\n",
       "      <th>C</th>\n",
       "      <td>Mary</td>\n",
       "      <td>77</td>\n",
       "      <td>M</td>\n",
       "    </tr>\n",
       "    <tr>\n",
       "      <th>D</th>\n",
       "      <td>John</td>\n",
       "      <td>578</td>\n",
       "      <td>J</td>\n",
       "    </tr>\n",
       "  </tbody>\n",
       "</table>\n",
       "</div>"
      ]
     },
     "execution_count": 46,
     "metadata": {},
     "output_type": "execute_result"
    }
   ],
   "execution_count": 46
  },
  {
   "cell_type": "markdown",
   "metadata": {
    "id": "UJLqQ3xAA4g2"
   },
   "source": [
    "### Удаление столба:"
   ]
  },
  {
   "cell_type": "code",
   "metadata": {
    "colab": {
     "base_uri": "https://localhost:8080/",
     "height": 175
    },
    "executionInfo": {
     "elapsed": 16,
     "status": "ok",
     "timestamp": 1649245084627,
     "user": {
      "displayName": "Николай Смирнов",
      "userId": "05792503510966078252"
     },
     "user_tz": -180
    },
    "id": "d5JHlbNoA4g2",
    "outputId": "9b203db0-924f-4b0e-edd9-cdda901d9a32",
    "ExecuteTime": {
     "end_time": "2024-11-27T23:43:30.811131Z",
     "start_time": "2024-11-27T23:43:30.804282Z"
    }
   },
   "source": [
    "del df['Initial']\n",
    "df"
   ],
   "outputs": [
    {
     "data": {
      "text/plain": [
       "     Names  Births\n",
       "A      Bob     968\n",
       "B  Jessica     155\n",
       "C     Mary      77\n",
       "D     John     578"
      ],
      "text/html": [
       "<div>\n",
       "<style scoped>\n",
       "    .dataframe tbody tr th:only-of-type {\n",
       "        vertical-align: middle;\n",
       "    }\n",
       "\n",
       "    .dataframe tbody tr th {\n",
       "        vertical-align: top;\n",
       "    }\n",
       "\n",
       "    .dataframe thead th {\n",
       "        text-align: right;\n",
       "    }\n",
       "</style>\n",
       "<table border=\"1\" class=\"dataframe\">\n",
       "  <thead>\n",
       "    <tr style=\"text-align: right;\">\n",
       "      <th></th>\n",
       "      <th>Names</th>\n",
       "      <th>Births</th>\n",
       "    </tr>\n",
       "  </thead>\n",
       "  <tbody>\n",
       "    <tr>\n",
       "      <th>A</th>\n",
       "      <td>Bob</td>\n",
       "      <td>968</td>\n",
       "    </tr>\n",
       "    <tr>\n",
       "      <th>B</th>\n",
       "      <td>Jessica</td>\n",
       "      <td>155</td>\n",
       "    </tr>\n",
       "    <tr>\n",
       "      <th>C</th>\n",
       "      <td>Mary</td>\n",
       "      <td>77</td>\n",
       "    </tr>\n",
       "    <tr>\n",
       "      <th>D</th>\n",
       "      <td>John</td>\n",
       "      <td>578</td>\n",
       "    </tr>\n",
       "  </tbody>\n",
       "</table>\n",
       "</div>"
      ]
     },
     "execution_count": 47,
     "metadata": {},
     "output_type": "execute_result"
    }
   ],
   "execution_count": 47
  },
  {
   "cell_type": "markdown",
   "metadata": {
    "id": "haJSgzWhA4g3"
   },
   "source": [
    "### Изучение данных в DataFrame"
   ]
  },
  {
   "cell_type": "markdown",
   "metadata": {
    "id": "tzHcJ_k6A4g2"
   },
   "source": [
    "#### Импорт и экспорт данных\n"
   ]
  },
  {
   "cell_type": "markdown",
   "metadata": {
    "id": "jZr-M1cccUvc"
   },
   "source": [
    "**Pandas** имеет множество встроенных функций для импорта и экспорта данных. Вот наиболее полезные из них:\n",
    "* `pd.read_json` и `df.to_json`\n",
    "* `pd.read_excel` и `df.to_excel` (требует наличия установленных модулей `openpyxl` и `xlrd`)\n",
    "* `pd.read_csv` и `pd.to_csv`"
   ]
  },
  {
   "cell_type": "markdown",
   "metadata": {
    "id": "U4X93VHNI-FE"
   },
   "source": [
    "Проведем анализ результатов экзамена, которые находятся в файле. Необходимо задать путь до файла *StudentsPerformance.csv*.\n",
    "*   Если вы работаете не в **Google Colaboratory**, то обращаетесь к файлам на своем жестком диске, напимер, посредством модуля `os`.\n",
    "*   Если вы используте **Google Colaboratory**, то нужно выполнить:"
   ]
  },
  {
   "cell_type": "code",
   "metadata": {
    "colab": {
     "base_uri": "https://localhost:8080/"
    },
    "executionInfo": {
     "elapsed": 20057,
     "status": "ok",
     "timestamp": 1649245104670,
     "user": {
      "displayName": "Николай Смирнов",
      "userId": "05792503510966078252"
     },
     "user_tz": -180
    },
    "id": "BzYg0mQg5ghQ",
    "outputId": "25844dfb-b2f5-40ac-ce07-b8b56c58cffb",
    "ExecuteTime": {
     "end_time": "2024-11-27T23:44:45.883418Z",
     "start_time": "2024-11-27T23:44:45.871175Z"
    }
   },
   "source": [
    "from google.colab import drive\n",
    "drive.mount('/content/gdrive')  \n",
    "gc_folder = r\"/content/gdrive/My Drive/Colab Notebooks/\"  # Стандартный путь до файлов на гугл диске"
   ],
   "outputs": [
    {
     "ename": "ModuleNotFoundError",
     "evalue": "No module named 'google'",
     "output_type": "error",
     "traceback": [
      "\u001B[0;31m---------------------------------------------------------------------------\u001B[0m",
      "\u001B[0;31mModuleNotFoundError\u001B[0m                       Traceback (most recent call last)",
      "Cell \u001B[0;32mIn[50], line 1\u001B[0m\n\u001B[0;32m----> 1\u001B[0m \u001B[38;5;28;01mfrom\u001B[39;00m \u001B[38;5;21;01mgoogle\u001B[39;00m\u001B[38;5;21;01m.\u001B[39;00m\u001B[38;5;21;01mcolab\u001B[39;00m \u001B[38;5;28;01mimport\u001B[39;00m drive\n\u001B[1;32m      2\u001B[0m drive\u001B[38;5;241m.\u001B[39mmount(\u001B[38;5;124m'\u001B[39m\u001B[38;5;124m/content/gdrive\u001B[39m\u001B[38;5;124m'\u001B[39m)  \n\u001B[1;32m      3\u001B[0m gc_folder \u001B[38;5;241m=\u001B[39m \u001B[38;5;124mr\u001B[39m\u001B[38;5;124m\"\u001B[39m\u001B[38;5;124m/content/gdrive/My Drive/Colab Notebooks/\u001B[39m\u001B[38;5;124m\"\u001B[39m  \u001B[38;5;66;03m# Стандартный путь до файлов на гугл диске\u001B[39;00m\n",
      "\u001B[0;31mModuleNotFoundError\u001B[0m: No module named 'google'"
     ]
    }
   ],
   "execution_count": 50
  },
  {
   "cell_type": "markdown",
   "metadata": {
    "id": "dJqNeUiHKyIh"
   },
   "source": [
    "Модифицируем стандартный путь так, чтобы обратиться к файлу. \n",
    "Отредактируйте эту строку так, чтобы в `gc_folder` содержался полный путь до папки, в которой находится *StudentsPerformance.csv.* :"
   ]
  },
  {
   "cell_type": "code",
   "execution_count": null,
   "metadata": {
    "executionInfo": {
     "elapsed": 7,
     "status": "ok",
     "timestamp": 1649245104672,
     "user": {
      "displayName": "Николай Смирнов",
      "userId": "05792503510966078252"
     },
     "user_tz": -180
    },
    "id": "pGFtcpRzKtZ7"
   },
   "outputs": [],
   "source": [
    "gc_folder += r'КУРС Python для анализа данных/files/'  "
   ]
  },
  {
   "cell_type": "markdown",
   "metadata": {
    "id": "JcYO6Ap0PCqj"
   },
   "source": [
    "Далее необходимо дополнить путь **gc_path** так, чтобы получить точный путь до файла на вашем **Google Disk**, например, так:"
   ]
  },
  {
   "cell_type": "code",
   "metadata": {
    "colab": {
     "base_uri": "https://localhost:8080/",
     "height": 206
    },
    "executionInfo": {
     "elapsed": 9,
     "status": "ok",
     "timestamp": 1649245137177,
     "user": {
      "displayName": "Николай Смирнов",
      "userId": "05792503510966078252"
     },
     "user_tz": -180
    },
    "id": "ToJQbbWyObld",
    "outputId": "26e90d62-4444-4b54-b61b-45a012e1545e",
    "ExecuteTime": {
     "end_time": "2024-11-27T23:46:39.865375Z",
     "start_time": "2024-11-27T23:46:39.858068Z"
    }
   },
   "source": [
    "my_file_path = 'StudentsPerformance.csv'\n",
    "df = pd.read_csv(my_file_path)\n",
    "df.head(5)"
   ],
   "outputs": [
    {
     "data": {
      "text/plain": [
       "   gender race/ethnicity parental level of education         lunch  \\\n",
       "0  female        group B           bachelor's degree      standard   \n",
       "1  female        group C                some college      standard   \n",
       "2  female        group B             master's degree      standard   \n",
       "3    male        group A          associate's degree  free/reduced   \n",
       "4    male        group C                some college      standard   \n",
       "\n",
       "  test preparation course  math score  reading score  writing score  \n",
       "0                    none          72             72             74  \n",
       "1               completed          69             90             88  \n",
       "2                    none          90             95             93  \n",
       "3                    none          47             57             44  \n",
       "4                    none          76             78             75  "
      ],
      "text/html": [
       "<div>\n",
       "<style scoped>\n",
       "    .dataframe tbody tr th:only-of-type {\n",
       "        vertical-align: middle;\n",
       "    }\n",
       "\n",
       "    .dataframe tbody tr th {\n",
       "        vertical-align: top;\n",
       "    }\n",
       "\n",
       "    .dataframe thead th {\n",
       "        text-align: right;\n",
       "    }\n",
       "</style>\n",
       "<table border=\"1\" class=\"dataframe\">\n",
       "  <thead>\n",
       "    <tr style=\"text-align: right;\">\n",
       "      <th></th>\n",
       "      <th>gender</th>\n",
       "      <th>race/ethnicity</th>\n",
       "      <th>parental level of education</th>\n",
       "      <th>lunch</th>\n",
       "      <th>test preparation course</th>\n",
       "      <th>math score</th>\n",
       "      <th>reading score</th>\n",
       "      <th>writing score</th>\n",
       "    </tr>\n",
       "  </thead>\n",
       "  <tbody>\n",
       "    <tr>\n",
       "      <th>0</th>\n",
       "      <td>female</td>\n",
       "      <td>group B</td>\n",
       "      <td>bachelor's degree</td>\n",
       "      <td>standard</td>\n",
       "      <td>none</td>\n",
       "      <td>72</td>\n",
       "      <td>72</td>\n",
       "      <td>74</td>\n",
       "    </tr>\n",
       "    <tr>\n",
       "      <th>1</th>\n",
       "      <td>female</td>\n",
       "      <td>group C</td>\n",
       "      <td>some college</td>\n",
       "      <td>standard</td>\n",
       "      <td>completed</td>\n",
       "      <td>69</td>\n",
       "      <td>90</td>\n",
       "      <td>88</td>\n",
       "    </tr>\n",
       "    <tr>\n",
       "      <th>2</th>\n",
       "      <td>female</td>\n",
       "      <td>group B</td>\n",
       "      <td>master's degree</td>\n",
       "      <td>standard</td>\n",
       "      <td>none</td>\n",
       "      <td>90</td>\n",
       "      <td>95</td>\n",
       "      <td>93</td>\n",
       "    </tr>\n",
       "    <tr>\n",
       "      <th>3</th>\n",
       "      <td>male</td>\n",
       "      <td>group A</td>\n",
       "      <td>associate's degree</td>\n",
       "      <td>free/reduced</td>\n",
       "      <td>none</td>\n",
       "      <td>47</td>\n",
       "      <td>57</td>\n",
       "      <td>44</td>\n",
       "    </tr>\n",
       "    <tr>\n",
       "      <th>4</th>\n",
       "      <td>male</td>\n",
       "      <td>group C</td>\n",
       "      <td>some college</td>\n",
       "      <td>standard</td>\n",
       "      <td>none</td>\n",
       "      <td>76</td>\n",
       "      <td>78</td>\n",
       "      <td>75</td>\n",
       "    </tr>\n",
       "  </tbody>\n",
       "</table>\n",
       "</div>"
      ]
     },
     "execution_count": 55,
     "metadata": {},
     "output_type": "execute_result"
    }
   ],
   "execution_count": 55
  },
  {
   "cell_type": "markdown",
   "metadata": {
    "id": "4Sk0HxoeA4g3"
   },
   "source": [
    "В данном случае csv файл был отформатирован стандартным образом и импорт прошел успешно. Функция `read_csv` принимает [большое количество параметров](http://pandas.pydata.org/pandas-docs/stable/generated/pandas.read_csv.html), что позволяет использовать ее для импорта файлов с нестандартным форматированием данных."
   ]
  },
  {
   "cell_type": "markdown",
   "metadata": {
    "id": "y11vowo0A4g5"
   },
   "source": [
    "#### Знакомство с таблицей"
   ]
  },
  {
   "cell_type": "code",
   "metadata": {
    "colab": {
     "base_uri": "https://localhost:8080/"
    },
    "executionInfo": {
     "elapsed": 31,
     "status": "ok",
     "timestamp": 1649245105538,
     "user": {
      "displayName": "Николай Смирнов",
      "userId": "05792503510966078252"
     },
     "user_tz": -180
    },
    "id": "qOSXNkNEA4g5",
    "outputId": "62b0a574-5c44-4125-b559-2c8c3d7d9ee6",
    "ExecuteTime": {
     "end_time": "2024-11-27T23:46:48.153647Z",
     "start_time": "2024-11-27T23:46:48.149437Z"
    }
   },
   "source": [
    "df.info()  # Общая информация о DataFrame df"
   ],
   "outputs": [
    {
     "name": "stdout",
     "output_type": "stream",
     "text": [
      "<class 'pandas.core.frame.DataFrame'>\n",
      "RangeIndex: 1000 entries, 0 to 999\n",
      "Data columns (total 8 columns):\n",
      " #   Column                       Non-Null Count  Dtype \n",
      "---  ------                       --------------  ----- \n",
      " 0   gender                       1000 non-null   object\n",
      " 1   race/ethnicity               1000 non-null   object\n",
      " 2   parental level of education  1000 non-null   object\n",
      " 3   lunch                        1000 non-null   object\n",
      " 4   test preparation course      1000 non-null   object\n",
      " 5   math score                   1000 non-null   int64 \n",
      " 6   reading score                1000 non-null   int64 \n",
      " 7   writing score                1000 non-null   int64 \n",
      "dtypes: int64(3), object(5)\n",
      "memory usage: 62.6+ KB\n"
     ]
    }
   ],
   "execution_count": 56
  },
  {
   "cell_type": "code",
   "metadata": {
    "colab": {
     "base_uri": "https://localhost:8080/"
    },
    "executionInfo": {
     "elapsed": 21,
     "status": "ok",
     "timestamp": 1649245105539,
     "user": {
      "displayName": "Николай Смирнов",
      "userId": "05792503510966078252"
     },
     "user_tz": -180
    },
    "id": "FRKVq0L_5jie",
    "outputId": "280057c6-afc7-4687-9598-96948e586e64",
    "ExecuteTime": {
     "end_time": "2024-11-27T23:47:03.461625Z",
     "start_time": "2024-11-27T23:47:03.457465Z"
    }
   },
   "source": [
    "df.size  # Количество объектов в df"
   ],
   "outputs": [
    {
     "data": {
      "text/plain": [
       "8000"
      ]
     },
     "execution_count": 57,
     "metadata": {},
     "output_type": "execute_result"
    }
   ],
   "execution_count": 57
  },
  {
   "cell_type": "code",
   "metadata": {
    "colab": {
     "base_uri": "https://localhost:8080/"
    },
    "executionInfo": {
     "elapsed": 18,
     "status": "ok",
     "timestamp": 1649245105540,
     "user": {
      "displayName": "Николай Смирнов",
      "userId": "05792503510966078252"
     },
     "user_tz": -180
    },
    "id": "CA2RKwWGA4g5",
    "outputId": "c651125f-b3ca-4f2c-fe7f-537fbf8d4257",
    "ExecuteTime": {
     "end_time": "2024-11-27T23:47:06.600225Z",
     "start_time": "2024-11-27T23:47:06.596921Z"
    }
   },
   "source": [
    "df.index  # Индексы df"
   ],
   "outputs": [
    {
     "data": {
      "text/plain": [
       "RangeIndex(start=0, stop=1000, step=1)"
      ]
     },
     "execution_count": 58,
     "metadata": {},
     "output_type": "execute_result"
    }
   ],
   "execution_count": 58
  },
  {
   "cell_type": "code",
   "metadata": {
    "colab": {
     "base_uri": "https://localhost:8080/"
    },
    "executionInfo": {
     "elapsed": 597,
     "status": "ok",
     "timestamp": 1649245106122,
     "user": {
      "displayName": "Николай Смирнов",
      "userId": "05792503510966078252"
     },
     "user_tz": -180
    },
    "id": "UxmLIajEA4g5",
    "outputId": "ac53ee3a-7dde-4567-853c-0686e8b6104d",
    "ExecuteTime": {
     "end_time": "2024-11-27T23:47:11.493425Z",
     "start_time": "2024-11-27T23:47:11.490187Z"
    }
   },
   "source": [
    "df.values  # Значения df"
   ],
   "outputs": [
    {
     "data": {
      "text/plain": [
       "array([['female', 'group B', \"bachelor's degree\", ..., 72, 72, 74],\n",
       "       ['female', 'group C', 'some college', ..., 69, 90, 88],\n",
       "       ['female', 'group B', \"master's degree\", ..., 90, 95, 93],\n",
       "       ...,\n",
       "       ['female', 'group C', 'high school', ..., 59, 71, 65],\n",
       "       ['female', 'group D', 'some college', ..., 68, 78, 77],\n",
       "       ['female', 'group D', 'some college', ..., 77, 86, 86]],\n",
       "      dtype=object)"
      ]
     },
     "execution_count": 59,
     "metadata": {},
     "output_type": "execute_result"
    }
   ],
   "execution_count": 59
  },
  {
   "cell_type": "code",
   "metadata": {
    "colab": {
     "base_uri": "https://localhost:8080/"
    },
    "executionInfo": {
     "elapsed": 49,
     "status": "ok",
     "timestamp": 1649245106123,
     "user": {
      "displayName": "Николай Смирнов",
      "userId": "05792503510966078252"
     },
     "user_tz": -180
    },
    "id": "v5oxoz_ZA4g5",
    "outputId": "89c75373-e14c-45da-8c8f-3bf50721274f",
    "ExecuteTime": {
     "end_time": "2024-11-27T23:47:28.597003Z",
     "start_time": "2024-11-27T23:47:28.593394Z"
    }
   },
   "source": [
    "df.dtypes  # Типы данных для каждого столбца df"
   ],
   "outputs": [
    {
     "data": {
      "text/plain": [
       "gender                         object\n",
       "race/ethnicity                 object\n",
       "parental level of education    object\n",
       "lunch                          object\n",
       "test preparation course        object\n",
       "math score                      int64\n",
       "reading score                   int64\n",
       "writing score                   int64\n",
       "dtype: object"
      ]
     },
     "execution_count": 60,
     "metadata": {},
     "output_type": "execute_result"
    }
   ],
   "execution_count": 60
  },
  {
   "cell_type": "code",
   "metadata": {
    "colab": {
     "base_uri": "https://localhost:8080/",
     "height": 300
    },
    "executionInfo": {
     "elapsed": 46,
     "status": "ok",
     "timestamp": 1649245106123,
     "user": {
      "displayName": "Николай Смирнов",
      "userId": "05792503510966078252"
     },
     "user_tz": -180
    },
    "id": "SjmNnWbtA4g6",
    "outputId": "ee9cd2b0-7915-4987-9190-06a60e9c9607",
    "ExecuteTime": {
     "end_time": "2024-11-27T23:47:34.849093Z",
     "start_time": "2024-11-27T23:47:34.841658Z"
    }
   },
   "source": [
    "df.describe()  # Рассчитанные характеристики df"
   ],
   "outputs": [
    {
     "data": {
      "text/plain": [
       "       math score  reading score  writing score\n",
       "count  1000.00000    1000.000000    1000.000000\n",
       "mean     66.08900      69.169000      68.054000\n",
       "std      15.16308      14.600192      15.195657\n",
       "min       0.00000      17.000000      10.000000\n",
       "25%      57.00000      59.000000      57.750000\n",
       "50%      66.00000      70.000000      69.000000\n",
       "75%      77.00000      79.000000      79.000000\n",
       "max     100.00000     100.000000     100.000000"
      ],
      "text/html": [
       "<div>\n",
       "<style scoped>\n",
       "    .dataframe tbody tr th:only-of-type {\n",
       "        vertical-align: middle;\n",
       "    }\n",
       "\n",
       "    .dataframe tbody tr th {\n",
       "        vertical-align: top;\n",
       "    }\n",
       "\n",
       "    .dataframe thead th {\n",
       "        text-align: right;\n",
       "    }\n",
       "</style>\n",
       "<table border=\"1\" class=\"dataframe\">\n",
       "  <thead>\n",
       "    <tr style=\"text-align: right;\">\n",
       "      <th></th>\n",
       "      <th>math score</th>\n",
       "      <th>reading score</th>\n",
       "      <th>writing score</th>\n",
       "    </tr>\n",
       "  </thead>\n",
       "  <tbody>\n",
       "    <tr>\n",
       "      <th>count</th>\n",
       "      <td>1000.00000</td>\n",
       "      <td>1000.000000</td>\n",
       "      <td>1000.000000</td>\n",
       "    </tr>\n",
       "    <tr>\n",
       "      <th>mean</th>\n",
       "      <td>66.08900</td>\n",
       "      <td>69.169000</td>\n",
       "      <td>68.054000</td>\n",
       "    </tr>\n",
       "    <tr>\n",
       "      <th>std</th>\n",
       "      <td>15.16308</td>\n",
       "      <td>14.600192</td>\n",
       "      <td>15.195657</td>\n",
       "    </tr>\n",
       "    <tr>\n",
       "      <th>min</th>\n",
       "      <td>0.00000</td>\n",
       "      <td>17.000000</td>\n",
       "      <td>10.000000</td>\n",
       "    </tr>\n",
       "    <tr>\n",
       "      <th>25%</th>\n",
       "      <td>57.00000</td>\n",
       "      <td>59.000000</td>\n",
       "      <td>57.750000</td>\n",
       "    </tr>\n",
       "    <tr>\n",
       "      <th>50%</th>\n",
       "      <td>66.00000</td>\n",
       "      <td>70.000000</td>\n",
       "      <td>69.000000</td>\n",
       "    </tr>\n",
       "    <tr>\n",
       "      <th>75%</th>\n",
       "      <td>77.00000</td>\n",
       "      <td>79.000000</td>\n",
       "      <td>79.000000</td>\n",
       "    </tr>\n",
       "    <tr>\n",
       "      <th>max</th>\n",
       "      <td>100.00000</td>\n",
       "      <td>100.000000</td>\n",
       "      <td>100.000000</td>\n",
       "    </tr>\n",
       "  </tbody>\n",
       "</table>\n",
       "</div>"
      ]
     },
     "execution_count": 61,
     "metadata": {},
     "output_type": "execute_result"
    }
   ],
   "execution_count": 61
  },
  {
   "cell_type": "markdown",
   "metadata": {
    "id": "LYEnN3eQA4g8"
   },
   "source": [
    "Рассмотрим столбец \"*test preparation course*\""
   ]
  },
  {
   "cell_type": "code",
   "metadata": {
    "colab": {
     "base_uri": "https://localhost:8080/"
    },
    "executionInfo": {
     "elapsed": 46,
     "status": "ok",
     "timestamp": 1649245106124,
     "user": {
      "displayName": "Николай Смирнов",
      "userId": "05792503510966078252"
     },
     "user_tz": -180
    },
    "id": "sN7F0urQA4g9",
    "outputId": "50ddd5ed-8709-4e5a-a76a-98f3d8f100a9",
    "ExecuteTime": {
     "end_time": "2024-11-27T23:48:09.334567Z",
     "start_time": "2024-11-27T23:48:09.331116Z"
    }
   },
   "source": [
    "print('Описание столбца:\\n', df['test preparation course'].describe())"
   ],
   "outputs": [
    {
     "name": "stdout",
     "output_type": "stream",
     "text": [
      "Описание столбца:\n",
      " count     1000\n",
      "unique       2\n",
      "top       none\n",
      "freq       642\n",
      "Name: test preparation course, dtype: object\n"
     ]
    }
   ],
   "execution_count": 62
  },
  {
   "cell_type": "markdown",
   "metadata": {
    "id": "H3yoLmv3nZsF"
   },
   "source": [
    "Используя `.unique()`, можно получить все уникальные значения в наборе:"
   ]
  },
  {
   "cell_type": "code",
   "metadata": {
    "colab": {
     "base_uri": "https://localhost:8080/"
    },
    "executionInfo": {
     "elapsed": 45,
     "status": "ok",
     "timestamp": 1649245106125,
     "user": {
      "displayName": "Николай Смирнов",
      "userId": "05792503510966078252"
     },
     "user_tz": -180
    },
    "id": "0pZ1wM8anZ4r",
    "outputId": "8e24fc99-a62e-4ba7-940e-20e1e88c0fdb",
    "ExecuteTime": {
     "end_time": "2024-11-27T23:48:16.603780Z",
     "start_time": "2024-11-27T23:48:16.600716Z"
    }
   },
   "source": [
    "print('\\nУникальные значения:', df['test preparation course'].unique())"
   ],
   "outputs": [
    {
     "name": "stdout",
     "output_type": "stream",
     "text": [
      "\n",
      "Уникальные значения: ['none' 'completed']\n"
     ]
    }
   ],
   "execution_count": 63
  },
  {
   "cell_type": "markdown",
   "metadata": {
    "id": "-0vZTxbkA4g9"
   },
   "source": [
    "Сейчас данные столбца *test preparation course* хранятся в виде строк и принимают всего два значения: 'none' и 'completed'. Удобнее продолжить работу с такими данными, как с булевыми переменными. Для этого в столбце *test preparation course* запишем `True`, если в нем было значение *completed*, иначе `False`.\n"
   ]
  },
  {
   "cell_type": "code",
   "metadata": {
    "colab": {
     "base_uri": "https://localhost:8080/",
     "height": 143
    },
    "executionInfo": {
     "elapsed": 45,
     "status": "ok",
     "timestamp": 1649245106126,
     "user": {
      "displayName": "Николай Смирнов",
      "userId": "05792503510966078252"
     },
     "user_tz": -180
    },
    "id": "v_Gs6aG8A4g9",
    "outputId": "5f6df3e0-143c-4cb0-ae00-a0def73aaeed",
    "ExecuteTime": {
     "end_time": "2024-11-27T23:48:28.577968Z",
     "start_time": "2024-11-27T23:48:28.572403Z"
    }
   },
   "source": [
    "df['test preparation course'] = (df['test preparation course'] == 'completed')\n",
    "df.head(3)"
   ],
   "outputs": [
    {
     "data": {
      "text/plain": [
       "   gender race/ethnicity parental level of education     lunch  \\\n",
       "0  female        group B           bachelor's degree  standard   \n",
       "1  female        group C                some college  standard   \n",
       "2  female        group B             master's degree  standard   \n",
       "\n",
       "   test preparation course  math score  reading score  writing score  \n",
       "0                    False          72             72             74  \n",
       "1                     True          69             90             88  \n",
       "2                    False          90             95             93  "
      ],
      "text/html": [
       "<div>\n",
       "<style scoped>\n",
       "    .dataframe tbody tr th:only-of-type {\n",
       "        vertical-align: middle;\n",
       "    }\n",
       "\n",
       "    .dataframe tbody tr th {\n",
       "        vertical-align: top;\n",
       "    }\n",
       "\n",
       "    .dataframe thead th {\n",
       "        text-align: right;\n",
       "    }\n",
       "</style>\n",
       "<table border=\"1\" class=\"dataframe\">\n",
       "  <thead>\n",
       "    <tr style=\"text-align: right;\">\n",
       "      <th></th>\n",
       "      <th>gender</th>\n",
       "      <th>race/ethnicity</th>\n",
       "      <th>parental level of education</th>\n",
       "      <th>lunch</th>\n",
       "      <th>test preparation course</th>\n",
       "      <th>math score</th>\n",
       "      <th>reading score</th>\n",
       "      <th>writing score</th>\n",
       "    </tr>\n",
       "  </thead>\n",
       "  <tbody>\n",
       "    <tr>\n",
       "      <th>0</th>\n",
       "      <td>female</td>\n",
       "      <td>group B</td>\n",
       "      <td>bachelor's degree</td>\n",
       "      <td>standard</td>\n",
       "      <td>False</td>\n",
       "      <td>72</td>\n",
       "      <td>72</td>\n",
       "      <td>74</td>\n",
       "    </tr>\n",
       "    <tr>\n",
       "      <th>1</th>\n",
       "      <td>female</td>\n",
       "      <td>group C</td>\n",
       "      <td>some college</td>\n",
       "      <td>standard</td>\n",
       "      <td>True</td>\n",
       "      <td>69</td>\n",
       "      <td>90</td>\n",
       "      <td>88</td>\n",
       "    </tr>\n",
       "    <tr>\n",
       "      <th>2</th>\n",
       "      <td>female</td>\n",
       "      <td>group B</td>\n",
       "      <td>master's degree</td>\n",
       "      <td>standard</td>\n",
       "      <td>False</td>\n",
       "      <td>90</td>\n",
       "      <td>95</td>\n",
       "      <td>93</td>\n",
       "    </tr>\n",
       "  </tbody>\n",
       "</table>\n",
       "</div>"
      ]
     },
     "execution_count": 64,
     "metadata": {},
     "output_type": "execute_result"
    }
   ],
   "execution_count": 64
  },
  {
   "cell_type": "code",
   "metadata": {
    "colab": {
     "base_uri": "https://localhost:8080/"
    },
    "executionInfo": {
     "elapsed": 43,
     "status": "ok",
     "timestamp": 1649245106126,
     "user": {
      "displayName": "Николай Смирнов",
      "userId": "05792503510966078252"
     },
     "user_tz": -180
    },
    "id": "-YF45C5LA4g-",
    "outputId": "259c07fa-9b73-42d2-896b-038359da8520",
    "ExecuteTime": {
     "end_time": "2024-11-27T23:48:34.508134Z",
     "start_time": "2024-11-27T23:48:34.502278Z"
    }
   },
   "source": [
    "df.info()"
   ],
   "outputs": [
    {
     "name": "stdout",
     "output_type": "stream",
     "text": [
      "<class 'pandas.core.frame.DataFrame'>\n",
      "RangeIndex: 1000 entries, 0 to 999\n",
      "Data columns (total 8 columns):\n",
      " #   Column                       Non-Null Count  Dtype \n",
      "---  ------                       --------------  ----- \n",
      " 0   gender                       1000 non-null   object\n",
      " 1   race/ethnicity               1000 non-null   object\n",
      " 2   parental level of education  1000 non-null   object\n",
      " 3   lunch                        1000 non-null   object\n",
      " 4   test preparation course      1000 non-null   bool  \n",
      " 5   math score                   1000 non-null   int64 \n",
      " 6   reading score                1000 non-null   int64 \n",
      " 7   writing score                1000 non-null   int64 \n",
      "dtypes: bool(1), int64(3), object(4)\n",
      "memory usage: 55.8+ KB\n"
     ]
    }
   ],
   "execution_count": 65
  },
  {
   "cell_type": "markdown",
   "metadata": {
    "id": "VtVq7JQCA4hO"
   },
   "source": [
    "Рассмотрим, как прохождение подготовительного курса сказывается на результатах экзамена по математике:"
   ]
  },
  {
   "cell_type": "code",
   "metadata": {
    "colab": {
     "base_uri": "https://localhost:8080/"
    },
    "executionInfo": {
     "elapsed": 43,
     "status": "ok",
     "timestamp": 1649245106127,
     "user": {
      "displayName": "Николай Смирнов",
      "userId": "05792503510966078252"
     },
     "user_tz": -180
    },
    "id": "k_AQW8KBA4hP",
    "outputId": "f5219601-a48e-416b-9c98-e45c810fc5fd",
    "ExecuteTime": {
     "end_time": "2024-11-27T23:48:45.224985Z",
     "start_time": "2024-11-27T23:48:45.218386Z"
    }
   },
   "source": [
    "print('Прошедшие подготовительный курс:',    df[ df['test preparation course']]['math score'].describe())\n",
    "print('Не прошедшие подготовительный курс:', df[~df['test preparation course']]['math score'].describe()) # ~ - логическое \"не\""
   ],
   "outputs": [
    {
     "name": "stdout",
     "output_type": "stream",
     "text": [
      "Прошедшие подготовительный курс: count    358.000000\n",
      "mean      69.695531\n",
      "std       14.444699\n",
      "min       23.000000\n",
      "25%       60.000000\n",
      "50%       69.000000\n",
      "75%       79.000000\n",
      "max      100.000000\n",
      "Name: math score, dtype: float64\n",
      "Не прошедшие подготовительный курс: count    642.000000\n",
      "mean      64.077882\n",
      "std       15.192376\n",
      "min        0.000000\n",
      "25%       54.000000\n",
      "50%       64.000000\n",
      "75%       74.750000\n",
      "max      100.000000\n",
      "Name: math score, dtype: float64\n"
     ]
    }
   ],
   "execution_count": 66
  },
  {
   "cell_type": "markdown",
   "metadata": {
    "id": "6kwW4mCEA4hP"
   },
   "source": [
    "Рассмотрим как уровень образования родителей сказывается на результатах экзаменов ребенка"
   ]
  },
  {
   "cell_type": "code",
   "metadata": {
    "colab": {
     "base_uri": "https://localhost:8080/"
    },
    "executionInfo": {
     "elapsed": 42,
     "status": "ok",
     "timestamp": 1649245106127,
     "user": {
      "displayName": "Николай Смирнов",
      "userId": "05792503510966078252"
     },
     "user_tz": -180
    },
    "id": "1bPPKya2A4hQ",
    "outputId": "8c4b41ae-220e-40fb-d5db-7e5c19040f3b",
    "ExecuteTime": {
     "end_time": "2024-11-27T23:49:20.815806Z",
     "start_time": "2024-11-27T23:49:20.812970Z"
    }
   },
   "source": [
    "print('Различные уровни образования родителей:', df['parental level of education'].unique())"
   ],
   "outputs": [
    {
     "name": "stdout",
     "output_type": "stream",
     "text": [
      "Различные уровни образования родителей: [\"bachelor's degree\" 'some college' \"master's degree\" \"associate's degree\"\n",
      " 'high school' 'some high school']\n"
     ]
    }
   ],
   "execution_count": 67
  },
  {
   "cell_type": "markdown",
   "metadata": {
    "id": "oMHzAdI0A4hQ"
   },
   "source": [
    "Такие данные лучше представить не в виде строк, а в виде категорий: это уменьшает объем используемой памяти и позволит обрабатывать эти данные более эффективно"
   ]
  },
  {
   "cell_type": "code",
   "metadata": {
    "executionInfo": {
     "elapsed": 41,
     "status": "ok",
     "timestamp": 1649245106128,
     "user": {
      "displayName": "Николай Смирнов",
      "userId": "05792503510966078252"
     },
     "user_tz": -180
    },
    "id": "drpSiRKQA4hR",
    "ExecuteTime": {
     "end_time": "2024-11-27T23:50:05.916347Z",
     "start_time": "2024-11-27T23:50:05.913388Z"
    }
   },
   "source": [
    "from pandas.api.types import CategoricalDtype\n",
    "\n",
    "edu_levels = CategoricalDtype(\n",
    "    categories=[  # Уровни образования в порядке возрастания:\n",
    "        \"some high school\",\n",
    "        \"high school\", \n",
    "        \"some college\", \n",
    "        \"associate's degree\",\n",
    "        \"bachelor's degree\",\n",
    "        \"master's degree\",\n",
    "    ],\n",
    "    ordered=True  # Отмечаем, что среди этих категорий установлено отношение порядка\n",
    ")\n",
    "\n",
    "df['parental level of education']=df['parental level of education'].astype(edu_levels)"
   ],
   "outputs": [],
   "execution_count": 68
  },
  {
   "cell_type": "markdown",
   "metadata": {
    "id": "LrF6uaPPG76N"
   },
   "source": [
    "#### groupby() - Групировка по значениям\n",
    "\n"
   ]
  },
  {
   "cell_type": "markdown",
   "metadata": {
    "id": "10nPrkYJqgv2"
   },
   "source": [
    "Используя `groupby()`, сгруппируем значения столбца *parental level of education* и, используя `mean()`, для каждого уровня образования родителей посчитаем среднюю оценку по математике:"
   ]
  },
  {
   "cell_type": "code",
   "metadata": {
    "executionInfo": {
     "elapsed": 40,
     "status": "ok",
     "timestamp": 1649245106128,
     "user": {
      "displayName": "Николай Смирнов",
      "userId": "05792503510966078252"
     },
     "user_tz": -180
    },
    "id": "N8eFPff7qrYf",
    "ExecuteTime": {
     "end_time": "2024-11-27T23:50:16.388913Z",
     "start_time": "2024-11-27T23:50:16.386119Z"
    }
   },
   "source": [
    "by_parents_edu_level = df.groupby('parental level of education')  # Группируем значения столбца parental level of education"
   ],
   "outputs": [
    {
     "name": "stderr",
     "output_type": "stream",
     "text": [
      "/var/folders/_n/mprkc30d1rj6jyblw653vk_00000gn/T/ipykernel_6853/3611358735.py:1: FutureWarning: The default of observed=False is deprecated and will be changed to True in a future version of pandas. Pass observed=False to retain current behavior or observed=True to adopt the future default and silence this warning.\n",
      "  by_parents_edu_level = df.groupby('parental level of education')  # Группируем значения столбца parental level of education\n"
     ]
    }
   ],
   "execution_count": 69
  },
  {
   "cell_type": "code",
   "metadata": {
    "colab": {
     "base_uri": "https://localhost:8080/"
    },
    "executionInfo": {
     "elapsed": 40,
     "status": "ok",
     "timestamp": 1649245106129,
     "user": {
      "displayName": "Николай Смирнов",
      "userId": "05792503510966078252"
     },
     "user_tz": -180
    },
    "id": "fzQqMJHUrAKY",
    "outputId": "6365e314-a162-498b-a39c-33c4341e0da9",
    "ExecuteTime": {
     "end_time": "2024-11-27T23:50:31.743504Z",
     "start_time": "2024-11-27T23:50:31.739348Z"
    }
   },
   "source": [
    "by_parents_edu_level_mean = by_parents_edu_level['math score'].mean()  # Средняя оценка по математике\n",
    "print('Тип type(by_parents_edu_level_mean)=', type(by_parents_edu_level_mean), '\\n')\n",
    "by_parents_edu_level_mean\n"
   ],
   "outputs": [
    {
     "name": "stdout",
     "output_type": "stream",
     "text": [
      "Тип type(by_parents_edu_level_mean)= <class 'pandas.core.series.Series'> \n",
      "\n"
     ]
    },
    {
     "data": {
      "text/plain": [
       "parental level of education\n",
       "some high school      63.497207\n",
       "high school           62.137755\n",
       "some college          67.128319\n",
       "associate's degree    67.882883\n",
       "bachelor's degree     69.389831\n",
       "master's degree       69.745763\n",
       "Name: math score, dtype: float64"
      ]
     },
     "execution_count": 70,
     "metadata": {},
     "output_type": "execute_result"
    }
   ],
   "execution_count": 70
  },
  {
   "cell_type": "markdown",
   "metadata": {
    "id": "D3XvLLdRsN5i"
   },
   "source": [
    "Следует отметить, что в ячейке выше *by_parents_edu_level_mean* является `pd.Series`, a столбец *parental level of education* стал индексом. Чтобы избежать этого можно указать параметр со значением `as_index=False`:"
   ]
  },
  {
   "cell_type": "code",
   "metadata": {
    "colab": {
     "base_uri": "https://localhost:8080/",
     "height": 275
    },
    "executionInfo": {
     "elapsed": 39,
     "status": "ok",
     "timestamp": 1649245106129,
     "user": {
      "displayName": "Николай Смирнов",
      "userId": "05792503510966078252"
     },
     "user_tz": -180
    },
    "id": "7KcVoei-A4hR",
    "outputId": "3ef15f06-f4c4-428f-a144-9aef4edcac60",
    "ExecuteTime": {
     "end_time": "2024-11-27T23:51:36.565314Z",
     "start_time": "2024-11-27T23:51:36.559669Z"
    }
   },
   "source": [
    "by_parents_edu_level_mean = df.groupby('parental level of education', as_index=False)\n",
    "print('Тип type(by_parents_edu_level_mean)=', type(by_parents_edu_level_mean), '\\n')\n",
    "by_parents_edu_level_mean['math score'].mean()"
   ],
   "outputs": [
    {
     "name": "stdout",
     "output_type": "stream",
     "text": [
      "Тип type(by_parents_edu_level_mean)= <class 'pandas.core.groupby.generic.DataFrameGroupBy'> \n",
      "\n"
     ]
    },
    {
     "name": "stderr",
     "output_type": "stream",
     "text": [
      "/var/folders/_n/mprkc30d1rj6jyblw653vk_00000gn/T/ipykernel_6853/2399339864.py:1: FutureWarning: The default of observed=False is deprecated and will be changed to True in a future version of pandas. Pass observed=False to retain current behavior or observed=True to adopt the future default and silence this warning.\n",
      "  by_parents_edu_level_mean = df.groupby('parental level of education', as_index=False)\n"
     ]
    },
    {
     "data": {
      "text/plain": [
       "  parental level of education  math score\n",
       "0            some high school   63.497207\n",
       "1                 high school   62.137755\n",
       "2                some college   67.128319\n",
       "3          associate's degree   67.882883\n",
       "4           bachelor's degree   69.389831\n",
       "5             master's degree   69.745763"
      ],
      "text/html": [
       "<div>\n",
       "<style scoped>\n",
       "    .dataframe tbody tr th:only-of-type {\n",
       "        vertical-align: middle;\n",
       "    }\n",
       "\n",
       "    .dataframe tbody tr th {\n",
       "        vertical-align: top;\n",
       "    }\n",
       "\n",
       "    .dataframe thead th {\n",
       "        text-align: right;\n",
       "    }\n",
       "</style>\n",
       "<table border=\"1\" class=\"dataframe\">\n",
       "  <thead>\n",
       "    <tr style=\"text-align: right;\">\n",
       "      <th></th>\n",
       "      <th>parental level of education</th>\n",
       "      <th>math score</th>\n",
       "    </tr>\n",
       "  </thead>\n",
       "  <tbody>\n",
       "    <tr>\n",
       "      <th>0</th>\n",
       "      <td>some high school</td>\n",
       "      <td>63.497207</td>\n",
       "    </tr>\n",
       "    <tr>\n",
       "      <th>1</th>\n",
       "      <td>high school</td>\n",
       "      <td>62.137755</td>\n",
       "    </tr>\n",
       "    <tr>\n",
       "      <th>2</th>\n",
       "      <td>some college</td>\n",
       "      <td>67.128319</td>\n",
       "    </tr>\n",
       "    <tr>\n",
       "      <th>3</th>\n",
       "      <td>associate's degree</td>\n",
       "      <td>67.882883</td>\n",
       "    </tr>\n",
       "    <tr>\n",
       "      <th>4</th>\n",
       "      <td>bachelor's degree</td>\n",
       "      <td>69.389831</td>\n",
       "    </tr>\n",
       "    <tr>\n",
       "      <th>5</th>\n",
       "      <td>master's degree</td>\n",
       "      <td>69.745763</td>\n",
       "    </tr>\n",
       "  </tbody>\n",
       "</table>\n",
       "</div>"
      ]
     },
     "execution_count": 71,
     "metadata": {},
     "output_type": "execute_result"
    }
   ],
   "execution_count": 71
  },
  {
   "cell_type": "markdown",
   "metadata": {
    "id": "X6g_vI7r5_Rx"
   },
   "source": [
    "Количество записей в каждой группе:"
   ]
  },
  {
   "cell_type": "code",
   "metadata": {
    "colab": {
     "base_uri": "https://localhost:8080/",
     "height": 237
    },
    "executionInfo": {
     "elapsed": 34,
     "status": "ok",
     "timestamp": 1649245106130,
     "user": {
      "displayName": "Николай Смирнов",
      "userId": "05792503510966078252"
     },
     "user_tz": -180
    },
    "id": "a8OHBq1zA4hS",
    "outputId": "bbb380ed-7a4c-4db9-d95f-6fa2c3944f5a",
    "ExecuteTime": {
     "end_time": "2024-11-27T23:52:08.219992Z",
     "start_time": "2024-11-27T23:52:08.214802Z"
    }
   },
   "source": [
    "by_parents_edu_level_mean.size()"
   ],
   "outputs": [
    {
     "data": {
      "text/plain": [
       "  parental level of education  size\n",
       "0            some high school   179\n",
       "1                 high school   196\n",
       "2                some college   226\n",
       "3          associate's degree   222\n",
       "4           bachelor's degree   118\n",
       "5             master's degree    59"
      ],
      "text/html": [
       "<div>\n",
       "<style scoped>\n",
       "    .dataframe tbody tr th:only-of-type {\n",
       "        vertical-align: middle;\n",
       "    }\n",
       "\n",
       "    .dataframe tbody tr th {\n",
       "        vertical-align: top;\n",
       "    }\n",
       "\n",
       "    .dataframe thead th {\n",
       "        text-align: right;\n",
       "    }\n",
       "</style>\n",
       "<table border=\"1\" class=\"dataframe\">\n",
       "  <thead>\n",
       "    <tr style=\"text-align: right;\">\n",
       "      <th></th>\n",
       "      <th>parental level of education</th>\n",
       "      <th>size</th>\n",
       "    </tr>\n",
       "  </thead>\n",
       "  <tbody>\n",
       "    <tr>\n",
       "      <th>0</th>\n",
       "      <td>some high school</td>\n",
       "      <td>179</td>\n",
       "    </tr>\n",
       "    <tr>\n",
       "      <th>1</th>\n",
       "      <td>high school</td>\n",
       "      <td>196</td>\n",
       "    </tr>\n",
       "    <tr>\n",
       "      <th>2</th>\n",
       "      <td>some college</td>\n",
       "      <td>226</td>\n",
       "    </tr>\n",
       "    <tr>\n",
       "      <th>3</th>\n",
       "      <td>associate's degree</td>\n",
       "      <td>222</td>\n",
       "    </tr>\n",
       "    <tr>\n",
       "      <th>4</th>\n",
       "      <td>bachelor's degree</td>\n",
       "      <td>118</td>\n",
       "    </tr>\n",
       "    <tr>\n",
       "      <th>5</th>\n",
       "      <td>master's degree</td>\n",
       "      <td>59</td>\n",
       "    </tr>\n",
       "  </tbody>\n",
       "</table>\n",
       "</div>"
      ]
     },
     "execution_count": 72,
     "metadata": {},
     "output_type": "execute_result"
    }
   ],
   "execution_count": 72
  },
  {
   "cell_type": "markdown",
   "metadata": {
    "id": "F7p4R7ElC5nl"
   },
   "source": [
    "### Задача DataFrame_3.\n",
    "\n"
   ]
  },
  {
   "cell_type": "markdown",
   "metadata": {
    "id": "hK_5PqOSC5nn"
   },
   "source": [
    "  1.  Добавить в `df` стобец *Средний балл*, в который разместите поделенную на 3 сумму оценок из трёх стобцов: *math score*, *reading score*, *writing score*. Вывести на экран результат.\n",
    "  2. Произвести группировку по полу ученика (значение в столбце *gender*). После для каждой из полученных групп, найти наименьшее, среднее, наибольшее значение в поле *Средний балл*. Вывести на экран результат."
   ]
  },
  {
   "cell_type": "code",
   "metadata": {
    "executionInfo": {
     "elapsed": 34,
     "status": "ok",
     "timestamp": 1649245106131,
     "user": {
      "displayName": "Николай Смирнов",
      "userId": "05792503510966078252"
     },
     "user_tz": -180
    },
    "id": "j4vsVB4dC5np",
    "ExecuteTime": {
     "end_time": "2024-11-27T23:52:26.522939Z",
     "start_time": "2024-11-27T23:52:26.520485Z"
    }
   },
   "source": [
    "# Напишите свой код в данной ячейке\n"
   ],
   "outputs": [],
   "execution_count": 73
  },
  {
   "cell_type": "markdown",
   "metadata": {
    "id": "4KY03pkUC5nq"
   },
   "source": [
    "[Посмотреть ответ на задачу](#DataFrame_3)"
   ]
  },
  {
   "cell_type": "markdown",
   "metadata": {
    "id": "K4e_g0VZAUfJ"
   },
   "source": [
    "### where()\n"
   ]
  },
  {
   "cell_type": "markdown",
   "metadata": {
    "id": "4IhreXnJAir7"
   },
   "source": [
    "позволяет получать записи, которые соответствуют нескольким условиям:\n",
    "\n",
    "       [Текст ссылки] \n",
    "       логическое и: and => ((условие_1) & (условие_2))       \n",
    "       логическое или: or => ((условие_1) | (условие_2))    "
   ]
  },
  {
   "cell_type": "code",
   "metadata": {
    "colab": {
     "base_uri": "https://localhost:8080/",
     "height": 206
    },
    "executionInfo": {
     "elapsed": 33,
     "status": "ok",
     "timestamp": 1649245106131,
     "user": {
      "displayName": "Николай Смирнов",
      "userId": "05792503510966078252"
     },
     "user_tz": -180
    },
    "id": "pfxadeN-AK7A",
    "outputId": "ff787c8f-4270-45ba-95cc-5f2146a62e1a",
    "ExecuteTime": {
     "end_time": "2024-11-27T23:52:43.598229Z",
     "start_time": "2024-11-27T23:52:43.588256Z"
    }
   },
   "source": [
    "df2 = df.where((df['math score']>=60)&(df['math score']<70))\n",
    "df2.head(5)"
   ],
   "outputs": [
    {
     "data": {
      "text/plain": [
       "   gender race/ethnicity parental level of education     lunch  \\\n",
       "0     NaN            NaN                         NaN       NaN   \n",
       "1  female        group C                some college  standard   \n",
       "2     NaN            NaN                         NaN       NaN   \n",
       "3     NaN            NaN                         NaN       NaN   \n",
       "4     NaN            NaN                         NaN       NaN   \n",
       "\n",
       "  test preparation course  math score  reading score  writing score  \n",
       "0                     NaN         NaN            NaN            NaN  \n",
       "1                    True        69.0           90.0           88.0  \n",
       "2                     NaN         NaN            NaN            NaN  \n",
       "3                     NaN         NaN            NaN            NaN  \n",
       "4                     NaN         NaN            NaN            NaN  "
      ],
      "text/html": [
       "<div>\n",
       "<style scoped>\n",
       "    .dataframe tbody tr th:only-of-type {\n",
       "        vertical-align: middle;\n",
       "    }\n",
       "\n",
       "    .dataframe tbody tr th {\n",
       "        vertical-align: top;\n",
       "    }\n",
       "\n",
       "    .dataframe thead th {\n",
       "        text-align: right;\n",
       "    }\n",
       "</style>\n",
       "<table border=\"1\" class=\"dataframe\">\n",
       "  <thead>\n",
       "    <tr style=\"text-align: right;\">\n",
       "      <th></th>\n",
       "      <th>gender</th>\n",
       "      <th>race/ethnicity</th>\n",
       "      <th>parental level of education</th>\n",
       "      <th>lunch</th>\n",
       "      <th>test preparation course</th>\n",
       "      <th>math score</th>\n",
       "      <th>reading score</th>\n",
       "      <th>writing score</th>\n",
       "    </tr>\n",
       "  </thead>\n",
       "  <tbody>\n",
       "    <tr>\n",
       "      <th>0</th>\n",
       "      <td>NaN</td>\n",
       "      <td>NaN</td>\n",
       "      <td>NaN</td>\n",
       "      <td>NaN</td>\n",
       "      <td>NaN</td>\n",
       "      <td>NaN</td>\n",
       "      <td>NaN</td>\n",
       "      <td>NaN</td>\n",
       "    </tr>\n",
       "    <tr>\n",
       "      <th>1</th>\n",
       "      <td>female</td>\n",
       "      <td>group C</td>\n",
       "      <td>some college</td>\n",
       "      <td>standard</td>\n",
       "      <td>True</td>\n",
       "      <td>69.0</td>\n",
       "      <td>90.0</td>\n",
       "      <td>88.0</td>\n",
       "    </tr>\n",
       "    <tr>\n",
       "      <th>2</th>\n",
       "      <td>NaN</td>\n",
       "      <td>NaN</td>\n",
       "      <td>NaN</td>\n",
       "      <td>NaN</td>\n",
       "      <td>NaN</td>\n",
       "      <td>NaN</td>\n",
       "      <td>NaN</td>\n",
       "      <td>NaN</td>\n",
       "    </tr>\n",
       "    <tr>\n",
       "      <th>3</th>\n",
       "      <td>NaN</td>\n",
       "      <td>NaN</td>\n",
       "      <td>NaN</td>\n",
       "      <td>NaN</td>\n",
       "      <td>NaN</td>\n",
       "      <td>NaN</td>\n",
       "      <td>NaN</td>\n",
       "      <td>NaN</td>\n",
       "    </tr>\n",
       "    <tr>\n",
       "      <th>4</th>\n",
       "      <td>NaN</td>\n",
       "      <td>NaN</td>\n",
       "      <td>NaN</td>\n",
       "      <td>NaN</td>\n",
       "      <td>NaN</td>\n",
       "      <td>NaN</td>\n",
       "      <td>NaN</td>\n",
       "      <td>NaN</td>\n",
       "    </tr>\n",
       "  </tbody>\n",
       "</table>\n",
       "</div>"
      ]
     },
     "execution_count": 74,
     "metadata": {},
     "output_type": "execute_result"
    }
   ],
   "execution_count": 74
  },
  {
   "cell_type": "markdown",
   "metadata": {
    "id": "zjSjnw6ZzrJv"
   },
   "source": [
    "Чтобы не рассматривать строки, которые содержат **NaN** (*Not-a-Number*, неопределенность), их удаляют с помощью `dropna()`. Ниже отображены те строки df, котоыре не содержат **NaN**:"
   ]
  },
  {
   "cell_type": "code",
   "metadata": {
    "colab": {
     "base_uri": "https://localhost:8080/",
     "height": 206
    },
    "executionInfo": {
     "elapsed": 32,
     "status": "ok",
     "timestamp": 1649245106132,
     "user": {
      "displayName": "Николай Смирнов",
      "userId": "05792503510966078252"
     },
     "user_tz": -180
    },
    "id": "Jex10lpN0KGH",
    "outputId": "e4e9f29e-a223-4103-b600-9ad497c831f2",
    "ExecuteTime": {
     "end_time": "2024-11-27T23:52:53.769737Z",
     "start_time": "2024-11-27T23:52:53.760244Z"
    }
   },
   "source": [
    "df.where((df['math score']>=60)&(df['math score']<70)).dropna().head(5)"
   ],
   "outputs": [
    {
     "data": {
      "text/plain": [
       "    gender race/ethnicity parental level of education         lunch  \\\n",
       "1   female        group C                some college      standard   \n",
       "8     male        group D                 high school  free/reduced   \n",
       "12  female        group B                 high school      standard   \n",
       "15  female        group C            some high school      standard   \n",
       "20    male        group D                 high school      standard   \n",
       "\n",
       "   test preparation course  math score  reading score  writing score  \n",
       "1                     True        69.0           90.0           88.0  \n",
       "8                     True        64.0           64.0           67.0  \n",
       "12                   False        65.0           81.0           73.0  \n",
       "15                   False        69.0           75.0           78.0  \n",
       "20                   False        66.0           69.0           63.0  "
      ],
      "text/html": [
       "<div>\n",
       "<style scoped>\n",
       "    .dataframe tbody tr th:only-of-type {\n",
       "        vertical-align: middle;\n",
       "    }\n",
       "\n",
       "    .dataframe tbody tr th {\n",
       "        vertical-align: top;\n",
       "    }\n",
       "\n",
       "    .dataframe thead th {\n",
       "        text-align: right;\n",
       "    }\n",
       "</style>\n",
       "<table border=\"1\" class=\"dataframe\">\n",
       "  <thead>\n",
       "    <tr style=\"text-align: right;\">\n",
       "      <th></th>\n",
       "      <th>gender</th>\n",
       "      <th>race/ethnicity</th>\n",
       "      <th>parental level of education</th>\n",
       "      <th>lunch</th>\n",
       "      <th>test preparation course</th>\n",
       "      <th>math score</th>\n",
       "      <th>reading score</th>\n",
       "      <th>writing score</th>\n",
       "    </tr>\n",
       "  </thead>\n",
       "  <tbody>\n",
       "    <tr>\n",
       "      <th>1</th>\n",
       "      <td>female</td>\n",
       "      <td>group C</td>\n",
       "      <td>some college</td>\n",
       "      <td>standard</td>\n",
       "      <td>True</td>\n",
       "      <td>69.0</td>\n",
       "      <td>90.0</td>\n",
       "      <td>88.0</td>\n",
       "    </tr>\n",
       "    <tr>\n",
       "      <th>8</th>\n",
       "      <td>male</td>\n",
       "      <td>group D</td>\n",
       "      <td>high school</td>\n",
       "      <td>free/reduced</td>\n",
       "      <td>True</td>\n",
       "      <td>64.0</td>\n",
       "      <td>64.0</td>\n",
       "      <td>67.0</td>\n",
       "    </tr>\n",
       "    <tr>\n",
       "      <th>12</th>\n",
       "      <td>female</td>\n",
       "      <td>group B</td>\n",
       "      <td>high school</td>\n",
       "      <td>standard</td>\n",
       "      <td>False</td>\n",
       "      <td>65.0</td>\n",
       "      <td>81.0</td>\n",
       "      <td>73.0</td>\n",
       "    </tr>\n",
       "    <tr>\n",
       "      <th>15</th>\n",
       "      <td>female</td>\n",
       "      <td>group C</td>\n",
       "      <td>some high school</td>\n",
       "      <td>standard</td>\n",
       "      <td>False</td>\n",
       "      <td>69.0</td>\n",
       "      <td>75.0</td>\n",
       "      <td>78.0</td>\n",
       "    </tr>\n",
       "    <tr>\n",
       "      <th>20</th>\n",
       "      <td>male</td>\n",
       "      <td>group D</td>\n",
       "      <td>high school</td>\n",
       "      <td>standard</td>\n",
       "      <td>False</td>\n",
       "      <td>66.0</td>\n",
       "      <td>69.0</td>\n",
       "      <td>63.0</td>\n",
       "    </tr>\n",
       "  </tbody>\n",
       "</table>\n",
       "</div>"
      ]
     },
     "execution_count": 75,
     "metadata": {},
     "output_type": "execute_result"
    }
   ],
   "execution_count": 75
  },
  {
   "cell_type": "code",
   "metadata": {
    "colab": {
     "base_uri": "https://localhost:8080/",
     "height": 206
    },
    "executionInfo": {
     "elapsed": 31,
     "status": "ok",
     "timestamp": 1649245106132,
     "user": {
      "displayName": "Николай Смирнов",
      "userId": "05792503510966078252"
     },
     "user_tz": -180
    },
    "id": "sK6PnfA9AK7B",
    "outputId": "0186f8c9-b354-4b43-a69f-517f45bcaab4",
    "ExecuteTime": {
     "end_time": "2024-11-27T23:52:57.263797Z",
     "start_time": "2024-11-27T23:52:57.254382Z"
    }
   },
   "source": [
    "df.where((df['math score']<28)|(df['math score']>=30)).head()"
   ],
   "outputs": [
    {
     "data": {
      "text/plain": [
       "   gender race/ethnicity parental level of education         lunch  \\\n",
       "0  female        group B           bachelor's degree      standard   \n",
       "1  female        group C                some college      standard   \n",
       "2  female        group B             master's degree      standard   \n",
       "3    male        group A          associate's degree  free/reduced   \n",
       "4    male        group C                some college      standard   \n",
       "\n",
       "  test preparation course  math score  reading score  writing score  \n",
       "0                   False        72.0           72.0           74.0  \n",
       "1                    True        69.0           90.0           88.0  \n",
       "2                   False        90.0           95.0           93.0  \n",
       "3                   False        47.0           57.0           44.0  \n",
       "4                   False        76.0           78.0           75.0  "
      ],
      "text/html": [
       "<div>\n",
       "<style scoped>\n",
       "    .dataframe tbody tr th:only-of-type {\n",
       "        vertical-align: middle;\n",
       "    }\n",
       "\n",
       "    .dataframe tbody tr th {\n",
       "        vertical-align: top;\n",
       "    }\n",
       "\n",
       "    .dataframe thead th {\n",
       "        text-align: right;\n",
       "    }\n",
       "</style>\n",
       "<table border=\"1\" class=\"dataframe\">\n",
       "  <thead>\n",
       "    <tr style=\"text-align: right;\">\n",
       "      <th></th>\n",
       "      <th>gender</th>\n",
       "      <th>race/ethnicity</th>\n",
       "      <th>parental level of education</th>\n",
       "      <th>lunch</th>\n",
       "      <th>test preparation course</th>\n",
       "      <th>math score</th>\n",
       "      <th>reading score</th>\n",
       "      <th>writing score</th>\n",
       "    </tr>\n",
       "  </thead>\n",
       "  <tbody>\n",
       "    <tr>\n",
       "      <th>0</th>\n",
       "      <td>female</td>\n",
       "      <td>group B</td>\n",
       "      <td>bachelor's degree</td>\n",
       "      <td>standard</td>\n",
       "      <td>False</td>\n",
       "      <td>72.0</td>\n",
       "      <td>72.0</td>\n",
       "      <td>74.0</td>\n",
       "    </tr>\n",
       "    <tr>\n",
       "      <th>1</th>\n",
       "      <td>female</td>\n",
       "      <td>group C</td>\n",
       "      <td>some college</td>\n",
       "      <td>standard</td>\n",
       "      <td>True</td>\n",
       "      <td>69.0</td>\n",
       "      <td>90.0</td>\n",
       "      <td>88.0</td>\n",
       "    </tr>\n",
       "    <tr>\n",
       "      <th>2</th>\n",
       "      <td>female</td>\n",
       "      <td>group B</td>\n",
       "      <td>master's degree</td>\n",
       "      <td>standard</td>\n",
       "      <td>False</td>\n",
       "      <td>90.0</td>\n",
       "      <td>95.0</td>\n",
       "      <td>93.0</td>\n",
       "    </tr>\n",
       "    <tr>\n",
       "      <th>3</th>\n",
       "      <td>male</td>\n",
       "      <td>group A</td>\n",
       "      <td>associate's degree</td>\n",
       "      <td>free/reduced</td>\n",
       "      <td>False</td>\n",
       "      <td>47.0</td>\n",
       "      <td>57.0</td>\n",
       "      <td>44.0</td>\n",
       "    </tr>\n",
       "    <tr>\n",
       "      <th>4</th>\n",
       "      <td>male</td>\n",
       "      <td>group C</td>\n",
       "      <td>some college</td>\n",
       "      <td>standard</td>\n",
       "      <td>False</td>\n",
       "      <td>76.0</td>\n",
       "      <td>78.0</td>\n",
       "      <td>75.0</td>\n",
       "    </tr>\n",
       "  </tbody>\n",
       "</table>\n",
       "</div>"
      ]
     },
     "execution_count": 76,
     "metadata": {},
     "output_type": "execute_result"
    }
   ],
   "execution_count": 76
  },
  {
   "cell_type": "markdown",
   "metadata": {
    "id": "FmsTuTudnNgg"
   },
   "source": [
    "### Визуализация данных\n",
    "\n",
    "Черновой график **matplotlib** можно построить командой `.plot()`"
   ]
  },
  {
   "cell_type": "code",
   "metadata": {
    "colab": {
     "base_uri": "https://localhost:8080/",
     "height": 284
    },
    "executionInfo": {
     "elapsed": 453,
     "status": "ok",
     "timestamp": 1649245106556,
     "user": {
      "displayName": "Николай Смирнов",
      "userId": "05792503510966078252"
     },
     "user_tz": -180
    },
    "id": "1lj_RMn0nNgh",
    "outputId": "c9c0d82f-dfee-4584-8e7c-a948d3e426c2",
    "ExecuteTime": {
     "end_time": "2024-11-27T23:53:09.304429Z",
     "start_time": "2024-11-27T23:53:09.196976Z"
    }
   },
   "source": [
    "df.plot()"
   ],
   "outputs": [
    {
     "data": {
      "text/plain": [
       "<Axes: >"
      ]
     },
     "execution_count": 77,
     "metadata": {},
     "output_type": "execute_result"
    },
    {
     "data": {
      "text/plain": [
       "<Figure size 640x480 with 1 Axes>"
      ],
      "image/png": "[encoded data removed]"
     },
     "metadata": {},
     "output_type": "display_data"
    }
   ],
   "execution_count": 77
  },
  {
   "cell_type": "markdown",
   "metadata": {
    "id": "AyOYXHHinNgk"
   },
   "source": [
    "В данном случае этот тип графика неинформативен, лучше воспользоваться, например, гистограммой"
   ]
  },
  {
   "cell_type": "code",
   "metadata": {
    "colab": {
     "base_uri": "https://localhost:8080/",
     "height": 284
    },
    "executionInfo": {
     "elapsed": 800,
     "status": "ok",
     "timestamp": 1649245107348,
     "user": {
      "displayName": "Николай Смирнов",
      "userId": "05792503510966078252"
     },
     "user_tz": -180
    },
    "id": "YFZ2Xhe3nNgl",
    "outputId": "c4cddb9e-72f3-4129-f23b-d80aa204e234",
    "ExecuteTime": {
     "end_time": "2024-11-27T23:53:14.581966Z",
     "start_time": "2024-11-27T23:53:14.512436Z"
    }
   },
   "source": [
    "df.plot.hist() # или df.plot(kind='hist')"
   ],
   "outputs": [
    {
     "data": {
      "text/plain": [
       "<Axes: ylabel='Frequency'>"
      ]
     },
     "execution_count": 78,
     "metadata": {},
     "output_type": "execute_result"
    },
    {
     "data": {
      "text/plain": [
       "<Figure size 640x480 with 1 Axes>"
      ],
      "image/png": "[encoded data removed]"
     },
     "metadata": {},
     "output_type": "display_data"
    }
   ],
   "execution_count": 78
  },
  {
   "cell_type": "markdown",
   "metadata": {
    "id": "Td7LU-NYnNgm"
   },
   "source": [
    "Для большего контроля за внешним видом графика рекомендуется использовать непосредственно `matplotlib`, но для быстрого визуального осмотра данных эти методы подойдут."
   ]
  },
  {
   "cell_type": "markdown",
   "metadata": {
    "id": "aPGO5c1MA4hS"
   },
   "source": [
    "Функция reset_index позволяет задать стандартную индексацию, а текущий индекс сделать одной из колонок таблицы"
   ]
  },
  {
   "cell_type": "code",
   "metadata": {
    "colab": {
     "base_uri": "https://localhost:8080/",
     "height": 237
    },
    "executionInfo": {
     "elapsed": 84,
     "status": "ok",
     "timestamp": 1649245107349,
     "user": {
      "displayName": "Николай Смирнов",
      "userId": "05792503510966078252"
     },
     "user_tz": -180
    },
    "id": "W2grvdCwA4hS",
    "outputId": "cb9cd0de-68a0-4123-eaa3-76c904fadcd2",
    "ExecuteTime": {
     "end_time": "2024-11-27T23:53:30.461137Z",
     "start_time": "2024-11-27T23:53:30.456606Z"
    }
   },
   "source": [
    "by_parents_edu_level.size().reset_index()"
   ],
   "outputs": [
    {
     "data": {
      "text/plain": [
       "  parental level of education    0\n",
       "0            some high school  179\n",
       "1                 high school  196\n",
       "2                some college  226\n",
       "3          associate's degree  222\n",
       "4           bachelor's degree  118\n",
       "5             master's degree   59"
      ],
      "text/html": [
       "<div>\n",
       "<style scoped>\n",
       "    .dataframe tbody tr th:only-of-type {\n",
       "        vertical-align: middle;\n",
       "    }\n",
       "\n",
       "    .dataframe tbody tr th {\n",
       "        vertical-align: top;\n",
       "    }\n",
       "\n",
       "    .dataframe thead th {\n",
       "        text-align: right;\n",
       "    }\n",
       "</style>\n",
       "<table border=\"1\" class=\"dataframe\">\n",
       "  <thead>\n",
       "    <tr style=\"text-align: right;\">\n",
       "      <th></th>\n",
       "      <th>parental level of education</th>\n",
       "      <th>0</th>\n",
       "    </tr>\n",
       "  </thead>\n",
       "  <tbody>\n",
       "    <tr>\n",
       "      <th>0</th>\n",
       "      <td>some high school</td>\n",
       "      <td>179</td>\n",
       "    </tr>\n",
       "    <tr>\n",
       "      <th>1</th>\n",
       "      <td>high school</td>\n",
       "      <td>196</td>\n",
       "    </tr>\n",
       "    <tr>\n",
       "      <th>2</th>\n",
       "      <td>some college</td>\n",
       "      <td>226</td>\n",
       "    </tr>\n",
       "    <tr>\n",
       "      <th>3</th>\n",
       "      <td>associate's degree</td>\n",
       "      <td>222</td>\n",
       "    </tr>\n",
       "    <tr>\n",
       "      <th>4</th>\n",
       "      <td>bachelor's degree</td>\n",
       "      <td>118</td>\n",
       "    </tr>\n",
       "    <tr>\n",
       "      <th>5</th>\n",
       "      <td>master's degree</td>\n",
       "      <td>59</td>\n",
       "    </tr>\n",
       "  </tbody>\n",
       "</table>\n",
       "</div>"
      ]
     },
     "execution_count": 79,
     "metadata": {},
     "output_type": "execute_result"
    }
   ],
   "execution_count": 79
  },
  {
   "cell_type": "markdown",
   "metadata": {
    "id": "UmJ9gN5JA4hT"
   },
   "source": [
    "Используя 'drop=True' можно не сохранять старый индекс:"
   ]
  },
  {
   "cell_type": "code",
   "metadata": {
    "colab": {
     "base_uri": "https://localhost:8080/"
    },
    "executionInfo": {
     "elapsed": 82,
     "status": "ok",
     "timestamp": 1649245107349,
     "user": {
      "displayName": "Николай Смирнов",
      "userId": "05792503510966078252"
     },
     "user_tz": -180
    },
    "id": "J2H8F_LXA4hT",
    "outputId": "0a9777c4-4867-4926-83c2-525d89929dc6",
    "ExecuteTime": {
     "end_time": "2024-11-27T23:53:37.885754Z",
     "start_time": "2024-11-27T23:53:37.882285Z"
    }
   },
   "source": [
    "a = by_parents_edu_level.size().reset_index(drop=True)\n",
    "a"
   ],
   "outputs": [
    {
     "data": {
      "text/plain": [
       "0    179\n",
       "1    196\n",
       "2    226\n",
       "3    222\n",
       "4    118\n",
       "5     59\n",
       "dtype: int64"
      ]
     },
     "execution_count": 80,
     "metadata": {},
     "output_type": "execute_result"
    }
   ],
   "execution_count": 80
  },
  {
   "cell_type": "markdown",
   "metadata": {
    "id": "V1IxR_YSA4hU"
   },
   "source": [
    "### Операции с индексом"
   ]
  },
  {
   "cell_type": "markdown",
   "metadata": {
    "id": "WGGhGACsA4hU"
   },
   "source": [
    "Указание параметра со значением `inplace=True` обеспечивает сохранение примененного преобразования в DataFrame.\n",
    "\n",
    "Создадим колонку *sum score* (сумму баллов по экзаменам) и, задав `inplace=True`, сделаем ее индексом:"
   ]
  },
  {
   "cell_type": "code",
   "metadata": {
    "colab": {
     "base_uri": "https://localhost:8080/",
     "height": 237
    },
    "executionInfo": {
     "elapsed": 23,
     "status": "ok",
     "timestamp": 1649245107349,
     "user": {
      "displayName": "Николай Смирнов",
      "userId": "05792503510966078252"
     },
     "user_tz": -180
    },
    "id": "9RkxTGl_A4hU",
    "outputId": "69d32859-f9d4-4d74-d9f2-07517f6a03b5",
    "ExecuteTime": {
     "end_time": "2024-11-27T23:54:11.983457Z",
     "start_time": "2024-11-27T23:54:11.976150Z"
    }
   },
   "source": [
    "df['sum score'] = df['math score'] + df['reading score'] + df['writing score']\n",
    "df.set_index('sum score', inplace=True)\n",
    "df.head(5)"
   ],
   "outputs": [
    {
     "data": {
      "text/plain": [
       "           gender race/ethnicity parental level of education         lunch  \\\n",
       "sum score                                                                    \n",
       "218        female        group B           bachelor's degree      standard   \n",
       "247        female        group C                some college      standard   \n",
       "278        female        group B             master's degree      standard   \n",
       "148          male        group A          associate's degree  free/reduced   \n",
       "229          male        group C                some college      standard   \n",
       "\n",
       "           test preparation course  math score  reading score  writing score  \n",
       "sum score                                                                     \n",
       "218                          False          72             72             74  \n",
       "247                           True          69             90             88  \n",
       "278                          False          90             95             93  \n",
       "148                          False          47             57             44  \n",
       "229                          False          76             78             75  "
      ],
      "text/html": [
       "<div>\n",
       "<style scoped>\n",
       "    .dataframe tbody tr th:only-of-type {\n",
       "        vertical-align: middle;\n",
       "    }\n",
       "\n",
       "    .dataframe tbody tr th {\n",
       "        vertical-align: top;\n",
       "    }\n",
       "\n",
       "    .dataframe thead th {\n",
       "        text-align: right;\n",
       "    }\n",
       "</style>\n",
       "<table border=\"1\" class=\"dataframe\">\n",
       "  <thead>\n",
       "    <tr style=\"text-align: right;\">\n",
       "      <th></th>\n",
       "      <th>gender</th>\n",
       "      <th>race/ethnicity</th>\n",
       "      <th>parental level of education</th>\n",
       "      <th>lunch</th>\n",
       "      <th>test preparation course</th>\n",
       "      <th>math score</th>\n",
       "      <th>reading score</th>\n",
       "      <th>writing score</th>\n",
       "    </tr>\n",
       "    <tr>\n",
       "      <th>sum score</th>\n",
       "      <th></th>\n",
       "      <th></th>\n",
       "      <th></th>\n",
       "      <th></th>\n",
       "      <th></th>\n",
       "      <th></th>\n",
       "      <th></th>\n",
       "      <th></th>\n",
       "    </tr>\n",
       "  </thead>\n",
       "  <tbody>\n",
       "    <tr>\n",
       "      <th>218</th>\n",
       "      <td>female</td>\n",
       "      <td>group B</td>\n",
       "      <td>bachelor's degree</td>\n",
       "      <td>standard</td>\n",
       "      <td>False</td>\n",
       "      <td>72</td>\n",
       "      <td>72</td>\n",
       "      <td>74</td>\n",
       "    </tr>\n",
       "    <tr>\n",
       "      <th>247</th>\n",
       "      <td>female</td>\n",
       "      <td>group C</td>\n",
       "      <td>some college</td>\n",
       "      <td>standard</td>\n",
       "      <td>True</td>\n",
       "      <td>69</td>\n",
       "      <td>90</td>\n",
       "      <td>88</td>\n",
       "    </tr>\n",
       "    <tr>\n",
       "      <th>278</th>\n",
       "      <td>female</td>\n",
       "      <td>group B</td>\n",
       "      <td>master's degree</td>\n",
       "      <td>standard</td>\n",
       "      <td>False</td>\n",
       "      <td>90</td>\n",
       "      <td>95</td>\n",
       "      <td>93</td>\n",
       "    </tr>\n",
       "    <tr>\n",
       "      <th>148</th>\n",
       "      <td>male</td>\n",
       "      <td>group A</td>\n",
       "      <td>associate's degree</td>\n",
       "      <td>free/reduced</td>\n",
       "      <td>False</td>\n",
       "      <td>47</td>\n",
       "      <td>57</td>\n",
       "      <td>44</td>\n",
       "    </tr>\n",
       "    <tr>\n",
       "      <th>229</th>\n",
       "      <td>male</td>\n",
       "      <td>group C</td>\n",
       "      <td>some college</td>\n",
       "      <td>standard</td>\n",
       "      <td>False</td>\n",
       "      <td>76</td>\n",
       "      <td>78</td>\n",
       "      <td>75</td>\n",
       "    </tr>\n",
       "  </tbody>\n",
       "</table>\n",
       "</div>"
      ]
     },
     "execution_count": 81,
     "metadata": {},
     "output_type": "execute_result"
    }
   ],
   "execution_count": 81
  },
  {
   "cell_type": "markdown",
   "metadata": {
    "id": "BX8N-2iDA4hU"
   },
   "source": [
    "Отсортируем таблицу по индексу:"
   ]
  },
  {
   "cell_type": "code",
   "metadata": {
    "colab": {
     "base_uri": "https://localhost:8080/",
     "height": 237
    },
    "executionInfo": {
     "elapsed": 24,
     "status": "ok",
     "timestamp": 1649245107350,
     "user": {
      "displayName": "Николай Смирнов",
      "userId": "05792503510966078252"
     },
     "user_tz": -180
    },
    "id": "NsZNPcQ-A4hV",
    "outputId": "1428c6d1-5d4f-4b0e-a575-fe8de6209428",
    "ExecuteTime": {
     "end_time": "2024-11-27T23:54:15.776077Z",
     "start_time": "2024-11-27T23:54:15.769223Z"
    }
   },
   "source": [
    "df.sort_index(inplace=True)\n",
    "df.head(5)"
   ],
   "outputs": [
    {
     "data": {
      "text/plain": [
       "           gender race/ethnicity parental level of education         lunch  \\\n",
       "sum score                                                                    \n",
       "27         female        group C            some high school  free/reduced   \n",
       "55         female        group B                 high school  free/reduced   \n",
       "69           male        group B                 high school  free/reduced   \n",
       "70           male        group A                some college  free/reduced   \n",
       "78           male        group E            some high school      standard   \n",
       "\n",
       "           test preparation course  math score  reading score  writing score  \n",
       "sum score                                                                     \n",
       "27                           False           0             17             10  \n",
       "55                           False           8             24             23  \n",
       "69                           False          30             24             15  \n",
       "70                           False          28             23             19  \n",
       "78                           False          30             26             22  "
      ],
      "text/html": [
       "<div>\n",
       "<style scoped>\n",
       "    .dataframe tbody tr th:only-of-type {\n",
       "        vertical-align: middle;\n",
       "    }\n",
       "\n",
       "    .dataframe tbody tr th {\n",
       "        vertical-align: top;\n",
       "    }\n",
       "\n",
       "    .dataframe thead th {\n",
       "        text-align: right;\n",
       "    }\n",
       "</style>\n",
       "<table border=\"1\" class=\"dataframe\">\n",
       "  <thead>\n",
       "    <tr style=\"text-align: right;\">\n",
       "      <th></th>\n",
       "      <th>gender</th>\n",
       "      <th>race/ethnicity</th>\n",
       "      <th>parental level of education</th>\n",
       "      <th>lunch</th>\n",
       "      <th>test preparation course</th>\n",
       "      <th>math score</th>\n",
       "      <th>reading score</th>\n",
       "      <th>writing score</th>\n",
       "    </tr>\n",
       "    <tr>\n",
       "      <th>sum score</th>\n",
       "      <th></th>\n",
       "      <th></th>\n",
       "      <th></th>\n",
       "      <th></th>\n",
       "      <th></th>\n",
       "      <th></th>\n",
       "      <th></th>\n",
       "      <th></th>\n",
       "    </tr>\n",
       "  </thead>\n",
       "  <tbody>\n",
       "    <tr>\n",
       "      <th>27</th>\n",
       "      <td>female</td>\n",
       "      <td>group C</td>\n",
       "      <td>some high school</td>\n",
       "      <td>free/reduced</td>\n",
       "      <td>False</td>\n",
       "      <td>0</td>\n",
       "      <td>17</td>\n",
       "      <td>10</td>\n",
       "    </tr>\n",
       "    <tr>\n",
       "      <th>55</th>\n",
       "      <td>female</td>\n",
       "      <td>group B</td>\n",
       "      <td>high school</td>\n",
       "      <td>free/reduced</td>\n",
       "      <td>False</td>\n",
       "      <td>8</td>\n",
       "      <td>24</td>\n",
       "      <td>23</td>\n",
       "    </tr>\n",
       "    <tr>\n",
       "      <th>69</th>\n",
       "      <td>male</td>\n",
       "      <td>group B</td>\n",
       "      <td>high school</td>\n",
       "      <td>free/reduced</td>\n",
       "      <td>False</td>\n",
       "      <td>30</td>\n",
       "      <td>24</td>\n",
       "      <td>15</td>\n",
       "    </tr>\n",
       "    <tr>\n",
       "      <th>70</th>\n",
       "      <td>male</td>\n",
       "      <td>group A</td>\n",
       "      <td>some college</td>\n",
       "      <td>free/reduced</td>\n",
       "      <td>False</td>\n",
       "      <td>28</td>\n",
       "      <td>23</td>\n",
       "      <td>19</td>\n",
       "    </tr>\n",
       "    <tr>\n",
       "      <th>78</th>\n",
       "      <td>male</td>\n",
       "      <td>group E</td>\n",
       "      <td>some high school</td>\n",
       "      <td>standard</td>\n",
       "      <td>False</td>\n",
       "      <td>30</td>\n",
       "      <td>26</td>\n",
       "      <td>22</td>\n",
       "    </tr>\n",
       "  </tbody>\n",
       "</table>\n",
       "</div>"
      ]
     },
     "execution_count": 82,
     "metadata": {},
     "output_type": "execute_result"
    }
   ],
   "execution_count": 82
  },
  {
   "cell_type": "code",
   "metadata": {
    "colab": {
     "base_uri": "https://localhost:8080/"
    },
    "executionInfo": {
     "elapsed": 23,
     "status": "ok",
     "timestamp": 1649245107351,
     "user": {
      "displayName": "Николай Смирнов",
      "userId": "05792503510966078252"
     },
     "user_tz": -180
    },
    "id": "v5uBhtYpA4hV",
    "outputId": "b8c9532e-23cb-4fd8-ed71-243d45e05d6d",
    "ExecuteTime": {
     "end_time": "2024-11-27T23:54:19.035493Z",
     "start_time": "2024-11-27T23:54:19.031796Z"
    }
   },
   "source": [
    "df.index  # Индекс df"
   ],
   "outputs": [
    {
     "data": {
      "text/plain": [
       "Index([ 27,  55,  69,  70,  78,  78,  88,  89,  89,  90,\n",
       "       ...\n",
       "       293, 293, 296, 296, 297, 297, 299, 300, 300, 300],\n",
       "      dtype='int64', name='sum score', length=1000)"
      ]
     },
     "execution_count": 83,
     "metadata": {},
     "output_type": "execute_result"
    }
   ],
   "execution_count": 83
  },
  {
   "cell_type": "markdown",
   "metadata": {
    "id": "6t4zyvU97bPd"
   },
   "source": [
    "#### reset_index()\n"
   ]
  },
  {
   "cell_type": "markdown",
   "metadata": {
    "id": "pZGkaAgd7bPf"
   },
   "source": [
    "Функция `reset_index()` позволяет задать стандартную индексацию, а текущий индекс сделать одной из колонок таблицы:"
   ]
  },
  {
   "cell_type": "code",
   "metadata": {
    "colab": {
     "base_uri": "https://localhost:8080/",
     "height": 237
    },
    "executionInfo": {
     "elapsed": 23,
     "status": "ok",
     "timestamp": 1649245107352,
     "user": {
      "displayName": "Николай Смирнов",
      "userId": "05792503510966078252"
     },
     "user_tz": -180
    },
    "id": "U4oOTL557bPf",
    "outputId": "40d939ae-5eb5-4109-efe9-53eba61b1120",
    "ExecuteTime": {
     "end_time": "2024-11-27T23:54:24.474473Z",
     "start_time": "2024-11-27T23:54:24.469439Z"
    }
   },
   "source": [
    "by_parents_edu_level.size().reset_index()"
   ],
   "outputs": [
    {
     "data": {
      "text/plain": [
       "  parental level of education    0\n",
       "0            some high school  179\n",
       "1                 high school  196\n",
       "2                some college  226\n",
       "3          associate's degree  222\n",
       "4           bachelor's degree  118\n",
       "5             master's degree   59"
      ],
      "text/html": [
       "<div>\n",
       "<style scoped>\n",
       "    .dataframe tbody tr th:only-of-type {\n",
       "        vertical-align: middle;\n",
       "    }\n",
       "\n",
       "    .dataframe tbody tr th {\n",
       "        vertical-align: top;\n",
       "    }\n",
       "\n",
       "    .dataframe thead th {\n",
       "        text-align: right;\n",
       "    }\n",
       "</style>\n",
       "<table border=\"1\" class=\"dataframe\">\n",
       "  <thead>\n",
       "    <tr style=\"text-align: right;\">\n",
       "      <th></th>\n",
       "      <th>parental level of education</th>\n",
       "      <th>0</th>\n",
       "    </tr>\n",
       "  </thead>\n",
       "  <tbody>\n",
       "    <tr>\n",
       "      <th>0</th>\n",
       "      <td>some high school</td>\n",
       "      <td>179</td>\n",
       "    </tr>\n",
       "    <tr>\n",
       "      <th>1</th>\n",
       "      <td>high school</td>\n",
       "      <td>196</td>\n",
       "    </tr>\n",
       "    <tr>\n",
       "      <th>2</th>\n",
       "      <td>some college</td>\n",
       "      <td>226</td>\n",
       "    </tr>\n",
       "    <tr>\n",
       "      <th>3</th>\n",
       "      <td>associate's degree</td>\n",
       "      <td>222</td>\n",
       "    </tr>\n",
       "    <tr>\n",
       "      <th>4</th>\n",
       "      <td>bachelor's degree</td>\n",
       "      <td>118</td>\n",
       "    </tr>\n",
       "    <tr>\n",
       "      <th>5</th>\n",
       "      <td>master's degree</td>\n",
       "      <td>59</td>\n",
       "    </tr>\n",
       "  </tbody>\n",
       "</table>\n",
       "</div>"
      ]
     },
     "execution_count": 84,
     "metadata": {},
     "output_type": "execute_result"
    }
   ],
   "execution_count": 84
  },
  {
   "cell_type": "markdown",
   "metadata": {
    "id": "gjE8PQOR7bPg"
   },
   "source": [
    "Используя 'drop=True' можно не сохранять старый индекс:"
   ]
  },
  {
   "cell_type": "code",
   "metadata": {
    "colab": {
     "base_uri": "https://localhost:8080/"
    },
    "executionInfo": {
     "elapsed": 23,
     "status": "ok",
     "timestamp": 1649245107353,
     "user": {
      "displayName": "Николай Смирнов",
      "userId": "05792503510966078252"
     },
     "user_tz": -180
    },
    "id": "antn6FGc7bPi",
    "outputId": "af4e637d-2b07-4f87-b587-efe109037337",
    "ExecuteTime": {
     "end_time": "2024-11-27T23:54:27.157352Z",
     "start_time": "2024-11-27T23:54:27.154443Z"
    }
   },
   "source": [
    "a = by_parents_edu_level.size().reset_index(drop=True)\n",
    "a"
   ],
   "outputs": [
    {
     "data": {
      "text/plain": [
       "0    179\n",
       "1    196\n",
       "2    226\n",
       "3    222\n",
       "4    118\n",
       "5     59\n",
       "dtype: int64"
      ]
     },
     "execution_count": 85,
     "metadata": {},
     "output_type": "execute_result"
    }
   ],
   "execution_count": 85
  },
  {
   "cell_type": "markdown",
   "metadata": {
    "id": "trAyUc_vA4hX"
   },
   "source": [
    "### Прочие функции\n",
    "\n",
    "Объединение нескольких DataFrame-ов, функция аналогична UNION в SQL:"
   ]
  },
  {
   "cell_type": "code",
   "metadata": {
    "colab": {
     "base_uri": "https://localhost:8080/"
    },
    "executionInfo": {
     "elapsed": 22,
     "status": "ok",
     "timestamp": 1649245107354,
     "user": {
      "displayName": "Николай Смирнов",
      "userId": "05792503510966078252"
     },
     "user_tz": -180
    },
    "id": "cNI7bYNJA4hX",
    "outputId": "a0544029-fd47-4ff7-c0de-68cf5e27238a",
    "ExecuteTime": {
     "end_time": "2024-11-27T23:54:31.412196Z",
     "start_time": "2024-11-27T23:54:31.406263Z"
    }
   },
   "source": [
    "pd.concat([df, df]).info()"
   ],
   "outputs": [
    {
     "name": "stdout",
     "output_type": "stream",
     "text": [
      "<class 'pandas.core.frame.DataFrame'>\n",
      "Index: 2000 entries, 27 to 300\n",
      "Data columns (total 8 columns):\n",
      " #   Column                       Non-Null Count  Dtype   \n",
      "---  ------                       --------------  -----   \n",
      " 0   gender                       2000 non-null   object  \n",
      " 1   race/ethnicity               2000 non-null   object  \n",
      " 2   parental level of education  2000 non-null   category\n",
      " 3   lunch                        2000 non-null   object  \n",
      " 4   test preparation course      2000 non-null   bool    \n",
      " 5   math score                   2000 non-null   int64   \n",
      " 6   reading score                2000 non-null   int64   \n",
      " 7   writing score                2000 non-null   int64   \n",
      "dtypes: bool(1), category(1), int64(3), object(3)\n",
      "memory usage: 113.5+ KB\n"
     ]
    }
   ],
   "execution_count": 86
  },
  {
   "cell_type": "markdown",
   "metadata": {
    "id": "1jKuGnfIA4hX"
   },
   "source": [
    "Создание независимого дубликата датафрейма:"
   ]
  },
  {
   "cell_type": "code",
   "execution_count": null,
   "metadata": {
    "colab": {
     "base_uri": "https://localhost:8080/"
    },
    "executionInfo": {
     "elapsed": 23,
     "status": "ok",
     "timestamp": 1649245107355,
     "user": {
      "displayName": "Николай Смирнов",
      "userId": "05792503510966078252"
     },
     "user_tz": -180
    },
    "id": "KLTTBPuPA4hY",
    "outputId": "e38531d2-35d6-48ef-bc4a-89e988801341"
   },
   "outputs": [],
   "source": [
    "df_copy = df.copy()\n",
    "\n",
    "print(df_copy.info())\n",
    "print(f'\\ndf is df_copy is {df is df_copy}')"
   ]
  },
  {
   "cell_type": "markdown",
   "metadata": {
    "id": "YoRamQRjA4hZ"
   },
   "source": [
    "Импорт данных из Excel:"
   ]
  },
  {
   "cell_type": "code",
   "execution_count": null,
   "metadata": {
    "colab": {
     "base_uri": "https://localhost:8080/",
     "height": 175
    },
    "executionInfo": {
     "elapsed": 967,
     "status": "ok",
     "timestamp": 1649245108300,
     "user": {
      "displayName": "Николай Смирнов",
      "userId": "05792503510966078252"
     },
     "user_tz": -180
    },
    "id": "0BXHK2uUA4ha",
    "outputId": "35013e56-5403-4bf8-b13d-37a026ea8ecd"
   },
   "outputs": [],
   "source": [
    "df = pd.read_excel(gc_folder + 'pandas_data.xlsx', 0, index_col='StatusDate')\n",
    "df.head(3)"
   ]
  },
  {
   "cell_type": "code",
   "execution_count": null,
   "metadata": {
    "colab": {
     "base_uri": "https://localhost:8080/"
    },
    "executionInfo": {
     "elapsed": 120,
     "status": "ok",
     "timestamp": 1649245108301,
     "user": {
      "displayName": "Николай Смирнов",
      "userId": "05792503510966078252"
     },
     "user_tz": -180
    },
    "id": "8tLe19srA4hb",
    "outputId": "9b536b73-b2a6-4fd3-fc8f-7923d827313d"
   },
   "outputs": [],
   "source": [
    "df.index"
   ]
  },
  {
   "cell_type": "code",
   "execution_count": null,
   "metadata": {
    "colab": {
     "base_uri": "https://localhost:8080/"
    },
    "executionInfo": {
     "elapsed": 46,
     "status": "ok",
     "timestamp": 1649245108302,
     "user": {
      "displayName": "Николай Смирнов",
      "userId": "05792503510966078252"
     },
     "user_tz": -180
    },
    "id": "PiU3RNdtA4hb",
    "outputId": "0d14ad38-9689-4c09-a09b-5ea8185e56dd"
   },
   "outputs": [],
   "source": [
    "df.State.unique()"
   ]
  },
  {
   "cell_type": "markdown",
   "metadata": {
    "id": "GaVaAPayQuws"
   },
   "source": [
    "Еще примеры:"
   ]
  },
  {
   "cell_type": "code",
   "execution_count": null,
   "metadata": {
    "colab": {
     "base_uri": "https://localhost:8080/",
     "height": 175
    },
    "executionInfo": {
     "elapsed": 45,
     "status": "ok",
     "timestamp": 1649245108302,
     "user": {
      "displayName": "Николай Смирнов",
      "userId": "05792503510966078252"
     },
     "user_tz": -180
    },
    "id": "2Vyq3X0qA4hc",
    "outputId": "12054d92-ad0a-4ab5-e18d-4138e6b58558"
   },
   "outputs": [],
   "source": [
    "# Приведем названия штатов к верхнему регистру:\n",
    "df.State = df.State.apply(str.upper)\n",
    "df.head(3)"
   ]
  },
  {
   "cell_type": "code",
   "execution_count": null,
   "metadata": {
    "colab": {
     "base_uri": "https://localhost:8080/"
    },
    "executionInfo": {
     "elapsed": 44,
     "status": "ok",
     "timestamp": 1649245108303,
     "user": {
      "displayName": "Николай Смирнов",
      "userId": "05792503510966078252"
     },
     "user_tz": -180
    },
    "id": "sYV-YJ8hA4hc",
    "outputId": "a00c46ee-205c-4efb-ba4e-14f0fed98e0e"
   },
   "outputs": [],
   "source": [
    "df.State.unique()"
   ]
  },
  {
   "cell_type": "code",
   "execution_count": null,
   "metadata": {
    "colab": {
     "base_uri": "https://localhost:8080/",
     "height": 206
    },
    "executionInfo": {
     "elapsed": 44,
     "status": "ok",
     "timestamp": 1649245108304,
     "user": {
      "displayName": "Николай Смирнов",
      "userId": "05792503510966078252"
     },
     "user_tz": -180
    },
    "id": "VPxNnYn_A4hc",
    "outputId": "61372bbb-13a3-4679-cbcd-37fcad6ca85f"
   },
   "outputs": [],
   "source": [
    "# Выберем записи со статусом 1\n",
    "df[df.Status == 1]"
   ]
  },
  {
   "cell_type": "code",
   "execution_count": null,
   "metadata": {
    "colab": {
     "base_uri": "https://localhost:8080/"
    },
    "executionInfo": {
     "elapsed": 44,
     "status": "ok",
     "timestamp": 1649245108305,
     "user": {
      "displayName": "Николай Смирнов",
      "userId": "05792503510966078252"
     },
     "user_tz": -180
    },
    "id": "EQ_gb4PYA4hd",
    "outputId": "8ee9f1c0-9b30-4958-9194-9b8a69a6ee66"
   },
   "outputs": [],
   "source": [
    "# Заменим NJ на NY\n",
    "mask = df.State == 'NJ'\n",
    "df.loc[mask,('State')] = 'NY'\n",
    "df.State.unique()"
   ]
  },
  {
   "cell_type": "markdown",
   "metadata": {
    "id": "iOXCHyvYA4hd"
   },
   "source": [
    "### Агрегирующие операции agg()"
   ]
  },
  {
   "cell_type": "code",
   "execution_count": null,
   "metadata": {
    "colab": {
     "base_uri": "https://localhost:8080/",
     "height": 175
    },
    "executionInfo": {
     "elapsed": 44,
     "status": "ok",
     "timestamp": 1649245108306,
     "user": {
      "displayName": "Николай Смирнов",
      "userId": "05792503510966078252"
     },
     "user_tz": -180
    },
    "id": "MBiBGd6EA4hd",
    "outputId": "fee7dc9e-a14a-4a6b-af12-b447b39c052e"
   },
   "outputs": [],
   "source": [
    "df = pd.DataFrame({'group1':[\"a\",\"a\",\"b\",\"b\"], 'value':[10,20,30,40]})\n",
    "df"
   ]
  },
  {
   "cell_type": "markdown",
   "metadata": {
    "id": "X40fCo82TXVM"
   },
   "source": [
    "Для применения агрегирующих операций необходимо задать группировку:"
   ]
  },
  {
   "cell_type": "code",
   "execution_count": null,
   "metadata": {
    "executionInfo": {
     "elapsed": 44,
     "status": "ok",
     "timestamp": 1649245108307,
     "user": {
      "displayName": "Николай Смирнов",
      "userId": "05792503510966078252"
     },
     "user_tz": -180
    },
    "id": "7nFlfKIuA4hd"
   },
   "outputs": [],
   "source": [
    "group = df.groupby('group1')"
   ]
  },
  {
   "cell_type": "markdown",
   "metadata": {
    "id": "Cq4-nu3MT1ar"
   },
   "source": [
    "Затем применить агрегирующую операцию. В примере в качестве агрегирующих использованы операции нахождения мощности объекта `len` и суммирования 'sum'."
   ]
  },
  {
   "cell_type": "code",
   "execution_count": null,
   "metadata": {
    "colab": {
     "base_uri": "https://localhost:8080/",
     "height": 175
    },
    "executionInfo": {
     "elapsed": 44,
     "status": "ok",
     "timestamp": 1649245108308,
     "user": {
      "displayName": "Николай Смирнов",
      "userId": "05792503510966078252"
     },
     "user_tz": -180
    },
    "id": "M9zGqGoHT1hh",
    "outputId": "d6bbce48-c55d-497a-8eb9-168118e2a135"
   },
   "outputs": [],
   "source": [
    "group.agg([len,sum])"
   ]
  },
  {
   "cell_type": "markdown",
   "metadata": {
    "id": "yqIlzCtlA4hd"
   },
   "source": [
    "Можно задать собственную функцию для агрегирования:"
   ]
  },
  {
   "cell_type": "code",
   "execution_count": null,
   "metadata": {
    "colab": {
     "base_uri": "https://localhost:8080/",
     "height": 175
    },
    "executionInfo": {
     "elapsed": 43,
     "status": "ok",
     "timestamp": 1649245108308,
     "user": {
      "displayName": "Николай Смирнов",
      "userId": "05792503510966078252"
     },
     "user_tz": -180
    },
    "id": "bmlV5duCA4he",
    "outputId": "c719bb37-ecde-4d32-aafe-2a4c25dceed3"
   },
   "outputs": [],
   "source": [
    "def my_mean(arr):\n",
    "    return arr.mean()\n",
    "\n",
    "df.groupby('group1').agg([my_mean])"
   ]
  },
  {
   "cell_type": "code",
   "execution_count": null,
   "metadata": {
    "colab": {
     "base_uri": "https://localhost:8080/",
     "height": 175
    },
    "executionInfo": {
     "elapsed": 43,
     "status": "ok",
     "timestamp": 1649245108309,
     "user": {
      "displayName": "Николай Смирнов",
      "userId": "05792503510966078252"
     },
     "user_tz": -180
    },
    "id": "CiwdBw4aA4he",
    "outputId": "1ab1a40a-dddf-4e41-86bc-ebf4a130e823"
   },
   "outputs": [],
   "source": [
    "df"
   ]
  },
  {
   "cell_type": "markdown",
   "metadata": {
    "id": "sVw6j7IiVY00"
   },
   "source": [
    "### transform()"
   ]
  },
  {
   "cell_type": "markdown",
   "metadata": {
    "id": "gakXfAzaVC5Z"
   },
   "source": [
    "Результаты агрегирования не сохраняются в `DataFrame`. Для сохранения результатов агрегирования можно применить метод `transform()`"
   ]
  },
  {
   "cell_type": "code",
   "execution_count": null,
   "metadata": {
    "colab": {
     "base_uri": "https://localhost:8080/",
     "height": 175
    },
    "executionInfo": {
     "elapsed": 41,
     "status": "ok",
     "timestamp": 1649245108310,
     "user": {
      "displayName": "Николай Смирнов",
      "userId": "05792503510966078252"
     },
     "user_tz": -180
    },
    "id": "C32ddngYA4he",
    "outputId": "50dd4f4e-207d-427d-9413-e35da99e9acf"
   },
   "outputs": [],
   "source": [
    "group = df.groupby('group1')  # Применяем группировку\n",
    "df['value.sum'] = group.transform('sum')  # Примеяем агрегирующую операцию sum, результат сохраняем в 'value.sum' столбец df\n",
    "df['value.my_mean'] = group.transform(my_mean)  # Примеяем агрегирующую операцию my_mean, результат сохраняем в 'value.my_mean' столбец df\n",
    "df"
   ]
  },
  {
   "cell_type": "code",
   "execution_count": null,
   "metadata": {
    "executionInfo": {
     "elapsed": 41,
     "status": "ok",
     "timestamp": 1649245108311,
     "user": {
      "displayName": "Николай Смирнов",
      "userId": "05792503510966078252"
     },
     "user_tz": -180
    },
    "id": "AXYy7xUiA4hf"
   },
   "outputs": [],
   "source": []
  },
  {
   "cell_type": "markdown",
   "metadata": {
    "id": "JQ-VdmGclb7O"
   },
   "source": [
    "### Задача DataFrame_4. \n",
    "\n"
   ]
  },
  {
   "cell_type": "code",
   "execution_count": null,
   "metadata": {
    "colab": {
     "base_uri": "https://localhost:8080/",
     "height": 143
    },
    "executionInfo": {
     "elapsed": 41,
     "status": "ok",
     "timestamp": 1649245108311,
     "user": {
      "displayName": "Николай Смирнов",
      "userId": "05792503510966078252"
     },
     "user_tz": -180
    },
    "id": "XAJ3ZeZHqDpD",
    "outputId": "e4c2f71c-2359-486d-86d7-c24007ee3755"
   },
   "outputs": [],
   "source": [
    "# Рассмотрим набор оценок на экзаменах по математике и физике студентов двух групп:\n",
    "import random\n",
    "df_marks = pd.DataFrame({'group': [\"group_A\" if random.random()>0.5 else \"group_B\" for i in range(12)], \n",
    "                         'math score': [random.randint(40,100) for _ in range(12)], \n",
    "                         'physics score': [random.randint(40,100) for _ in range(12)]})\n",
    "df_marks.head(3)"
   ]
  },
  {
   "cell_type": "markdown",
   "metadata": {
    "id": "YspYWPpblb7R"
   },
   "source": [
    "  1.  Из набора данных `df_marks` получить выборку студентов у которых по всем экзаменам набрано более 60 баллов. Результат сохранить в df_marks2.\n",
    "\n",
    "  2. В df_marks2 произвести группировку по группе ученика (по значению в столбце *group*). После, используя операцию агрегации, получить для каждой группы среднее значение оценки за каждый экзамен и его разделить на 100.\n"
   ]
  },
  {
   "cell_type": "code",
   "execution_count": null,
   "metadata": {
    "executionInfo": {
     "elapsed": 41,
     "status": "ok",
     "timestamp": 1649245108932,
     "user": {
      "displayName": "Николай Смирнов",
      "userId": "05792503510966078252"
     },
     "user_tz": -180
    },
    "id": "iWFG15J8lb7T"
   },
   "outputs": [],
   "source": [
    "# Напишите свой код в данной ячейке\n"
   ]
  },
  {
   "cell_type": "markdown",
   "metadata": {
    "id": "iNb_ZTMWlb7V"
   },
   "source": [
    "[Посмотреть ответ на задачу](#DataFrame_4)"
   ]
  },
  {
   "cell_type": "markdown",
   "metadata": {
    "id": "PMWubMKTerg_"
   },
   "source": [
    "# Ответы на задачи"
   ]
  },
  {
   "cell_type": "markdown",
   "metadata": {
    "id": "Re6lxzQkexKH"
   },
   "source": [
    "<a name=\"Series_1\"></a>\n",
    "# Ответ на задачу Series_1"
   ]
  },
  {
   "cell_type": "code",
   "execution_count": null,
   "metadata": {
    "colab": {
     "base_uri": "https://localhost:8080/"
    },
    "executionInfo": {
     "elapsed": 269,
     "status": "ok",
     "timestamp": 1649245201053,
     "user": {
      "displayName": "Николай Смирнов",
      "userId": "05792503510966078252"
     },
     "user_tz": -180
    },
    "id": "EnuodnshkKcj",
    "outputId": "7d129fe0-18ce-4d57-bad7-b7cf37c6ef5b"
   },
   "outputs": [],
   "source": [
    "from random import randint\n",
    "name_mas = ['Александр', 'Борис', 'Владимир', 'Дмитрий', 'Григорий', 'Евгений', 'Игорь', 'Клим', 'Леонид', 'Максим']\n",
    "one_mark = pd.Series([randint(2,5) for _ in range(len(name_mas))], index=name_mas)\n",
    "one_mark.name = \"Оценка по алгебре\"\n",
    "print(one_mark, '\\n')\n",
    "\n",
    "one_mark['Максим'] += 1\n",
    "print(f\"Оценка Максима стала = {one_mark['Максим']}\\n\")\n",
    "\n",
    "print(f'Ученики с оценкой не меньше 4:\\n{one_mark[one_mark>=4]}')"
   ]
  },
  {
   "cell_type": "markdown",
   "metadata": {
    "id": "CW3C5apftJDv"
   },
   "source": [
    "<a name=\"DataFrame_1\"></a>\n",
    "# Ответ на задачу DataFrame_1"
   ]
  },
  {
   "cell_type": "code",
   "execution_count": null,
   "metadata": {
    "colab": {
     "base_uri": "https://localhost:8080/",
     "height": 363
    },
    "executionInfo": {
     "elapsed": 6,
     "status": "ok",
     "timestamp": 1649245202183,
     "user": {
      "displayName": "Николай Смирнов",
      "userId": "05792503510966078252"
     },
     "user_tz": -180
    },
    "id": "C8khvJsDtFW0",
    "outputId": "5405509c-718a-403a-db18-a4320a541de0"
   },
   "outputs": [],
   "source": [
    "from random import randint\n",
    "name_mas = ['Александр', 'Борис', 'Владимир', 'Дмитрий', 'Григорий', 'Евгений', 'Игорь', 'Клим', 'Леонид', 'Максим']\n",
    "exam_name = ['Алгебра', 'Геометрия', 'Физика']\n",
    "\n",
    "marks_a = [randint(2,5) for _ in range(len(name_mas))]  # Генерируем оценки по алгебре\n",
    "marks_g = [randint(2,5) for _ in range(len(name_mas))]  # Генерируем оценки по геометрии\n",
    "marks_p = [randint(2,5) for _ in range(len(name_mas))]  # Генерируем оценки по физике\n",
    "data = list(zip(marks_a, marks_g, marks_p))\n",
    "\n",
    "marks = pd.DataFrame(data, columns=exam_name, index=name_mas)\n",
    "marks"
   ]
  },
  {
   "cell_type": "markdown",
   "metadata": {
    "id": "OpbVU84Ytbb-"
   },
   "source": [
    "<a name=\"DataFrame_2\"></a>\n",
    "# Ответ на задачу DataFrame_2"
   ]
  },
  {
   "cell_type": "code",
   "execution_count": null,
   "metadata": {
    "colab": {
     "base_uri": "https://localhost:8080/"
    },
    "executionInfo": {
     "elapsed": 293,
     "status": "ok",
     "timestamp": 1649245203016,
     "user": {
      "displayName": "Николай Смирнов",
      "userId": "05792503510966078252"
     },
     "user_tz": -180
    },
    "id": "7TNUUmevtbb_",
    "outputId": "8885ee65-7511-4d8f-a98d-f3497fbd93b8"
   },
   "outputs": [],
   "source": [
    "print(marks)\n",
    "marks['Геометрия'] -= 1\n",
    "marks.loc['Максим'] += 1\n",
    "marks.loc['Борис', 'Алгебра'] = 5\n",
    "marks.iloc[:, 2] = 4\n",
    "\n",
    "print(marks)"
   ]
  },
  {
   "cell_type": "markdown",
   "metadata": {
    "id": "9AEy2Ef6z7ZN"
   },
   "source": [
    "<a name=\"DataFrame_3\"></a>\n",
    "# Ответ на задачу DataFrame_3"
   ]
  },
  {
   "cell_type": "code",
   "execution_count": null,
   "metadata": {
    "colab": {
     "base_uri": "https://localhost:8080/"
    },
    "executionInfo": {
     "elapsed": 5,
     "status": "ok",
     "timestamp": 1649245203299,
     "user": {
      "displayName": "Николай Смирнов",
      "userId": "05792503510966078252"
     },
     "user_tz": -180
    },
    "id": "e_R7JiXCeNXQ",
    "outputId": "347ef904-8388-40b0-b4c9-6db371c49555"
   },
   "outputs": [],
   "source": [
    "# 1\n",
    "df['Средний балл'] = (df['math score'] + df['reading score'] + df['writing score'])/3\n",
    "print(df.head(3))\n",
    "\n",
    "# 2\n",
    "df_grouped_gender = df.groupby('gender', as_index=False)\n",
    "print('Наименьший средний балл =\\n', df_grouped_gender['Средний балл'].min(), '\\n')\n",
    "print('Наибольший средний балл =\\n', df_grouped_gender['Средний балл'].max(), '\\n')\n",
    "print('Среднее значение среднего балла =\\n', df_grouped_gender['Средний балл'].mean(), '\\n')\n"
   ]
  },
  {
   "cell_type": "markdown",
   "metadata": {
    "id": "cSgWb1rbhNRp"
   },
   "source": [
    "<a name=\"DataFrame_4\"></a>\n",
    "# Ответ на задачу DataFrame_4"
   ]
  },
  {
   "cell_type": "code",
   "execution_count": null,
   "metadata": {
    "colab": {
     "base_uri": "https://localhost:8080/",
     "height": 175
    },
    "executionInfo": {
     "elapsed": 311,
     "status": "ok",
     "timestamp": 1642890389999,
     "user": {
      "displayName": "Николай Смирнов",
      "photoUrl": "https://lh3.googleusercontent.com/a/default-user=s64",
      "userId": "05792503510966078252"
     },
     "user_tz": -180
    },
    "id": "xhitPYKHhNRu",
    "outputId": "c4c858f0-97ad-4699-9b64-dfbd33d1a8a1"
   },
   "outputs": [],
   "source": [
    "# Ответ на 1:\n",
    "df_marks.where((df_marks['math score']>=75)&(df_marks['physics score']<75)).dropna().head()\n",
    "\n",
    "# Ответ на 2:\n",
    "def mean_div_100(arr):\n",
    "    return arr.mean() / 100\n",
    "\n",
    "df_marks.groupby('group').agg([mean_div_100])"
   ]
  }
 ],
 "metadata": {
  "colab": {
   "collapsed_sections": [
    "UhJ-wLBvA4gZ",
    "IoDWX58hedPX",
    "qbtyHtdBA4go",
    "MPgVgDUTnXqw",
    "F7p4R7ElC5nl",
    "Re6lxzQkexKH",
    "CW3C5apftJDv",
    "OpbVU84Ytbb-",
    "9AEy2Ef6z7ZN",
    "cSgWb1rbhNRp"
   ],
   "name": "42_pandas.ipynb",
   "provenance": []
  },
  "kernelspec": {
   "display_name": ".venv",
   "language": "python",
   "name": "python3"
  },
  "language_info": {
   "codemirror_mode": {
    "name": "ipython",
    "version": 3
   },
   "file_extension": ".py",
   "mimetype": "text/x-python",
   "name": "python",
   "nbconvert_exporter": "python",
   "pygments_lexer": "ipython3",
   "version": "3.12.6"
  }
 },
 "nbformat": 4,
 "nbformat_minor": 4
}
