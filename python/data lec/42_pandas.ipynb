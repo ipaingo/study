{
 "cells": [
  {
   "cell_type": "markdown",
   "metadata": {
    "id": "Knw9VPXBA4gJ"
   },
   "source": [
    "# Pandas\n",
    "**Pandas** (*python data analysis*) — модуль для работы с табличными данными, основанный на **NumPy**. Основные особенности:\n",
    "* удобная и эффективная работа с различными типами данных в разных столбцах таблицы\n",
    "* набор статистических операций для обработки данных и моделирования\n",
    "* встроенная обработка отсутствующих/пропущенных данных\n",
    "* поддержка сложных методов индексации (как в **NumPy**)\n",
    "* высокооптимизированный код на **C**\n",
    "* поддержка работы с большими объемами данных"
   ]
  },
  {
   "cell_type": "code",
   "execution_count": null,
   "metadata": {
    "executionInfo": {
     "elapsed": 329,
     "status": "ok",
     "timestamp": 1649245044752,
     "user": {
      "displayName": "Николай Смирнов",
      "userId": "05792503510966078252"
     },
     "user_tz": -180
    },
    "id": "s2Y4_slyA4gP"
   },
   "outputs": [],
   "source": [
    "%matplotlib inline\n",
    "import pandas as pd\n",
    "import numpy as np"
   ]
  },
  {
   "cell_type": "markdown",
   "metadata": {
    "id": "pfKDhmloA4gS"
   },
   "source": [
    "Наибольшее количество выводимых строк задается параметром *pd.options.display.max_rows*. Можно изменить его значение:"
   ]
  },
  {
   "cell_type": "code",
   "execution_count": null,
   "metadata": {
    "executionInfo": {
     "elapsed": 492,
     "status": "ok",
     "timestamp": 1649245045241,
     "user": {
      "displayName": "Николай Смирнов",
      "userId": "05792503510966078252"
     },
     "user_tz": -180
    },
    "id": "Z0XsO7yKA4gT"
   },
   "outputs": [],
   "source": [
    "pd.options.display.max_rows = 10  # Будет выводиться не более 10 строк"
   ]
  },
  {
   "cell_type": "markdown",
   "metadata": {
    "id": "m0uzouFeA4gX"
   },
   "source": [
    "## Два основных типа объектов: pd.Series и pd.DataFrame "
   ]
  },
  {
   "cell_type": "markdown",
   "metadata": {
    "id": "UhJ-wLBvA4gZ"
   },
   "source": [
    "## Series (серия)\n"
   ]
  },
  {
   "cell_type": "markdown",
   "metadata": {
    "id": "xsQoITTXmysQ"
   },
   "source": [
    "Серия - тип данных, в основе которого **одномерный массив элементов одного типа**, как и в **NumPy**.\n",
    "\n",
    "В блоке ниже создается серия элементов 10, 11, ..., 14. При выводе на экран этой серии получаем два столбца: в первом столбце автоматически сгенерированные *индексы* элементов, во втором сами *элементы*."
   ]
  },
  {
   "cell_type": "code",
   "execution_count": null,
   "metadata": {
    "colab": {
     "base_uri": "https://localhost:8080/"
    },
    "executionInfo": {
     "elapsed": 15,
     "status": "ok",
     "timestamp": 1649245045241,
     "user": {
      "displayName": "Николай Смирнов",
      "userId": "05792503510966078252"
     },
     "user_tz": -180
    },
    "id": "ZL-9BYKKA4gb",
    "outputId": "2ae4d5f2-2abe-48df-b83e-58b3dd416fa9"
   },
   "outputs": [],
   "source": [
    "s = pd.Series(range(10,15))\n",
    "print('Серия:\\n', s)"
   ]
  },
  {
   "cell_type": "markdown",
   "metadata": {
    "id": "3YTidiVFUx7c"
   },
   "source": [
    "Можно обратиться к элементу серии по *индексу*: вывести его на экран, изменить его значение, ... :"
   ]
  },
  {
   "cell_type": "code",
   "execution_count": null,
   "metadata": {
    "colab": {
     "base_uri": "https://localhost:8080/"
    },
    "executionInfo": {
     "elapsed": 13,
     "status": "ok",
     "timestamp": 1649245045241,
     "user": {
      "displayName": "Николай Смирнов",
      "userId": "05792503510966078252"
     },
     "user_tz": -180
    },
    "id": "9ql7rGDST4LT",
    "outputId": "2f05fb82-ef7e-435c-a6be-5563b494fe8e"
   },
   "outputs": [],
   "source": [
    "print(\n",
    "    f'Индексация:',\n",
    "    f's[2]: {s[2]}\\n'\n",
    ")\n",
    "\n",
    "s[2] = 0\n",
    "print('Модификация (s[2] = 0):', s)"
   ]
  },
  {
   "cell_type": "markdown",
   "metadata": {
    "id": "BKpwrlxiA4gd"
   },
   "source": [
    "Серии могут работать как **словарь (dict)**.\n",
    "\n",
    "В предыдущем примере *индексы* элементов были выставлены по умолчанию (0,1,2,...), но их можно задавать самостоятельно:"
   ]
  },
  {
   "cell_type": "code",
   "execution_count": null,
   "metadata": {
    "colab": {
     "base_uri": "https://localhost:8080/"
    },
    "executionInfo": {
     "elapsed": 14,
     "status": "ok",
     "timestamp": 1649245045244,
     "user": {
      "displayName": "Николай Смирнов",
      "userId": "05792503510966078252"
     },
     "user_tz": -180
    },
    "id": "Xofrcwa4A4ge",
    "outputId": "a2763e35-43d7-45af-e087-bc1e63127fc2"
   },
   "outputs": [],
   "source": [
    "s = pd.Series(range(10,15), index=['e', 'd', 'c', 'b', 'a'])\n",
    "print('Серия:', s)"
   ]
  },
  {
   "cell_type": "code",
   "execution_count": null,
   "metadata": {
    "colab": {
     "base_uri": "https://localhost:8080/"
    },
    "executionInfo": {
     "elapsed": 14,
     "status": "ok",
     "timestamp": 1649245045245,
     "user": {
      "displayName": "Николай Смирнов",
      "userId": "05792503510966078252"
     },
     "user_tz": -180
    },
    "id": "sPUP9syzVoBb",
    "outputId": "8df8c6c2-3d98-4017-b4c4-5e6789259846"
   },
   "outputs": [],
   "source": [
    "print(\n",
    "    'Обращение по индексу:',\n",
    "    f\"s['c'] = {s['c']}\\n\"\n",
    ")"
   ]
  },
  {
   "cell_type": "markdown",
   "metadata": {
    "id": "s_XGlqRzaZys"
   },
   "source": [
    "Обращение по ключу, которого нет в серии вызывает `KeyError`:"
   ]
  },
  {
   "cell_type": "code",
   "execution_count": null,
   "metadata": {
    "colab": {
     "base_uri": "https://localhost:8080/",
     "height": 536
    },
    "executionInfo": {
     "elapsed": 855,
     "status": "error",
     "timestamp": 1649245046087,
     "user": {
      "displayName": "Николай Смирнов",
      "userId": "05792503510966078252"
     },
     "user_tz": -180
    },
    "id": "qpD48mfAaoHG",
    "outputId": "23345c7f-994a-4ea6-b9c1-9073e97a5145"
   },
   "outputs": [],
   "source": [
    "s['f']"
   ]
  },
  {
   "cell_type": "markdown",
   "metadata": {
    "id": "gvUCgrivVmQm"
   },
   "source": [
    "Чтобы не допускать ошибку KeyError, вместо прямого обращения по индексу, можно использовать метод `get(a,b)`, который будет искать в серии *ключ*, переданный в качестве первого аргумента функции `a`. Если *ключ* не найден, то будет выведено значение, переданное в качестве второго аргумента функции `b`, или `None`, если `b` не задан. "
   ]
  },
  {
   "cell_type": "code",
   "execution_count": null,
   "metadata": {
    "colab": {
     "base_uri": "https://localhost:8080/"
    },
    "executionInfo": {
     "elapsed": 293,
     "status": "ok",
     "timestamp": 1649245056789,
     "user": {
      "displayName": "Николай Смирнов",
      "userId": "05792503510966078252"
     },
     "user_tz": -180
    },
    "id": "cSQL7JPtVcnz",
    "outputId": "c4493130-4306-48d8-ae82-2fe4636fc624"
   },
   "outputs": [],
   "source": [
    "print(\n",
    "    'Получение доступа к несуществующему ключу:', '\\n',\n",
    "    s.get('f', 'Нет такого ключа!'), '\\n',\n",
    "    s.get('q')\n",
    ")"
   ]
  },
  {
   "cell_type": "markdown",
   "metadata": {
    "id": "A4fXOzN2A4gg"
   },
   "source": [
    "Обратите внимание, что значения в серии остаются упорядочеными, т.е. серия ведет себя как упорядоченный **словарь** (`collections.OrderedDict`).\n",
    "Начиная с **Python 3.6**, серии можно создавать из обычных словарей, так как в **Python 3.6** обычные словари стали сохранять порядок.\n",
    "\n",
    "Серии поддерживают типичные операции `np.array` (маски, индексирование, расширяющие функции...):"
   ]
  },
  {
   "cell_type": "code",
   "execution_count": null,
   "metadata": {
    "colab": {
     "base_uri": "https://localhost:8080/"
    },
    "executionInfo": {
     "elapsed": 297,
     "status": "ok",
     "timestamp": 1649245059102,
     "user": {
      "displayName": "Николай Смирнов",
      "userId": "05792503510966078252"
     },
     "user_tz": -180
    },
    "id": "Us5qQB_EA4gh",
    "outputId": "1a5e1036-c13e-4e45-d3fe-ffa96aeb781e"
   },
   "outputs": [],
   "source": [
    "s = pd.Series(range(10,15), index=['e', 'd', 'c', 'b', 'a'])\n",
    "print('Серия:', s)"
   ]
  },
  {
   "cell_type": "markdown",
   "metadata": {
    "id": "QZfzmHnmcAXA"
   },
   "source": [
    "**Маска** — массив булевых значний (True, False). Для примера получим **маску**, четные элементы которой будут иметь значение *True*, а нечетные — *False*:"
   ]
  },
  {
   "cell_type": "code",
   "execution_count": null,
   "metadata": {
    "colab": {
     "base_uri": "https://localhost:8080/"
    },
    "executionInfo": {
     "elapsed": 381,
     "status": "ok",
     "timestamp": 1649245061570,
     "user": {
      "displayName": "Николай Смирнов",
      "userId": "05792503510966078252"
     },
     "user_tz": -180
    },
    "id": "L3SBBFYIA4gh",
    "outputId": "6aaacd8c-5130-4a80-ded3-3a531e093d51"
   },
   "outputs": [],
   "source": [
    "mask = s%2 == 0\n",
    "print('Маска четных элементов:\\n', mask)"
   ]
  },
  {
   "cell_type": "markdown",
   "metadata": {
    "id": "ZOGEGwPhdO5r"
   },
   "source": [
    "Маску можно использовать для отделения интересующих элементов:"
   ]
  },
  {
   "cell_type": "code",
   "execution_count": null,
   "metadata": {
    "colab": {
     "base_uri": "https://localhost:8080/"
    },
    "executionInfo": {
     "elapsed": 293,
     "status": "ok",
     "timestamp": 1649245063650,
     "user": {
      "displayName": "Николай Смирнов",
      "userId": "05792503510966078252"
     },
     "user_tz": -180
    },
    "id": "e5YuHmARdD5L",
    "outputId": "b23e1c44-8e79-4285-929b-8074e9a2b173"
   },
   "outputs": [],
   "source": [
    "print(\n",
    "    'Выбор элементов серии по маске:\\n', s[mask],\n",
    ")"
   ]
  },
  {
   "cell_type": "code",
   "execution_count": null,
   "metadata": {
    "colab": {
     "base_uri": "https://localhost:8080/"
    },
    "executionInfo": {
     "elapsed": 298,
     "status": "ok",
     "timestamp": 1649245065805,
     "user": {
      "displayName": "Николай Смирнов",
      "userId": "05792503510966078252"
     },
     "user_tz": -180
    },
    "id": "6KKKeSb-A4gi",
    "outputId": "c6cf74c1-5b9f-4e36-fc22-6ce08b025b68"
   },
   "outputs": [],
   "source": [
    "print(\n",
    "    'Индексация по массиву индексов:\\n', s[['a','e','b']],\n",
    ")"
   ]
  },
  {
   "cell_type": "code",
   "execution_count": null,
   "metadata": {
    "colab": {
     "base_uri": "https://localhost:8080/"
    },
    "executionInfo": {
     "elapsed": 2,
     "status": "ok",
     "timestamp": 1649245067066,
     "user": {
      "displayName": "Николай Смирнов",
      "userId": "05792503510966078252"
     },
     "user_tz": -180
    },
    "id": "mZ8DAOkYA4gj",
    "outputId": "bc45e38c-4d3b-4821-830e-6c41dd1ef8b4"
   },
   "outputs": [],
   "source": [
    "print(\n",
    "    'Применение функций из NumPy:\\n', np.square(s),\n",
    ")"
   ]
  },
  {
   "cell_type": "code",
   "execution_count": null,
   "metadata": {
    "colab": {
     "base_uri": "https://localhost:8080/"
    },
    "executionInfo": {
     "elapsed": 5,
     "status": "ok",
     "timestamp": 1649245068373,
     "user": {
      "displayName": "Николай Смирнов",
      "userId": "05792503510966078252"
     },
     "user_tz": -180
    },
    "id": "QOxVI5VLA4gj",
    "outputId": "58995422-9f8c-414b-c310-af50d397093d"
   },
   "outputs": [],
   "source": [
    "print(\n",
    "    'Расширяющиеся операции (как в NumPy):\\n', s - 5,\n",
    ")"
   ]
  },
  {
   "cell_type": "markdown",
   "metadata": {
    "id": "H7oO-GB5hU5l"
   },
   "source": [
    "Увеличиваем на 1 значения элементов, которые больше чем среднее по серии:"
   ]
  },
  {
   "cell_type": "code",
   "execution_count": null,
   "metadata": {
    "colab": {
     "base_uri": "https://localhost:8080/"
    },
    "executionInfo": {
     "elapsed": 277,
     "status": "ok",
     "timestamp": 1649245071286,
     "user": {
      "displayName": "Николай Смирнов",
      "userId": "05792503510966078252"
     },
     "user_tz": -180
    },
    "id": "JUT-qQd_A4gk",
    "outputId": "0eaeec33-249d-4c4b-e911-473f61c20d83"
   },
   "outputs": [],
   "source": [
    "s[s > s.mean()] += 1 \n",
    "print('Присвоение набору элементов:\\n', s)"
   ]
  },
  {
   "cell_type": "markdown",
   "metadata": {
    "id": "Tst4kAgnA4gl"
   },
   "source": [
    "Индексы серии могут быть изменены \"на лету\": "
   ]
  },
  {
   "cell_type": "code",
   "execution_count": null,
   "metadata": {
    "colab": {
     "base_uri": "https://localhost:8080/"
    },
    "executionInfo": {
     "elapsed": 347,
     "status": "ok",
     "timestamp": 1649245073608,
     "user": {
      "displayName": "Николай Смирнов",
      "userId": "05792503510966078252"
     },
     "user_tz": -180
    },
    "id": "huDIaSkSA4gm",
    "outputId": "2283d2c9-b5ba-4184-bc83-da3d5ec16c11"
   },
   "outputs": [],
   "source": [
    "print('s с текущей индексацией:\\n', s)\n",
    "s.index = list('AbCdE')\n",
    "print('s с новой индексацией:\\n', s)"
   ]
  },
  {
   "cell_type": "markdown",
   "metadata": {
    "id": "66Wq924QA4gn"
   },
   "source": [
    "Можно задать имя серии и индексу: "
   ]
  },
  {
   "cell_type": "code",
   "execution_count": null,
   "metadata": {
    "colab": {
     "base_uri": "https://localhost:8080/"
    },
    "executionInfo": {
     "elapsed": 331,
     "status": "ok",
     "timestamp": 1649245076066,
     "user": {
      "displayName": "Николай Смирнов",
      "userId": "05792503510966078252"
     },
     "user_tz": -180
    },
    "id": "CAQ455EKA4gn",
    "outputId": "426e3252-6112-432d-fb8d-5bead017001a"
   },
   "outputs": [],
   "source": [
    "s.name = 'Series Name'\n",
    "s.index.name = 'Index Name'\n",
    "print('Именованная серия:\\n', s)"
   ]
  },
  {
   "cell_type": "markdown",
   "metadata": {
    "id": "-iofFWMsA4gn"
   },
   "source": [
    "Получение индексов и элементов серии:"
   ]
  },
  {
   "cell_type": "code",
   "execution_count": null,
   "metadata": {
    "colab": {
     "base_uri": "https://localhost:8080/"
    },
    "executionInfo": {
     "elapsed": 4,
     "status": "ok",
     "timestamp": 1649245078816,
     "user": {
      "displayName": "Николай Смирнов",
      "userId": "05792503510966078252"
     },
     "user_tz": -180
    },
    "id": "oSq4-0xSA4go",
    "outputId": "e1e9af20-a63f-47f2-cad7-13a6ec23ab17"
   },
   "outputs": [],
   "source": [
    "print('Индекс:', s.index) \n",
    "print('Значения:', s.values)"
   ]
  },
  {
   "cell_type": "markdown",
   "metadata": {
    "id": "IoDWX58hedPX"
   },
   "source": [
    "## Задача Series_1. \n",
    "\n",
    "\n"
   ]
  },
  {
   "cell_type": "markdown",
   "metadata": {
    "id": "ASdWJiJ-m3sO"
   },
   "source": [
    "1. Создайте серию `pd.Series`, которая будет содрежать инфомацию о целочисленных оценках на экзамене по алгебре учеников: Александр, Борис, Владимир, Дмитрий, Григорий, Евгений, Игорь, Клим, Леонид, Максим. Созданную серию сохраните в переменную one_mark. Этой серии задайте имя \"Оценка по алгебре\". Выведите полученную серию на экран.\n",
    "2. Увеличьте оценку Максима на 1 балл и сохраните ее в серии. Выведите на экран из серию только оценку Максима.\n",
    "3. Задав маску, получить и вывести информацию о тем учениках, у которых оценка не меньше 4."
   ]
  },
  {
   "cell_type": "code",
   "execution_count": null,
   "metadata": {
    "executionInfo": {
     "elapsed": 33,
     "status": "aborted",
     "timestamp": 1649245045647,
     "user": {
      "displayName": "Николай Смирнов",
      "userId": "05792503510966078252"
     },
     "user_tz": -180
    },
    "id": "tz-5xgIUecma"
   },
   "outputs": [],
   "source": [
    "# Напишите свой код в данной ячейке"
   ]
  },
  {
   "cell_type": "markdown",
   "metadata": {
    "id": "-MDoaHc_egZG"
   },
   "source": [
    "[Посмотреть ответ на задачу](#Series_1)"
   ]
  },
  {
   "cell_type": "markdown",
   "metadata": {
    "id": "qbtyHtdBA4go"
   },
   "source": [
    "## DataFrame\n"
   ]
  },
  {
   "cell_type": "markdown",
   "metadata": {
    "id": "7U0mKFPXkfaO"
   },
   "source": [
    "**DataFrame** — набор серий. В **DataFrame** каждая серия — отдельный столбец, совокупность столбов образует *таблицу*. \n"
   ]
  },
  {
   "cell_type": "markdown",
   "metadata": {
    "id": "TZXz-_LMk3eo"
   },
   "source": [
    "### Способы создать `DataFrame`"
   ]
  },
  {
   "cell_type": "code",
   "execution_count": null,
   "metadata": {
    "colab": {
     "base_uri": "https://localhost:8080/",
     "height": 143
    },
    "executionInfo": {
     "elapsed": 294,
     "status": "ok",
     "timestamp": 1649245083016,
     "user": {
      "displayName": "Николай Смирнов",
      "userId": "05792503510966078252"
     },
     "user_tz": -180
    },
    "id": "jluyws-WA4gp",
    "outputId": "78a17c57-066d-418b-8882-0c038f7a90a2"
   },
   "outputs": [],
   "source": [
    "# Способ 1:\n",
    "df = pd.DataFrame([[10, 11], [20, 21], [30, 31]],\n",
    "                  columns=['A', 'B'])\n",
    "df"
   ]
  },
  {
   "cell_type": "code",
   "execution_count": null,
   "metadata": {
    "colab": {
     "base_uri": "https://localhost:8080/",
     "height": 112
    },
    "executionInfo": {
     "elapsed": 484,
     "status": "ok",
     "timestamp": 1649245083969,
     "user": {
      "displayName": "Николай Смирнов",
      "userId": "05792503510966078252"
     },
     "user_tz": -180
    },
    "id": "IRMBQk8OA4gp",
    "outputId": "52fc2b9c-0aab-46a9-de06-9d8fc1fc8c83"
   },
   "outputs": [],
   "source": [
    "# Способ 2: создание DataFrame из двух pd.Series\n",
    "series_1 = pd.Series([10, 20, 30])\n",
    "series_2 = pd.Series([-3, -4, -5])\n",
    "df = pd.DataFrame([series_1, series_2])\n",
    "df\n"
   ]
  },
  {
   "cell_type": "code",
   "execution_count": null,
   "metadata": {
    "colab": {
     "base_uri": "https://localhost:8080/",
     "height": 112
    },
    "executionInfo": {
     "elapsed": 53,
     "status": "ok",
     "timestamp": 1649245083969,
     "user": {
      "displayName": "Николай Смирнов",
      "userId": "05792503510966078252"
     },
     "user_tz": -180
    },
    "id": "k4_l-hxfA4gr",
    "outputId": "be87615e-9e5b-4510-ae9f-147bd2b4e765"
   },
   "outputs": [],
   "source": [
    "# Способ 3: создание DataFrame с помощью словаря\n",
    "list_1 = [70, 71]\n",
    "list_2 = [90, 91]\n",
    "temperatures = {'col_1': list_1,\n",
    "                'col_2': list_2}\n",
    "pd.DataFrame(temperatures)"
   ]
  },
  {
   "cell_type": "code",
   "execution_count": null,
   "metadata": {
    "colab": {
     "base_uri": "https://localhost:8080/",
     "height": 112
    },
    "executionInfo": {
     "elapsed": 52,
     "status": "ok",
     "timestamp": 1649245083970,
     "user": {
      "displayName": "Николай Смирнов",
      "userId": "05792503510966078252"
     },
     "user_tz": -180
    },
    "id": "7YkxTD_0A4gr",
    "outputId": "94e05306-39b8-4e31-feb7-d02f615ef34b"
   },
   "outputs": [],
   "source": [
    "# Способ 4: создание DataFrame с помощью словаря, значениями которого являются Series\n",
    "series_1 = pd.Series([70, 71])\n",
    "series_2 = pd.Series([90, 91])\n",
    "\n",
    "df = pd.DataFrame({'col_1': series_1,\n",
    "                   'col_2': series_2})\n",
    "df"
   ]
  },
  {
   "cell_type": "code",
   "execution_count": null,
   "metadata": {
    "colab": {
     "base_uri": "https://localhost:8080/",
     "height": 193
    },
    "executionInfo": {
     "elapsed": 50,
     "status": "ok",
     "timestamp": 1649245083970,
     "user": {
      "displayName": "Николай Смирнов",
      "userId": "05792503510966078252"
     },
     "user_tz": -180
    },
    "id": "Me7Nz-3wA4gr",
    "outputId": "9fff0142-9146-4e42-c98c-9b4b863c8847"
   },
   "outputs": [],
   "source": [
    "# Способ 5:\n",
    "names = ['Bob','Jessica','Mary','John']\n",
    "births = [968, 155, 77, 578]\n",
    "\n",
    "data = list(zip(names,births))\n",
    "print('Данные:', data)\n",
    "\n",
    "df = pd.DataFrame(data, columns=['Names', 'Births'], index=['A','B','C','D'])\n",
    "df"
   ]
  },
  {
   "cell_type": "markdown",
   "metadata": {
    "id": "MPgVgDUTnXqw"
   },
   "source": [
    "### Задача DataFrame_1. \n",
    "\n",
    "\n"
   ]
  },
  {
   "cell_type": "markdown",
   "metadata": {
    "id": "mTythu13nXqx"
   },
   "source": [
    "Создайте `pd.DataFrame`, которая будет содержать инфомацию о целочисленных оценках на экзаменах по алгебре, геометрии и физике учеников: Александр, Борис, Владимир, Дмитрий, Григорий, Евгений, Игорь, Клим, Леонид, Максим. Созданный `DataFrame` сохраните в переменную marks. Этому `DataFrame` задайте имя \"*Экзаменационные оценки*\" и выведите его на экран.\n"
   ]
  },
  {
   "cell_type": "code",
   "execution_count": null,
   "metadata": {
    "executionInfo": {
     "elapsed": 47,
     "status": "ok",
     "timestamp": 1649245083971,
     "user": {
      "displayName": "Николай Смирнов",
      "userId": "05792503510966078252"
     },
     "user_tz": -180
    },
    "id": "fRs0MMT2nXqy"
   },
   "outputs": [],
   "source": [
    "# Напишите свой код в данной ячейке\n"
   ]
  },
  {
   "cell_type": "markdown",
   "metadata": {
    "id": "n67cr-qpnXq0"
   },
   "source": [
    "[Посмотреть ответ на задачу](#DataFrame_1)"
   ]
  },
  {
   "cell_type": "markdown",
   "metadata": {
    "id": "yzt5JDHk46Fz"
   },
   "source": [
    "### Получение элементов `DataFrame`.\n"
   ]
  },
  {
   "cell_type": "markdown",
   "metadata": {
    "id": "RJwQozczA4gr"
   },
   "source": [
    "DataFrame поддерживает индексацию различными методами. \n",
    "\n",
    "* Обычная индексация (`df[col]`) позволяет обращаться к столбцам по названию\n",
    "* Свойство `.iloc[row, column]` позволяет обращаться к строкам и столбцам по номеру, слайсу или маске.\n",
    "* Свойство `.loc[row, column]` позволяет обращаться к строкам и столбцам по названию, слайсу или маске.\n",
    "* Свойства, совподающие по имени с названиями столбцов. В данном случае - `df.Births` и `df.Names`"
   ]
  },
  {
   "cell_type": "markdown",
   "metadata": {
    "id": "y4Rae3kkmVck"
   },
   "source": [
    "Получим содержимое столбца `'Names'` из `df`:"
   ]
  },
  {
   "cell_type": "code",
   "execution_count": null,
   "metadata": {
    "colab": {
     "base_uri": "https://localhost:8080/"
    },
    "executionInfo": {
     "elapsed": 46,
     "status": "ok",
     "timestamp": 1649245083972,
     "user": {
      "displayName": "Николай Смирнов",
      "userId": "05792503510966078252"
     },
     "user_tz": -180
    },
    "id": "2c_s-rTrA4gt",
    "outputId": "cc963daf-f51d-484c-f1e6-2532a0340bee"
   },
   "outputs": [],
   "source": [
    "print(\n",
    "    'Столбец \"Names\":\\n', df['Names']\n",
    ")"
   ]
  },
  {
   "cell_type": "markdown",
   "metadata": {
    "id": "DDB4kAuu5IkD"
   },
   "source": [
    "Получим столбцы `Births`, `Names` из `df`:"
   ]
  },
  {
   "cell_type": "code",
   "execution_count": null,
   "metadata": {
    "colab": {
     "base_uri": "https://localhost:8080/"
    },
    "executionInfo": {
     "elapsed": 44,
     "status": "ok",
     "timestamp": 1649245083972,
     "user": {
      "displayName": "Николай Смирнов",
      "userId": "05792503510966078252"
     },
     "user_tz": -180
    },
    "id": "AIDRguMOA4gt",
    "outputId": "144984ce-0cf6-4b4c-89c8-4e6b433a872f"
   },
   "outputs": [],
   "source": [
    "print(\n",
    "    'Столбцы \"Births\", \"Names\":\\n', df[['Births', 'Names']]\n",
    ")"
   ]
  },
  {
   "cell_type": "markdown",
   "metadata": {
    "id": "LVNOWNL05Wv-"
   },
   "source": [
    "Используем `.iloc[:, 1]` для получения всех (`:`) элементов столбца с номером `1`:"
   ]
  },
  {
   "cell_type": "code",
   "execution_count": null,
   "metadata": {
    "colab": {
     "base_uri": "https://localhost:8080/"
    },
    "executionInfo": {
     "elapsed": 43,
     "status": "ok",
     "timestamp": 1649245083972,
     "user": {
      "displayName": "Николай Смирнов",
      "userId": "05792503510966078252"
     },
     "user_tz": -180
    },
    "id": "T_jrfv76A4gu",
    "outputId": "2f24c48c-38bb-4b33-8b5e-663641d06e9d"
   },
   "outputs": [],
   "source": [
    "print(\n",
    "    'Столбец №1:\\n', df.iloc[:, 1]\n",
    ")"
   ]
  },
  {
   "cell_type": "markdown",
   "metadata": {
    "id": "ixy1cgR35oN-"
   },
   "source": [
    "Используем `.loc[]` для получения строки А. Следут обратить внимание, что номер столбца при этом не был указан, что обеспечило вывод всех элементов строки: "
   ]
  },
  {
   "cell_type": "code",
   "execution_count": null,
   "metadata": {
    "colab": {
     "base_uri": "https://localhost:8080/"
    },
    "executionInfo": {
     "elapsed": 44,
     "status": "ok",
     "timestamp": 1649245083973,
     "user": {
      "displayName": "Николай Смирнов",
      "userId": "05792503510966078252"
     },
     "user_tz": -180
    },
    "id": "6zm0gAweA4gu",
    "outputId": "61c09f6b-61f8-4f15-92d9-d8c604479d66"
   },
   "outputs": [],
   "source": [
    "print(\n",
    "    'Строка A:', df.loc['A'],\n",
    ")"
   ]
  },
  {
   "cell_type": "code",
   "execution_count": null,
   "metadata": {
    "colab": {
     "base_uri": "https://localhost:8080/"
    },
    "executionInfo": {
     "elapsed": 45,
     "status": "ok",
     "timestamp": 1649245083975,
     "user": {
      "displayName": "Николай Смирнов",
      "userId": "05792503510966078252"
     },
     "user_tz": -180
    },
    "id": "IZ2H0D7JA4gu",
    "outputId": "b340b736-45f5-4e69-825e-9ea25fd914c8"
   },
   "outputs": [],
   "source": [
    "print(\n",
    "    'Строка 3:\\n', df.iloc[3],\n",
    ")"
   ]
  },
  {
   "cell_type": "markdown",
   "metadata": {
    "id": "BJX057Ia6JJj"
   },
   "source": [
    "Используя `.loc[]`, получим все строки c индексами из диапазона от A до С (`'A':'C'`), которые находятся в столбце Names:"
   ]
  },
  {
   "cell_type": "code",
   "execution_count": null,
   "metadata": {
    "colab": {
     "base_uri": "https://localhost:8080/"
    },
    "executionInfo": {
     "elapsed": 45,
     "status": "ok",
     "timestamp": 1649245083976,
     "user": {
      "displayName": "Николай Смирнов",
      "userId": "05792503510966078252"
     },
     "user_tz": -180
    },
    "id": "wRGNfUEyA4gv",
    "outputId": "a907f6cb-d52b-406a-9af1-b2f609957370"
   },
   "outputs": [],
   "source": [
    "print(\n",
    "    'Имена из строк A, B, C:', df.loc['A':'C', 'Names'],\n",
    ")"
   ]
  },
  {
   "cell_type": "markdown",
   "metadata": {
    "id": "1GvKkhgI7CYb"
   },
   "source": [
    "Используя `.iloc[1:4, 1]`, получим элементы находящиеся на пересечении 1, 2, 3 строк и первого столбца:"
   ]
  },
  {
   "cell_type": "code",
   "execution_count": null,
   "metadata": {
    "colab": {
     "base_uri": "https://localhost:8080/"
    },
    "executionInfo": {
     "elapsed": 44,
     "status": "ok",
     "timestamp": 1649245083976,
     "user": {
      "displayName": "Николай Смирнов",
      "userId": "05792503510966078252"
     },
     "user_tz": -180
    },
    "id": "mOybFPCPA4gw",
    "outputId": "deeaebd0-e9a1-484d-b8b5-703625c1bbfd"
   },
   "outputs": [],
   "source": [
    "print(\n",
    "    'Количества рождений из строк 1, 2, 3:', df.iloc[1:4, 1]\n",
    ")"
   ]
  },
  {
   "cell_type": "markdown",
   "metadata": {
    "id": "syH12d0a-EUG"
   },
   "source": [
    "Создадим маску, выведем маску и элементы `df`, соответсвующие этой маске: "
   ]
  },
  {
   "cell_type": "code",
   "execution_count": null,
   "metadata": {
    "colab": {
     "base_uri": "https://localhost:8080/"
    },
    "executionInfo": {
     "elapsed": 45,
     "status": "ok",
     "timestamp": 1649245083978,
     "user": {
      "displayName": "Николай Смирнов",
      "userId": "05792503510966078252"
     },
     "user_tz": -180
    },
    "id": "17o0zNd7A4gw",
    "outputId": "86e494b8-2f22-4b61-f100-a2d1ddc805c2"
   },
   "outputs": [],
   "source": [
    "row_mask = df['Births'] < 500\n",
    "\n",
    "print(\n",
    "    'Маска:\\n', row_mask,\n",
    "    '\\n', '\\n',\n",
    "    'Строки:\\n', df.loc[row_mask]\n",
    ")"
   ]
  },
  {
   "cell_type": "markdown",
   "metadata": {
    "id": "57xqlq-yDPdI"
   },
   "source": [
    "Получить элементы столбца Names можно еще таким образом:"
   ]
  },
  {
   "cell_type": "code",
   "execution_count": null,
   "metadata": {
    "colab": {
     "base_uri": "https://localhost:8080/"
    },
    "executionInfo": {
     "elapsed": 43,
     "status": "ok",
     "timestamp": 1649245083978,
     "user": {
      "displayName": "Николай Смирнов",
      "userId": "05792503510966078252"
     },
     "user_tz": -180
    },
    "id": "cV_NPiQYA4gx",
    "outputId": "732396e7-54aa-4935-8b0b-a34b7e059973"
   },
   "outputs": [],
   "source": [
    "df.Names"
   ]
  },
  {
   "cell_type": "markdown",
   "metadata": {
    "id": "O4wsbRrOA4gx"
   },
   "source": [
    "С помощью head и tail можно ограничить количество элементов в отображаемой выборке:"
   ]
  },
  {
   "cell_type": "code",
   "execution_count": null,
   "metadata": {
    "colab": {
     "base_uri": "https://localhost:8080/"
    },
    "executionInfo": {
     "elapsed": 43,
     "status": "ok",
     "timestamp": 1649245083979,
     "user": {
      "displayName": "Николай Смирнов",
      "userId": "05792503510966078252"
     },
     "user_tz": -180
    },
    "id": "k36_bG1yA4gy",
    "outputId": "be2735e1-6be5-4c13-b3d9-fc9685ceb583"
   },
   "outputs": [],
   "source": [
    "print(\n",
    "    '1 строка:', df.head(1), '\\n', \n",
    "    '2 последние строки:', df.tail(2),\n",
    ")"
   ]
  },
  {
   "cell_type": "markdown",
   "metadata": {
    "id": "OPnXVeJ3A4gy"
   },
   "source": [
    "`max(), min(), mean()` для поиска максимума, минимума, среднего значения в столбце."
   ]
  },
  {
   "cell_type": "code",
   "execution_count": null,
   "metadata": {
    "colab": {
     "base_uri": "https://localhost:8080/"
    },
    "executionInfo": {
     "elapsed": 43,
     "status": "ok",
     "timestamp": 1649245083980,
     "user": {
      "displayName": "Николай Смирнов",
      "userId": "05792503510966078252"
     },
     "user_tz": -180
    },
    "id": "cfHOobciEdnO",
    "outputId": "dd4cba2d-f39f-4343-e340-a19a2014bf9c"
   },
   "outputs": [],
   "source": [
    "print(\n",
    "    'Максимум:', df['Births'].max(), '\\n',\n",
    "    'Минимум:', df['Births'].min(), '\\n',\n",
    "    'Среднее:', df['Births'].mean(), '\\n' \n",
    ")"
   ]
  },
  {
   "cell_type": "markdown",
   "metadata": {
    "id": "Pd6UPgq3A4gz"
   },
   "source": [
    "### Cортировка "
   ]
  },
  {
   "cell_type": "markdown",
   "metadata": {
    "id": "YlYrnBdbFKGB"
   },
   "source": [
    "Сортировка всего DataFrame'а по возрастанию значений в столбце *Births*:\n"
   ]
  },
  {
   "cell_type": "code",
   "execution_count": null,
   "metadata": {
    "colab": {
     "base_uri": "https://localhost:8080/",
     "height": 175
    },
    "executionInfo": {
     "elapsed": 42,
     "status": "ok",
     "timestamp": 1649245083980,
     "user": {
      "displayName": "Николай Смирнов",
      "userId": "05792503510966078252"
     },
     "user_tz": -180
    },
    "id": "r5cbvJwsA4g0",
    "outputId": "3fb76937-54cc-41f1-c671-75cdc61a8218"
   },
   "outputs": [],
   "source": [
    "df.sort_values('Births')"
   ]
  },
  {
   "cell_type": "markdown",
   "metadata": {
    "id": "dhgh7aWcDJi8"
   },
   "source": [
    "Передав значение параметра `ascending=False` в `sort_values()`, получим сортировку по убыванию:"
   ]
  },
  {
   "cell_type": "code",
   "execution_count": null,
   "metadata": {
    "colab": {
     "base_uri": "https://localhost:8080/",
     "height": 175
    },
    "executionInfo": {
     "elapsed": 40,
     "status": "ok",
     "timestamp": 1649245083980,
     "user": {
      "displayName": "Николай Смирнов",
      "userId": "05792503510966078252"
     },
     "user_tz": -180
    },
    "id": "MN3TR1r_A4g0",
    "outputId": "b429a86c-061a-4361-8ef9-4c05311dd092"
   },
   "outputs": [],
   "source": [
    "df.sort_values('Births', ascending=False)"
   ]
  },
  {
   "cell_type": "markdown",
   "metadata": {
    "id": "KbkEPDssFfyr"
   },
   "source": [
    "### Внесение изменений в DataFrame\n"
   ]
  },
  {
   "cell_type": "markdown",
   "metadata": {
    "id": "4mqtT7xXGKJS"
   },
   "source": [
    "В предыдущих ячейках блокнота результаты сортировки были выведены на экран, но не были сохранены куда-либо (`df` остался без изменений). Такое поведение характерно для большинства операций производимых с `DataFrame`. \n",
    "\n"
   ]
  },
  {
   "cell_type": "code",
   "execution_count": null,
   "metadata": {
    "colab": {
     "base_uri": "https://localhost:8080/",
     "height": 175
    },
    "executionInfo": {
     "elapsed": 682,
     "status": "ok",
     "timestamp": 1649245084625,
     "user": {
      "displayName": "Николай Смирнов",
      "userId": "05792503510966078252"
     },
     "user_tz": -180
    },
    "id": "kpbVrQplGG5g",
    "outputId": "b3a025d8-66b0-4c0f-86d7-273e64b04ccb"
   },
   "outputs": [],
   "source": [
    "df"
   ]
  },
  {
   "cell_type": "markdown",
   "metadata": {
    "id": "lov-TASlGdBg"
   },
   "source": [
    "Для сохранения результатов произведенной операции их необходимо явно сохранить куда-либо:"
   ]
  },
  {
   "cell_type": "code",
   "execution_count": null,
   "metadata": {
    "colab": {
     "base_uri": "https://localhost:8080/",
     "height": 175
    },
    "executionInfo": {
     "elapsed": 20,
     "status": "ok",
     "timestamp": 1649245084626,
     "user": {
      "displayName": "Николай Смирнов",
      "userId": "05792503510966078252"
     },
     "user_tz": -180
    },
    "id": "Q_nKkgctGdTe",
    "outputId": "cf1ad84a-a368-49d6-8e1a-bffcae3b4cd0"
   },
   "outputs": [],
   "source": [
    "df_sorted = df.sort_values('Births', ascending=False)\n",
    "df_sorted"
   ]
  },
  {
   "cell_type": "markdown",
   "metadata": {
    "id": "3m6tFVafqu8e"
   },
   "source": [
    "### Задача DataFrame_2. \n",
    "\n",
    "\n"
   ]
  },
  {
   "cell_type": "markdown",
   "metadata": {
    "id": "WiRSRFSrqu8g"
   },
   "source": [
    "Полученный в DataFrame_1 `marks` изменить следующим образом (все изменения должны быть сохранены в `marks`):\n",
    "  1.  Оценки всех учеников по геометрии уменьшите на 1 балл.\n",
    "  2.  Увеличьте все оценки Максима на 1 балл.\n",
    "  3.  Измените оценку по алгебре у Бориса на 5.\n",
    "  4.  Измените все оценки в столбце №2 на 4. <br>\n",
    "Выведите `marks` на экран.\n"
   ]
  },
  {
   "cell_type": "code",
   "execution_count": null,
   "metadata": {
    "executionInfo": {
     "elapsed": 18,
     "status": "ok",
     "timestamp": 1649245084626,
     "user": {
      "displayName": "Николай Смирнов",
      "userId": "05792503510966078252"
     },
     "user_tz": -180
    },
    "id": "zlpEdjGvqu8h"
   },
   "outputs": [],
   "source": [
    "# Напишите свой код в данной ячейке\n"
   ]
  },
  {
   "cell_type": "markdown",
   "metadata": {
    "id": "bDP-92AWqu8j"
   },
   "source": [
    "[Посмотреть ответ на задачу](#DataFrame_2)"
   ]
  },
  {
   "cell_type": "markdown",
   "metadata": {
    "id": "OSXw3h03A4g0"
   },
   "source": [
    "### .apply()\n",
    "для применения действия к набору элементов из `df`"
   ]
  },
  {
   "cell_type": "markdown",
   "metadata": {
    "id": "MaAMgLL2FX-5"
   },
   "source": [
    "Создадим новый столбец с инициалами имен, для этого с помощью `apply()`  применим `lambda`-функцию к каждому элементу колонки Names (аналог `map`)"
   ]
  },
  {
   "cell_type": "code",
   "execution_count": null,
   "metadata": {
    "colab": {
     "base_uri": "https://localhost:8080/",
     "height": 175
    },
    "executionInfo": {
     "elapsed": 17,
     "status": "ok",
     "timestamp": 1649245084627,
     "user": {
      "displayName": "Николай Смирнов",
      "userId": "05792503510966078252"
     },
     "user_tz": -180
    },
    "id": "TYn_4GQmA4g2",
    "outputId": "2d170d2b-6acd-4c89-a91c-5a504a6bc908"
   },
   "outputs": [],
   "source": [
    "df['Initial'] = df['Names'].apply(lambda x: x[0])\n",
    "df"
   ]
  },
  {
   "cell_type": "markdown",
   "metadata": {
    "id": "UJLqQ3xAA4g2"
   },
   "source": [
    "### Удаление столба:"
   ]
  },
  {
   "cell_type": "code",
   "execution_count": null,
   "metadata": {
    "colab": {
     "base_uri": "https://localhost:8080/",
     "height": 175
    },
    "executionInfo": {
     "elapsed": 16,
     "status": "ok",
     "timestamp": 1649245084627,
     "user": {
      "displayName": "Николай Смирнов",
      "userId": "05792503510966078252"
     },
     "user_tz": -180
    },
    "id": "d5JHlbNoA4g2",
    "outputId": "9b203db0-924f-4b0e-edd9-cdda901d9a32"
   },
   "outputs": [],
   "source": [
    "del df['Initial']\n",
    "df"
   ]
  },
  {
   "cell_type": "markdown",
   "metadata": {
    "id": "haJSgzWhA4g3"
   },
   "source": [
    "### Изучение данных в DataFrame"
   ]
  },
  {
   "cell_type": "markdown",
   "metadata": {
    "id": "tzHcJ_k6A4g2"
   },
   "source": [
    "#### Импорт и экспорт данных\n"
   ]
  },
  {
   "cell_type": "markdown",
   "metadata": {
    "id": "jZr-M1cccUvc"
   },
   "source": [
    "**Pandas** имеет множество встроенных функций для импорта и экспорта данных. Вот наиболее полезные из них:\n",
    "* `pd.read_json` и `df.to_json`\n",
    "* `pd.read_excel` и `df.to_excel` (требует наличия установленных модулей `openpyxl` и `xlrd`)\n",
    "* `pd.read_csv` и `pd.to_csv`"
   ]
  },
  {
   "cell_type": "markdown",
   "metadata": {
    "id": "U4X93VHNI-FE"
   },
   "source": [
    "Проведем анализ результатов экзамена, которые находятся в файле. Необходимо задать путь до файла *StudentsPerformance.csv*.\n",
    "*   Если вы работаете не в **Google Colaboratory**, то обращаетесь к файлам на своем жестком диске, напимер, посредством модуля `os`.\n",
    "*   Если вы используте **Google Colaboratory**, то нужно выполнить:"
   ]
  },
  {
   "cell_type": "code",
   "execution_count": null,
   "metadata": {
    "colab": {
     "base_uri": "https://localhost:8080/"
    },
    "executionInfo": {
     "elapsed": 20057,
     "status": "ok",
     "timestamp": 1649245104670,
     "user": {
      "displayName": "Николай Смирнов",
      "userId": "05792503510966078252"
     },
     "user_tz": -180
    },
    "id": "BzYg0mQg5ghQ",
    "outputId": "25844dfb-b2f5-40ac-ce07-b8b56c58cffb"
   },
   "outputs": [],
   "source": [
    "from google.colab import drive\n",
    "drive.mount('/content/gdrive')  \n",
    "gc_folder = r\"/content/gdrive/My Drive/Colab Notebooks/\"  # Стандартный путь до файлов на гугл диске"
   ]
  },
  {
   "cell_type": "markdown",
   "metadata": {
    "id": "dJqNeUiHKyIh"
   },
   "source": [
    "Модифицируем стандартный путь так, чтобы обратиться к файлу. \n",
    "Отредактируйте эту строку так, чтобы в `gc_folder` содержался полный путь до папки, в которой находится *StudentsPerformance.csv.* :"
   ]
  },
  {
   "cell_type": "code",
   "execution_count": null,
   "metadata": {
    "executionInfo": {
     "elapsed": 7,
     "status": "ok",
     "timestamp": 1649245104672,
     "user": {
      "displayName": "Николай Смирнов",
      "userId": "05792503510966078252"
     },
     "user_tz": -180
    },
    "id": "pGFtcpRzKtZ7"
   },
   "outputs": [],
   "source": [
    "gc_folder += r'КУРС Python для анализа данных/files/'  "
   ]
  },
  {
   "cell_type": "markdown",
   "metadata": {
    "id": "JcYO6Ap0PCqj"
   },
   "source": [
    "Далее необходимо дополнить путь **gc_path** так, чтобы получить точный путь до файла на вашем **Google Disk**, например, так:"
   ]
  },
  {
   "cell_type": "code",
   "execution_count": null,
   "metadata": {
    "colab": {
     "base_uri": "https://localhost:8080/",
     "height": 206
    },
    "executionInfo": {
     "elapsed": 9,
     "status": "ok",
     "timestamp": 1649245137177,
     "user": {
      "displayName": "Николай Смирнов",
      "userId": "05792503510966078252"
     },
     "user_tz": -180
    },
    "id": "ToJQbbWyObld",
    "outputId": "26e90d62-4444-4b54-b61b-45a012e1545e"
   },
   "outputs": [],
   "source": [
    "my_file_path = gc_folder + 'StudentsPerformance.csv'\n",
    "df = pd.read_csv(my_file_path)\n",
    "df.head(5)"
   ]
  },
  {
   "cell_type": "markdown",
   "metadata": {
    "id": "4Sk0HxoeA4g3"
   },
   "source": [
    "В данном случае csv файл был отформатирован стандартным образом и импорт прошел успешно. Функция `read_csv` принимает [большое количество параметров](http://pandas.pydata.org/pandas-docs/stable/generated/pandas.read_csv.html), что позволяет использовать ее для импорта файлов с нестандартным форматированием данных."
   ]
  },
  {
   "cell_type": "markdown",
   "metadata": {
    "id": "y11vowo0A4g5"
   },
   "source": [
    "#### Знакомство с таблицей"
   ]
  },
  {
   "cell_type": "code",
   "execution_count": null,
   "metadata": {
    "colab": {
     "base_uri": "https://localhost:8080/"
    },
    "executionInfo": {
     "elapsed": 31,
     "status": "ok",
     "timestamp": 1649245105538,
     "user": {
      "displayName": "Николай Смирнов",
      "userId": "05792503510966078252"
     },
     "user_tz": -180
    },
    "id": "qOSXNkNEA4g5",
    "outputId": "62b0a574-5c44-4125-b559-2c8c3d7d9ee6"
   },
   "outputs": [],
   "source": [
    "df.info()  # Общая информация о DataFrame df"
   ]
  },
  {
   "cell_type": "code",
   "execution_count": null,
   "metadata": {
    "colab": {
     "base_uri": "https://localhost:8080/"
    },
    "executionInfo": {
     "elapsed": 21,
     "status": "ok",
     "timestamp": 1649245105539,
     "user": {
      "displayName": "Николай Смирнов",
      "userId": "05792503510966078252"
     },
     "user_tz": -180
    },
    "id": "FRKVq0L_5jie",
    "outputId": "280057c6-afc7-4687-9598-96948e586e64"
   },
   "outputs": [],
   "source": [
    "df.size  # Количество объектов в df"
   ]
  },
  {
   "cell_type": "code",
   "execution_count": null,
   "metadata": {
    "colab": {
     "base_uri": "https://localhost:8080/"
    },
    "executionInfo": {
     "elapsed": 18,
     "status": "ok",
     "timestamp": 1649245105540,
     "user": {
      "displayName": "Николай Смирнов",
      "userId": "05792503510966078252"
     },
     "user_tz": -180
    },
    "id": "CA2RKwWGA4g5",
    "outputId": "c651125f-b3ca-4f2c-fe7f-537fbf8d4257"
   },
   "outputs": [],
   "source": [
    "df.index  # Индексы df"
   ]
  },
  {
   "cell_type": "code",
   "execution_count": null,
   "metadata": {
    "colab": {
     "base_uri": "https://localhost:8080/"
    },
    "executionInfo": {
     "elapsed": 597,
     "status": "ok",
     "timestamp": 1649245106122,
     "user": {
      "displayName": "Николай Смирнов",
      "userId": "05792503510966078252"
     },
     "user_tz": -180
    },
    "id": "UxmLIajEA4g5",
    "outputId": "ac53ee3a-7dde-4567-853c-0686e8b6104d"
   },
   "outputs": [],
   "source": [
    "df.values  # Значения df"
   ]
  },
  {
   "cell_type": "code",
   "execution_count": null,
   "metadata": {
    "colab": {
     "base_uri": "https://localhost:8080/"
    },
    "executionInfo": {
     "elapsed": 49,
     "status": "ok",
     "timestamp": 1649245106123,
     "user": {
      "displayName": "Николай Смирнов",
      "userId": "05792503510966078252"
     },
     "user_tz": -180
    },
    "id": "v5oxoz_ZA4g5",
    "outputId": "89c75373-e14c-45da-8c8f-3bf50721274f"
   },
   "outputs": [],
   "source": [
    "df.dtypes  # Типы данных для каждого столбца df"
   ]
  },
  {
   "cell_type": "code",
   "execution_count": null,
   "metadata": {
    "colab": {
     "base_uri": "https://localhost:8080/",
     "height": 300
    },
    "executionInfo": {
     "elapsed": 46,
     "status": "ok",
     "timestamp": 1649245106123,
     "user": {
      "displayName": "Николай Смирнов",
      "userId": "05792503510966078252"
     },
     "user_tz": -180
    },
    "id": "SjmNnWbtA4g6",
    "outputId": "ee9cd2b0-7915-4987-9190-06a60e9c9607"
   },
   "outputs": [],
   "source": [
    "df.describe()  # Рассчитанные характеристики df"
   ]
  },
  {
   "cell_type": "markdown",
   "metadata": {
    "id": "LYEnN3eQA4g8"
   },
   "source": [
    "Рассмотрим столбец \"*test preparation course*\""
   ]
  },
  {
   "cell_type": "code",
   "execution_count": null,
   "metadata": {
    "colab": {
     "base_uri": "https://localhost:8080/"
    },
    "executionInfo": {
     "elapsed": 46,
     "status": "ok",
     "timestamp": 1649245106124,
     "user": {
      "displayName": "Николай Смирнов",
      "userId": "05792503510966078252"
     },
     "user_tz": -180
    },
    "id": "sN7F0urQA4g9",
    "outputId": "50ddd5ed-8709-4e5a-a76a-98f3d8f100a9"
   },
   "outputs": [],
   "source": [
    "print('Описание столбца:\\n', df['test preparation course'].describe())"
   ]
  },
  {
   "cell_type": "markdown",
   "metadata": {
    "id": "H3yoLmv3nZsF"
   },
   "source": [
    "Используя `.unique()`, можно получить все уникальные значения в наборе:"
   ]
  },
  {
   "cell_type": "code",
   "execution_count": null,
   "metadata": {
    "colab": {
     "base_uri": "https://localhost:8080/"
    },
    "executionInfo": {
     "elapsed": 45,
     "status": "ok",
     "timestamp": 1649245106125,
     "user": {
      "displayName": "Николай Смирнов",
      "userId": "05792503510966078252"
     },
     "user_tz": -180
    },
    "id": "0pZ1wM8anZ4r",
    "outputId": "8e24fc99-a62e-4ba7-940e-20e1e88c0fdb"
   },
   "outputs": [],
   "source": [
    "print('\\nУникальные значения:', df['test preparation course'].unique())"
   ]
  },
  {
   "cell_type": "markdown",
   "metadata": {
    "id": "-0vZTxbkA4g9"
   },
   "source": [
    "Сейчас данные столбца *test preparation course* хранятся в виде строк и принимают всего два значения: 'none' и 'completed'. Удобнее продолжить работу с такими данными, как с булевыми переменными. Для этого в столбце *test preparation course* запишем `True`, если в нем было значение *completed*, иначе `False`.\n"
   ]
  },
  {
   "cell_type": "code",
   "execution_count": null,
   "metadata": {
    "colab": {
     "base_uri": "https://localhost:8080/",
     "height": 143
    },
    "executionInfo": {
     "elapsed": 45,
     "status": "ok",
     "timestamp": 1649245106126,
     "user": {
      "displayName": "Николай Смирнов",
      "userId": "05792503510966078252"
     },
     "user_tz": -180
    },
    "id": "v_Gs6aG8A4g9",
    "outputId": "5f6df3e0-143c-4cb0-ae00-a0def73aaeed"
   },
   "outputs": [],
   "source": [
    "df['test preparation course'] = (df['test preparation course'] == 'completed')\n",
    "df.head(3)"
   ]
  },
  {
   "cell_type": "code",
   "execution_count": null,
   "metadata": {
    "colab": {
     "base_uri": "https://localhost:8080/"
    },
    "executionInfo": {
     "elapsed": 43,
     "status": "ok",
     "timestamp": 1649245106126,
     "user": {
      "displayName": "Николай Смирнов",
      "userId": "05792503510966078252"
     },
     "user_tz": -180
    },
    "id": "-YF45C5LA4g-",
    "outputId": "259c07fa-9b73-42d2-896b-038359da8520"
   },
   "outputs": [],
   "source": [
    "df.info()"
   ]
  },
  {
   "cell_type": "markdown",
   "metadata": {
    "id": "VtVq7JQCA4hO"
   },
   "source": [
    "Рассмотрим, как прохождение подготовительного курса сказывается на результатах экзамена по математике:"
   ]
  },
  {
   "cell_type": "code",
   "execution_count": null,
   "metadata": {
    "colab": {
     "base_uri": "https://localhost:8080/"
    },
    "executionInfo": {
     "elapsed": 43,
     "status": "ok",
     "timestamp": 1649245106127,
     "user": {
      "displayName": "Николай Смирнов",
      "userId": "05792503510966078252"
     },
     "user_tz": -180
    },
    "id": "k_AQW8KBA4hP",
    "outputId": "f5219601-a48e-416b-9c98-e45c810fc5fd"
   },
   "outputs": [],
   "source": [
    "print('Прошедшие подготовительный курс:',    df[ df['test preparation course']]['math score'].describe())\n",
    "print('Не прошедшие подготовительный курс:', df[~df['test preparation course']]['math score'].describe()) # ~ - логическое \"не\""
   ]
  },
  {
   "cell_type": "markdown",
   "metadata": {
    "id": "6kwW4mCEA4hP"
   },
   "source": [
    "Рассмотрим как уровень образования родителей сказывается на результатах экзаменов ребенка"
   ]
  },
  {
   "cell_type": "code",
   "execution_count": null,
   "metadata": {
    "colab": {
     "base_uri": "https://localhost:8080/"
    },
    "executionInfo": {
     "elapsed": 42,
     "status": "ok",
     "timestamp": 1649245106127,
     "user": {
      "displayName": "Николай Смирнов",
      "userId": "05792503510966078252"
     },
     "user_tz": -180
    },
    "id": "1bPPKya2A4hQ",
    "outputId": "8c4b41ae-220e-40fb-d5db-7e5c19040f3b"
   },
   "outputs": [],
   "source": [
    "print('Различные уровни образования родителей:', df['parental level of education'].unique())"
   ]
  },
  {
   "cell_type": "markdown",
   "metadata": {
    "id": "oMHzAdI0A4hQ"
   },
   "source": [
    "Такие данные лучше представить не в виде строк, а в виде категорий: это уменьшает объем используемой памяти и позволит обрабатывать эти данные более эффективно"
   ]
  },
  {
   "cell_type": "code",
   "execution_count": null,
   "metadata": {
    "executionInfo": {
     "elapsed": 41,
     "status": "ok",
     "timestamp": 1649245106128,
     "user": {
      "displayName": "Николай Смирнов",
      "userId": "05792503510966078252"
     },
     "user_tz": -180
    },
    "id": "drpSiRKQA4hR"
   },
   "outputs": [],
   "source": [
    "from pandas.api.types import CategoricalDtype\n",
    "\n",
    "edu_levels = CategoricalDtype(\n",
    "    categories=[  # Уровни образования в порятке возрастания:\n",
    "        \"some high school\",\n",
    "        \"high school\", \n",
    "        \"some college\", \n",
    "        \"associate's degree\",\n",
    "        \"bachelor's degree\",\n",
    "        \"master's degree\",\n",
    "    ],\n",
    "    ordered=True  # Отмечаем, что среди этих категорий установлено отношение порядка\n",
    ")\n",
    "\n",
    "df['parental level of education']=df['parental level of education'].astype(edu_levels)"
   ]
  },
  {
   "cell_type": "markdown",
   "metadata": {
    "id": "LrF6uaPPG76N"
   },
   "source": [
    "#### groupby() - Групировка по значениям\n",
    "\n"
   ]
  },
  {
   "cell_type": "markdown",
   "metadata": {
    "id": "10nPrkYJqgv2"
   },
   "source": [
    "Используя `groupby()`, сгруппируем значения столбца *parental level of education* и, используя `mean()`, для каждого уровня образования родителей посчитаем среднюю оценку по математике:"
   ]
  },
  {
   "cell_type": "code",
   "execution_count": null,
   "metadata": {
    "executionInfo": {
     "elapsed": 40,
     "status": "ok",
     "timestamp": 1649245106128,
     "user": {
      "displayName": "Николай Смирнов",
      "userId": "05792503510966078252"
     },
     "user_tz": -180
    },
    "id": "N8eFPff7qrYf"
   },
   "outputs": [],
   "source": [
    "by_parents_edu_level = df.groupby('parental level of education')  # Группируем значения столбца parental level of education"
   ]
  },
  {
   "cell_type": "code",
   "execution_count": null,
   "metadata": {
    "colab": {
     "base_uri": "https://localhost:8080/"
    },
    "executionInfo": {
     "elapsed": 40,
     "status": "ok",
     "timestamp": 1649245106129,
     "user": {
      "displayName": "Николай Смирнов",
      "userId": "05792503510966078252"
     },
     "user_tz": -180
    },
    "id": "fzQqMJHUrAKY",
    "outputId": "6365e314-a162-498b-a39c-33c4341e0da9"
   },
   "outputs": [],
   "source": [
    "by_parents_edu_level_mean = by_parents_edu_level['math score'].mean()  # Средняя оценка по математике\n",
    "print('Тип type(by_parents_edu_level_mean)=', type(by_parents_edu_level_mean), '\\n')\n",
    "by_parents_edu_level_mean\n"
   ]
  },
  {
   "cell_type": "markdown",
   "metadata": {
    "id": "D3XvLLdRsN5i"
   },
   "source": [
    "Следует отметить, что в ячейке выше *by_parents_edu_level_mean* является `pd.Series`, a столбец *parental level of education* стал индексом. Чтобы избежать этого можно указать параметр со значением `as_index=False`:"
   ]
  },
  {
   "cell_type": "code",
   "execution_count": null,
   "metadata": {
    "colab": {
     "base_uri": "https://localhost:8080/",
     "height": 275
    },
    "executionInfo": {
     "elapsed": 39,
     "status": "ok",
     "timestamp": 1649245106129,
     "user": {
      "displayName": "Николай Смирнов",
      "userId": "05792503510966078252"
     },
     "user_tz": -180
    },
    "id": "7KcVoei-A4hR",
    "outputId": "3ef15f06-f4c4-428f-a144-9aef4edcac60"
   },
   "outputs": [],
   "source": [
    "by_parents_edu_level_mean = df.groupby('parental level of education', as_index=False)\n",
    "print('Тип type(by_parents_edu_level_mean)=', type(by_parents_edu_level_mean), '\\n')\n",
    "by_parents_edu_level_mean['math score'].mean()"
   ]
  },
  {
   "cell_type": "markdown",
   "metadata": {
    "id": "X6g_vI7r5_Rx"
   },
   "source": [
    "Количество записей в каждой группе:"
   ]
  },
  {
   "cell_type": "code",
   "execution_count": null,
   "metadata": {
    "colab": {
     "base_uri": "https://localhost:8080/",
     "height": 237
    },
    "executionInfo": {
     "elapsed": 34,
     "status": "ok",
     "timestamp": 1649245106130,
     "user": {
      "displayName": "Николай Смирнов",
      "userId": "05792503510966078252"
     },
     "user_tz": -180
    },
    "id": "a8OHBq1zA4hS",
    "outputId": "bbb380ed-7a4c-4db9-d95f-6fa2c3944f5a"
   },
   "outputs": [],
   "source": [
    "by_parents_edu_level_mean.size()"
   ]
  },
  {
   "cell_type": "markdown",
   "metadata": {
    "id": "F7p4R7ElC5nl"
   },
   "source": [
    "### Задача DataFrame_3.\n",
    "\n"
   ]
  },
  {
   "cell_type": "markdown",
   "metadata": {
    "id": "hK_5PqOSC5nn"
   },
   "source": [
    "  1.  Добавить в `df` стобец *Средний балл*, в который разместите поделенную на 3 сумму оценок из трёх стобцов: *math score*, *reading score*, *writing score*. Вывести на экран результат.\n",
    "  2. Произвести группировку по полу ученика (значение в столбце *gender*). После для каждой из полученных групп, найти наименьшее, среднее, наибольшее значение в поле *Средний балл*. Вывести на экран результат."
   ]
  },
  {
   "cell_type": "code",
   "execution_count": null,
   "metadata": {
    "executionInfo": {
     "elapsed": 34,
     "status": "ok",
     "timestamp": 1649245106131,
     "user": {
      "displayName": "Николай Смирнов",
      "userId": "05792503510966078252"
     },
     "user_tz": -180
    },
    "id": "j4vsVB4dC5np"
   },
   "outputs": [],
   "source": [
    "# Напишите свой код в данной ячейке\n"
   ]
  },
  {
   "cell_type": "markdown",
   "metadata": {
    "id": "4KY03pkUC5nq"
   },
   "source": [
    "[Посмотреть ответ на задачу](#DataFrame_3)"
   ]
  },
  {
   "cell_type": "markdown",
   "metadata": {
    "id": "K4e_g0VZAUfJ"
   },
   "source": [
    "### where()\n"
   ]
  },
  {
   "cell_type": "markdown",
   "metadata": {
    "id": "4IhreXnJAir7"
   },
   "source": [
    "позволяет получать записи, которые соответствуют нескольким условиям:\n",
    "\n",
    "       [Текст ссылки] \n",
    "       логическое и: and => ((условие_1) & (условие_2))       \n",
    "       логическое или: or => ((условие_1) | (условие_2))    "
   ]
  },
  {
   "cell_type": "code",
   "execution_count": null,
   "metadata": {
    "colab": {
     "base_uri": "https://localhost:8080/",
     "height": 206
    },
    "executionInfo": {
     "elapsed": 33,
     "status": "ok",
     "timestamp": 1649245106131,
     "user": {
      "displayName": "Николай Смирнов",
      "userId": "05792503510966078252"
     },
     "user_tz": -180
    },
    "id": "pfxadeN-AK7A",
    "outputId": "ff787c8f-4270-45ba-95cc-5f2146a62e1a"
   },
   "outputs": [],
   "source": [
    "df2 = df.where((df['math score']>=60)&(df['math score']<70))\n",
    "df2.head(5)"
   ]
  },
  {
   "cell_type": "markdown",
   "metadata": {
    "id": "zjSjnw6ZzrJv"
   },
   "source": [
    "Чтобы не рассматривать строки, которые содержат **NaN** (*Not-a-Number*, неопределенность), их удаляют с помощью `dropna()`. Ниже отображены те строки df, котоыре не содержат **NaN**:"
   ]
  },
  {
   "cell_type": "code",
   "execution_count": null,
   "metadata": {
    "colab": {
     "base_uri": "https://localhost:8080/",
     "height": 206
    },
    "executionInfo": {
     "elapsed": 32,
     "status": "ok",
     "timestamp": 1649245106132,
     "user": {
      "displayName": "Николай Смирнов",
      "userId": "05792503510966078252"
     },
     "user_tz": -180
    },
    "id": "Jex10lpN0KGH",
    "outputId": "e4e9f29e-a223-4103-b600-9ad497c831f2"
   },
   "outputs": [],
   "source": [
    "df.where((df['math score']>=60)&(df['math score']<70)).dropna().head(5)"
   ]
  },
  {
   "cell_type": "code",
   "execution_count": null,
   "metadata": {
    "colab": {
     "base_uri": "https://localhost:8080/",
     "height": 206
    },
    "executionInfo": {
     "elapsed": 31,
     "status": "ok",
     "timestamp": 1649245106132,
     "user": {
      "displayName": "Николай Смирнов",
      "userId": "05792503510966078252"
     },
     "user_tz": -180
    },
    "id": "sK6PnfA9AK7B",
    "outputId": "0186f8c9-b354-4b43-a69f-517f45bcaab4"
   },
   "outputs": [],
   "source": [
    "df.where((df['math score']<28)|(df['math score']>=30)).head()"
   ]
  },
  {
   "cell_type": "markdown",
   "metadata": {
    "id": "FmsTuTudnNgg"
   },
   "source": [
    "### Визуализация данных\n",
    "\n",
    "Черновой график **matplotlib** можно построить командой `.plot()`"
   ]
  },
  {
   "cell_type": "code",
   "execution_count": null,
   "metadata": {
    "colab": {
     "base_uri": "https://localhost:8080/",
     "height": 284
    },
    "executionInfo": {
     "elapsed": 453,
     "status": "ok",
     "timestamp": 1649245106556,
     "user": {
      "displayName": "Николай Смирнов",
      "userId": "05792503510966078252"
     },
     "user_tz": -180
    },
    "id": "1lj_RMn0nNgh",
    "outputId": "c9c0d82f-dfee-4584-8e7c-a948d3e426c2"
   },
   "outputs": [],
   "source": [
    "df.plot()"
   ]
  },
  {
   "cell_type": "markdown",
   "metadata": {
    "id": "AyOYXHHinNgk"
   },
   "source": [
    "В данном случае этот тип графика неинформативен, лучше воспользоваться, например, гистограммой"
   ]
  },
  {
   "cell_type": "code",
   "execution_count": null,
   "metadata": {
    "colab": {
     "base_uri": "https://localhost:8080/",
     "height": 284
    },
    "executionInfo": {
     "elapsed": 800,
     "status": "ok",
     "timestamp": 1649245107348,
     "user": {
      "displayName": "Николай Смирнов",
      "userId": "05792503510966078252"
     },
     "user_tz": -180
    },
    "id": "YFZ2Xhe3nNgl",
    "outputId": "c4cddb9e-72f3-4129-f23b-d80aa204e234"
   },
   "outputs": [],
   "source": [
    "df.plot.hist() # или df.plot(kind='hist')"
   ]
  },
  {
   "cell_type": "markdown",
   "metadata": {
    "id": "Td7LU-NYnNgm"
   },
   "source": [
    "Для большего контроля за внешним видом графика рекомендуется использовать непосредственно `matplotlib`, но для быстрого визуального осмотра данных эти методы подойдут."
   ]
  },
  {
   "cell_type": "markdown",
   "metadata": {
    "id": "aPGO5c1MA4hS"
   },
   "source": [
    "Функция reset_index позволяет задать стандартную индексацию, а текущий индекс сделать одной из колонок таблицы"
   ]
  },
  {
   "cell_type": "code",
   "execution_count": null,
   "metadata": {
    "colab": {
     "base_uri": "https://localhost:8080/",
     "height": 237
    },
    "executionInfo": {
     "elapsed": 84,
     "status": "ok",
     "timestamp": 1649245107349,
     "user": {
      "displayName": "Николай Смирнов",
      "userId": "05792503510966078252"
     },
     "user_tz": -180
    },
    "id": "W2grvdCwA4hS",
    "outputId": "cb9cd0de-68a0-4123-eaa3-76c904fadcd2"
   },
   "outputs": [],
   "source": [
    "by_parents_edu_level.size().reset_index()"
   ]
  },
  {
   "cell_type": "markdown",
   "metadata": {
    "id": "UmJ9gN5JA4hT"
   },
   "source": [
    "Используя 'drop=True' можно не сохранять старый индекс:"
   ]
  },
  {
   "cell_type": "code",
   "execution_count": null,
   "metadata": {
    "colab": {
     "base_uri": "https://localhost:8080/"
    },
    "executionInfo": {
     "elapsed": 82,
     "status": "ok",
     "timestamp": 1649245107349,
     "user": {
      "displayName": "Николай Смирнов",
      "userId": "05792503510966078252"
     },
     "user_tz": -180
    },
    "id": "J2H8F_LXA4hT",
    "outputId": "0a9777c4-4867-4926-83c2-525d89929dc6"
   },
   "outputs": [],
   "source": [
    "a = by_parents_edu_level.size().reset_index(drop=True)\n",
    "a"
   ]
  },
  {
   "cell_type": "markdown",
   "metadata": {
    "id": "V1IxR_YSA4hU"
   },
   "source": [
    "### Операции с индексом"
   ]
  },
  {
   "cell_type": "markdown",
   "metadata": {
    "id": "WGGhGACsA4hU"
   },
   "source": [
    "Указание параметра со значением `inplace=True` обеспечивает сохранение примененного преобразования в DataFrame.\n",
    "\n",
    "Создадим колонку *sum score* (сумму баллов по экзаменам) и, задав `inplace=True`, сделаем ее индексом:"
   ]
  },
  {
   "cell_type": "code",
   "execution_count": null,
   "metadata": {
    "colab": {
     "base_uri": "https://localhost:8080/",
     "height": 237
    },
    "executionInfo": {
     "elapsed": 23,
     "status": "ok",
     "timestamp": 1649245107349,
     "user": {
      "displayName": "Николай Смирнов",
      "userId": "05792503510966078252"
     },
     "user_tz": -180
    },
    "id": "9RkxTGl_A4hU",
    "outputId": "69d32859-f9d4-4d74-d9f2-07517f6a03b5"
   },
   "outputs": [],
   "source": [
    "df['sum score'] = df['math score'] + df['reading score'] + df['writing score']\n",
    "df.set_index('sum score', inplace=True)\n",
    "df.head(5)"
   ]
  },
  {
   "cell_type": "markdown",
   "metadata": {
    "id": "BX8N-2iDA4hU"
   },
   "source": [
    "Отсортируем таблицу по индексу:"
   ]
  },
  {
   "cell_type": "code",
   "execution_count": null,
   "metadata": {
    "colab": {
     "base_uri": "https://localhost:8080/",
     "height": 237
    },
    "executionInfo": {
     "elapsed": 24,
     "status": "ok",
     "timestamp": 1649245107350,
     "user": {
      "displayName": "Николай Смирнов",
      "userId": "05792503510966078252"
     },
     "user_tz": -180
    },
    "id": "NsZNPcQ-A4hV",
    "outputId": "1428c6d1-5d4f-4b0e-a575-fe8de6209428"
   },
   "outputs": [],
   "source": [
    "df.sort_index(inplace=True)\n",
    "df.head(5)"
   ]
  },
  {
   "cell_type": "code",
   "execution_count": null,
   "metadata": {
    "colab": {
     "base_uri": "https://localhost:8080/"
    },
    "executionInfo": {
     "elapsed": 23,
     "status": "ok",
     "timestamp": 1649245107351,
     "user": {
      "displayName": "Николай Смирнов",
      "userId": "05792503510966078252"
     },
     "user_tz": -180
    },
    "id": "v5uBhtYpA4hV",
    "outputId": "b8c9532e-23cb-4fd8-ed71-243d45e05d6d"
   },
   "outputs": [],
   "source": [
    "df.index  # Индекс df"
   ]
  },
  {
   "cell_type": "markdown",
   "metadata": {
    "id": "6t4zyvU97bPd"
   },
   "source": [
    "#### reset_index()\n"
   ]
  },
  {
   "cell_type": "markdown",
   "metadata": {
    "id": "pZGkaAgd7bPf"
   },
   "source": [
    "Функция `reset_index()` позволяет задать стандартную индексацию, а текущий индекс сделать одной из колонок таблицы:"
   ]
  },
  {
   "cell_type": "code",
   "execution_count": null,
   "metadata": {
    "colab": {
     "base_uri": "https://localhost:8080/",
     "height": 237
    },
    "executionInfo": {
     "elapsed": 23,
     "status": "ok",
     "timestamp": 1649245107352,
     "user": {
      "displayName": "Николай Смирнов",
      "userId": "05792503510966078252"
     },
     "user_tz": -180
    },
    "id": "U4oOTL557bPf",
    "outputId": "40d939ae-5eb5-4109-efe9-53eba61b1120"
   },
   "outputs": [],
   "source": [
    "by_parents_edu_level.size().reset_index()"
   ]
  },
  {
   "cell_type": "markdown",
   "metadata": {
    "id": "gjE8PQOR7bPg"
   },
   "source": [
    "Используя 'drop=True' можно не сохранять старый индекс:"
   ]
  },
  {
   "cell_type": "code",
   "execution_count": null,
   "metadata": {
    "colab": {
     "base_uri": "https://localhost:8080/"
    },
    "executionInfo": {
     "elapsed": 23,
     "status": "ok",
     "timestamp": 1649245107353,
     "user": {
      "displayName": "Николай Смирнов",
      "userId": "05792503510966078252"
     },
     "user_tz": -180
    },
    "id": "antn6FGc7bPi",
    "outputId": "af4e637d-2b07-4f87-b587-efe109037337"
   },
   "outputs": [],
   "source": [
    "a = by_parents_edu_level.size().reset_index(drop=True)\n",
    "a"
   ]
  },
  {
   "cell_type": "markdown",
   "metadata": {
    "id": "trAyUc_vA4hX"
   },
   "source": [
    "### Прочие функции\n",
    "\n",
    "Объединение нескольких DataFrame-ов, функция аналогична UNION в SQL:"
   ]
  },
  {
   "cell_type": "code",
   "execution_count": null,
   "metadata": {
    "colab": {
     "base_uri": "https://localhost:8080/"
    },
    "executionInfo": {
     "elapsed": 22,
     "status": "ok",
     "timestamp": 1649245107354,
     "user": {
      "displayName": "Николай Смирнов",
      "userId": "05792503510966078252"
     },
     "user_tz": -180
    },
    "id": "cNI7bYNJA4hX",
    "outputId": "a0544029-fd47-4ff7-c0de-68cf5e27238a"
   },
   "outputs": [],
   "source": [
    "pd.concat([df, df]).info()"
   ]
  },
  {
   "cell_type": "markdown",
   "metadata": {
    "id": "1jKuGnfIA4hX"
   },
   "source": [
    "Создание независимого дубликата датафрейма:"
   ]
  },
  {
   "cell_type": "code",
   "execution_count": null,
   "metadata": {
    "colab": {
     "base_uri": "https://localhost:8080/"
    },
    "executionInfo": {
     "elapsed": 23,
     "status": "ok",
     "timestamp": 1649245107355,
     "user": {
      "displayName": "Николай Смирнов",
      "userId": "05792503510966078252"
     },
     "user_tz": -180
    },
    "id": "KLTTBPuPA4hY",
    "outputId": "e38531d2-35d6-48ef-bc4a-89e988801341"
   },
   "outputs": [],
   "source": [
    "df_copy = df.copy()\n",
    "\n",
    "print(df_copy.info())\n",
    "print(f'\\ndf is df_copy is {df is df_copy}')"
   ]
  },
  {
   "cell_type": "markdown",
   "metadata": {
    "id": "YoRamQRjA4hZ"
   },
   "source": [
    "Импорт данных из Excel:"
   ]
  },
  {
   "cell_type": "code",
   "execution_count": null,
   "metadata": {
    "colab": {
     "base_uri": "https://localhost:8080/",
     "height": 175
    },
    "executionInfo": {
     "elapsed": 967,
     "status": "ok",
     "timestamp": 1649245108300,
     "user": {
      "displayName": "Николай Смирнов",
      "userId": "05792503510966078252"
     },
     "user_tz": -180
    },
    "id": "0BXHK2uUA4ha",
    "outputId": "35013e56-5403-4bf8-b13d-37a026ea8ecd"
   },
   "outputs": [],
   "source": [
    "df = pd.read_excel(gc_folder + 'pandas_data.xlsx', 0, index_col='StatusDate')\n",
    "df.head(3)"
   ]
  },
  {
   "cell_type": "code",
   "execution_count": null,
   "metadata": {
    "colab": {
     "base_uri": "https://localhost:8080/"
    },
    "executionInfo": {
     "elapsed": 120,
     "status": "ok",
     "timestamp": 1649245108301,
     "user": {
      "displayName": "Николай Смирнов",
      "userId": "05792503510966078252"
     },
     "user_tz": -180
    },
    "id": "8tLe19srA4hb",
    "outputId": "9b536b73-b2a6-4fd3-fc8f-7923d827313d"
   },
   "outputs": [],
   "source": [
    "df.index"
   ]
  },
  {
   "cell_type": "code",
   "execution_count": null,
   "metadata": {
    "colab": {
     "base_uri": "https://localhost:8080/"
    },
    "executionInfo": {
     "elapsed": 46,
     "status": "ok",
     "timestamp": 1649245108302,
     "user": {
      "displayName": "Николай Смирнов",
      "userId": "05792503510966078252"
     },
     "user_tz": -180
    },
    "id": "PiU3RNdtA4hb",
    "outputId": "0d14ad38-9689-4c09-a09b-5ea8185e56dd"
   },
   "outputs": [],
   "source": [
    "df.State.unique()"
   ]
  },
  {
   "cell_type": "markdown",
   "metadata": {
    "id": "GaVaAPayQuws"
   },
   "source": [
    "Еще примеры:"
   ]
  },
  {
   "cell_type": "code",
   "execution_count": null,
   "metadata": {
    "colab": {
     "base_uri": "https://localhost:8080/",
     "height": 175
    },
    "executionInfo": {
     "elapsed": 45,
     "status": "ok",
     "timestamp": 1649245108302,
     "user": {
      "displayName": "Николай Смирнов",
      "userId": "05792503510966078252"
     },
     "user_tz": -180
    },
    "id": "2Vyq3X0qA4hc",
    "outputId": "12054d92-ad0a-4ab5-e18d-4138e6b58558"
   },
   "outputs": [],
   "source": [
    "# Приведем названия штатов к верхнему регистру:\n",
    "df.State = df.State.apply(str.upper)\n",
    "df.head(3)"
   ]
  },
  {
   "cell_type": "code",
   "execution_count": null,
   "metadata": {
    "colab": {
     "base_uri": "https://localhost:8080/"
    },
    "executionInfo": {
     "elapsed": 44,
     "status": "ok",
     "timestamp": 1649245108303,
     "user": {
      "displayName": "Николай Смирнов",
      "userId": "05792503510966078252"
     },
     "user_tz": -180
    },
    "id": "sYV-YJ8hA4hc",
    "outputId": "a00c46ee-205c-4efb-ba4e-14f0fed98e0e"
   },
   "outputs": [],
   "source": [
    "df.State.unique()"
   ]
  },
  {
   "cell_type": "code",
   "execution_count": null,
   "metadata": {
    "colab": {
     "base_uri": "https://localhost:8080/",
     "height": 206
    },
    "executionInfo": {
     "elapsed": 44,
     "status": "ok",
     "timestamp": 1649245108304,
     "user": {
      "displayName": "Николай Смирнов",
      "userId": "05792503510966078252"
     },
     "user_tz": -180
    },
    "id": "VPxNnYn_A4hc",
    "outputId": "61372bbb-13a3-4679-cbcd-37fcad6ca85f"
   },
   "outputs": [],
   "source": [
    "# Выберем записи со статусом 1\n",
    "df[df.Status == 1]"
   ]
  },
  {
   "cell_type": "code",
   "execution_count": null,
   "metadata": {
    "colab": {
     "base_uri": "https://localhost:8080/"
    },
    "executionInfo": {
     "elapsed": 44,
     "status": "ok",
     "timestamp": 1649245108305,
     "user": {
      "displayName": "Николай Смирнов",
      "userId": "05792503510966078252"
     },
     "user_tz": -180
    },
    "id": "EQ_gb4PYA4hd",
    "outputId": "8ee9f1c0-9b30-4958-9194-9b8a69a6ee66"
   },
   "outputs": [],
   "source": [
    "# Заменим NJ на NY\n",
    "mask = df.State == 'NJ'\n",
    "df.loc[mask,('State')] = 'NY'\n",
    "df.State.unique()"
   ]
  },
  {
   "cell_type": "markdown",
   "metadata": {
    "id": "iOXCHyvYA4hd"
   },
   "source": [
    "### Агрегирующие операции agg()"
   ]
  },
  {
   "cell_type": "code",
   "execution_count": null,
   "metadata": {
    "colab": {
     "base_uri": "https://localhost:8080/",
     "height": 175
    },
    "executionInfo": {
     "elapsed": 44,
     "status": "ok",
     "timestamp": 1649245108306,
     "user": {
      "displayName": "Николай Смирнов",
      "userId": "05792503510966078252"
     },
     "user_tz": -180
    },
    "id": "MBiBGd6EA4hd",
    "outputId": "fee7dc9e-a14a-4a6b-af12-b447b39c052e"
   },
   "outputs": [],
   "source": [
    "df = pd.DataFrame({'group1':[\"a\",\"a\",\"b\",\"b\"], 'value':[10,20,30,40]})\n",
    "df"
   ]
  },
  {
   "cell_type": "markdown",
   "metadata": {
    "id": "X40fCo82TXVM"
   },
   "source": [
    "Для применения агрегирующих операций необходимо задать группировку:"
   ]
  },
  {
   "cell_type": "code",
   "execution_count": null,
   "metadata": {
    "executionInfo": {
     "elapsed": 44,
     "status": "ok",
     "timestamp": 1649245108307,
     "user": {
      "displayName": "Николай Смирнов",
      "userId": "05792503510966078252"
     },
     "user_tz": -180
    },
    "id": "7nFlfKIuA4hd"
   },
   "outputs": [],
   "source": [
    "group = df.groupby('group1')"
   ]
  },
  {
   "cell_type": "markdown",
   "metadata": {
    "id": "Cq4-nu3MT1ar"
   },
   "source": [
    "Затем применить агрегирующую операцию. В примере в качестве агрегирующих использованы операции нахождения мощности объекта `len` и суммирования 'sum'."
   ]
  },
  {
   "cell_type": "code",
   "execution_count": null,
   "metadata": {
    "colab": {
     "base_uri": "https://localhost:8080/",
     "height": 175
    },
    "executionInfo": {
     "elapsed": 44,
     "status": "ok",
     "timestamp": 1649245108308,
     "user": {
      "displayName": "Николай Смирнов",
      "userId": "05792503510966078252"
     },
     "user_tz": -180
    },
    "id": "M9zGqGoHT1hh",
    "outputId": "d6bbce48-c55d-497a-8eb9-168118e2a135"
   },
   "outputs": [],
   "source": [
    "group.agg([len,sum])"
   ]
  },
  {
   "cell_type": "markdown",
   "metadata": {
    "id": "yqIlzCtlA4hd"
   },
   "source": [
    "Можно задать собственную функцию для агрегирования:"
   ]
  },
  {
   "cell_type": "code",
   "execution_count": null,
   "metadata": {
    "colab": {
     "base_uri": "https://localhost:8080/",
     "height": 175
    },
    "executionInfo": {
     "elapsed": 43,
     "status": "ok",
     "timestamp": 1649245108308,
     "user": {
      "displayName": "Николай Смирнов",
      "userId": "05792503510966078252"
     },
     "user_tz": -180
    },
    "id": "bmlV5duCA4he",
    "outputId": "c719bb37-ecde-4d32-aafe-2a4c25dceed3"
   },
   "outputs": [],
   "source": [
    "def my_mean(arr):\n",
    "    return arr.mean()\n",
    "\n",
    "df.groupby('group1').agg([my_mean])"
   ]
  },
  {
   "cell_type": "code",
   "execution_count": null,
   "metadata": {
    "colab": {
     "base_uri": "https://localhost:8080/",
     "height": 175
    },
    "executionInfo": {
     "elapsed": 43,
     "status": "ok",
     "timestamp": 1649245108309,
     "user": {
      "displayName": "Николай Смирнов",
      "userId": "05792503510966078252"
     },
     "user_tz": -180
    },
    "id": "CiwdBw4aA4he",
    "outputId": "1ab1a40a-dddf-4e41-86bc-ebf4a130e823"
   },
   "outputs": [],
   "source": [
    "df"
   ]
  },
  {
   "cell_type": "markdown",
   "metadata": {
    "id": "sVw6j7IiVY00"
   },
   "source": [
    "### transform()"
   ]
  },
  {
   "cell_type": "markdown",
   "metadata": {
    "id": "gakXfAzaVC5Z"
   },
   "source": [
    "Результаты агрегирования не сохраняются в `DataFrame`. Для сохранения результатов агрегирования можно применить метод `transform()`"
   ]
  },
  {
   "cell_type": "code",
   "execution_count": null,
   "metadata": {
    "colab": {
     "base_uri": "https://localhost:8080/",
     "height": 175
    },
    "executionInfo": {
     "elapsed": 41,
     "status": "ok",
     "timestamp": 1649245108310,
     "user": {
      "displayName": "Николай Смирнов",
      "userId": "05792503510966078252"
     },
     "user_tz": -180
    },
    "id": "C32ddngYA4he",
    "outputId": "50dd4f4e-207d-427d-9413-e35da99e9acf"
   },
   "outputs": [],
   "source": [
    "group = df.groupby('group1')  # Применяем группировку\n",
    "df['value.sum'] = group.transform('sum')  # Примеяем агрегирующую операцию sum, результат сохраняем в 'value.sum' столбец df\n",
    "df['value.my_mean'] = group.transform(my_mean)  # Примеяем агрегирующую операцию my_mean, результат сохраняем в 'value.my_mean' столбец df\n",
    "df"
   ]
  },
  {
   "cell_type": "code",
   "execution_count": null,
   "metadata": {
    "executionInfo": {
     "elapsed": 41,
     "status": "ok",
     "timestamp": 1649245108311,
     "user": {
      "displayName": "Николай Смирнов",
      "userId": "05792503510966078252"
     },
     "user_tz": -180
    },
    "id": "AXYy7xUiA4hf"
   },
   "outputs": [],
   "source": []
  },
  {
   "cell_type": "markdown",
   "metadata": {
    "id": "JQ-VdmGclb7O"
   },
   "source": [
    "### Задача DataFrame_4. \n",
    "\n"
   ]
  },
  {
   "cell_type": "code",
   "execution_count": null,
   "metadata": {
    "colab": {
     "base_uri": "https://localhost:8080/",
     "height": 143
    },
    "executionInfo": {
     "elapsed": 41,
     "status": "ok",
     "timestamp": 1649245108311,
     "user": {
      "displayName": "Николай Смирнов",
      "userId": "05792503510966078252"
     },
     "user_tz": -180
    },
    "id": "XAJ3ZeZHqDpD",
    "outputId": "e4c2f71c-2359-486d-86d7-c24007ee3755"
   },
   "outputs": [],
   "source": [
    "# Рассмотрим набор оценок на экзаменах по математике и физике студентов двух групп:\n",
    "import random\n",
    "df_marks = pd.DataFrame({'group': [\"group_A\" if random.random()>0.5 else \"group_B\" for i in range(12)], \n",
    "                         'math score': [random.randint(40,100) for _ in range(12)], \n",
    "                         'physics score': [random.randint(40,100) for _ in range(12)]})\n",
    "df_marks.head(3)"
   ]
  },
  {
   "cell_type": "markdown",
   "metadata": {
    "id": "YspYWPpblb7R"
   },
   "source": [
    "  1.  Из набора данных `df_marks` получить выборку студентов у которых по всем экзаменам набрано более 60 баллов. Результат сохранить в df_marks2.\n",
    "\n",
    "  2. В df_marks2 произвести группировку по группе ученика (по значению в столбце *group*). После, используя операцию агрегации, получить для каждой группы среднее значение оценки за каждый экзамен и его разделить на 100.\n"
   ]
  },
  {
   "cell_type": "code",
   "execution_count": null,
   "metadata": {
    "executionInfo": {
     "elapsed": 41,
     "status": "ok",
     "timestamp": 1649245108932,
     "user": {
      "displayName": "Николай Смирнов",
      "userId": "05792503510966078252"
     },
     "user_tz": -180
    },
    "id": "iWFG15J8lb7T"
   },
   "outputs": [],
   "source": [
    "# Напишите свой код в данной ячейке\n"
   ]
  },
  {
   "cell_type": "markdown",
   "metadata": {
    "id": "iNb_ZTMWlb7V"
   },
   "source": [
    "[Посмотреть ответ на задачу](#DataFrame_4)"
   ]
  },
  {
   "cell_type": "markdown",
   "metadata": {
    "id": "PMWubMKTerg_"
   },
   "source": [
    "# Ответы на задачи"
   ]
  },
  {
   "cell_type": "markdown",
   "metadata": {
    "id": "Re6lxzQkexKH"
   },
   "source": [
    "<a name=\"Series_1\"></a>\n",
    "# Ответ на задачу Series_1"
   ]
  },
  {
   "cell_type": "code",
   "execution_count": null,
   "metadata": {
    "colab": {
     "base_uri": "https://localhost:8080/"
    },
    "executionInfo": {
     "elapsed": 269,
     "status": "ok",
     "timestamp": 1649245201053,
     "user": {
      "displayName": "Николай Смирнов",
      "userId": "05792503510966078252"
     },
     "user_tz": -180
    },
    "id": "EnuodnshkKcj",
    "outputId": "7d129fe0-18ce-4d57-bad7-b7cf37c6ef5b"
   },
   "outputs": [],
   "source": [
    "from random import randint\n",
    "name_mas = ['Александр', 'Борис', 'Владимир', 'Дмитрий', 'Григорий', 'Евгений', 'Игорь', 'Клим', 'Леонид', 'Максим']\n",
    "one_mark = pd.Series([randint(2,5) for _ in range(len(name_mas))], index=name_mas)\n",
    "one_mark.name = \"Оценка по алгебре\"\n",
    "print(one_mark, '\\n')\n",
    "\n",
    "one_mark['Максим'] += 1\n",
    "print(f\"Оценка Максима стала = {one_mark['Максим']}\\n\")\n",
    "\n",
    "print(f'Ученики с оценкой не меньше 4:\\n{one_mark[one_mark>=4]}')"
   ]
  },
  {
   "cell_type": "markdown",
   "metadata": {
    "id": "CW3C5apftJDv"
   },
   "source": [
    "<a name=\"DataFrame_1\"></a>\n",
    "# Ответ на задачу DataFrame_1"
   ]
  },
  {
   "cell_type": "code",
   "execution_count": null,
   "metadata": {
    "colab": {
     "base_uri": "https://localhost:8080/",
     "height": 363
    },
    "executionInfo": {
     "elapsed": 6,
     "status": "ok",
     "timestamp": 1649245202183,
     "user": {
      "displayName": "Николай Смирнов",
      "userId": "05792503510966078252"
     },
     "user_tz": -180
    },
    "id": "C8khvJsDtFW0",
    "outputId": "5405509c-718a-403a-db18-a4320a541de0"
   },
   "outputs": [],
   "source": [
    "from random import randint\n",
    "name_mas = ['Александр', 'Борис', 'Владимир', 'Дмитрий', 'Григорий', 'Евгений', 'Игорь', 'Клим', 'Леонид', 'Максим']\n",
    "exam_name = ['Алгебра', 'Геометрия', 'Физика']\n",
    "\n",
    "marks_a = [randint(2,5) for _ in range(len(name_mas))]  # Генерируем оценки по алгебре\n",
    "marks_g = [randint(2,5) for _ in range(len(name_mas))]  # Генерируем оценки по геометрии\n",
    "marks_p = [randint(2,5) for _ in range(len(name_mas))]  # Генерируем оценки по физике\n",
    "data = list(zip(marks_a, marks_g, marks_p))\n",
    "\n",
    "marks = pd.DataFrame(data, columns=exam_name, index=name_mas)\n",
    "marks"
   ]
  },
  {
   "cell_type": "markdown",
   "metadata": {
    "id": "OpbVU84Ytbb-"
   },
   "source": [
    "<a name=\"DataFrame_2\"></a>\n",
    "# Ответ на задачу DataFrame_2"
   ]
  },
  {
   "cell_type": "code",
   "execution_count": null,
   "metadata": {
    "colab": {
     "base_uri": "https://localhost:8080/"
    },
    "executionInfo": {
     "elapsed": 293,
     "status": "ok",
     "timestamp": 1649245203016,
     "user": {
      "displayName": "Николай Смирнов",
      "userId": "05792503510966078252"
     },
     "user_tz": -180
    },
    "id": "7TNUUmevtbb_",
    "outputId": "8885ee65-7511-4d8f-a98d-f3497fbd93b8"
   },
   "outputs": [],
   "source": [
    "print(marks)\n",
    "marks['Геометрия'] -= 1\n",
    "marks.loc['Максим'] += 1\n",
    "marks.loc['Борис', 'Алгебра'] = 5\n",
    "marks.iloc[:, 2] = 4\n",
    "\n",
    "print(marks)"
   ]
  },
  {
   "cell_type": "markdown",
   "metadata": {
    "id": "9AEy2Ef6z7ZN"
   },
   "source": [
    "<a name=\"DataFrame_3\"></a>\n",
    "# Ответ на задачу DataFrame_3"
   ]
  },
  {
   "cell_type": "code",
   "execution_count": null,
   "metadata": {
    "colab": {
     "base_uri": "https://localhost:8080/"
    },
    "executionInfo": {
     "elapsed": 5,
     "status": "ok",
     "timestamp": 1649245203299,
     "user": {
      "displayName": "Николай Смирнов",
      "userId": "05792503510966078252"
     },
     "user_tz": -180
    },
    "id": "e_R7JiXCeNXQ",
    "outputId": "347ef904-8388-40b0-b4c9-6db371c49555"
   },
   "outputs": [],
   "source": [
    "# 1\n",
    "df['Средний балл'] = (df['math score'] + df['reading score'] + df['writing score'])/3\n",
    "print(df.head(3))\n",
    "\n",
    "# 2\n",
    "df_grouped_gender = df.groupby('gender', as_index=False)\n",
    "print('Наименьший средний балл =\\n', df_grouped_gender['Средний балл'].min(), '\\n')\n",
    "print('Наибольший средний балл =\\n', df_grouped_gender['Средний балл'].max(), '\\n')\n",
    "print('Среднее значение среднего балла =\\n', df_grouped_gender['Средний балл'].mean(), '\\n')\n"
   ]
  },
  {
   "cell_type": "markdown",
   "metadata": {
    "id": "cSgWb1rbhNRp"
   },
   "source": [
    "<a name=\"DataFrame_4\"></a>\n",
    "# Ответ на задачу DataFrame_4"
   ]
  },
  {
   "cell_type": "code",
   "execution_count": null,
   "metadata": {
    "colab": {
     "base_uri": "https://localhost:8080/",
     "height": 175
    },
    "executionInfo": {
     "elapsed": 311,
     "status": "ok",
     "timestamp": 1642890389999,
     "user": {
      "displayName": "Николай Смирнов",
      "photoUrl": "https://lh3.googleusercontent.com/a/default-user=s64",
      "userId": "05792503510966078252"
     },
     "user_tz": -180
    },
    "id": "xhitPYKHhNRu",
    "outputId": "c4c858f0-97ad-4699-9b64-dfbd33d1a8a1"
   },
   "outputs": [],
   "source": [
    "# Ответ на 1:\n",
    "df_marks.where((df_marks['math score']>=75)&(df_marks['physics score']<75)).dropna().head()\n",
    "\n",
    "# Ответ на 2:\n",
    "def mean_div_100(arr):\n",
    "    return arr.mean() / 100\n",
    "\n",
    "df_marks.groupby('group').agg([mean_div_100])"
   ]
  }
 ],
 "metadata": {
  "colab": {
   "collapsed_sections": [
    "UhJ-wLBvA4gZ",
    "IoDWX58hedPX",
    "qbtyHtdBA4go",
    "MPgVgDUTnXqw",
    "F7p4R7ElC5nl",
    "Re6lxzQkexKH",
    "CW3C5apftJDv",
    "OpbVU84Ytbb-",
    "9AEy2Ef6z7ZN",
    "cSgWb1rbhNRp"
   ],
   "name": "42_pandas.ipynb",
   "provenance": []
  },
  "kernelspec": {
   "display_name": "Python 3",
   "language": "python",
   "name": "python3"
  },
  "language_info": {
   "codemirror_mode": {
    "name": "ipython",
    "version": 3
   },
   "file_extension": ".py",
   "mimetype": "text/x-python",
   "name": "python",
   "nbconvert_exporter": "python",
   "pygments_lexer": "ipython3",
   "version": "3.8.8"
  }
 },
 "nbformat": 4,
 "nbformat_minor": 4
}
