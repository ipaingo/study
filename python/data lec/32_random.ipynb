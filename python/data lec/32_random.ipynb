{
 "cells": [
  {
   "cell_type": "markdown",
   "metadata": {
    "id": "rblIZnlRzyMy"
   },
   "source": [
    "# Модуль random"
   ]
  },
  {
   "cell_type": "code",
   "execution_count": null,
   "metadata": {
    "id": "Ihy6ri7ZzyMy"
   },
   "outputs": [],
   "source": [
    "import random"
   ]
  },
  {
   "cell_type": "markdown",
   "metadata": {
    "id": "X5Mla_oozyMy"
   },
   "source": [
    "Модуль **random** предоставляет функции, генерирующие *псевдослучайные* числа, а также *псевдослучайные* числа в соответствии с заданным законом распределения. \n",
    "\n",
    "Если непонятен термин *псевдослучайное*, то можете понимать его как *случайное*. В рамках нашего курса это не будет ошибкой.\n",
    "\n",
    "Функции **random()** с помощью генератора *Вихрь Мерсенна* генерирует псевдослучайные числа, равномерно распределенные по диапазону `[0.0, 1.0)`.\n",
    "\n",
    "**seed([x])** - Инициализирует  генератор  случайных  чисел.  При  вызове  без  аргумента или со значением `None` в аргументе `x`, генератор инициализируется значением системного времени. Если аргумент `x` не является целым числом, то в качестве инициализирующего значения будет использоваться результат вызова функции **hash(x)**."
   ]
  },
  {
   "cell_type": "code",
   "execution_count": null,
   "metadata": {
    "colab": {
     "base_uri": "https://localhost:8080/"
    },
    "executionInfo": {
     "elapsed": 297,
     "status": "ok",
     "timestamp": 1643706188669,
     "user": {
      "displayName": "Николай Смирнов",
      "photoUrl": "https://lh3.googleusercontent.com/a/default-user=s64",
      "userId": "05792503510966078252"
     },
     "user_tz": -180
    },
    "id": "VDCKA9GuzyMy",
    "outputId": "dc1bc0fe-baf7-4ae4-8f90-697ef5fd9155"
   },
   "outputs": [],
   "source": [
    "random.random()  # Псевдослучайное число от 0 до 1"
   ]
  },
  {
   "cell_type": "code",
   "execution_count": null,
   "metadata": {
    "colab": {
     "base_uri": "https://localhost:8080/"
    },
    "executionInfo": {
     "elapsed": 352,
     "status": "ok",
     "timestamp": 1643706191539,
     "user": {
      "displayName": "Николай Смирнов",
      "photoUrl": "https://lh3.googleusercontent.com/a/default-user=s64",
      "userId": "05792503510966078252"
     },
     "user_tz": -180
    },
    "id": "Mo63_NE_zyMy",
    "outputId": "9928d5fa-2ca0-48ae-e342-12a148921de4"
   },
   "outputs": [],
   "source": [
    "for i in range(10):  # Сгенерируем 10 псевдослучайных чисел от 0 до 1\n",
    "    print(random.random())"
   ]
  },
  {
   "cell_type": "markdown",
   "metadata": {
    "id": "DLLjH0Toi4-j"
   },
   "source": [
    "С помощью `seed(20)` инициализируем генератор 20 псевдослучайных чисел:"
   ]
  },
  {
   "cell_type": "code",
   "execution_count": null,
   "metadata": {
    "colab": {
     "base_uri": "https://localhost:8080/"
    },
    "executionInfo": {
     "elapsed": 291,
     "status": "ok",
     "timestamp": 1643706625949,
     "user": {
      "displayName": "Николай Смирнов",
      "photoUrl": "https://lh3.googleusercontent.com/a/default-user=s64",
      "userId": "05792503510966078252"
     },
     "user_tz": -180
    },
    "id": "ac3gSpixzyMy",
    "outputId": "79fe279d-05ca-4646-a0f9-fb802a1efacf"
   },
   "outputs": [],
   "source": [
    "random.seed(20)  \n",
    "for i in range(10):\n",
    "    print(i, random.random())  # Выводим на экран порядковое число и псевдослучайное"
   ]
  },
  {
   "cell_type": "markdown",
   "metadata": {
    "id": "EzHuN62DjGO0"
   },
   "source": [
    "Заново инициализируем генератор 20 псевдослучайных чисел и получаем такие же как в предыдущем блоке значения:"
   ]
  },
  {
   "cell_type": "code",
   "execution_count": null,
   "metadata": {
    "colab": {
     "base_uri": "https://localhost:8080/"
    },
    "executionInfo": {
     "elapsed": 282,
     "status": "ok",
     "timestamp": 1643706623139,
     "user": {
      "displayName": "Николай Смирнов",
      "photoUrl": "https://lh3.googleusercontent.com/a/default-user=s64",
      "userId": "05792503510966078252"
     },
     "user_tz": -180
    },
    "id": "FVZeUk5mjGXS",
    "outputId": "e838d0b8-97b5-4c9c-8c0a-db6e4450aab6"
   },
   "outputs": [],
   "source": [
    "random.seed(20)\n",
    "for i in range(10):\n",
    "    print(i, random.random())"
   ]
  },
  {
   "cell_type": "markdown",
   "metadata": {
    "id": "beaq6iRWzyMz"
   },
   "source": [
    "**getstate()** - Возвращает  объект,  представляющий  текущее состояние  генератора. Позднее этот объект можно передать функции **setstate()**, чтобы восстановить состояние генератора.\n",
    "\n",
    "**setstate(state)** - Восстанавливает состояние генератора случайных чисел из объекта, полученного в результате вызова функции **getstate()**."
   ]
  },
  {
   "cell_type": "code",
   "execution_count": null,
   "metadata": {
    "colab": {
     "base_uri": "https://localhost:8080/"
    },
    "executionInfo": {
     "elapsed": 293,
     "status": "ok",
     "timestamp": 1643706708805,
     "user": {
      "displayName": "Николай Смирнов",
      "photoUrl": "https://lh3.googleusercontent.com/a/default-user=s64",
      "userId": "05792503510966078252"
     },
     "user_tz": -180
    },
    "id": "KYqqPvv8zyMz",
    "outputId": "9961ab93-e081-4a0c-8cf7-2296f05880ad"
   },
   "outputs": [],
   "source": [
    "random.seed(20)\n",
    "state = random.getstate()  # Возвращает объект с текущим внутренним состоянием генератора псевдослучайных чисел.\n",
    "for i in range(5):\n",
    "    print(i, random.random())\n",
    "print('reset state')\n",
    "random.setstate(state)  # Восстанавливаем состояние генератора\n",
    "print(random.random())"
   ]
  },
  {
   "cell_type": "markdown",
   "metadata": {
    "id": "XbdycDYlzyMz"
   },
   "source": [
    "## Случайные целые числа \n",
    "\n",
    "**getrandbits(k)** - Создает длинное целое число, состоящее из `k` случайных битов.\n",
    "\n",
    "**randint(a,b)** - Возвращает случайное целое число `x`: $\\text{a} \\leq \\text{x} \\leq \\text{b}$.\n",
    "\n",
    "**randrange(start,stop [,step])** - Возвращает случайное целое число в диапазоне `(start,stop)` с шагом `step`. Не включая значение `stop`."
   ]
  },
  {
   "cell_type": "code",
   "execution_count": null,
   "metadata": {
    "colab": {
     "base_uri": "https://localhost:8080/"
    },
    "executionInfo": {
     "elapsed": 446,
     "status": "ok",
     "timestamp": 1643706746695,
     "user": {
      "displayName": "Николай Смирнов",
      "photoUrl": "https://lh3.googleusercontent.com/a/default-user=s64",
      "userId": "05792503510966078252"
     },
     "user_tz": -180
    },
    "id": "DKqfCJ9MzyMz",
    "outputId": "f468b9fa-8397-42d7-c230-44ebbcd39a1a"
   },
   "outputs": [],
   "source": [
    "random.getrandbits(10)  # Число, состоящее из 10 бит (диапазон возможных чисел: 512-1023)"
   ]
  },
  {
   "cell_type": "code",
   "execution_count": null,
   "metadata": {
    "colab": {
     "base_uri": "https://localhost:8080/"
    },
    "executionInfo": {
     "elapsed": 12,
     "status": "ok",
     "timestamp": 1643706761751,
     "user": {
      "displayName": "Николай Смирнов",
      "photoUrl": "https://lh3.googleusercontent.com/a/default-user=s64",
      "userId": "05792503510966078252"
     },
     "user_tz": -180
    },
    "id": "qKlLdUF9zyMz",
    "outputId": "f2512765-cd92-4f8f-9325-a2386cda9de3"
   },
   "outputs": [],
   "source": [
    "random.randint(1, 5)  # Случайное целое число от 1 до 5"
   ]
  },
  {
   "cell_type": "code",
   "execution_count": null,
   "metadata": {
    "colab": {
     "base_uri": "https://localhost:8080/"
    },
    "executionInfo": {
     "elapsed": 7,
     "status": "ok",
     "timestamp": 1643706794683,
     "user": {
      "displayName": "Николай Смирнов",
      "photoUrl": "https://lh3.googleusercontent.com/a/default-user=s64",
      "userId": "05792503510966078252"
     },
     "user_tz": -180
    },
    "id": "xnpdHQyczyM0",
    "outputId": "10e56afc-9c46-4281-e92c-83be9e1d5d58"
   },
   "outputs": [],
   "source": [
    "random.randrange(0, 10, 3)  # Случайное целое число из 0, 3, 6, 9"
   ]
  },
  {
   "cell_type": "markdown",
   "metadata": {
    "id": "XfJR8CPS9eRO"
   },
   "source": [
    "###Задача 1\n",
    "Сгенерируйте 10 целых чисел в промежутке от 50 до 70. <br>\n",
    "Выведите их на экран."
   ]
  },
  {
   "cell_type": "code",
   "execution_count": null,
   "metadata": {
    "id": "bsQrLUQVPQCB"
   },
   "outputs": [],
   "source": [
    "# Напишите свой код в данной ячейке\n"
   ]
  },
  {
   "cell_type": "markdown",
   "metadata": {
    "id": "L0WZoJm59fFE"
   },
   "source": [
    "[Посмотреть ответ на задачу](#exercise_1)"
   ]
  },
  {
   "cell_type": "markdown",
   "metadata": {
    "id": "Ie6vIbtNzyM0"
   },
   "source": [
    "## Случайные последовательности\n",
    "\n",
    "**choice(seq)** - Возвращает случайный элемент из непустой последовательности `seq`.\n",
    "\n",
    "**sample(s, len)** - Возвращает  последовательность  длиной  `len`,  содержащую  элементы  последовательности `s`, выбранные случайным образом. Элементы в этой последовательности располагаются в том порядке, в каком они были отобраны.\n",
    "\n",
    "**shuffle(x)** - Случайным образом перемешивает элементы в списке `x`. "
   ]
  },
  {
   "cell_type": "code",
   "execution_count": null,
   "metadata": {
    "id": "GpCzEAXRzyM0"
   },
   "outputs": [],
   "source": [
    "a = [1, 2, 3, 4, 5, 6, 7, 8, 9, 0]"
   ]
  },
  {
   "cell_type": "code",
   "execution_count": null,
   "metadata": {
    "id": "r-vqqPfWzyM0",
    "outputId": "09131f05-9bd9-4cef-d79c-12daca14a467"
   },
   "outputs": [],
   "source": [
    "random.choice(a)  # Выбираем случайный элемент из a"
   ]
  },
  {
   "cell_type": "code",
   "execution_count": null,
   "metadata": {
    "id": "dagQ91jezyM1",
    "outputId": "089e2f46-a7b0-44d1-f5e5-3a0991c1eff8"
   },
   "outputs": [],
   "source": [
    "random.sample(a, 3)  # Создает выборку из a длиной 3 элемента"
   ]
  },
  {
   "cell_type": "markdown",
   "metadata": {
    "id": "nlDXf3KEzyM1"
   },
   "source": [
    "Обратите внимание что **shuffle** перемешивает элементы внутри списка, а не создает новый."
   ]
  },
  {
   "cell_type": "code",
   "execution_count": null,
   "metadata": {
    "id": "cQRhlZhvzyM1",
    "outputId": "c2da1982-493b-451b-b065-f1c7ab97edae"
   },
   "outputs": [],
   "source": [
    "random.shuffle(a)\n",
    "print(a)"
   ]
  },
  {
   "cell_type": "markdown",
   "metadata": {
    "id": "-6y9rL5usp0d"
   },
   "source": [
    "###Задача 2\n",
    "Сгенерируйте 10 целых чисел в промежутке от 0 до 100. <br>\n",
    "Выведите их на экран<br>\n",
    "Затем перемешайте числа с помощью функции **shuffle** и снова выведите на экран."
   ]
  },
  {
   "cell_type": "code",
   "execution_count": null,
   "metadata": {
    "id": "wyNoYpnVsp0d"
   },
   "outputs": [],
   "source": [
    "# Напишите свой код в данной ячейке\n"
   ]
  },
  {
   "cell_type": "markdown",
   "metadata": {
    "id": "EqcA_Bnusp0d"
   },
   "source": [
    "[Посмотреть ответ на задачу](#exercise_2)"
   ]
  },
  {
   "cell_type": "markdown",
   "metadata": {
    "id": "h4YbAn4YzyM1"
   },
   "source": [
    "## Распределения случайных вещественных чисел\n",
    " \n",
    "Имена параметров  и  названия  законов  распределения соответствуют  стандартным названиям, используемым в теории вероятностей и в математической статистике.\n",
    "\n",
    "**random()** - Возвращает случайное число в диапазоне `[0.0, 1.0)`.\n",
    "\n",
    "**uniform(a,b)** - Равномерное распределение. Возвращает числа в диапазоне `[a, b)`.\n",
    "\n",
    "**betavariate(alpha, beta)** - Бета-распределение. Возвращает числа в диапазоне от 0 до 1. $\\text{alpha} > -1$ и $\\text{beta} > -1$.\n",
    "\n",
    "**cunifvariate(mean, arc)** - Круговое равномерное распределение, \n",
    "- `mean` -  средний угол, \n",
    "- `arc` - ширина диапазона распределения относительно среднего угла. Оба эти значения указываются в радианах, в диапазоне от 0 до $\\pi$. Возвращает значения в диапазоне $(\\text{mean} - \\frac {\\text{arc}} {2} ,\\text{mean} + \\frac {\\text{arc}} {2})$.\n",
    "\n",
    "**expovariate(lambd)** - Экспоненциальное распределение. В аргументе `lambd` передается значение, полученное делением 1.0 на желаемое среднее значение. Возвращает значения в диапазоне `[0, +Inf)`.\n",
    "\n",
    "**gammavariate(alpha, beta)** - Гамма-распределение. `alpha > -1`, `beta > 0`.\n",
    "\n",
    "**gauss(mu, sigma)** - Гауссово распределение со средним значением `mu` и стандартным отклонением `sigma`. Выполняется немного быстрее, чем функция `normalvariate()`.\n",
    "\n",
    "**lognormvariate(mu, sigma)** - Логарифмически нормальное распределение, то есть нормальное распределение логарифмов чисел, со средним значением `mu` и стандартным отклонением `sigma`.\n",
    "\n",
    "**normalvariate(mu, sigma)** - Нормальное распределение со средним значением `mu` и стандартным отклонением `sigma`.\n",
    "\n",
    "**paretovariate(alpha)** - Распределение Парето с параметром формы `alpha`.\n",
    "\n",
    "**triangular([low [, high [, mode]]])** - Треугольное  распределение  на  отрезке  `[low,  high)`  с  модальным  значением `mode`. По умолчанию аргумент `low` имеет значение 0, `high` - значение 1.0, а `mode` - значение посередине между `low` и `high`.\n",
    "\n",
    "**vonmisesvariate(mu, kappa)** - Распределение фон Мизеса, где `mu` - средний угол в радианах между $0$ и $2\\pi$, а `kappa` - неотрицательный коэффициент концентрации. Если аргумент `kappa` имеет нулевое значение, распределение фон Мизеса вырождается до равномерного распределения угла в диапазоне  от $0$ до $2\\pi$.\n",
    "\n",
    "**weibullvariate(alpha, beta)** - Распределение Вейбулла с параметром масштабирования `alpha` и параметром формы `beta`."
   ]
  },
  {
   "cell_type": "markdown",
   "metadata": {
    "id": "cFZWbBjMtr-b"
   },
   "source": [
    "###Задача 3\n",
    "Сгенерируйте 10 чисел со *нормальным распределением*, *средним значением* 5 и *стандартным отклонением* 0.5 с помощью функции `normalvariate()`. <br>\n",
    "Выведите сгенерированные числа на экран."
   ]
  },
  {
   "cell_type": "code",
   "execution_count": null,
   "metadata": {
    "id": "faTa2wIstr-h"
   },
   "outputs": [],
   "source": [
    "# Напишите свой код в данной ячейке\n"
   ]
  },
  {
   "cell_type": "markdown",
   "metadata": {
    "id": "M4-YDukitr-h"
   },
   "source": [
    "[Посмотреть ответ на задачу](#exercise_3)"
   ]
  },
  {
   "cell_type": "markdown",
   "metadata": {
    "id": "eYd25ltvzyM2"
   },
   "source": [
    "## Примечания\n",
    "\n",
    "**Функции** в этом модуле не предназначены для работы в *многопоточных* приложениях. В случае необходимости генерировать случайные числа в различных потоках выполнения, следует использовать механизм блокировок, чтобы предотвратить одновременный доступ.\n",
    "\n",
    "Период генератора случайных чисел (длина последовательности чисел, прежде чем она начнет повторяться) составляет `2**19937–1`.\n",
    "\n",
    "Случайные  числа,  генерируемые  этим  модулем,  можно  предсказать, и потому они не должны использоваться в криптографических алгоритмах. \n",
    "\n",
    "Имеется возможность создавать новые генераторы случайных чисел за счет создания производных классов от `random.Random` и реализации методов `random()`, `seed()`, `getstate()`, `setstate()` и `jumpahead()`. Все остальные функции в этом модуле в действительности опираются на использование методов класса `Random`. То есть к ним можно обращаться как к методам экземпляра нового генератора случайных чисел."
   ]
  },
  {
   "cell_type": "markdown",
   "metadata": {
    "id": "9AgtmJE8saca"
   },
   "source": [
    "# Ответы на задачи:\n"
   ]
  },
  {
   "cell_type": "markdown",
   "metadata": {
    "id": "K7vk2mb26tab"
   },
   "source": [
    "<a name=\"exercise_1\"></a>\n",
    "# Ответ на задачу 1 (про четные числа)"
   ]
  },
  {
   "cell_type": "code",
   "execution_count": null,
   "metadata": {
    "colab": {
     "base_uri": "https://localhost:8080/"
    },
    "executionInfo": {
     "elapsed": 5,
     "status": "ok",
     "timestamp": 1643709180130,
     "user": {
      "displayName": "Григорий Рего",
      "photoUrl": "https://lh3.googleusercontent.com/a/default-user=s64",
      "userId": "17666688826286004808"
     },
     "user_tz": -180
    },
    "id": "VhSECjZfPQCh",
    "outputId": "c19724dc-dbaf-4c07-9995-962b1abe5b28"
   },
   "outputs": [],
   "source": [
    "import random\n",
    "for i in range(10):\n",
    "  print(random.randint(50,70))"
   ]
  },
  {
   "cell_type": "markdown",
   "metadata": {
    "id": "fmMhVUh8sN7E"
   },
   "source": [
    "<a name=\"exercise_2\"></a>\n",
    "# Ответ на задачу 2"
   ]
  },
  {
   "cell_type": "code",
   "execution_count": null,
   "metadata": {
    "colab": {
     "base_uri": "https://localhost:8080/"
    },
    "executionInfo": {
     "elapsed": 441,
     "status": "ok",
     "timestamp": 1643725501144,
     "user": {
      "displayName": "Николай Смирнов",
      "photoUrl": "https://lh3.googleusercontent.com/a/default-user=s64",
      "userId": "05792503510966078252"
     },
     "user_tz": -180
    },
    "id": "OuNPUORJsN7F",
    "outputId": "01da7e58-af4b-4383-e073-26417e17db88"
   },
   "outputs": [],
   "source": [
    "sequence = [random.randint(0,100) for _ in range(10)]\n",
    "print(sequence)\n",
    "\n",
    "random.shuffle(sequence)\n",
    "print(sequence)\n"
   ]
  },
  {
   "cell_type": "markdown",
   "metadata": {
    "id": "0HeVytuUsOD7"
   },
   "source": [
    "<a name=\"exercise_3\"></a>\n",
    "# Ответ на задачу 3"
   ]
  },
  {
   "cell_type": "code",
   "execution_count": null,
   "metadata": {
    "colab": {
     "base_uri": "https://localhost:8080/"
    },
    "executionInfo": {
     "elapsed": 395,
     "status": "ok",
     "timestamp": 1643725654621,
     "user": {
      "displayName": "Николай Смирнов",
      "photoUrl": "https://lh3.googleusercontent.com/a/default-user=s64",
      "userId": "05792503510966078252"
     },
     "user_tz": -180
    },
    "id": "IL3Ptu-jsOD8",
    "outputId": "8293e4f7-0f41-4fd0-ffb2-ba0b6d8ee70d"
   },
   "outputs": [],
   "source": [
    "import random\n",
    "normal_sequence = [random.normalvariate(5, 0.5) for _ in range(10)]\n",
    "print(normal_sequence)"
   ]
  }
 ],
 "metadata": {
  "colab": {
   "collapsed_sections": [
    "rblIZnlRzyMy",
    "K7vk2mb26tab",
    "fmMhVUh8sN7E",
    "0HeVytuUsOD7"
   ],
   "name": "32_random.ipynb",
   "provenance": []
  },
  "kernelspec": {
   "display_name": "Python 3",
   "language": "python",
   "name": "python3"
  },
  "language_info": {
   "codemirror_mode": {
    "name": "ipython",
    "version": 3
   },
   "file_extension": ".py",
   "mimetype": "text/x-python",
   "name": "python",
   "nbconvert_exporter": "python",
   "pygments_lexer": "ipython3",
   "version": "3.8.8"
  }
 },
 "nbformat": 4,
 "nbformat_minor": 4
}
