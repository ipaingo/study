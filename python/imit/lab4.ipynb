{
 "cells": [
  {
   "cell_type": "markdown",
   "metadata": {},
   "source": [
    "# Лаборная работа 4"
   ]
  },
  {
   "cell_type": "markdown",
   "metadata": {},
   "source": [
    "### Задание"
   ]
  },
  {
   "cell_type": "markdown",
   "metadata": {},
   "source": [
    "Объект движется на плоскости $\\mathbb{R}^2$ согласно следующему закону:\n",
    "$$\n",
    "\\mathbf{x}_{n+1}=\\mathbf{A} \\mathbf{x}_n+\\mathbf{B} \\mathbf{u}_n+\\mathbf{C} \\mathbf{w}_{n+1}\n",
    "$$\n",
    "\n",
    "где\n",
    "- $\\mathbf{x}_n=\\left(x_n^1, \\dot{x}_n^1, \\ddot{x}_n^1, x_n^2, \\dot{x}_n^2, \\ddot{x}_n^2\\right)$ - вектор состояния отслеживаемого объекта: $\\left(x_n^1, x_n^2\\right)$ - координаты объекта; $\\left(\\dot{x}_n^1, \\dot{x}_n^2\\right)$ - вектор скорости; $\\left(\\ddot{x}_n^1, \\ddot{x}_n^2\\right)$ - вектор ускорения.\n",
    "- $\\left\\{\\mathbf{u}_n\\right\\}$ - управляющие команды, которые моделируются марковской цепью с множеством состояний\n",
    "$$\n",
    "\\left\\{(0,0)^T,(3.5,0)^T,(0,3.5)^T,(-3.5,0)^T,(0,-3.5)^T\\right\\}\n",
    "$$\n",
    "\n",
    "и матрицей переходных вероятностей\n",
    "$$\n",
    "\\mathbf{P}=\\frac{1}{20}\\left(\\begin{array}{ccccc}\n",
    "16 & 1 & 1 & 1 & 1 \\\\\n",
    "1 & 16 & 1 & 1 & 1 \\\\\n",
    "1 & 1 & 16 & 1 & 1 \\\\\n",
    "1 & 1 & 1 & 16 & 1 \\\\\n",
    "1 & 1 & 1 & 1 & 16\n",
    "\\end{array}\\right)\n",
    "$$\n",
    "- $\\left\\{\\mathbf{w}_n\\right\\}$ - последовательность независимых с. в., имеющих распределение $\\mathcal{N}\\left(\\mathbf{0}_{2 \\times 1}, \\sigma^2 \\mathbf{I}\\right)$, $\\sigma=0.5$.\n",
    "$$\n",
    "\\mathbf{A}=\\left(\\begin{array}{cc}\n",
    "\\tilde{\\mathbf{A}} & \\mathbf{0}_{3 \\times 3} \\\\\n",
    "\\mathbf{0}_{3 \\times 3} & \\tilde{\\mathbf{A}}\n",
    "\\end{array}\\right), \\quad \\mathbf{B}=\\left(\\begin{array}{cc}\n",
    "\\tilde{\\mathbf{B}} & \\mathbf{0}_{3 \\times 1} \\\\\n",
    "\\mathbf{0}_{3 \\times 1} & \\tilde{\\mathbf{B}}\n",
    "\\end{array}\\right), \\quad \\mathbf{C}=\\left(\\begin{array}{cc}\n",
    "\\tilde{\\mathbf{C}} & \\mathbf{0}_{3 \\times 1} \\\\\n",
    "\\mathbf{0}_{3 \\times 1} & \\tilde{\\mathbf{C}}\n",
    "\\end{array}\\right)\n",
    "$$\n",
    "\n",
    "где\n",
    "$$\n",
    "\\tilde{\\mathbf{A}}=\\left(\\begin{array}{ccc}\n",
    "1 & \\Delta l & \\Delta l^2 / 2 \\\\\n",
    "0 & 1 & \\Delta l \\\\\n",
    "0 & 0 & \\alpha\n",
    "\\end{array}\\right), \\quad \\tilde{\\mathbf{B}}=\\left(\\begin{array}{c}\n",
    "\\Delta l^2 / 2 \\\\\n",
    "\\Delta l \\\\\n",
    "0\n",
    "\\end{array}\\right), \\quad \\tilde{\\mathbf{C}}=\\left(\\begin{array}{c}\n",
    "\\Delta l^2 / 2 \\\\\n",
    "\\Delta t \\\\\n",
    "1\n",
    "\\end{array}\\right)\n",
    "$$\n",
    "$\\Delta t=0.5$ - период дискретизации; параметр $\\alpha=0.6$.\n",
    "Начальный вектор $\\mathbf{x}_0$ имеет распределение $\\mathcal{N}\\left(\\mathbf{0}_{6 \\times 1}, \\operatorname{diag}(500,5,5,200,5,5)\\right) ; \\mathbf{u}_0$ имеет равномерное распределение на множестве (2).\n",
    "\n",
    "Предполагается, что объект движется в зоне покрытия $L$ базовых станций с известными координатами $\\mathbf{z}^{(\\ell)}=\\left(z_1^{(\\ell)}, z_2^{(\\ell)}\\right), \\quad \\ell=1, \\ldots, L$. Координаты $L=6$ базовых станций записаны в файле stations.txt. На мобильном объекте установлено принимающее устройство, которое регистрирует сигналы от базовых станций. Положение мобильного объекта определяется на основе показателя уровня принимаемого сигнала (RSSI - Received Signal Strength Indicator). Предполагается следующая модель наблюдения, согласно которой регистрируемая мощность сигнала (в децибелах) определяется соотношением:\n",
    "$$\n",
    "y_n^{\\ell}=P_0-10 \\beta \\lg d_{\\ell, n}+v_n^{\\ell}, \\quad \\ell=1, \\ldots, L\n",
    "$$\n",
    "\n",
    "где $P_0=90(д Б)-$ мощность сигнала, передаваемого базовой станцией; $\\beta=3-$ коэффициент, характеризующий среду распространения сигнала; $d_{\\ell, n}$ - расстояние от базовой станции $\\ell$ до мобильного объекта в момент времени $n ;\\left\\{v_n^{\\ell}\\right\\}_{\\ell=1}^L$ - независимые нормально распределенные случайные величины с нулевым средним и стандартным отклонением $\\delta=1.5$ (дБ).\n",
    "\n",
    "В файле RSSI-measurements.txt записаны измерения RSSI от всех базовых станций: $\\mathbf{y}_{0: m}^{\\ell}=\\left(y_0^{\\ell}, \\ldots, y_m^{\\ell}\\right), \\ell=1, \\ldots, L$. Требуется с помощью фильтра частиц восстановить траекторию мобильного объекта.\n"
   ]
  },
  {
   "cell_type": "code",
   "metadata": {
    "ExecuteTime": {
     "end_time": "2025-04-30T14:10:38.150826Z",
     "start_time": "2025-04-30T14:10:38.145620Z"
    }
   },
   "source": [
    "import numpy as np\n",
    "import scipy.stats as stats\n",
    "from matplotlib import pyplot as plt\n",
    "from scipy.spatial.distance import euclidean"
   ],
   "outputs": [],
   "execution_count": 57
  },
  {
   "cell_type": "code",
   "metadata": {
    "ExecuteTime": {
     "end_time": "2025-04-30T14:10:38.160052Z",
     "start_time": "2025-04-30T14:10:38.157564Z"
    }
   },
   "source": [
    "alpha = 0.6\n",
    "\n",
    "delta_t = 0.5 # период дискретизации\n",
    "sigma = 0.5 # отклонение с.в. w_n\n",
    "delta = 1.5 # стандартное отклонение\n",
    "beta = 3 # коэффициент, характеризующий среду распространения сигнала\n",
    "L = 6 # число станций\n",
    "P0 = 90 # мощность сигнала, передаваемого базовой станцией\n",
    "M = 100 # число частиц"
   ],
   "outputs": [],
   "execution_count": 58
  },
  {
   "cell_type": "code",
   "metadata": {
    "ExecuteTime": {
     "end_time": "2025-04-30T14:10:38.190443Z",
     "start_time": "2025-04-30T14:10:38.185994Z"
    }
   },
   "source": [
    "A_part = np.array([\n",
    "    [1, delta_t, delta_t**2/2],\n",
    "    [0, 1, delta_t],\n",
    "    [0, 0, alpha]\n",
    "])\n",
    "B_part = np.array([delta_t**2/2, delta_t, 0])\n",
    "C_part = np.array([delta_t**2/2, delta_t, 1])\n",
    "\n",
    "# матрица системы, связывающая скрытое наблюдение с состоянием\n",
    "A = np.block([[A_part, np.zeros((3, 3))], [np.zeros((3, 3)), A_part]])\n",
    "\n",
    "# матрица управления, связывающая управляющие команды с состоянием\n",
    "B = np.block([[B_part, np.zeros(3)], [np.zeros(3), B_part]]).T\n",
    "\n",
    "# матрица выхода, связывающая шум с состоянием\n",
    "C = np.block([[C_part, np.zeros(3)], [np.zeros(3), C_part]]).T\n",
    "\n",
    "print(\"А = \\n\", A)\n",
    "print(\"В = \\n\", B)\n",
    "print(\"С = \\n\", C)"
   ],
   "outputs": [
    {
     "name": "stdout",
     "output_type": "stream",
     "text": [
      "А = \n",
      " [[1.    0.5   0.125 0.    0.    0.   ]\n",
      " [0.    1.    0.5   0.    0.    0.   ]\n",
      " [0.    0.    0.6   0.    0.    0.   ]\n",
      " [0.    0.    0.    1.    0.5   0.125]\n",
      " [0.    0.    0.    0.    1.    0.5  ]\n",
      " [0.    0.    0.    0.    0.    0.6  ]]\n",
      "В = \n",
      " [[0.125 0.   ]\n",
      " [0.5   0.   ]\n",
      " [0.    0.   ]\n",
      " [0.    0.125]\n",
      " [0.    0.5  ]\n",
      " [0.    0.   ]]\n",
      "С = \n",
      " [[0.125 0.   ]\n",
      " [0.5   0.   ]\n",
      " [1.    0.   ]\n",
      " [0.    0.125]\n",
      " [0.    0.5  ]\n",
      " [0.    1.   ]]\n"
     ]
    }
   ],
   "execution_count": 59
  },
  {
   "cell_type": "code",
   "metadata": {
    "ExecuteTime": {
     "end_time": "2025-04-30T14:10:38.199049Z",
     "start_time": "2025-04-30T14:10:38.195332Z"
    }
   },
   "source": [
    "# управляющие команды\n",
    "U = np.array([\n",
    "    np.array([0, 0]).T,\n",
    "    np.array([3.5, 0]).T,\n",
    "    np.array([0, 3.5]).T,\n",
    "    np.array([-3.5, 0]).T,\n",
    "    np.array([0, -3.5]).T])\n",
    "u_count = len(U)\n",
    "print(u_count, \"\\n\", \"U = \\n\", U)"
   ],
   "outputs": [
    {
     "name": "stdout",
     "output_type": "stream",
     "text": [
      "5 \n",
      " U = \n",
      " [[ 0.   0. ]\n",
      " [ 3.5  0. ]\n",
      " [ 0.   3.5]\n",
      " [-3.5  0. ]\n",
      " [ 0.  -3.5]]\n"
     ]
    }
   ],
   "execution_count": 60
  },
  {
   "cell_type": "code",
   "metadata": {
    "ExecuteTime": {
     "end_time": "2025-04-30T14:10:38.216735Z",
     "start_time": "2025-04-30T14:10:38.214053Z"
    }
   },
   "source": [
    "# матрица переходных вероятностей\n",
    "P = 1 / 20 * np.array([[16, 1, 1, 1, 1],\n",
    "                       [1, 16, 1, 1, 1],\n",
    "                       [1, 1, 16, 1, 1],\n",
    "                       [1, 1, 1, 16, 1],\n",
    "                       [1, 1, 1, 1, 16]])\n",
    "print(\"P = \\n\", P)"
   ],
   "outputs": [
    {
     "name": "stdout",
     "output_type": "stream",
     "text": [
      "P = \n",
      " [[0.8  0.05 0.05 0.05 0.05]\n",
      " [0.05 0.8  0.05 0.05 0.05]\n",
      " [0.05 0.05 0.8  0.05 0.05]\n",
      " [0.05 0.05 0.05 0.8  0.05]\n",
      " [0.05 0.05 0.05 0.05 0.8 ]]\n"
     ]
    }
   ],
   "execution_count": 61
  },
  {
   "cell_type": "code",
   "metadata": {
    "ExecuteTime": {
     "end_time": "2025-04-30T14:10:38.243534Z",
     "start_time": "2025-04-30T14:10:38.235392Z"
    }
   },
   "source": [
    "# считываем координаты станций из файла\n",
    "with open('./lab_files/stations.txt', 'r') as f:\n",
    "    x = f.readline().split()\n",
    "    y = f.readline().split()\n",
    "    stations = np.vstack((x, y)).T\n",
    "stations = np.array(stations).reshape((6, -1)).astype(float)\n",
    "print(stations)\n",
    "# считываем показания станций\n",
    "y = []\n",
    "with open('./lab_files/RSSI-measurements.txt', 'r') as f:\n",
    "    for l in f.readlines():\n",
    "        y.extend(l.split())\n",
    "y = np.array(y).reshape((len(stations), -1)).astype(float).T\n",
    "print(y)"
   ],
   "outputs": [
    {
     "name": "stdout",
     "output_type": "stream",
     "text": [
      "[[    0.      4000.    ]\n",
      " [    0.     -4000.    ]\n",
      " [ 3464.1016  2000.    ]\n",
      " [ 3464.1016 -2000.    ]\n",
      " [-3464.1016 -2000.    ]\n",
      " [-3464.1016  2000.    ]]\n",
      "[[-18.67918   -18.248671  -17.303319  -17.173036  -18.115797  -17.553736 ]\n",
      " [-16.269286  -18.623889  -16.816012  -18.594344  -18.118293  -17.972993 ]\n",
      " [-18.83336   -16.180802  -19.280249  -19.279911  -18.00498   -17.405444 ]\n",
      " ...\n",
      " [ -5.4839427 -27.471672  -12.888184  -21.71415   -27.468836  -22.955865 ]\n",
      " [ -7.9050906 -26.371108  -11.930547  -20.16127   -23.442843  -17.902805 ]\n",
      " [ -4.209267  -25.189529  -11.057371  -22.052968  -21.621816  -19.883949 ]]\n"
     ]
    }
   ],
   "execution_count": 62
  },
  {
   "metadata": {
    "ExecuteTime": {
     "end_time": "2025-04-30T14:10:43.341524Z",
     "start_time": "2025-04-30T14:10:38.255918Z"
    }
   },
   "cell_type": "code",
   "source": [
    "# ИНИЦИАЛИЗАЦИЯ ЧАСТИЦ\n",
    "# начальный вектор х_0\n",
    "# (x1, v1, a1, x2, v2, a2)\n",
    "# где (x1, x2) - координаты объекта, (v1, v2) - вектор скорости, (а1, а2) - вектор ускорения\n",
    "x_s = np.random.multivariate_normal(np.zeros(L), np.diag((500, 5, 5, 200, 5, 5)), M)\n",
    "\n",
    "# выбор начального состояния u_0\n",
    "u_s = np.random.randint(0, 5, M)\n",
    "\n",
    "# начальный вес каждой частицы = 1/M\n",
    "weights = np.ones(M) / M\n",
    "\n",
    "# траектория\n",
    "path = []\n",
    "\n",
    "# цикл по наблюдениям у - показаниям сигналов со станций\n",
    "for y_n in y:\n",
    "    # ПРОГНОЗ\n",
    "    for i in range(M):\n",
    "\n",
    "        # управление для текущей частицы\n",
    "        # какое-то значение из матрицы управления\n",
    "        u_i = U[u_s[i]]\n",
    "\n",
    "        # шум для текущей частицы, вектор {w_x, w_y}\n",
    "        w_i = np.random.normal(0, sigma, 2)\n",
    "\n",
    "        # обновление частицы в соответствии с уравнением движения\n",
    "        x_s[i] = A @ x_s[i] + B @ u_i + C @ w_i\n",
    "\n",
    "        # обновление управления по марковской цепи с учетом матрицы переходных вероятностей\n",
    "        # P[u_s[i]] - строка матрицы перехода для текущего состояния\n",
    "        u_s[i] = np.random.choice(5, p = P[u_s[i]])\n",
    "\n",
    "    # КОРРЕКЦИЯ (взвешивание)\n",
    "    for i in range(M):\n",
    "\n",
    "      # уровни сигнала от всех станций на текущем шаге\n",
    "      y_t = np.zeros(L)\n",
    "\n",
    "      for st in range(len(y_t)):\n",
    "        # расстояние до станций - евклидово расстояние\n",
    "        d = euclidean(np.array(x_s)[i, [0, 3]], stations[st])\n",
    "        # проверка на ненулевое расстояние\n",
    "        d = max(d, 1e-10)\n",
    "\n",
    "        # ожидаемый уровень сигнала, заполняем матрицу\n",
    "        y_t[st] = P0 - 10 * beta * np.log10(d)\n",
    "\n",
    "      # вес частицы - вероятность получить текущие измерения по всем станциям при ее текущем состоянии\n",
    "      # 1 \\ (delta * sqrt(2pi)) * exp{- (y_n - y_t)^2 \\ 2 * delta^2} - нормальное распределение с параметрами (y_n, y_t)\n",
    "      # y_n - наблюдаемые, y_t - предсказанные\n",
    "      weights[i] = np.prod(stats.norm.pdf(y_n, loc=y_t, scale=delta))\n",
    "\n",
    "    # нормализация весов\n",
    "    weights /= np.sum(weights)\n",
    "\n",
    "    # РЕСЭМПЛИНГ\n",
    "    # indices = np.random.choice(M, size=M, p=weights)\n",
    "    # x_s = x_s[indices]\n",
    "    # u_s = u_s[indices]\n",
    "\n",
    "    u_tilde = np.random.uniform(0, 1)\n",
    "    u = (np.arange(M) + u_tilde) / M\n",
    "\n",
    "    cumulative_weights = np.cumsum(weights)\n",
    "    resampled_indices = np.searchsorted(cumulative_weights, u)\n",
    "    x_s = x_s[resampled_indices]\n",
    "    u_s = u_s[resampled_indices]\n",
    "\n",
    "    # среднее арифметическое по всем частицам\n",
    "    x_mean = np.mean(x_s, axis=0)\n",
    "    path.append(x_mean)\n",
    "\n",
    "    weights = np.ones(M) / M"
   ],
   "outputs": [],
   "execution_count": 63
  },
  {
   "metadata": {
    "ExecuteTime": {
     "end_time": "2025-04-30T14:10:43.417091Z",
     "start_time": "2025-04-30T14:10:43.353627Z"
    }
   },
   "cell_type": "code",
   "source": [
    "plt.figure(figsize=(6, 6))\n",
    "plt.scatter(stations[:, 0], stations[:, 1],\n",
    "            c='orange', s=100, marker='o',\n",
    "            label='Базовые станции')\n",
    "path = np.array(path)\n",
    "plt.plot(path[:, 0], path[:, 3])\n",
    "plt.scatter(path[0, 0], path[0, 3],\n",
    "            c='green', s=100,\n",
    "            marker='o', label='Начало')\n",
    "plt.scatter(path[-1, 0], path[-1, 3],\n",
    "            c='black', s=100,\n",
    "            marker='x', label='Конец')\n",
    "plt.show()"
   ],
   "outputs": [
    {
     "data": {
      "text/plain": [
       "<Figure size 600x600 with 1 Axes>"
      ],
      "image/png": "[encoded data removed]"
     },
     "metadata": {},
     "output_type": "display_data"
    }
   ],
   "execution_count": 64
  }
 ],
 "metadata": {
  "kernelspec": {
   "display_name": "Python 3",
   "language": "python",
   "name": "python3"
  },
  "language_info": {
   "codemirror_mode": {
    "name": "ipython",
    "version": 3
   },
   "file_extension": ".py",
   "mimetype": "text/x-python",
   "name": "python",
   "nbconvert_exporter": "python",
   "pygments_lexer": "ipython3",
   "version": "3.10.0"
  }
 },
 "nbformat": 4,
 "nbformat_minor": 2
}
