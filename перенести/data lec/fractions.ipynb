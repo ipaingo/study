{
  "nbformat": 4,
  "nbformat_minor": 0,
  "metadata": {
    "colab": {
      "provenance": []
    },
    "kernelspec": {
      "name": "python3",
      "display_name": "Python 3"
    },
    "language_info": {
      "name": "python"
    }
  },
  "cells": [
    {
      "cell_type": "markdown",
      "metadata": {
        "id": "7CcxSSVjzyMs"
      },
      "source": [
        "# Модуль fractions"
      ]
    },
    {
      "cell_type": "code",
      "execution_count": null,
      "metadata": {
        "id": "wtR2t0OQzyMs"
      },
      "outputs": [],
      "source": [
        "import fractions as fc  # Импортируем модуль fractions"
      ]
    },
    {
      "cell_type": "markdown",
      "metadata": {
        "id": "czUZzOBTzyMs"
      },
      "source": [
        "Содержит класс **Fraction**, который является представлением рациональных чисел. Создать экземпляр класса можно с помощью конструктора, тремя разными способами:\n",
        "\n",
        "**Fraction([numerator [,denominator]]) ** - создает  рациональное  число. Числитель (*numerator*) и знаменатель (*denominator*)  являются целыми  числами и по умолчанию принимаются равными 0 и 1 соответственно.\n",
        "\n",
        "**Fraction(fraction)** - если в аргументе **fraction** передается экземпляр **numbers.Rational**, создается новое рациональное число с тем же значением, что и **fraction**.\n",
        "\n",
        "**Fraction(s)** - если в аргументе `s` передается строка, содержащая дробь, такая как *3/7*, то создается дробь с теми же значениями числителя и знаменателя. Если в аргументе `s` передается строка с дробным десятичным числом, например *1.25*, то создается дробь, соответствующая этому значению (т. е. **Fraction(5,4)**).\n"
      ]
    },
    {
      "cell_type": "code",
      "execution_count": null,
      "metadata": {
        "id": "ilpeSm16zyMt",
        "outputId": "8e6596a3-3290-4973-ee61-6daef275a00f",
        "colab": {
          "base_uri": "https://localhost:8080/"
        }
      },
      "outputs": [
        {
          "output_type": "execute_result",
          "data": {
            "text/plain": [
              "Fraction(1, 3)"
            ]
          },
          "metadata": {},
          "execution_count": 3
        }
      ],
      "source": [
        "fc.Fraction(1, 3)  # Создаем объект Fraction"
      ]
    },
    {
      "cell_type": "code",
      "execution_count": null,
      "metadata": {
        "id": "5_4Kd1rhzyMt",
        "outputId": "f8ce8aec-3b5c-4f41-b63a-0d2662afc7be",
        "colab": {
          "base_uri": "https://localhost:8080/"
        }
      },
      "outputs": [
        {
          "output_type": "execute_result",
          "data": {
            "text/plain": [
              "Fraction(1, 3)"
            ]
          },
          "metadata": {},
          "execution_count": 4
        }
      ],
      "source": [
        "fc.Fraction('1/3')  # Создаем объект Fraction в виде обыкновенной дроби"
      ]
    },
    {
      "cell_type": "code",
      "execution_count": null,
      "metadata": {
        "id": "lvVnApnKzyMt",
        "outputId": "e545ddcf-4400-44e2-a104-5e1059720813",
        "colab": {
          "base_uri": "https://localhost:8080/"
        }
      },
      "outputs": [
        {
          "output_type": "execute_result",
          "data": {
            "text/plain": [
              "Fraction(6004799503160661, 18014398509481984)"
            ]
          },
          "metadata": {},
          "execution_count": 5
        }
      ],
      "source": [
        "fc.Fraction(1 / 3)  # Вы ведь все еще помните про ошибки округления?\n",
        "                    # А еще 1/3 это бесконечная дробь, так что ее точное представление в десятичной системе весьма затруднено."
      ]
    },
    {
      "cell_type": "markdown",
      "metadata": {
        "id": "MoONt7SjzyMt"
      },
      "source": [
        "Ниже перечислены методы класса, которые могут использоваться для создания экземпляров класса Fraction из объектов других типов:\n",
        "\n",
        "**Fraction.from_float(f)** - Создает дробь, представляющую точное значение числа f с плавающей точкой.\n",
        "\n",
        "**Fraction.from_decimal(d)** - Создает дробь, представляющую точное значение числа d типа **Decimal**."
      ]
    },
    {
      "cell_type": "code",
      "execution_count": null,
      "metadata": {
        "id": "CZKR8uxBzyMt",
        "outputId": "67d9dfb8-4de1-4bd7-d9ba-91a2bbd3d358",
        "colab": {
          "base_uri": "https://localhost:8080/"
        }
      },
      "outputs": [
        {
          "output_type": "execute_result",
          "data": {
            "text/plain": [
              "Fraction(7070651414971679, 2251799813685248)"
            ]
          },
          "metadata": {},
          "execution_count": 6
        }
      ],
      "source": [
        "fc.Fraction.from_float(3.14)  # Представим десятичную дробь в виде обыкновенной"
      ]
    },
    {
      "cell_type": "markdown",
      "metadata": {
        "id": "W32J8JpSzyMu"
      },
      "source": [
        "Экземпляр `f` класса **Fraction** поддерживает все обычные математические операции. Значения числителя и знаменателя хранятся в атрибутах *f.numerator* и *f.denominator* соответственно.\n"
      ]
    },
    {
      "cell_type": "code",
      "execution_count": null,
      "metadata": {
        "id": "hMh7jgcpzyMu",
        "outputId": "26ae5d08-fb38-466e-b8fc-ffe609155d2f",
        "colab": {
          "base_uri": "https://localhost:8080/"
        }
      },
      "outputs": [
        {
          "output_type": "stream",
          "name": "stdout",
          "text": [
            "16/2727\n",
            "16 2727\n"
          ]
        }
      ],
      "source": [
        "a = fc.Fraction(32, 5454)  # Создаем объект Fraction\n",
        "print(a)  # Дробь автоматически упрощается\n",
        "print(a.numerator, a.denominator)  # Выведем числитель и знаменатель"
      ]
    },
    {
      "cell_type": "markdown",
      "metadata": {
        "id": "oJqZMAmwzyMu"
      },
      "source": [
        "Кроме того, определены методы:\n",
        "\n",
        "**f.limit_denominator([max_denominator])** - возвращает дробь, ближайшую к *f*. В аргументе **max_denominator** передается \n",
        "наибольший возможный числитель.\n"
      ]
    },
    {
      "cell_type": "code",
      "execution_count": null,
      "metadata": {
        "id": "fDAWDji2zyMu",
        "outputId": "3d17052b-cb0f-43f4-aec9-f86c9a17bfca",
        "colab": {
          "base_uri": "https://localhost:8080/"
        }
      },
      "outputs": [
        {
          "output_type": "stream",
          "name": "stdout",
          "text": [
            "Denominator: 1/3 ; a: 6004799503160661/18014398509481984\n",
            "Denominator: 10 ; a: 1/3\n"
          ]
        }
      ],
      "source": [
        "a = fc.Fraction(1 / 3)  # Зададим дробь 1/3\n",
        "denom = a.limit_denominator()\n",
        "print('Denominator:', denom, '; a:', a)  # Выведем ближайщую к 1/3 дробь\n",
        "denom = 10\n",
        "print('Denominator:', denom, '; a:', a.limit_denominator(denom))\n"
      ]
    },
    {
      "cell_type": "markdown",
      "metadata": {
        "id": "4LLrVhzFzyMu"
      },
      "source": [
        "В модуле `fractions` определена единственная функция:\n",
        "\n",
        "**gcd(a, b)**  - Вычисляет наибольший общий делитель целых чисел `a` и `b`. Результат имеет тот же знак, что и число `b`, если оно не равно нулю; и знак числа `a` – в противном случае.\n",
        "\n",
        "Но эта функция уже отмечена как устаревшая, и рекомендуется использовть **math.gcd()** вместо нее."
      ]
    },
    {
      "cell_type": "code",
      "execution_count": null,
      "metadata": {
        "id": "vmvwAhC3zyMv",
        "outputId": "fed4459d-cf8f-441b-b689-6ac47236edf6",
        "colab": {
          "base_uri": "https://localhost:8080/"
        }
      },
      "outputs": [
        {
          "output_type": "stream",
          "name": "stderr",
          "text": [
            "/usr/local/lib/python3.7/dist-packages/ipykernel_launcher.py:2: DeprecationWarning: fractions.gcd() is deprecated. Use math.gcd() instead.\n",
            "  \n"
          ]
        },
        {
          "output_type": "execute_result",
          "data": {
            "text/plain": [
              "6"
            ]
          },
          "metadata": {},
          "execution_count": 11
        }
      ],
      "source": [
        "# Задание. Найдите наибольший общий делитель 340 и 578. \n"
      ]
    },
    {
      "cell_type": "code",
      "source": [
        "# Ответ\n",
        "fc.gcd(340,578)"
      ],
      "metadata": {
        "colab": {
          "base_uri": "https://localhost:8080/"
        },
        "id": "LnH1Vjce3yzU",
        "outputId": "ba575187-04c1-47a4-9d50-a36fd6563fdc"
      },
      "execution_count": null,
      "outputs": [
        {
          "output_type": "stream",
          "name": "stderr",
          "text": [
            "/usr/local/lib/python3.7/dist-packages/ipykernel_launcher.py:2: DeprecationWarning: fractions.gcd() is deprecated. Use math.gcd() instead.\n",
            "  \n"
          ]
        },
        {
          "output_type": "execute_result",
          "data": {
            "text/plain": [
              "34"
            ]
          },
          "metadata": {},
          "execution_count": 12
        }
      ]
    }
  ]
}