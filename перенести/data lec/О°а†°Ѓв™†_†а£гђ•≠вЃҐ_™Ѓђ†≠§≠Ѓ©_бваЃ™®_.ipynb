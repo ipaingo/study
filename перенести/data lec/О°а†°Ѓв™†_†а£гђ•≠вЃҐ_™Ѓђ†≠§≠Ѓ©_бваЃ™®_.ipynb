{
  "nbformat": 4,
  "nbformat_minor": 0,
  "metadata": {
    "colab": {
      "provenance": []
    },
    "kernelspec": {
      "name": "python3",
      "display_name": "Python 3"
    },
    "language_info": {
      "name": "python"
    }
  },
  "cells": [
    {
      "cell_type": "markdown",
      "metadata": {
        "id": "aF9cuK9Og2NE"
      },
      "source": [
        "# Чтение аргументов из командной строки"
      ]
    },
    {
      "cell_type": "markdown",
      "metadata": {
        "id": "T97Kj1p0g2NE"
      },
      "source": [
        "При запуске программы параметры командной строки сохраняются в списке `sys.argv`. Нулевой элемент этого списка – *имя программы*. Остальные элементы – это параметры, указанные в командной строке **после** имени программы. "
      ]
    },
    {
      "cell_type": "markdown",
      "metadata": {
        "id": "salelZEug2NE"
      },
      "source": [
        "```python\n",
        "# модуль fir.py\n",
        "import sys\n",
        "# Проверка количества аргементов (ожидаем: название программы, файл ввода, файл вывода)\n",
        "if len(sys.argv) != 3:  # Если количество аргументов не равно трем\n",
        "    sys.stderr.write(“Usage: python %s inputfile outputfile\\n” % sys.argv[0])  # Сообщение о некорректности аргументов\n",
        "    raise SystemExit(1)  # Завершение работы из-за неправильного количества аргументов\n",
        "inputfile = sys.argv[1]\n",
        "outputfile = sys.argv[2]\n",
        "```\n",
        "Передача аргументов при запуске:\n",
        "```bash\n",
        ">>> python fir.py  input_file.txt  output_file.txt \n",
        "```"
      ]
    },
    {
      "cell_type": "markdown",
      "metadata": {
        "id": "c-oga9_ng2NE"
      },
      "source": [
        "# Обработка параметров командной строки\n",
        "\n",
        "Существует множество модулей для автоматической обработки аргументов командной строки. Например такие как: **optparse** (deprecated), **argparse** (приемник optparse), **docopt**, **click**."
      ]
    },
    {
      "cell_type": "markdown",
      "metadata": {
        "id": "kWojCECsg2NE"
      },
      "source": [
        "Мы будем рассматривать **argparse**.\n",
        "**Argparse** позволяет: <br>\n",
        "-создавать аргументы и опции, с которыми может вызываться скрипт <br>\n",
        "-указывать типы аргументов, значения по умолчанию <br>\n",
        "-указывать, какие действия соответствуют аргументам <br>\n",
        "-выполнять вызов функции при указании аргумента <br>\n",
        "-отображать сообщения с подсказками по использованию скрипта"
      ]
    },
    {
      "cell_type": "markdown",
      "metadata": {
        "id": "3vO5eq9sg2NF"
      },
      "source": [
        "```python\n",
        "import argparse\n",
        "\n",
        "# Создание экземпляра ArgumentParser\n",
        "parser = argparse.ArgumentParser(description=\"Do something\")\n",
        "\n",
        "# Парсер имеет аргументы. Аргументы - это поведение, которого должен придерживаться парсер в тех или иных ситуациях.\n",
        "# action - действие, которое выполнится. В данном случае сохранение в пространство имен.\n",
        "# default - значение по умолчанию\n",
        "# dest - имя переменной куда будет помещено значение\n",
        "parser.add_argument('-n', action='store', default=1, dest='num', help='Some value')\n",
        "\n",
        "# Параметр устанавливает логический флаг\n",
        "parser.add_argument('-d', '--debug', action='store_true', help='print debug information')\n",
        "\n",
        "# Параметр устанавливает позиционные аргументы\n",
        "# metavar - обозначение переменной в справке\n",
        "# type - тип переменной\n",
        "# nargs - количество переменных, '+' значит любое количество больше 1\n",
        "parser.add_argument('integer', metavar='N', type=int, nargs='+', help='some integers')\n",
        "\n",
        "# Происходит парсинг аргументов\n",
        "args = parser.parse_args()\n",
        "# Мы можем воспользоваться переменными\n",
        "if args.debug:\n",
        "    print('Value n is ', args.n)\n",
        "```"
      ]
    },
    {
      "cell_type": "markdown",
      "metadata": {
        "id": "1O6t6Jobg2NF"
      },
      "source": [
        "\n",
        "Таким образом будет выглядеть справка по программе:"
      ]
    },
    {
      "cell_type": "markdown",
      "metadata": {
        "id": "fCSJK-Ybg2NF"
      },
      "source": [
        "```\n",
        "$ python a.py --help\n",
        "usage: a.py [-h] [-n NUM] [-d] N [N ...]\n",
        "\n",
        "Do something\n",
        "\n",
        "positional arguments:\n",
        "  N            some integers\n",
        "\n",
        "optional arguments:\n",
        "  -h, --help   show this help message and exit\n",
        "  -n NUM       Some value\n",
        "  -d, --debug  print debug information\n",
        "```"
      ]
    },
    {
      "cell_type": "markdown",
      "metadata": {
        "id": "Ogffoz1cg2NG"
      },
      "source": [
        "Пользоваться программой можно будет так:"
      ]
    },
    {
      "cell_type": "markdown",
      "metadata": {
        "id": "mQqY8mozg2NG"
      },
      "source": [
        "```\n",
        "$ python a.py -n 123 1\n",
        "$ python a.py -n 3 -d 1 2\n",
        "$ python a.py -n=3 --debug 1 2 4\n",
        "```"
      ]
    },
    {
      "cell_type": "markdown",
      "metadata": {
        "id": "tcaULmo4g2NH"
      },
      "source": [
        "Нераспознаные аргументы вызовут ошибку:"
      ]
    },
    {
      "cell_type": "markdown",
      "metadata": {
        "id": "WMQAq3rCg2NH"
      },
      "source": [
        "```\n",
        "$ python a.py -e\n",
        "usage: a.py [-h] [-n NUM] [-d] N [N ...]\n",
        "a.py: error: the following arguments are required: N\n",
        "```"
      ]
    },
    {
      "cell_type": "markdown",
      "metadata": {
        "id": "XyMrxPXWg2NH"
      },
      "source": [
        "`parser.parse_args()` возвращает специальный класс `Namespace`, значения из которого можно доставать по аналогии со словарем через ключ-значение. Имена переменных указываются либо через `dest` во время объявления парсера, либо присваиваются автоматически в соответсвие с параметром (`--debug == args.debug`)"
      ]
    },
    {
      "cell_type": "markdown",
      "metadata": {
        "id": "vjJMdgf4g2NH"
      },
      "source": [
        "Подробнее о модуле можно прочитать по [ссылке](https://docs.python.org/3/library/argparse.html)."
      ]
    },
    {
      "cell_type": "markdown",
      "metadata": {
        "id": "-pvwgyXxg2NO"
      },
      "source": [
        "# Параметры интерпретатора и окружение"
      ]
    },
    {
      "cell_type": "markdown",
      "metadata": {
        "id": "AGarSDZ7g2NO"
      },
      "source": [
        "```\n",
        ">>> python [options] [-c cmd | filename | - ] [args]\n",
        "```"
      ]
    },
    {
      "cell_type": "markdown",
      "metadata": {
        "id": "gOuH6Kd-g2NP"
      },
      "source": [
        "| Опция | Описание |\n",
        "| --- | --- |\n",
        "| `-3` | Включить вывод предупреждений об использовании особенностей,  которые были удалены или изменены в Python 3. |\n",
        "| `-B` | Не создавать файлы с расширениями .pyc и .pyo инструкцией  import. |\n",
        "| `-E` | Игнорировать переменные окружения. |\n",
        "| `-h` | Вывести список всех доступных параметров командной строки. |\n",
        "| `-i` | Перейти в интерактивный режим по завершении выполнения программы. |\n",
        "| `-m module` | Запустить библиотечный модуль module, как самостоятельную программу. |\n",
        "| `-O` | Включить режим оптимизации. |\n",
        "| `-OO` | Включить режим оптимизации и дополнительно удалить строки документирования при создании файла .pyo. |\n",
        "| `-s` | Предотвратить возможность добавления пользователем новых каталогов в переменную sys.path. |\n",
        "| `-S` | Не импортировать модуль во время инициализации. |\n",
        "| `-t` | Вывести предупреждение в случае непоследовательного использования символов табуляции. |\n",
        "| `-tt` | Возбудить исключение TabError в случае непоследовательного использования символов табуляции. |\n",
        "| `-u` | Отключить буферизацию для потоков stdout и stderr. |\n",
        "| `-v` | Включить режим вывода отладочной информации для инструкций import. |\n",
        "| `-V` | Вывести номер версии и выйти. |\n",
        "| `-x` | Пропустить первую строку в исходной программе. |\n",
        "| `-c cmd` | Выполнить строку cmd, как инструкцию. |"
      ]
    },
    {
      "cell_type": "markdown",
      "metadata": {
        "id": "pxqPfGqpg2NP"
      },
      "source": [
        "Стандартная оболочка **python** не обладает большим количеством возможностей, упрощающих вашу жизнь. Если вы читаете этот ноутбук через *jupyther*, то скорее всего у вас уже установлен **ipython**. **ipython** - интерактивная оболочка для python, которая предоставляет подсветку синтаксиса, автодополнение, дополнительный командный синтаксис и многое другое."
      ]
    },
    {
      "cell_type": "markdown",
      "metadata": {
        "id": "kvuxwztDg2NP"
      },
      "source": [
        "# Запуск приложений на языке Python"
      ]
    },
    {
      "cell_type": "markdown",
      "metadata": {
        "id": "S8VSAS5Mg2NP"
      },
      "source": [
        "Часто желательно, чтобы программы запускались автоматически, а не вручную. Для этого в UNIX-like операционной системе необходимо выполнить следующие действия: \n",
        " - присвоить файлу с программой разрешение на выполнение (`chmod a+x a.py`) \n",
        " - указать в первой строке программы путь к интерпретатору:\n",
        "```python\n",
        "#!/usr/bin/python\n",
        "print(\"Привет, Мир!\")\n",
        "```\n",
        "**chmod** - команда, которая позволяет изменять права доступа к файлам и директориям.<br>\n",
        "Иногда лучше писать `#!/usr/bin/env python`, так как интерпретатор у разных пользователей может находиться в разных директориях. `env` запустит первый интерпретатор из переменной окружения `$PATH`.\n",
        "\n",
        "Запуск осуществляется следующим образом:\n",
        "```\n",
        "$ ./a.py\n",
        "```"
      ]
    },
    {
      "cell_type": "markdown",
      "metadata": {
        "id": "RT_BhB3sg2NQ"
      },
      "source": [
        "В Windows двойной щелчок на файле с расширениями *.py, .pyw, .wpy, .pyc* или *.pyo* автоматически будет запускать **интерпретатор** (если в программах по умолчанию не указано иное). Программы запускаются в окне консоли, если они не имеют расширение *.pyw* (тогда запускаются как приложения с графическим интерфейсом). Чтобы передать **интерпретатору** дополнительные параметры командной строки, можно запускать программу из файла *.bat*. "
      ]
    },
    {
      "cell_type": "markdown",
      "metadata": {
        "id": "8iiALPsSg2NQ"
      },
      "source": [
        "Следующий файл *.bat* просто запускает сценарий на языке Python и передает интерпретатору параметры, полученные файлом *.bat* из командной строки:\n",
        "```bat\n",
        ":: foo.bat\n",
        ":: Запускает сценарий foo.py и передает интерпретатору  полученные параметры командной строки\n",
        "c:\\python38\\python.exe  c:\\foo.py % перечисляем значения параметров\n",
        "```"
      ]
    },
    {
      "cell_type": "markdown",
      "metadata": {
        "id": "guLNTzWXg2NQ"
      },
      "source": [
        "Запускаем `foo.bat`, который содержит текст:\n",
        "```bat\n",
        "start C:\\Python38\\python.exe  E:\\asd\\foo.py % start  success\n",
        "```\n",
        "\n",
        "`E:\\asd\\foo.py`:\n",
        "```python\n",
        "# -*- coding:utf-8 -*-\n",
        "import sys\n",
        "param1 = sys.argv[1]\n",
        "param2 = sys.argv[2]\n",
        "name = u'E:\\\\asd\\\\2.txt'\n",
        "def fun1():\n",
        "    f = open(name, \"w\")\n",
        "    f.write(param1 + ' ' + param2)\n",
        "    f.close()\n",
        "fun1()\n",
        "```\n",
        "\n",
        "В результате выполнения получим файл с текстом:\n",
        "`start success`"
      ]
    }
  ]
}