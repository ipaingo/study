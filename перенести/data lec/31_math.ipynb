{
 "cells": [
  {
   "cell_type": "markdown",
   "metadata": {
    "id": "-XzGbWBKzyMv"
   },
   "source": [
    "# Модуль math"
   ]
  },
  {
   "cell_type": "code",
   "execution_count": null,
   "metadata": {
    "id": "6O9C6vOQzyMv"
   },
   "outputs": [],
   "source": [
    "import math"
   ]
  },
  {
   "cell_type": "markdown",
   "metadata": {
    "id": "sXhSwR1uzyMv"
   },
   "source": [
    "В модуле **math** функции оперируют *целыми числами* и *числами с плавающей точкой*, но они *не* будут работать с *комплексными числами*. Для работы над комплексными числами можно использовать модуль **cmath**.\n",
    "\n",
    "Все  функции возвращают  *число с плавающей точкой (float)*. Все тригонометрические функции оперируют угловыми величинами, выраженными в *радианах*. "
   ]
  },
  {
   "cell_type": "markdown",
   "metadata": {
    "id": "6uN7LFKdzyMv"
   },
   "source": [
    "- `Функция` - Описание\n",
    "\n",
    "- `acos(x)` - Возвращает арккосинус числа `x`.\n",
    "- `acosh(x)` - Возвращает гиперболический арккосинус числа `x`.\n",
    "- `asin(x)` - Возвращает арксинус числа `x`.\n",
    "- `asinh(x)` - Возвращает гиперболический арксинус числа `x`.\n",
    "- `atan(x)` - Возвращает арктангенс числа `x`.\n",
    "- `atan2(y, x)`-  Возвращает арктангенс выражения `(у / х)`.\n",
    "- `atanh(x)` - Возвращает гиперболический арктангенс числа `x`.\n",
    "- `ceil(x)` - Возвращает округленное до наибольшего целого значение числа `x`.\n",
    "- `copysign(x, y)` - Возвращает `x` с тем же знаком. что и `y`.\n",
    "- `cos(x)` - Возвращает косинус числа `x`.\n",
    "- `cosh(x)` - Возвращает гиперболический косинус числа `x`.\n",
    "- `degrees(x)` - Преобразует число `x` радианов в градусы.\n",
    "- `radians(x)` - Преобразует число `x` градусов в радианы.\n",
    "- `exp(x)` - Возвращает $e^{x}$.\n",
    "- `fabs(x)` - Возвращает абсолютное значение `x`.\n",
    "- `factorial(x)` - Возвращает факториал `x`.\n",
    "- `floor(x)` - Возвращает округленное до наименьшего целого значение числа `x`.\n",
    "- `fmod(x, y)` - Возвращает `x % у`, как вычисляет функция `fmod()` в языке `C`.\n",
    "- `frexp(x)` - Возвращает положительное значение мантиссы и экспоненту числа `x` в виде кортежа.\n",
    "- `fsum(s)` - Возвращает сумму значений с плавающей точкой в итерируемой последовательности `s`. дополнительные подробности приводится в разделе «Примечанигп ниже.\n",
    "- `hypot(x, y)` - Возвращает эвклидово расстояние, $\\sqrt{x^2 + y^2}$.\n",
    "- `isinf(x)` - Возвращает `True`, если `x` имеет значение бесконечности.\n",
    "- `isnan(x)` - Возвращает `True`, если `x` имеет значение `NaN`.\n",
    "- `ldexp(x, i)` - Возвращает $x \\cdot 2^i$.\n",
    "- `log(x [, base])` - Возвращает логарифм числа `x` по основанию `base`. Если аргумент `base` опущен, то вычисляется натуральный логарифм.\n",
    "- `log10(x)` - Возвращает десятичный логарифм числа `x`.\n",
    "- `log1p(x)` - Возвращает натуральный логарифм выражения `x+1`.\n",
    "- `modf(x)` - Возвращает дробную и целую чаети числа `x` в виде кортежа. Оба значения имеют тот же знак. что и число `x`.\n",
    "- `pow(x, y)` - Возвращает `x` в степени `y`. $x^y$.\n",
    "- `sin(x)` - Возвращает синус числа `x`.\n",
    "- `sinh(x)` - Возвращает гиперболический синус числа `x`.\n",
    "- `sqrt(x)` - Возвращает квадратный корень числа `x`.\n",
    "- `tan(x)` - Возвращает тангенс числа `x`.\n",
    "- `tanh(x)` - Возвращает гиперболический тангенс числа `x`.\n",
    "- `trunc(x)` - Усекает дробную часть числа `x`."
   ]
  },
  {
   "cell_type": "markdown",
   "metadata": {
    "id": "jwkZfn9RzyMv"
   },
   "source": [
    "В модуле **math** определены следующие константы:\n",
    "\n",
    "- `pi` - Число $\\pi$.\n",
    "- `e` - Число $e$.\n",
    "- `tau` - Число $\\tau$ (= 2*$\\pi$).\n",
    "- `inf` - Бесконечность\n",
    "- `nan` - Не число. `NaN`."
   ]
  },
  {
   "cell_type": "markdown",
   "metadata": {
    "id": "0F-rYcPRdCfG"
   },
   "source": [
    "Формула перевода *k* градусов в *m* радиан:\n",
    "\n",
    "*m* рад = *k* * $\\pi$ /180\n",
    "\n",
    "30 градусов = 30 * $\\pi$ /180 рад, а для вычисления sin(30 град), нужно вычислить sin(30 * $\\pi$ /180 рад)\n"
   ]
  },
  {
   "cell_type": "code",
   "execution_count": null,
   "metadata": {
    "colab": {
     "base_uri": "https://localhost:8080/"
    },
    "executionInfo": {
     "elapsed": 280,
     "status": "ok",
     "timestamp": 1643705917354,
     "user": {
      "displayName": "Николай Смирнов",
      "photoUrl": "https://lh3.googleusercontent.com/a/default-user=s64",
      "userId": "05792503510966078252"
     },
     "user_tz": -180
    },
    "id": "rerqhmPJdC3B",
    "outputId": "b3b206db-bbad-4f42-ebf4-033910df3a56"
   },
   "outputs": [],
   "source": [
    "math.sin(30*math.pi/180)"
   ]
  },
  {
   "cell_type": "markdown",
   "metadata": {
    "id": "alhtnnZpgFEK"
   },
   "source": [
    "Или можно воспользоваться функцией `radians(x)`"
   ]
  },
  {
   "cell_type": "code",
   "execution_count": null,
   "metadata": {
    "colab": {
     "base_uri": "https://localhost:8080/"
    },
    "executionInfo": {
     "elapsed": 6,
     "status": "ok",
     "timestamp": 1643705918482,
     "user": {
      "displayName": "Николай Смирнов",
      "photoUrl": "https://lh3.googleusercontent.com/a/default-user=s64",
      "userId": "05792503510966078252"
     },
     "user_tz": -180
    },
    "id": "VttdNAM5gPyJ",
    "outputId": "0aa2d009-6af9-4e09-aa6a-9f4e79865bcc"
   },
   "outputs": [],
   "source": [
    "math.sin(math.radians(30))"
   ]
  },
  {
   "cell_type": "markdown",
   "metadata": {
    "id": "SXuJnjeufH47"
   },
   "source": [
    "Округлим результат:"
   ]
  },
  {
   "cell_type": "code",
   "execution_count": null,
   "metadata": {
    "colab": {
     "base_uri": "https://localhost:8080/"
    },
    "executionInfo": {
     "elapsed": 5,
     "status": "ok",
     "timestamp": 1643705919196,
     "user": {
      "displayName": "Николай Смирнов",
      "photoUrl": "https://lh3.googleusercontent.com/a/default-user=s64",
      "userId": "05792503510966078252"
     },
     "user_tz": -180
    },
    "id": "ORJ67BCvfAZK",
    "outputId": "e454a628-051a-4a42-c365-63d7dc213a1b"
   },
   "outputs": [],
   "source": [
    "round(math.sin(math.radians(30)), 1)"
   ]
  },
  {
   "cell_type": "markdown",
   "metadata": {
    "id": "gCmglkFgE6dB"
   },
   "source": [
    "## Задача 1\n",
    "Импортируйте числа $\\pi$ и $e$ из модуля math. <br>\n",
    "Найдите их разницу и выведите на экран."
   ]
  },
  {
   "cell_type": "code",
   "execution_count": null,
   "metadata": {
    "id": "0FAMmQedFA3Z"
   },
   "outputs": [],
   "source": [
    "# Введите свой код в эту ячейку"
   ]
  },
  {
   "cell_type": "markdown",
   "metadata": {
    "id": "n5-TQQnV_M5y"
   },
   "source": [
    "[Посмотреть ответ на задачу](#exercise_1)"
   ]
  },
  {
   "cell_type": "markdown",
   "metadata": {
    "id": "-RClspPAcrdk"
   },
   "source": [
    "Импортируцем модуль decimal, который позволяет достчь большей точности вычислений"
   ]
  },
  {
   "cell_type": "code",
   "execution_count": null,
   "metadata": {
    "id": "IhzoAMs0crvw"
   },
   "outputs": [],
   "source": [
    "import decimal as dc"
   ]
  },
  {
   "cell_type": "markdown",
   "metadata": {
    "id": "a21bwhUpfZgF"
   },
   "source": [
    "## Задача 2\n",
    "Найдите логарфим по основанию 2 от числа 32"
   ]
  },
  {
   "cell_type": "code",
   "execution_count": null,
   "metadata": {
    "id": "vwigk4ICfZgI"
   },
   "outputs": [],
   "source": [
    "# Введите свой код в эту ячейку"
   ]
  },
  {
   "cell_type": "markdown",
   "metadata": {
    "id": "OY-EF_GlfZgK"
   },
   "source": [
    "[Посмотреть ответ на задачу](#exercise_2)"
   ]
  },
  {
   "cell_type": "markdown",
   "metadata": {
    "id": "tNDxk1H8fZgM"
   },
   "source": [
    "Импортируцем модуль decimal, который позволяет получить большую точность вычислений"
   ]
  },
  {
   "cell_type": "code",
   "execution_count": null,
   "metadata": {
    "id": "f6Wh6tIrfZgN"
   },
   "outputs": [],
   "source": [
    "import decimal as dc"
   ]
  },
  {
   "cell_type": "markdown",
   "metadata": {
    "id": "8rE45LP6E83q"
   },
   "source": [
    "##fsum"
   ]
  },
  {
   "cell_type": "markdown",
   "metadata": {
    "id": "qH4O3ebHzyMw"
   },
   "source": [
    "Функция **math.fsum()** обеспечивает более высокую точность, чем встроенная функция **sum()**, потому что в ней используется другой алгоритм, в котором предпринимается попытка избежать ошибок, обусловленных эффектом  взаимного  уничтожения."
   ]
  },
  {
   "cell_type": "code",
   "execution_count": null,
   "metadata": {
    "id": "fOb8QbykzyMw"
   },
   "outputs": [],
   "source": [
    "a = [1, dc.Decimal(1e100), dc.Decimal(-1e100)]  # Зададим список значений"
   ]
  },
  {
   "cell_type": "code",
   "execution_count": null,
   "metadata": {
    "colab": {
     "base_uri": "https://localhost:8080/"
    },
    "executionInfo": {
     "elapsed": 282,
     "status": "ok",
     "timestamp": 1643704973036,
     "user": {
      "displayName": "Николай Смирнов",
      "photoUrl": "https://lh3.googleusercontent.com/a/default-user=s64",
      "userId": "05792503510966078252"
     },
     "user_tz": -180
    },
    "id": "GYYGCUU8zyMw",
    "outputId": "879ed501-e55b-4e40-ced2-d5ad70b49e82"
   },
   "outputs": [],
   "source": [
    "sum(a)  # Просуммируем значения в списке. Т.к. есть очень большие числа, то сработает неточно."
   ]
  },
  {
   "cell_type": "code",
   "execution_count": null,
   "metadata": {
    "colab": {
     "base_uri": "https://localhost:8080/"
    },
    "executionInfo": {
     "elapsed": 296,
     "status": "ok",
     "timestamp": 1643704980484,
     "user": {
      "displayName": "Николай Смирнов",
      "photoUrl": "https://lh3.googleusercontent.com/a/default-user=s64",
      "userId": "05792503510966078252"
     },
     "user_tz": -180
    },
    "id": "sxZ_DbwOzyMw",
    "outputId": "5da7f9cf-4e17-4397-ba73-e4d689157c0c"
   },
   "outputs": [],
   "source": [
    "math.fsum(a)"
   ]
  },
  {
   "cell_type": "markdown",
   "metadata": {
    "id": "SgiAO_sbFZn5"
   },
   "source": [
    "<a name=\"exercise_1\"></a>\n",
    "## Ответ на задачу 1"
   ]
  },
  {
   "cell_type": "code",
   "execution_count": null,
   "metadata": {
    "colab": {
     "base_uri": "https://localhost:8080/"
    },
    "executionInfo": {
     "elapsed": 21,
     "status": "ok",
     "timestamp": 1643614988687,
     "user": {
      "displayName": "Григорий Рего",
      "photoUrl": "https://lh3.googleusercontent.com/a/default-user=s64",
      "userId": "17666688826286004808"
     },
     "user_tz": -180
    },
    "id": "NymxJJB_FeGJ",
    "outputId": "140afe0d-6b60-4743-f665-5399f8afa75c"
   },
   "outputs": [],
   "source": [
    "from math import pi, e\n",
    "print(abs(pi - e))"
   ]
  },
  {
   "cell_type": "markdown",
   "metadata": {
    "id": "G9mJknsof0l3"
   },
   "source": [
    "<a name=\"exercise_2\"></a>\n",
    "## Ответ на задачу 2"
   ]
  },
  {
   "cell_type": "code",
   "execution_count": null,
   "metadata": {
    "colab": {
     "base_uri": "https://localhost:8080/"
    },
    "executionInfo": {
     "elapsed": 296,
     "status": "ok",
     "timestamp": 1643705781597,
     "user": {
      "displayName": "Николай Смирнов",
      "photoUrl": "https://lh3.googleusercontent.com/a/default-user=s64",
      "userId": "05792503510966078252"
     },
     "user_tz": -180
    },
    "id": "Z6u4kq3Df0l7",
    "outputId": "f80d3841-2da8-4151-a318-341c7d62b99d"
   },
   "outputs": [],
   "source": [
    "math.log(32, 2)"
   ]
  }
 ],
 "metadata": {
  "colab": {
   "collapsed_sections": [
    "gCmglkFgE6dB"
   ],
   "name": "31_math.ipynb",
   "provenance": []
  },
  "kernelspec": {
   "display_name": "Python 3",
   "language": "python",
   "name": "python3"
  },
  "language_info": {
   "codemirror_mode": {
    "name": "ipython",
    "version": 3
   },
   "file_extension": ".py",
   "mimetype": "text/x-python",
   "name": "python",
   "nbconvert_exporter": "python",
   "pygments_lexer": "ipython3",
   "version": "3.8.8"
  }
 },
 "nbformat": 4,
 "nbformat_minor": 4
}
